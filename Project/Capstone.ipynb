{
  "nbformat": 4,
  "nbformat_minor": 0,
  "metadata": {
    "kernelspec": {
      "display_name": "Python 3",
      "language": "python",
      "name": "python3"
    },
    "language_info": {
      "codemirror_mode": {
        "name": "ipython",
        "version": 2
      },
      "file_extension": ".py",
      "mimetype": "text/x-python",
      "name": "python",
      "nbconvert_exporter": "python",
      "pygments_lexer": "ipython2",
      "version": "2.7.14"
    },
    "colab": {
      "name": "Capstone.ipynb",
      "provenance": []
    }
  },
  "cells": [
    {
      "cell_type": "markdown",
      "metadata": {
        "id": "0TEwDyLzOs07",
        "colab_type": "text"
      },
      "source": [
        "# Capstone Project"
      ]
    },
    {
      "cell_type": "code",
      "metadata": {
        "id": "vO8V79H2Os1G",
        "colab_type": "code",
        "colab": {}
      },
      "source": [
        "# Import Libraries\n",
        "import numpy as np\n",
        "import pandas as pd\n",
        "%matplotlib inline\n",
        "import matplotlib.pyplot as plt\n",
        "from sklearn.model_selection import train_test_split, StratifiedShuffleSplit"
      ],
      "execution_count": 0,
      "outputs": []
    },
    {
      "cell_type": "code",
      "metadata": {
        "id": "Ev7rhZhlOs1Y",
        "colab_type": "code",
        "colab": {}
      },
      "source": [
        "from xgboost import XGBClassifier"
      ],
      "execution_count": 0,
      "outputs": []
    },
    {
      "cell_type": "code",
      "metadata": {
        "id": "_AHzAkuKOs2b",
        "colab_type": "code",
        "colab": {}
      },
      "source": [
        "# load data\n",
        "random_state = 42\n",
        "df = pd.read_csv('https://raw.githubusercontent.com/makozi/Udacity-ML-Engineer-Capstone-Project/master/Data/train.csv')"
      ],
      "execution_count": 0,
      "outputs": []
    },
    {
      "cell_type": "code",
      "metadata": {
        "id": "qftm7vcPOs29",
        "colab_type": "code",
        "colab": {
          "base_uri": "https://localhost:8080/",
          "height": 153
        },
        "outputId": "0b506a5e-8241-41b7-b1b0-27ca6394f08e"
      },
      "source": [
        "# Show the first 5 rows of the dataset\n",
        "print(df.head())"
      ],
      "execution_count": 4,
      "outputs": [
        {
          "output_type": "stream",
          "text": [
            "   ACTION  RESOURCE  MGR_ID  ...  ROLE_FAMILY_DESC  ROLE_FAMILY  ROLE_CODE\n",
            "0       1     39353   85475  ...            117906       290919     117908\n",
            "1       1     17183    1540  ...            118536       308574     118539\n",
            "2       1     36724   14457  ...            267952        19721     117880\n",
            "3       1     36135    5396  ...            240983       290919     118322\n",
            "4       1     42680    5905  ...            123932        19793     119325\n",
            "\n",
            "[5 rows x 10 columns]\n"
          ],
          "name": "stdout"
        }
      ]
    },
    {
      "cell_type": "code",
      "metadata": {
        "id": "cO17o3XUOs3V",
        "colab_type": "code",
        "colab": {
          "base_uri": "https://localhost:8080/",
          "height": 306
        },
        "outputId": "e0723f2a-5eeb-4705-80cb-fde5c80bcd45"
      },
      "source": [
        "# Show a quick description of the dataset\n",
        "df.info()"
      ],
      "execution_count": 5,
      "outputs": [
        {
          "output_type": "stream",
          "text": [
            "<class 'pandas.core.frame.DataFrame'>\n",
            "RangeIndex: 32769 entries, 0 to 32768\n",
            "Data columns (total 10 columns):\n",
            " #   Column            Non-Null Count  Dtype\n",
            "---  ------            --------------  -----\n",
            " 0   ACTION            32769 non-null  int64\n",
            " 1   RESOURCE          32769 non-null  int64\n",
            " 2   MGR_ID            32769 non-null  int64\n",
            " 3   ROLE_ROLLUP_1     32769 non-null  int64\n",
            " 4   ROLE_ROLLUP_2     32769 non-null  int64\n",
            " 5   ROLE_DEPTNAME     32769 non-null  int64\n",
            " 6   ROLE_TITLE        32769 non-null  int64\n",
            " 7   ROLE_FAMILY_DESC  32769 non-null  int64\n",
            " 8   ROLE_FAMILY       32769 non-null  int64\n",
            " 9   ROLE_CODE         32769 non-null  int64\n",
            "dtypes: int64(10)\n",
            "memory usage: 2.5 MB\n"
          ],
          "name": "stdout"
        }
      ]
    },
    {
      "cell_type": "code",
      "metadata": {
        "id": "kg3Us6kJOs3h",
        "colab_type": "code",
        "colab": {
          "base_uri": "https://localhost:8080/",
          "height": 1000
        },
        "outputId": "91977c3c-582c-4d49-eebb-5538d77a473e"
      },
      "source": [
        "# find different number of categories for each feature\n",
        "for attr in df:\n",
        "    print('\\n')\n",
        "    print(df[attr].value_counts())"
      ],
      "execution_count": 6,
      "outputs": [
        {
          "output_type": "stream",
          "text": [
            "\n",
            "\n",
            "1    30872\n",
            "0     1897\n",
            "Name: ACTION, dtype: int64\n",
            "\n",
            "\n",
            "4675     839\n",
            "79092    484\n",
            "25993    409\n",
            "75078    409\n",
            "3853     404\n",
            "        ... \n",
            "35014      1\n",
            "75535      1\n",
            "30936      1\n",
            "89856      1\n",
            "16376      1\n",
            "Name: RESOURCE, Length: 7518, dtype: int64\n",
            "\n",
            "\n",
            "770      152\n",
            "2270      99\n",
            "2594      82\n",
            "1350      71\n",
            "2014      67\n",
            "        ... \n",
            "1940       1\n",
            "8087       1\n",
            "22526      1\n",
            "34948      1\n",
            "58677      1\n",
            "Name: MGR_ID, Length: 4243, dtype: int64\n",
            "\n",
            "\n",
            "117961    21407\n",
            "117902      742\n",
            "91261       721\n",
            "118315      498\n",
            "118212      400\n",
            "          ...  \n",
            "203209        1\n",
            "209434        1\n",
            "141221        1\n",
            "119343        1\n",
            "121411        1\n",
            "Name: ROLE_ROLLUP_1, Length: 128, dtype: int64\n",
            "\n",
            "\n",
            "118300    4424\n",
            "118343    3945\n",
            "118327    2641\n",
            "118225    2547\n",
            "118386    1796\n",
            "          ... \n",
            "141222       1\n",
            "32137        1\n",
            "120355       1\n",
            "118775       1\n",
            "120018       1\n",
            "Name: ROLE_ROLLUP_2, Length: 177, dtype: int64\n",
            "\n",
            "\n",
            "117878    1135\n",
            "117941     763\n",
            "117945     659\n",
            "118514     601\n",
            "117920     597\n",
            "          ... \n",
            "123175       1\n",
            "122963       1\n",
            "123675       1\n",
            "119565       1\n",
            "272283       1\n",
            "Name: ROLE_DEPTNAME, Length: 449, dtype: int64\n",
            "\n",
            "\n",
            "118321    4649\n",
            "117905    3583\n",
            "118784    1772\n",
            "117879    1256\n",
            "118568    1043\n",
            "          ... \n",
            "126931       1\n",
            "239003       1\n",
            "130362       1\n",
            "157347       1\n",
            "125405       1\n",
            "Name: ROLE_TITLE, Length: 343, dtype: int64\n",
            "\n",
            "\n",
            "117906    6896\n",
            "240983    1244\n",
            "117913     670\n",
            "279443     665\n",
            "117886     530\n",
            "          ... \n",
            "125925       1\n",
            "130023       1\n",
            "160903       1\n",
            "128102       1\n",
            "157709       1\n",
            "Name: ROLE_FAMILY_DESC, Length: 2358, dtype: int64\n",
            "\n",
            "\n",
            "290919    10980\n",
            "118424     2690\n",
            "19721      2636\n",
            "117887     2400\n",
            "292795     1318\n",
            "          ...  \n",
            "130364        3\n",
            "159679        3\n",
            "161100        2\n",
            "149353        2\n",
            "132725        2\n",
            "Name: ROLE_FAMILY, Length: 67, dtype: int64\n",
            "\n",
            "\n",
            "118322    4649\n",
            "117908    3583\n",
            "118786    1772\n",
            "117880    1256\n",
            "118570    1043\n",
            "          ... \n",
            "266863       1\n",
            "126504       1\n",
            "239004       1\n",
            "126549       1\n",
            "188048       1\n",
            "Name: ROLE_CODE, Length: 343, dtype: int64\n"
          ],
          "name": "stdout"
        }
      ]
    },
    {
      "cell_type": "code",
      "metadata": {
        "id": "aLt8yxDZOs3q",
        "colab_type": "code",
        "colab": {
          "base_uri": "https://localhost:8080/",
          "height": 872
        },
        "outputId": "71fe1cc5-ccbc-46cb-9f81-905a941fd257"
      },
      "source": [
        "# draw histograms for each attribute\n",
        "df.hist(bins=50, figsize=(20, 15))\n",
        "plt.show()"
      ],
      "execution_count": 7,
      "outputs": [
        {
          "output_type": "display_data",
          "data": {
            "image/png": "[encoded data removed]",
            "text/plain": [
              "<Figure size 1440x1080 with 12 Axes>"
            ]
          },
          "metadata": {
            "tags": [],
            "needs_background": "light"
          }
        }
      ]
    },
    {
      "cell_type": "code",
      "metadata": {
        "id": "WEAqsawsOs37",
        "colab_type": "code",
        "colab": {}
      },
      "source": [
        "# set aside a test set\n",
        "sss = StratifiedShuffleSplit(n_splits=1, test_size=0.25, random_state=random_state)\n",
        "for train_index, test_index in sss.split(df, df['ACTION']):\n",
        "    train_set, test_set = df.loc[train_index], df.loc[test_index]"
      ],
      "execution_count": 0,
      "outputs": []
    },
    {
      "cell_type": "code",
      "metadata": {
        "id": "tHBHDLA_Os4E",
        "colab_type": "code",
        "colab": {
          "base_uri": "https://localhost:8080/",
          "height": 1000
        },
        "outputId": "e538a788-69e6-4e8f-ffb5-3176f6c8164b"
      },
      "source": [
        "from pandas.plotting import scatter_matrix\n",
        "#attributes = list(access.columns.values)\n",
        "attributes = ['ACTION',  'MGR_ID', 'ROLE_CODE', 'ROLE_FAMILY',\n",
        "            'ROLE_ROLLUP_1', 'ROLE_TITLE']\n",
        "scatter_matrix(train_set[attributes], figsize=(16, 12))"
      ],
      "execution_count": 9,
      "outputs": [
        {
          "output_type": "execute_result",
          "data": {
            "text/plain": [
              "array([[<matplotlib.axes._subplots.AxesSubplot object at 0x7f2adadf98d0>,\n",
              "        <matplotlib.axes._subplots.AxesSubplot object at 0x7f2adad1b828>,\n",
              "        <matplotlib.axes._subplots.AxesSubplot object at 0x7f2adad47ac8>,\n",
              "        <matplotlib.axes._subplots.AxesSubplot object at 0x7f2adacdfe48>,\n",
              "        <matplotlib.axes._subplots.AxesSubplot object at 0x7f2adac9d208>,\n",
              "        <matplotlib.axes._subplots.AxesSubplot object at 0x7f2adaccc588>],\n",
              "       [<matplotlib.axes._subplots.AxesSubplot object at 0x7f2adba5dda0>,\n",
              "        <matplotlib.axes._subplots.AxesSubplot object at 0x7f2adb345b00>,\n",
              "        <matplotlib.axes._subplots.AxesSubplot object at 0x7f2adb3452e8>,\n",
              "        <matplotlib.axes._subplots.AxesSubplot object at 0x7f2adb72d4e0>,\n",
              "        <matplotlib.axes._subplots.AxesSubplot object at 0x7f2adadd1278>,\n",
              "        <matplotlib.axes._subplots.AxesSubplot object at 0x7f2adb50e438>],\n",
              "       [<matplotlib.axes._subplots.AxesSubplot object at 0x7f2adb6dee80>,\n",
              "        <matplotlib.axes._subplots.AxesSubplot object at 0x7f2adb4d83c8>,\n",
              "        <matplotlib.axes._subplots.AxesSubplot object at 0x7f2adbb6f0b8>,\n",
              "        <matplotlib.axes._subplots.AxesSubplot object at 0x7f2adb956c88>,\n",
              "        <matplotlib.axes._subplots.AxesSubplot object at 0x7f2adba78400>,\n",
              "        <matplotlib.axes._subplots.AxesSubplot object at 0x7f2adb7d4ac8>],\n",
              "       [<matplotlib.axes._subplots.AxesSubplot object at 0x7f2adb76f400>,\n",
              "        <matplotlib.axes._subplots.AxesSubplot object at 0x7f2adb79f630>,\n",
              "        <matplotlib.axes._subplots.AxesSubplot object at 0x7f2adbc1c4a8>,\n",
              "        <matplotlib.axes._subplots.AxesSubplot object at 0x7f2adae73630>,\n",
              "        <matplotlib.axes._subplots.AxesSubplot object at 0x7f2adb55a898>,\n",
              "        <matplotlib.axes._subplots.AxesSubplot object at 0x7f2adb8d9b00>],\n",
              "       [<matplotlib.axes._subplots.AxesSubplot object at 0x7f2adb75fd68>,\n",
              "        <matplotlib.axes._subplots.AxesSubplot object at 0x7f2adb51cfd0>,\n",
              "        <matplotlib.axes._subplots.AxesSubplot object at 0x7f2adb344278>,\n",
              "        <matplotlib.axes._subplots.AxesSubplot object at 0x7f2adb7984e0>,\n",
              "        <matplotlib.axes._subplots.AxesSubplot object at 0x7f2adb5c1748>,\n",
              "        <matplotlib.axes._subplots.AxesSubplot object at 0x7f2adb6d59b0>],\n",
              "       [<matplotlib.axes._subplots.AxesSubplot object at 0x7f2adb702c18>,\n",
              "        <matplotlib.axes._subplots.AxesSubplot object at 0x7f2adb61fe80>,\n",
              "        <matplotlib.axes._subplots.AxesSubplot object at 0x7f2adb63c128>,\n",
              "        <matplotlib.axes._subplots.AxesSubplot object at 0x7f2adb7d9390>,\n",
              "        <matplotlib.axes._subplots.AxesSubplot object at 0x7f2adb691780>,\n",
              "        <matplotlib.axes._subplots.AxesSubplot object at 0x7f2adb56e860>]],\n",
              "      dtype=object)"
            ]
          },
          "metadata": {
            "tags": []
          },
          "execution_count": 9
        },
        {
          "output_type": "display_data",
          "data": {
            "image/png": "[encoded data removed]",
            "text/plain": [
              "<Figure size 1152x864 with 36 Axes>"
            ]
          },
          "metadata": {
            "tags": [],
            "needs_background": "light"
          }
        }
      ]
    },
    {
      "cell_type": "code",
      "metadata": {
        "id": "WvPcsa_yOs4a",
        "colab_type": "code",
        "colab": {
          "base_uri": "https://localhost:8080/",
          "height": 297
        },
        "outputId": "73248ea5-2c05-404d-dcc4-57abe680b3db"
      },
      "source": [
        "train_set.plot(kind='scatter', x='ROLE_CODE', y='ROLE_TITLE')"
      ],
      "execution_count": 10,
      "outputs": [
        {
          "output_type": "execute_result",
          "data": {
            "text/plain": [
              "<matplotlib.axes._subplots.AxesSubplot at 0x7f2adbc3a8d0>"
            ]
          },
          "metadata": {
            "tags": []
          },
          "execution_count": 10
        },
        {
          "output_type": "display_data",
          "data": {
            "image/png": "[encoded data removed]",
            "text/plain": [
              "<Figure size 432x288 with 1 Axes>"
            ]
          },
          "metadata": {
            "tags": [],
            "needs_background": "light"
          }
        }
      ]
    },
    {
      "cell_type": "code",
      "metadata": {
        "id": "AHPRkFROOs4q",
        "colab_type": "code",
        "colab": {}
      },
      "source": [
        "# extract labels and predictors \n",
        "access = train_set.drop('ACTION', axis=1)\n",
        "access_labels = train_set['ACTION'].copy()"
      ],
      "execution_count": 0,
      "outputs": []
    },
    {
      "cell_type": "code",
      "metadata": {
        "id": "h7sCDEm0Os5c",
        "colab_type": "code",
        "colab": {}
      },
      "source": [
        "# Data frame selector class, taken from \"Hands-On Machine Learning with Scikit-Learn & Tensorflow by Aurélion Géron\n",
        "# (O'Reilly). Copyright 2017 Aurélion Géron, 978-1-491-96229-9, Page 41\n",
        "from sklearn.base import BaseEstimator, TransformerMixin\n",
        "\n",
        "class DataFrameSelector(BaseEstimator, TransformerMixin):\n",
        "    def __init__(self, attribute_names):\n",
        "        self.attribute_names = attribute_names\n",
        "    def fit(self, X, y=None):\n",
        "        return self\n",
        "    def transform(self, X):\n",
        "        return X[self.attribute_names].values"
      ],
      "execution_count": 0,
      "outputs": []
    },
    {
      "cell_type": "code",
      "metadata": {
        "id": "mbcap2qoOs5j",
        "colab_type": "code",
        "colab": {}
      },
      "source": [
        "# get attributes\n",
        "attributes = access.columns.values.tolist()"
      ],
      "execution_count": 0,
      "outputs": []
    },
    {
      "cell_type": "code",
      "metadata": {
        "id": "6dIsCe0bOs5s",
        "colab_type": "code",
        "colab": {
          "base_uri": "https://localhost:8080/",
          "height": 34
        },
        "outputId": "74b133b9-3573-482d-9325-c9e9e6c0479b"
      },
      "source": [
        "from sklearn.pipeline import Pipeline\n",
        "from sklearn.preprocessing import OneHotEncoder\n",
        "\n",
        "# one-hot encode the categorial attributes\n",
        "pipeline = Pipeline([\n",
        "    ('selector', DataFrameSelector(attributes)),\n",
        "    ('encoder', OneHotEncoder())\n",
        "])\n",
        "access_1hot = pipeline.fit_transform(access)\n",
        "print('Shape: ', access_1hot.shape)"
      ],
      "execution_count": 14,
      "outputs": [
        {
          "output_type": "stream",
          "text": [
            "Shape:  (24576, 14064)\n"
          ],
          "name": "stdout"
        }
      ]
    },
    {
      "cell_type": "code",
      "metadata": {
        "id": "9UvPnVhBOs56",
        "colab_type": "code",
        "colab": {}
      },
      "source": [
        "from sklearn.metrics import roc_auc_score\n",
        "\n",
        "# displays the area under the roc curve score for the specified model\n",
        "def display_single_auc_result(model):\n",
        "    access_predictions = model.predict(access_1hot)\n",
        "    auc = roc_auc_score(access_labels, access_predictions)\n",
        "    print('Single AUC score: ', auc)\n",
        "    "
      ],
      "execution_count": 0,
      "outputs": []
    },
    {
      "cell_type": "code",
      "metadata": {
        "id": "JWJrOrhxOs6B",
        "colab_type": "code",
        "colab": {}
      },
      "source": [
        "from sklearn.model_selection import cross_val_score\n",
        "\n",
        "# display cross validation auc scores, mean and standard deviation for the specified model \n",
        "# using the one-hot encoded training set and the corresponding labels\n",
        "def display_auc_scores(model, folds=10):\n",
        "    scores = cross_val_score(model, access_1hot, access_labels, scoring='roc_auc', cv=folds)\n",
        "    print('--- Cross validation scores ---')\n",
        "    print('Scores: ', scores)\n",
        "    print('Mean: ', scores.mean())\n",
        "    print('Std: ', scores.std())"
      ],
      "execution_count": 0,
      "outputs": []
    },
    {
      "cell_type": "code",
      "metadata": {
        "id": "5_Zxzhy7Os6L",
        "colab_type": "code",
        "colab": {}
      },
      "source": [
        "def display_models(models):\n",
        "    for i, (model, model_name) in enumerate(models):\n",
        "        model.fit(access_1hot, access_labels)\n",
        "        print('-------------------')\n",
        "        print(model_name + ':')\n",
        "        display_single_auc_result(model)\n",
        "        display_auc_scores(model)\n",
        "        print('-------------------')\n"
      ],
      "execution_count": 0,
      "outputs": []
    },
    {
      "cell_type": "code",
      "metadata": {
        "scrolled": true,
        "id": "KU0ScjZAOs6c",
        "colab_type": "code",
        "colab": {
          "base_uri": "https://localhost:8080/",
          "height": 1000
        },
        "outputId": "ba646d58-9c01-4f8c-f4eb-17beb3ae53aa"
      },
      "source": [
        "# initialize many different models\n",
        "\n",
        "from sklearn.linear_model import LogisticRegression\n",
        "from sklearn.tree import DecisionTreeClassifier\n",
        "from sklearn.ensemble import RandomForestClassifier, AdaBoostClassifier\n",
        "log_reg = LogisticRegression(random_state=random_state)\n",
        "decision_tree = DecisionTreeClassifier(random_state=random_state)\n",
        "random_forest = RandomForestClassifier(random_state=random_state)\n",
        "ada_boost = AdaBoostClassifier(random_state=random_state)\n",
        "\n",
        "models = [(log_reg, 'Logistic Regression'), (decision_tree, 'Decision Tree'), (random_forest, 'Random Forest'),\n",
        "         (ada_boost, 'Ada Boost')]\n",
        "\n",
        "display_models(models)"
      ],
      "execution_count": 18,
      "outputs": [
        {
          "output_type": "stream",
          "text": [
            "/usr/local/lib/python3.6/dist-packages/sklearn/linear_model/_logistic.py:940: ConvergenceWarning: lbfgs failed to converge (status=1):\n",
            "STOP: TOTAL NO. of ITERATIONS REACHED LIMIT.\n",
            "\n",
            "Increase the number of iterations (max_iter) or scale the data as shown in:\n",
            "    https://scikit-learn.org/stable/modules/preprocessing.html\n",
            "Please also refer to the documentation for alternative solver options:\n",
            "    https://scikit-learn.org/stable/modules/linear_model.html#logistic-regression\n",
            "  extra_warning_msg=_LOGISTIC_SOLVER_CONVERGENCE_MSG)\n"
          ],
          "name": "stderr"
        },
        {
          "output_type": "stream",
          "text": [
            "-------------------\n",
            "Logistic Regression:\n",
            "Single AUC score:  0.6680157438438711\n"
          ],
          "name": "stdout"
        },
        {
          "output_type": "stream",
          "text": [
            "/usr/local/lib/python3.6/dist-packages/sklearn/linear_model/_logistic.py:940: ConvergenceWarning: lbfgs failed to converge (status=1):\n",
            "STOP: TOTAL NO. of ITERATIONS REACHED LIMIT.\n",
            "\n",
            "Increase the number of iterations (max_iter) or scale the data as shown in:\n",
            "    https://scikit-learn.org/stable/modules/preprocessing.html\n",
            "Please also refer to the documentation for alternative solver options:\n",
            "    https://scikit-learn.org/stable/modules/linear_model.html#logistic-regression\n",
            "  extra_warning_msg=_LOGISTIC_SOLVER_CONVERGENCE_MSG)\n",
            "/usr/local/lib/python3.6/dist-packages/sklearn/linear_model/_logistic.py:940: ConvergenceWarning: lbfgs failed to converge (status=1):\n",
            "STOP: TOTAL NO. of ITERATIONS REACHED LIMIT.\n",
            "\n",
            "Increase the number of iterations (max_iter) or scale the data as shown in:\n",
            "    https://scikit-learn.org/stable/modules/preprocessing.html\n",
            "Please also refer to the documentation for alternative solver options:\n",
            "    https://scikit-learn.org/stable/modules/linear_model.html#logistic-regression\n",
            "  extra_warning_msg=_LOGISTIC_SOLVER_CONVERGENCE_MSG)\n",
            "/usr/local/lib/python3.6/dist-packages/sklearn/linear_model/_logistic.py:940: ConvergenceWarning: lbfgs failed to converge (status=1):\n",
            "STOP: TOTAL NO. of ITERATIONS REACHED LIMIT.\n",
            "\n",
            "Increase the number of iterations (max_iter) or scale the data as shown in:\n",
            "    https://scikit-learn.org/stable/modules/preprocessing.html\n",
            "Please also refer to the documentation for alternative solver options:\n",
            "    https://scikit-learn.org/stable/modules/linear_model.html#logistic-regression\n",
            "  extra_warning_msg=_LOGISTIC_SOLVER_CONVERGENCE_MSG)\n",
            "/usr/local/lib/python3.6/dist-packages/sklearn/linear_model/_logistic.py:940: ConvergenceWarning: lbfgs failed to converge (status=1):\n",
            "STOP: TOTAL NO. of ITERATIONS REACHED LIMIT.\n",
            "\n",
            "Increase the number of iterations (max_iter) or scale the data as shown in:\n",
            "    https://scikit-learn.org/stable/modules/preprocessing.html\n",
            "Please also refer to the documentation for alternative solver options:\n",
            "    https://scikit-learn.org/stable/modules/linear_model.html#logistic-regression\n",
            "  extra_warning_msg=_LOGISTIC_SOLVER_CONVERGENCE_MSG)\n",
            "/usr/local/lib/python3.6/dist-packages/sklearn/linear_model/_logistic.py:940: ConvergenceWarning: lbfgs failed to converge (status=1):\n",
            "STOP: TOTAL NO. of ITERATIONS REACHED LIMIT.\n",
            "\n",
            "Increase the number of iterations (max_iter) or scale the data as shown in:\n",
            "    https://scikit-learn.org/stable/modules/preprocessing.html\n",
            "Please also refer to the documentation for alternative solver options:\n",
            "    https://scikit-learn.org/stable/modules/linear_model.html#logistic-regression\n",
            "  extra_warning_msg=_LOGISTIC_SOLVER_CONVERGENCE_MSG)\n",
            "/usr/local/lib/python3.6/dist-packages/sklearn/linear_model/_logistic.py:940: ConvergenceWarning: lbfgs failed to converge (status=1):\n",
            "STOP: TOTAL NO. of ITERATIONS REACHED LIMIT.\n",
            "\n",
            "Increase the number of iterations (max_iter) or scale the data as shown in:\n",
            "    https://scikit-learn.org/stable/modules/preprocessing.html\n",
            "Please also refer to the documentation for alternative solver options:\n",
            "    https://scikit-learn.org/stable/modules/linear_model.html#logistic-regression\n",
            "  extra_warning_msg=_LOGISTIC_SOLVER_CONVERGENCE_MSG)\n",
            "/usr/local/lib/python3.6/dist-packages/sklearn/linear_model/_logistic.py:940: ConvergenceWarning: lbfgs failed to converge (status=1):\n",
            "STOP: TOTAL NO. of ITERATIONS REACHED LIMIT.\n",
            "\n",
            "Increase the number of iterations (max_iter) or scale the data as shown in:\n",
            "    https://scikit-learn.org/stable/modules/preprocessing.html\n",
            "Please also refer to the documentation for alternative solver options:\n",
            "    https://scikit-learn.org/stable/modules/linear_model.html#logistic-regression\n",
            "  extra_warning_msg=_LOGISTIC_SOLVER_CONVERGENCE_MSG)\n",
            "/usr/local/lib/python3.6/dist-packages/sklearn/linear_model/_logistic.py:940: ConvergenceWarning: lbfgs failed to converge (status=1):\n",
            "STOP: TOTAL NO. of ITERATIONS REACHED LIMIT.\n",
            "\n",
            "Increase the number of iterations (max_iter) or scale the data as shown in:\n",
            "    https://scikit-learn.org/stable/modules/preprocessing.html\n",
            "Please also refer to the documentation for alternative solver options:\n",
            "    https://scikit-learn.org/stable/modules/linear_model.html#logistic-regression\n",
            "  extra_warning_msg=_LOGISTIC_SOLVER_CONVERGENCE_MSG)\n",
            "/usr/local/lib/python3.6/dist-packages/sklearn/linear_model/_logistic.py:940: ConvergenceWarning: lbfgs failed to converge (status=1):\n",
            "STOP: TOTAL NO. of ITERATIONS REACHED LIMIT.\n",
            "\n",
            "Increase the number of iterations (max_iter) or scale the data as shown in:\n",
            "    https://scikit-learn.org/stable/modules/preprocessing.html\n",
            "Please also refer to the documentation for alternative solver options:\n",
            "    https://scikit-learn.org/stable/modules/linear_model.html#logistic-regression\n",
            "  extra_warning_msg=_LOGISTIC_SOLVER_CONVERGENCE_MSG)\n",
            "/usr/local/lib/python3.6/dist-packages/sklearn/linear_model/_logistic.py:940: ConvergenceWarning: lbfgs failed to converge (status=1):\n",
            "STOP: TOTAL NO. of ITERATIONS REACHED LIMIT.\n",
            "\n",
            "Increase the number of iterations (max_iter) or scale the data as shown in:\n",
            "    https://scikit-learn.org/stable/modules/preprocessing.html\n",
            "Please also refer to the documentation for alternative solver options:\n",
            "    https://scikit-learn.org/stable/modules/linear_model.html#logistic-regression\n",
            "  extra_warning_msg=_LOGISTIC_SOLVER_CONVERGENCE_MSG)\n"
          ],
          "name": "stderr"
        },
        {
          "output_type": "stream",
          "text": [
            "--- Cross validation scores ---\n",
            "Scores:  [0.86708355 0.79763555 0.79729652 0.87260795 0.85221496 0.86969596\n",
            " 0.86568917 0.85773431 0.84328628 0.86428224]\n",
            "Mean:  0.848752648858812\n",
            "Std:  0.026935039314330896\n",
            "-------------------\n",
            "-------------------\n",
            "Decision Tree:\n",
            "Single AUC score:  1.0\n",
            "--- Cross validation scores ---\n",
            "Scores:  [0.73065205 0.66813532 0.67539347 0.70844145 0.71452975 0.68983824\n",
            " 0.69895659 0.71986737 0.71584887 0.69457153]\n",
            "Mean:  0.7016234637772912\n",
            "Std:  0.01896343807771668\n",
            "-------------------\n",
            "-------------------\n",
            "Random Forest:\n",
            "Single AUC score:  0.999648629655657\n",
            "--- Cross validation scores ---\n",
            "Scores:  [0.86753357 0.81114233 0.81213968 0.85690616 0.85174976 0.88710447\n",
            " 0.86288748 0.87555289 0.86647553 0.87534755]\n",
            "Mean:  0.8566839408857027\n",
            "Std:  0.024422274370491593\n",
            "-------------------\n",
            "-------------------\n",
            "Ada Boost:\n",
            "Single AUC score:  0.5346736195491879\n",
            "--- Cross validation scores ---\n",
            "Scores:  [0.73222257 0.70086538 0.69941041 0.76883807 0.72297875 0.75121962\n",
            " 0.78070909 0.75749095 0.77831959 0.73131293]\n",
            "Mean:  0.7423367370980839\n",
            "Std:  0.02817654277070665\n",
            "-------------------\n"
          ],
          "name": "stdout"
        }
      ]
    },
    {
      "cell_type": "code",
      "metadata": {
        "id": "8gmjF6IyOs6k",
        "colab_type": "code",
        "colab": {
          "base_uri": "https://localhost:8080/",
          "height": 170
        },
        "outputId": "641aa58f-da10-4c7f-9e37-a1046aacde6d"
      },
      "source": [
        "# SVM\n",
        "from sklearn.svm import SVC\n",
        "svm_clf = SVC()\n",
        "\n",
        "display_models([(svm_clf, 'SVM')])"
      ],
      "execution_count": 19,
      "outputs": [
        {
          "output_type": "stream",
          "text": [
            "-------------------\n",
            "SVM:\n",
            "Single AUC score:  0.6509556080531115\n",
            "--- Cross validation scores ---\n",
            "Scores:  [0.86731768 0.80448168 0.79524253 0.86507272 0.86906463 0.86098114\n",
            " 0.84416847 0.86223801 0.82587078 0.84881362]\n",
            "Mean:  0.8443251241904036\n",
            "Std:  0.025547589006009265\n",
            "-------------------\n"
          ],
          "name": "stdout"
        }
      ]
    },
    {
      "cell_type": "code",
      "metadata": {
        "id": "KR3ncX2DOs6s",
        "colab_type": "code",
        "colab": {
          "base_uri": "https://localhost:8080/",
          "height": 170
        },
        "outputId": "b8ee354b-3bed-4d5c-8ca1-4e8338e1cc56"
      },
      "source": [
        "# XG Boost\n",
        "from xgboost import XGBClassifier\n",
        "xg_boost = XGBClassifier()\n",
        "\n",
        "display_models([(xg_boost, 'XG Boost')])"
      ],
      "execution_count": 20,
      "outputs": [
        {
          "output_type": "stream",
          "text": [
            "-------------------\n",
            "XG Boost:\n",
            "Single AUC score:  0.5104547284359332\n",
            "--- Cross validation scores ---\n",
            "Scores:  [0.74146628 0.71460933 0.70472859 0.76200366 0.73496655 0.76041777\n",
            " 0.79208013 0.7586895  0.7665607  0.77985277]\n",
            "Mean:  0.7515375270453734\n",
            "Std:  0.02615625371766373\n",
            "-------------------\n"
          ],
          "name": "stdout"
        }
      ]
    },
    {
      "cell_type": "code",
      "metadata": {
        "id": "v06KIgjUOs60",
        "colab_type": "code",
        "colab": {}
      },
      "source": [
        "from sklearn.model_selection import GridSearchCV, RandomizedSearchCV\n",
        "import scipy.stats"
      ],
      "execution_count": 0,
      "outputs": []
    },
    {
      "cell_type": "code",
      "metadata": {
        "id": "foogUa0lOs67",
        "colab_type": "code",
        "colab": {}
      },
      "source": [
        "# Tune n_estimators for Random forest\n",
        "param_rf = {'n_estimators': [5, 10, 20, 30, 40, 50]}\n",
        "grid_search = GridSearchCV(estimator = RandomForestClassifier(random_state=random_state, verbose=3), \n",
        "    param_grid = param_rf, scoring='roc_auc', iid=False, cv=5)"
      ],
      "execution_count": 0,
      "outputs": []
    },
    {
      "cell_type": "code",
      "metadata": {
        "id": "jAzq-f1eOs7G",
        "colab_type": "code",
        "colab": {
          "base_uri": "https://localhost:8080/",
          "height": 1000
        },
        "outputId": "8cabe0c1-1544-4038-e46a-a429468b150e"
      },
      "source": [
        "grid_search.fit(access_1hot, access_labels)"
      ],
      "execution_count": 23,
      "outputs": [
        {
          "output_type": "stream",
          "text": [
            "building tree 1 of 5\n"
          ],
          "name": "stdout"
        },
        {
          "output_type": "stream",
          "text": [
            "[Parallel(n_jobs=1)]: Using backend SequentialBackend with 1 concurrent workers.\n",
            "[Parallel(n_jobs=1)]: Done   1 out of   1 | elapsed:    0.6s remaining:    0.0s\n"
          ],
          "name": "stderr"
        },
        {
          "output_type": "stream",
          "text": [
            "building tree 2 of 5\n"
          ],
          "name": "stdout"
        },
        {
          "output_type": "stream",
          "text": [
            "[Parallel(n_jobs=1)]: Done   2 out of   2 | elapsed:    1.0s remaining:    0.0s\n"
          ],
          "name": "stderr"
        },
        {
          "output_type": "stream",
          "text": [
            "building tree 3 of 5\n",
            "building tree 4 of 5\n",
            "building tree 5 of 5\n"
          ],
          "name": "stdout"
        },
        {
          "output_type": "stream",
          "text": [
            "[Parallel(n_jobs=1)]: Done   5 out of   5 | elapsed:    2.5s finished\n",
            "[Parallel(n_jobs=1)]: Using backend SequentialBackend with 1 concurrent workers.\n",
            "[Parallel(n_jobs=1)]: Done   1 out of   1 | elapsed:    0.0s remaining:    0.0s\n",
            "[Parallel(n_jobs=1)]: Done   2 out of   2 | elapsed:    0.0s remaining:    0.0s\n",
            "[Parallel(n_jobs=1)]: Done   5 out of   5 | elapsed:    0.0s finished\n",
            "[Parallel(n_jobs=1)]: Using backend SequentialBackend with 1 concurrent workers.\n"
          ],
          "name": "stderr"
        },
        {
          "output_type": "stream",
          "text": [
            "building tree 1 of 5\n"
          ],
          "name": "stdout"
        },
        {
          "output_type": "stream",
          "text": [
            "[Parallel(n_jobs=1)]: Done   1 out of   1 | elapsed:    0.6s remaining:    0.0s\n"
          ],
          "name": "stderr"
        },
        {
          "output_type": "stream",
          "text": [
            "building tree 2 of 5\n"
          ],
          "name": "stdout"
        },
        {
          "output_type": "stream",
          "text": [
            "[Parallel(n_jobs=1)]: Done   2 out of   2 | elapsed:    1.1s remaining:    0.0s\n"
          ],
          "name": "stderr"
        },
        {
          "output_type": "stream",
          "text": [
            "building tree 3 of 5\n",
            "building tree 4 of 5\n",
            "building tree 5 of 5\n"
          ],
          "name": "stdout"
        },
        {
          "output_type": "stream",
          "text": [
            "[Parallel(n_jobs=1)]: Done   5 out of   5 | elapsed:    2.6s finished\n",
            "[Parallel(n_jobs=1)]: Using backend SequentialBackend with 1 concurrent workers.\n",
            "[Parallel(n_jobs=1)]: Done   1 out of   1 | elapsed:    0.0s remaining:    0.0s\n",
            "[Parallel(n_jobs=1)]: Done   2 out of   2 | elapsed:    0.0s remaining:    0.0s\n",
            "[Parallel(n_jobs=1)]: Done   5 out of   5 | elapsed:    0.0s finished\n",
            "[Parallel(n_jobs=1)]: Using backend SequentialBackend with 1 concurrent workers.\n"
          ],
          "name": "stderr"
        },
        {
          "output_type": "stream",
          "text": [
            "building tree 1 of 5\n"
          ],
          "name": "stdout"
        },
        {
          "output_type": "stream",
          "text": [
            "[Parallel(n_jobs=1)]: Done   1 out of   1 | elapsed:    0.5s remaining:    0.0s\n"
          ],
          "name": "stderr"
        },
        {
          "output_type": "stream",
          "text": [
            "building tree 2 of 5\n"
          ],
          "name": "stdout"
        },
        {
          "output_type": "stream",
          "text": [
            "[Parallel(n_jobs=1)]: Done   2 out of   2 | elapsed:    1.0s remaining:    0.0s\n"
          ],
          "name": "stderr"
        },
        {
          "output_type": "stream",
          "text": [
            "building tree 3 of 5\n",
            "building tree 4 of 5\n",
            "building tree 5 of 5\n"
          ],
          "name": "stdout"
        },
        {
          "output_type": "stream",
          "text": [
            "[Parallel(n_jobs=1)]: Done   5 out of   5 | elapsed:    2.6s finished\n",
            "[Parallel(n_jobs=1)]: Using backend SequentialBackend with 1 concurrent workers.\n",
            "[Parallel(n_jobs=1)]: Done   1 out of   1 | elapsed:    0.0s remaining:    0.0s\n",
            "[Parallel(n_jobs=1)]: Done   2 out of   2 | elapsed:    0.0s remaining:    0.0s\n",
            "[Parallel(n_jobs=1)]: Done   5 out of   5 | elapsed:    0.0s finished\n",
            "[Parallel(n_jobs=1)]: Using backend SequentialBackend with 1 concurrent workers.\n"
          ],
          "name": "stderr"
        },
        {
          "output_type": "stream",
          "text": [
            "building tree 1 of 5\n"
          ],
          "name": "stdout"
        },
        {
          "output_type": "stream",
          "text": [
            "[Parallel(n_jobs=1)]: Done   1 out of   1 | elapsed:    0.5s remaining:    0.0s\n"
          ],
          "name": "stderr"
        },
        {
          "output_type": "stream",
          "text": [
            "building tree 2 of 5\n"
          ],
          "name": "stdout"
        },
        {
          "output_type": "stream",
          "text": [
            "[Parallel(n_jobs=1)]: Done   2 out of   2 | elapsed:    1.0s remaining:    0.0s\n"
          ],
          "name": "stderr"
        },
        {
          "output_type": "stream",
          "text": [
            "building tree 3 of 5\n",
            "building tree 4 of 5\n",
            "building tree 5 of 5\n"
          ],
          "name": "stdout"
        },
        {
          "output_type": "stream",
          "text": [
            "[Parallel(n_jobs=1)]: Done   5 out of   5 | elapsed:    2.6s finished\n",
            "[Parallel(n_jobs=1)]: Using backend SequentialBackend with 1 concurrent workers.\n",
            "[Parallel(n_jobs=1)]: Done   1 out of   1 | elapsed:    0.0s remaining:    0.0s\n",
            "[Parallel(n_jobs=1)]: Done   2 out of   2 | elapsed:    0.0s remaining:    0.0s\n",
            "[Parallel(n_jobs=1)]: Done   5 out of   5 | elapsed:    0.0s finished\n",
            "[Parallel(n_jobs=1)]: Using backend SequentialBackend with 1 concurrent workers.\n"
          ],
          "name": "stderr"
        },
        {
          "output_type": "stream",
          "text": [
            "building tree 1 of 5\n"
          ],
          "name": "stdout"
        },
        {
          "output_type": "stream",
          "text": [
            "[Parallel(n_jobs=1)]: Done   1 out of   1 | elapsed:    0.6s remaining:    0.0s\n"
          ],
          "name": "stderr"
        },
        {
          "output_type": "stream",
          "text": [
            "building tree 2 of 5\n"
          ],
          "name": "stdout"
        },
        {
          "output_type": "stream",
          "text": [
            "[Parallel(n_jobs=1)]: Done   2 out of   2 | elapsed:    1.1s remaining:    0.0s\n"
          ],
          "name": "stderr"
        },
        {
          "output_type": "stream",
          "text": [
            "building tree 3 of 5\n",
            "building tree 4 of 5\n",
            "building tree 5 of 5\n"
          ],
          "name": "stdout"
        },
        {
          "output_type": "stream",
          "text": [
            "[Parallel(n_jobs=1)]: Done   5 out of   5 | elapsed:    2.8s finished\n",
            "[Parallel(n_jobs=1)]: Using backend SequentialBackend with 1 concurrent workers.\n",
            "[Parallel(n_jobs=1)]: Done   1 out of   1 | elapsed:    0.0s remaining:    0.0s\n",
            "[Parallel(n_jobs=1)]: Done   2 out of   2 | elapsed:    0.0s remaining:    0.0s\n",
            "[Parallel(n_jobs=1)]: Done   5 out of   5 | elapsed:    0.0s finished\n",
            "[Parallel(n_jobs=1)]: Using backend SequentialBackend with 1 concurrent workers.\n"
          ],
          "name": "stderr"
        },
        {
          "output_type": "stream",
          "text": [
            "building tree 1 of 10\n"
          ],
          "name": "stdout"
        },
        {
          "output_type": "stream",
          "text": [
            "[Parallel(n_jobs=1)]: Done   1 out of   1 | elapsed:    0.6s remaining:    0.0s\n"
          ],
          "name": "stderr"
        },
        {
          "output_type": "stream",
          "text": [
            "building tree 2 of 10\n"
          ],
          "name": "stdout"
        },
        {
          "output_type": "stream",
          "text": [
            "[Parallel(n_jobs=1)]: Done   2 out of   2 | elapsed:    1.0s remaining:    0.0s\n"
          ],
          "name": "stderr"
        },
        {
          "output_type": "stream",
          "text": [
            "building tree 3 of 10\n",
            "building tree 4 of 10\n",
            "building tree 5 of 10\n",
            "building tree 6 of 10\n",
            "building tree 7 of 10\n",
            "building tree 8 of 10\n",
            "building tree 9 of 10\n",
            "building tree 10 of 10\n"
          ],
          "name": "stdout"
        },
        {
          "output_type": "stream",
          "text": [
            "[Parallel(n_jobs=1)]: Done  10 out of  10 | elapsed:    5.2s finished\n",
            "[Parallel(n_jobs=1)]: Using backend SequentialBackend with 1 concurrent workers.\n",
            "[Parallel(n_jobs=1)]: Done   1 out of   1 | elapsed:    0.0s remaining:    0.0s\n",
            "[Parallel(n_jobs=1)]: Done   2 out of   2 | elapsed:    0.0s remaining:    0.0s\n",
            "[Parallel(n_jobs=1)]: Done  10 out of  10 | elapsed:    0.0s finished\n",
            "[Parallel(n_jobs=1)]: Using backend SequentialBackend with 1 concurrent workers.\n"
          ],
          "name": "stderr"
        },
        {
          "output_type": "stream",
          "text": [
            "building tree 1 of 10\n"
          ],
          "name": "stdout"
        },
        {
          "output_type": "stream",
          "text": [
            "[Parallel(n_jobs=1)]: Done   1 out of   1 | elapsed:    0.6s remaining:    0.0s\n"
          ],
          "name": "stderr"
        },
        {
          "output_type": "stream",
          "text": [
            "building tree 2 of 10\n"
          ],
          "name": "stdout"
        },
        {
          "output_type": "stream",
          "text": [
            "[Parallel(n_jobs=1)]: Done   2 out of   2 | elapsed:    1.1s remaining:    0.0s\n"
          ],
          "name": "stderr"
        },
        {
          "output_type": "stream",
          "text": [
            "building tree 3 of 10\n",
            "building tree 4 of 10\n",
            "building tree 5 of 10\n",
            "building tree 6 of 10\n",
            "building tree 7 of 10\n",
            "building tree 8 of 10\n",
            "building tree 9 of 10\n",
            "building tree 10 of 10\n"
          ],
          "name": "stdout"
        },
        {
          "output_type": "stream",
          "text": [
            "[Parallel(n_jobs=1)]: Done  10 out of  10 | elapsed:    5.4s finished\n",
            "[Parallel(n_jobs=1)]: Using backend SequentialBackend with 1 concurrent workers.\n",
            "[Parallel(n_jobs=1)]: Done   1 out of   1 | elapsed:    0.0s remaining:    0.0s\n",
            "[Parallel(n_jobs=1)]: Done   2 out of   2 | elapsed:    0.0s remaining:    0.0s\n",
            "[Parallel(n_jobs=1)]: Done  10 out of  10 | elapsed:    0.1s finished\n",
            "[Parallel(n_jobs=1)]: Using backend SequentialBackend with 1 concurrent workers.\n"
          ],
          "name": "stderr"
        },
        {
          "output_type": "stream",
          "text": [
            "building tree 1 of 10\n"
          ],
          "name": "stdout"
        },
        {
          "output_type": "stream",
          "text": [
            "[Parallel(n_jobs=1)]: Done   1 out of   1 | elapsed:    0.5s remaining:    0.0s\n"
          ],
          "name": "stderr"
        },
        {
          "output_type": "stream",
          "text": [
            "building tree 2 of 10\n"
          ],
          "name": "stdout"
        },
        {
          "output_type": "stream",
          "text": [
            "[Parallel(n_jobs=1)]: Done   2 out of   2 | elapsed:    1.0s remaining:    0.0s\n"
          ],
          "name": "stderr"
        },
        {
          "output_type": "stream",
          "text": [
            "building tree 3 of 10\n",
            "building tree 4 of 10\n",
            "building tree 5 of 10\n",
            "building tree 6 of 10\n",
            "building tree 7 of 10\n",
            "building tree 8 of 10\n",
            "building tree 9 of 10\n",
            "building tree 10 of 10\n"
          ],
          "name": "stdout"
        },
        {
          "output_type": "stream",
          "text": [
            "[Parallel(n_jobs=1)]: Done  10 out of  10 | elapsed:    5.2s finished\n",
            "[Parallel(n_jobs=1)]: Using backend SequentialBackend with 1 concurrent workers.\n",
            "[Parallel(n_jobs=1)]: Done   1 out of   1 | elapsed:    0.0s remaining:    0.0s\n",
            "[Parallel(n_jobs=1)]: Done   2 out of   2 | elapsed:    0.0s remaining:    0.0s\n",
            "[Parallel(n_jobs=1)]: Done  10 out of  10 | elapsed:    0.0s finished\n",
            "[Parallel(n_jobs=1)]: Using backend SequentialBackend with 1 concurrent workers.\n"
          ],
          "name": "stderr"
        },
        {
          "output_type": "stream",
          "text": [
            "building tree 1 of 10\n"
          ],
          "name": "stdout"
        },
        {
          "output_type": "stream",
          "text": [
            "[Parallel(n_jobs=1)]: Done   1 out of   1 | elapsed:    0.5s remaining:    0.0s\n"
          ],
          "name": "stderr"
        },
        {
          "output_type": "stream",
          "text": [
            "building tree 2 of 10\n"
          ],
          "name": "stdout"
        },
        {
          "output_type": "stream",
          "text": [
            "[Parallel(n_jobs=1)]: Done   2 out of   2 | elapsed:    1.0s remaining:    0.0s\n"
          ],
          "name": "stderr"
        },
        {
          "output_type": "stream",
          "text": [
            "building tree 3 of 10\n",
            "building tree 4 of 10\n",
            "building tree 5 of 10\n",
            "building tree 6 of 10\n",
            "building tree 7 of 10\n",
            "building tree 8 of 10\n",
            "building tree 9 of 10\n",
            "building tree 10 of 10\n"
          ],
          "name": "stdout"
        },
        {
          "output_type": "stream",
          "text": [
            "[Parallel(n_jobs=1)]: Done  10 out of  10 | elapsed:    5.3s finished\n",
            "[Parallel(n_jobs=1)]: Using backend SequentialBackend with 1 concurrent workers.\n",
            "[Parallel(n_jobs=1)]: Done   1 out of   1 | elapsed:    0.0s remaining:    0.0s\n",
            "[Parallel(n_jobs=1)]: Done   2 out of   2 | elapsed:    0.0s remaining:    0.0s\n",
            "[Parallel(n_jobs=1)]: Done  10 out of  10 | elapsed:    0.1s finished\n",
            "[Parallel(n_jobs=1)]: Using backend SequentialBackend with 1 concurrent workers.\n"
          ],
          "name": "stderr"
        },
        {
          "output_type": "stream",
          "text": [
            "building tree 1 of 10\n"
          ],
          "name": "stdout"
        },
        {
          "output_type": "stream",
          "text": [
            "[Parallel(n_jobs=1)]: Done   1 out of   1 | elapsed:    0.6s remaining:    0.0s\n"
          ],
          "name": "stderr"
        },
        {
          "output_type": "stream",
          "text": [
            "building tree 2 of 10\n"
          ],
          "name": "stdout"
        },
        {
          "output_type": "stream",
          "text": [
            "[Parallel(n_jobs=1)]: Done   2 out of   2 | elapsed:    1.1s remaining:    0.0s\n"
          ],
          "name": "stderr"
        },
        {
          "output_type": "stream",
          "text": [
            "building tree 3 of 10\n",
            "building tree 4 of 10\n",
            "building tree 5 of 10\n",
            "building tree 6 of 10\n",
            "building tree 7 of 10\n",
            "building tree 8 of 10\n",
            "building tree 9 of 10\n",
            "building tree 10 of 10\n"
          ],
          "name": "stdout"
        },
        {
          "output_type": "stream",
          "text": [
            "[Parallel(n_jobs=1)]: Done  10 out of  10 | elapsed:    5.4s finished\n",
            "[Parallel(n_jobs=1)]: Using backend SequentialBackend with 1 concurrent workers.\n",
            "[Parallel(n_jobs=1)]: Done   1 out of   1 | elapsed:    0.0s remaining:    0.0s\n",
            "[Parallel(n_jobs=1)]: Done   2 out of   2 | elapsed:    0.0s remaining:    0.0s\n",
            "[Parallel(n_jobs=1)]: Done  10 out of  10 | elapsed:    0.1s finished\n",
            "[Parallel(n_jobs=1)]: Using backend SequentialBackend with 1 concurrent workers.\n"
          ],
          "name": "stderr"
        },
        {
          "output_type": "stream",
          "text": [
            "building tree 1 of 20\n"
          ],
          "name": "stdout"
        },
        {
          "output_type": "stream",
          "text": [
            "[Parallel(n_jobs=1)]: Done   1 out of   1 | elapsed:    0.6s remaining:    0.0s\n"
          ],
          "name": "stderr"
        },
        {
          "output_type": "stream",
          "text": [
            "building tree 2 of 20\n"
          ],
          "name": "stdout"
        },
        {
          "output_type": "stream",
          "text": [
            "[Parallel(n_jobs=1)]: Done   2 out of   2 | elapsed:    1.0s remaining:    0.0s\n"
          ],
          "name": "stderr"
        },
        {
          "output_type": "stream",
          "text": [
            "building tree 3 of 20\n",
            "building tree 4 of 20\n",
            "building tree 5 of 20\n",
            "building tree 6 of 20\n",
            "building tree 7 of 20\n",
            "building tree 8 of 20\n",
            "building tree 9 of 20\n",
            "building tree 10 of 20\n",
            "building tree 11 of 20\n",
            "building tree 12 of 20\n",
            "building tree 13 of 20\n",
            "building tree 14 of 20\n",
            "building tree 15 of 20\n",
            "building tree 16 of 20\n",
            "building tree 17 of 20\n",
            "building tree 18 of 20\n",
            "building tree 19 of 20\n",
            "building tree 20 of 20\n"
          ],
          "name": "stdout"
        },
        {
          "output_type": "stream",
          "text": [
            "[Parallel(n_jobs=1)]: Done  20 out of  20 | elapsed:   10.5s finished\n",
            "[Parallel(n_jobs=1)]: Using backend SequentialBackend with 1 concurrent workers.\n",
            "[Parallel(n_jobs=1)]: Done   1 out of   1 | elapsed:    0.0s remaining:    0.0s\n",
            "[Parallel(n_jobs=1)]: Done   2 out of   2 | elapsed:    0.0s remaining:    0.0s\n",
            "[Parallel(n_jobs=1)]: Done  20 out of  20 | elapsed:    0.1s finished\n",
            "[Parallel(n_jobs=1)]: Using backend SequentialBackend with 1 concurrent workers.\n"
          ],
          "name": "stderr"
        },
        {
          "output_type": "stream",
          "text": [
            "building tree 1 of 20\n"
          ],
          "name": "stdout"
        },
        {
          "output_type": "stream",
          "text": [
            "[Parallel(n_jobs=1)]: Done   1 out of   1 | elapsed:    0.6s remaining:    0.0s\n"
          ],
          "name": "stderr"
        },
        {
          "output_type": "stream",
          "text": [
            "building tree 2 of 20\n"
          ],
          "name": "stdout"
        },
        {
          "output_type": "stream",
          "text": [
            "[Parallel(n_jobs=1)]: Done   2 out of   2 | elapsed:    1.1s remaining:    0.0s\n"
          ],
          "name": "stderr"
        },
        {
          "output_type": "stream",
          "text": [
            "building tree 3 of 20\n",
            "building tree 4 of 20\n",
            "building tree 5 of 20\n",
            "building tree 6 of 20\n",
            "building tree 7 of 20\n",
            "building tree 8 of 20\n",
            "building tree 9 of 20\n",
            "building tree 10 of 20\n",
            "building tree 11 of 20\n",
            "building tree 12 of 20\n",
            "building tree 13 of 20\n",
            "building tree 14 of 20\n",
            "building tree 15 of 20\n",
            "building tree 16 of 20\n",
            "building tree 17 of 20\n",
            "building tree 18 of 20\n",
            "building tree 19 of 20\n",
            "building tree 20 of 20\n"
          ],
          "name": "stdout"
        },
        {
          "output_type": "stream",
          "text": [
            "[Parallel(n_jobs=1)]: Done  20 out of  20 | elapsed:   10.7s finished\n",
            "[Parallel(n_jobs=1)]: Using backend SequentialBackend with 1 concurrent workers.\n",
            "[Parallel(n_jobs=1)]: Done   1 out of   1 | elapsed:    0.0s remaining:    0.0s\n",
            "[Parallel(n_jobs=1)]: Done   2 out of   2 | elapsed:    0.0s remaining:    0.0s\n",
            "[Parallel(n_jobs=1)]: Done  20 out of  20 | elapsed:    0.1s finished\n",
            "[Parallel(n_jobs=1)]: Using backend SequentialBackend with 1 concurrent workers.\n"
          ],
          "name": "stderr"
        },
        {
          "output_type": "stream",
          "text": [
            "building tree 1 of 20\n"
          ],
          "name": "stdout"
        },
        {
          "output_type": "stream",
          "text": [
            "[Parallel(n_jobs=1)]: Done   1 out of   1 | elapsed:    0.5s remaining:    0.0s\n"
          ],
          "name": "stderr"
        },
        {
          "output_type": "stream",
          "text": [
            "building tree 2 of 20\n"
          ],
          "name": "stdout"
        },
        {
          "output_type": "stream",
          "text": [
            "[Parallel(n_jobs=1)]: Done   2 out of   2 | elapsed:    1.0s remaining:    0.0s\n"
          ],
          "name": "stderr"
        },
        {
          "output_type": "stream",
          "text": [
            "building tree 3 of 20\n",
            "building tree 4 of 20\n",
            "building tree 5 of 20\n",
            "building tree 6 of 20\n",
            "building tree 7 of 20\n",
            "building tree 8 of 20\n",
            "building tree 9 of 20\n",
            "building tree 10 of 20\n",
            "building tree 11 of 20\n",
            "building tree 12 of 20\n",
            "building tree 13 of 20\n",
            "building tree 14 of 20\n",
            "building tree 15 of 20\n",
            "building tree 16 of 20\n",
            "building tree 17 of 20\n",
            "building tree 18 of 20\n",
            "building tree 19 of 20\n",
            "building tree 20 of 20\n"
          ],
          "name": "stdout"
        },
        {
          "output_type": "stream",
          "text": [
            "[Parallel(n_jobs=1)]: Done  20 out of  20 | elapsed:   10.6s finished\n",
            "[Parallel(n_jobs=1)]: Using backend SequentialBackend with 1 concurrent workers.\n",
            "[Parallel(n_jobs=1)]: Done   1 out of   1 | elapsed:    0.0s remaining:    0.0s\n",
            "[Parallel(n_jobs=1)]: Done   2 out of   2 | elapsed:    0.0s remaining:    0.0s\n",
            "[Parallel(n_jobs=1)]: Done  20 out of  20 | elapsed:    0.1s finished\n",
            "[Parallel(n_jobs=1)]: Using backend SequentialBackend with 1 concurrent workers.\n"
          ],
          "name": "stderr"
        },
        {
          "output_type": "stream",
          "text": [
            "building tree 1 of 20\n"
          ],
          "name": "stdout"
        },
        {
          "output_type": "stream",
          "text": [
            "[Parallel(n_jobs=1)]: Done   1 out of   1 | elapsed:    0.5s remaining:    0.0s\n"
          ],
          "name": "stderr"
        },
        {
          "output_type": "stream",
          "text": [
            "building tree 2 of 20\n"
          ],
          "name": "stdout"
        },
        {
          "output_type": "stream",
          "text": [
            "[Parallel(n_jobs=1)]: Done   2 out of   2 | elapsed:    1.0s remaining:    0.0s\n"
          ],
          "name": "stderr"
        },
        {
          "output_type": "stream",
          "text": [
            "building tree 3 of 20\n",
            "building tree 4 of 20\n",
            "building tree 5 of 20\n",
            "building tree 6 of 20\n",
            "building tree 7 of 20\n",
            "building tree 8 of 20\n",
            "building tree 9 of 20\n",
            "building tree 10 of 20\n",
            "building tree 11 of 20\n",
            "building tree 12 of 20\n",
            "building tree 13 of 20\n",
            "building tree 14 of 20\n",
            "building tree 15 of 20\n",
            "building tree 16 of 20\n",
            "building tree 17 of 20\n",
            "building tree 18 of 20\n",
            "building tree 19 of 20\n",
            "building tree 20 of 20\n"
          ],
          "name": "stdout"
        },
        {
          "output_type": "stream",
          "text": [
            "[Parallel(n_jobs=1)]: Done  20 out of  20 | elapsed:   10.8s finished\n",
            "[Parallel(n_jobs=1)]: Using backend SequentialBackend with 1 concurrent workers.\n",
            "[Parallel(n_jobs=1)]: Done   1 out of   1 | elapsed:    0.0s remaining:    0.0s\n",
            "[Parallel(n_jobs=1)]: Done   2 out of   2 | elapsed:    0.0s remaining:    0.0s\n",
            "[Parallel(n_jobs=1)]: Done  20 out of  20 | elapsed:    0.1s finished\n",
            "[Parallel(n_jobs=1)]: Using backend SequentialBackend with 1 concurrent workers.\n"
          ],
          "name": "stderr"
        },
        {
          "output_type": "stream",
          "text": [
            "building tree 1 of 20\n"
          ],
          "name": "stdout"
        },
        {
          "output_type": "stream",
          "text": [
            "[Parallel(n_jobs=1)]: Done   1 out of   1 | elapsed:    0.6s remaining:    0.0s\n"
          ],
          "name": "stderr"
        },
        {
          "output_type": "stream",
          "text": [
            "building tree 2 of 20\n"
          ],
          "name": "stdout"
        },
        {
          "output_type": "stream",
          "text": [
            "[Parallel(n_jobs=1)]: Done   2 out of   2 | elapsed:    1.1s remaining:    0.0s\n"
          ],
          "name": "stderr"
        },
        {
          "output_type": "stream",
          "text": [
            "building tree 3 of 20\n",
            "building tree 4 of 20\n",
            "building tree 5 of 20\n",
            "building tree 6 of 20\n",
            "building tree 7 of 20\n",
            "building tree 8 of 20\n",
            "building tree 9 of 20\n",
            "building tree 10 of 20\n",
            "building tree 11 of 20\n",
            "building tree 12 of 20\n",
            "building tree 13 of 20\n",
            "building tree 14 of 20\n",
            "building tree 15 of 20\n",
            "building tree 16 of 20\n",
            "building tree 17 of 20\n",
            "building tree 18 of 20\n",
            "building tree 19 of 20\n",
            "building tree 20 of 20\n"
          ],
          "name": "stdout"
        },
        {
          "output_type": "stream",
          "text": [
            "[Parallel(n_jobs=1)]: Done  20 out of  20 | elapsed:   10.7s finished\n",
            "[Parallel(n_jobs=1)]: Using backend SequentialBackend with 1 concurrent workers.\n",
            "[Parallel(n_jobs=1)]: Done   1 out of   1 | elapsed:    0.0s remaining:    0.0s\n",
            "[Parallel(n_jobs=1)]: Done   2 out of   2 | elapsed:    0.0s remaining:    0.0s\n",
            "[Parallel(n_jobs=1)]: Done  20 out of  20 | elapsed:    0.1s finished\n",
            "[Parallel(n_jobs=1)]: Using backend SequentialBackend with 1 concurrent workers.\n"
          ],
          "name": "stderr"
        },
        {
          "output_type": "stream",
          "text": [
            "building tree 1 of 30\n"
          ],
          "name": "stdout"
        },
        {
          "output_type": "stream",
          "text": [
            "[Parallel(n_jobs=1)]: Done   1 out of   1 | elapsed:    0.6s remaining:    0.0s\n"
          ],
          "name": "stderr"
        },
        {
          "output_type": "stream",
          "text": [
            "building tree 2 of 30\n"
          ],
          "name": "stdout"
        },
        {
          "output_type": "stream",
          "text": [
            "[Parallel(n_jobs=1)]: Done   2 out of   2 | elapsed:    1.0s remaining:    0.0s\n"
          ],
          "name": "stderr"
        },
        {
          "output_type": "stream",
          "text": [
            "building tree 3 of 30\n",
            "building tree 4 of 30\n",
            "building tree 5 of 30\n",
            "building tree 6 of 30\n",
            "building tree 7 of 30\n",
            "building tree 8 of 30\n",
            "building tree 9 of 30\n",
            "building tree 10 of 30\n",
            "building tree 11 of 30\n",
            "building tree 12 of 30\n",
            "building tree 13 of 30\n",
            "building tree 14 of 30\n",
            "building tree 15 of 30\n",
            "building tree 16 of 30\n",
            "building tree 17 of 30\n",
            "building tree 18 of 30\n",
            "building tree 19 of 30\n",
            "building tree 20 of 30\n",
            "building tree 21 of 30\n",
            "building tree 22 of 30\n",
            "building tree 23 of 30\n",
            "building tree 24 of 30\n",
            "building tree 25 of 30\n",
            "building tree 26 of 30\n",
            "building tree 27 of 30\n",
            "building tree 28 of 30\n",
            "building tree 29 of 30\n",
            "building tree 30 of 30\n"
          ],
          "name": "stdout"
        },
        {
          "output_type": "stream",
          "text": [
            "[Parallel(n_jobs=1)]: Done  30 out of  30 | elapsed:   15.8s finished\n",
            "[Parallel(n_jobs=1)]: Using backend SequentialBackend with 1 concurrent workers.\n",
            "[Parallel(n_jobs=1)]: Done   1 out of   1 | elapsed:    0.0s remaining:    0.0s\n",
            "[Parallel(n_jobs=1)]: Done   2 out of   2 | elapsed:    0.0s remaining:    0.0s\n",
            "[Parallel(n_jobs=1)]: Done  30 out of  30 | elapsed:    0.1s finished\n",
            "[Parallel(n_jobs=1)]: Using backend SequentialBackend with 1 concurrent workers.\n"
          ],
          "name": "stderr"
        },
        {
          "output_type": "stream",
          "text": [
            "building tree 1 of 30\n"
          ],
          "name": "stdout"
        },
        {
          "output_type": "stream",
          "text": [
            "[Parallel(n_jobs=1)]: Done   1 out of   1 | elapsed:    0.6s remaining:    0.0s\n"
          ],
          "name": "stderr"
        },
        {
          "output_type": "stream",
          "text": [
            "building tree 2 of 30\n"
          ],
          "name": "stdout"
        },
        {
          "output_type": "stream",
          "text": [
            "[Parallel(n_jobs=1)]: Done   2 out of   2 | elapsed:    1.1s remaining:    0.0s\n"
          ],
          "name": "stderr"
        },
        {
          "output_type": "stream",
          "text": [
            "building tree 3 of 30\n",
            "building tree 4 of 30\n",
            "building tree 5 of 30\n",
            "building tree 6 of 30\n",
            "building tree 7 of 30\n",
            "building tree 8 of 30\n",
            "building tree 9 of 30\n",
            "building tree 10 of 30\n",
            "building tree 11 of 30\n",
            "building tree 12 of 30\n",
            "building tree 13 of 30\n",
            "building tree 14 of 30\n",
            "building tree 15 of 30\n",
            "building tree 16 of 30\n",
            "building tree 17 of 30\n",
            "building tree 18 of 30\n",
            "building tree 19 of 30\n",
            "building tree 20 of 30\n",
            "building tree 21 of 30\n",
            "building tree 22 of 30\n",
            "building tree 23 of 30\n",
            "building tree 24 of 30\n",
            "building tree 25 of 30\n",
            "building tree 26 of 30\n",
            "building tree 27 of 30\n",
            "building tree 28 of 30\n",
            "building tree 29 of 30\n",
            "building tree 30 of 30\n"
          ],
          "name": "stdout"
        },
        {
          "output_type": "stream",
          "text": [
            "[Parallel(n_jobs=1)]: Done  30 out of  30 | elapsed:   16.1s finished\n",
            "[Parallel(n_jobs=1)]: Using backend SequentialBackend with 1 concurrent workers.\n",
            "[Parallel(n_jobs=1)]: Done   1 out of   1 | elapsed:    0.0s remaining:    0.0s\n",
            "[Parallel(n_jobs=1)]: Done   2 out of   2 | elapsed:    0.0s remaining:    0.0s\n",
            "[Parallel(n_jobs=1)]: Done  30 out of  30 | elapsed:    0.2s finished\n",
            "[Parallel(n_jobs=1)]: Using backend SequentialBackend with 1 concurrent workers.\n"
          ],
          "name": "stderr"
        },
        {
          "output_type": "stream",
          "text": [
            "building tree 1 of 30\n"
          ],
          "name": "stdout"
        },
        {
          "output_type": "stream",
          "text": [
            "[Parallel(n_jobs=1)]: Done   1 out of   1 | elapsed:    0.5s remaining:    0.0s\n"
          ],
          "name": "stderr"
        },
        {
          "output_type": "stream",
          "text": [
            "building tree 2 of 30\n"
          ],
          "name": "stdout"
        },
        {
          "output_type": "stream",
          "text": [
            "[Parallel(n_jobs=1)]: Done   2 out of   2 | elapsed:    1.0s remaining:    0.0s\n"
          ],
          "name": "stderr"
        },
        {
          "output_type": "stream",
          "text": [
            "building tree 3 of 30\n",
            "building tree 4 of 30\n",
            "building tree 5 of 30\n",
            "building tree 6 of 30\n",
            "building tree 7 of 30\n",
            "building tree 8 of 30\n",
            "building tree 9 of 30\n",
            "building tree 10 of 30\n",
            "building tree 11 of 30\n",
            "building tree 12 of 30\n",
            "building tree 13 of 30\n",
            "building tree 14 of 30\n",
            "building tree 15 of 30\n",
            "building tree 16 of 30\n",
            "building tree 17 of 30\n",
            "building tree 18 of 30\n",
            "building tree 19 of 30\n",
            "building tree 20 of 30\n",
            "building tree 21 of 30\n",
            "building tree 22 of 30\n",
            "building tree 23 of 30\n",
            "building tree 24 of 30\n",
            "building tree 25 of 30\n",
            "building tree 26 of 30\n",
            "building tree 27 of 30\n",
            "building tree 28 of 30\n",
            "building tree 29 of 30\n",
            "building tree 30 of 30\n"
          ],
          "name": "stdout"
        },
        {
          "output_type": "stream",
          "text": [
            "[Parallel(n_jobs=1)]: Done  30 out of  30 | elapsed:   15.6s finished\n",
            "[Parallel(n_jobs=1)]: Using backend SequentialBackend with 1 concurrent workers.\n",
            "[Parallel(n_jobs=1)]: Done   1 out of   1 | elapsed:    0.0s remaining:    0.0s\n",
            "[Parallel(n_jobs=1)]: Done   2 out of   2 | elapsed:    0.0s remaining:    0.0s\n",
            "[Parallel(n_jobs=1)]: Done  30 out of  30 | elapsed:    0.1s finished\n",
            "[Parallel(n_jobs=1)]: Using backend SequentialBackend with 1 concurrent workers.\n"
          ],
          "name": "stderr"
        },
        {
          "output_type": "stream",
          "text": [
            "building tree 1 of 30\n"
          ],
          "name": "stdout"
        },
        {
          "output_type": "stream",
          "text": [
            "[Parallel(n_jobs=1)]: Done   1 out of   1 | elapsed:    0.5s remaining:    0.0s\n"
          ],
          "name": "stderr"
        },
        {
          "output_type": "stream",
          "text": [
            "building tree 2 of 30\n"
          ],
          "name": "stdout"
        },
        {
          "output_type": "stream",
          "text": [
            "[Parallel(n_jobs=1)]: Done   2 out of   2 | elapsed:    1.0s remaining:    0.0s\n"
          ],
          "name": "stderr"
        },
        {
          "output_type": "stream",
          "text": [
            "building tree 3 of 30\n",
            "building tree 4 of 30\n",
            "building tree 5 of 30\n",
            "building tree 6 of 30\n",
            "building tree 7 of 30\n",
            "building tree 8 of 30\n",
            "building tree 9 of 30\n",
            "building tree 10 of 30\n",
            "building tree 11 of 30\n",
            "building tree 12 of 30\n",
            "building tree 13 of 30\n",
            "building tree 14 of 30\n",
            "building tree 15 of 30\n",
            "building tree 16 of 30\n",
            "building tree 17 of 30\n",
            "building tree 18 of 30\n",
            "building tree 19 of 30\n",
            "building tree 20 of 30\n",
            "building tree 21 of 30\n",
            "building tree 22 of 30\n",
            "building tree 23 of 30\n",
            "building tree 24 of 30\n",
            "building tree 25 of 30\n",
            "building tree 26 of 30\n",
            "building tree 27 of 30\n",
            "building tree 28 of 30\n",
            "building tree 29 of 30\n",
            "building tree 30 of 30\n"
          ],
          "name": "stdout"
        },
        {
          "output_type": "stream",
          "text": [
            "[Parallel(n_jobs=1)]: Done  30 out of  30 | elapsed:   16.0s finished\n",
            "[Parallel(n_jobs=1)]: Using backend SequentialBackend with 1 concurrent workers.\n",
            "[Parallel(n_jobs=1)]: Done   1 out of   1 | elapsed:    0.0s remaining:    0.0s\n",
            "[Parallel(n_jobs=1)]: Done   2 out of   2 | elapsed:    0.0s remaining:    0.0s\n",
            "[Parallel(n_jobs=1)]: Done  30 out of  30 | elapsed:    0.2s finished\n",
            "[Parallel(n_jobs=1)]: Using backend SequentialBackend with 1 concurrent workers.\n"
          ],
          "name": "stderr"
        },
        {
          "output_type": "stream",
          "text": [
            "building tree 1 of 30\n"
          ],
          "name": "stdout"
        },
        {
          "output_type": "stream",
          "text": [
            "[Parallel(n_jobs=1)]: Done   1 out of   1 | elapsed:    0.6s remaining:    0.0s\n"
          ],
          "name": "stderr"
        },
        {
          "output_type": "stream",
          "text": [
            "building tree 2 of 30\n"
          ],
          "name": "stdout"
        },
        {
          "output_type": "stream",
          "text": [
            "[Parallel(n_jobs=1)]: Done   2 out of   2 | elapsed:    1.1s remaining:    0.0s\n"
          ],
          "name": "stderr"
        },
        {
          "output_type": "stream",
          "text": [
            "building tree 3 of 30\n",
            "building tree 4 of 30\n",
            "building tree 5 of 30\n",
            "building tree 6 of 30\n",
            "building tree 7 of 30\n",
            "building tree 8 of 30\n",
            "building tree 9 of 30\n",
            "building tree 10 of 30\n",
            "building tree 11 of 30\n",
            "building tree 12 of 30\n",
            "building tree 13 of 30\n",
            "building tree 14 of 30\n",
            "building tree 15 of 30\n",
            "building tree 16 of 30\n",
            "building tree 17 of 30\n",
            "building tree 18 of 30\n",
            "building tree 19 of 30\n",
            "building tree 20 of 30\n",
            "building tree 21 of 30\n",
            "building tree 22 of 30\n",
            "building tree 23 of 30\n",
            "building tree 24 of 30\n",
            "building tree 25 of 30\n",
            "building tree 26 of 30\n",
            "building tree 27 of 30\n",
            "building tree 28 of 30\n",
            "building tree 29 of 30\n",
            "building tree 30 of 30\n"
          ],
          "name": "stdout"
        },
        {
          "output_type": "stream",
          "text": [
            "[Parallel(n_jobs=1)]: Done  30 out of  30 | elapsed:   16.2s finished\n",
            "[Parallel(n_jobs=1)]: Using backend SequentialBackend with 1 concurrent workers.\n",
            "[Parallel(n_jobs=1)]: Done   1 out of   1 | elapsed:    0.0s remaining:    0.0s\n",
            "[Parallel(n_jobs=1)]: Done   2 out of   2 | elapsed:    0.0s remaining:    0.0s\n",
            "[Parallel(n_jobs=1)]: Done  30 out of  30 | elapsed:    0.2s finished\n",
            "[Parallel(n_jobs=1)]: Using backend SequentialBackend with 1 concurrent workers.\n"
          ],
          "name": "stderr"
        },
        {
          "output_type": "stream",
          "text": [
            "building tree 1 of 40\n"
          ],
          "name": "stdout"
        },
        {
          "output_type": "stream",
          "text": [
            "[Parallel(n_jobs=1)]: Done   1 out of   1 | elapsed:    0.6s remaining:    0.0s\n"
          ],
          "name": "stderr"
        },
        {
          "output_type": "stream",
          "text": [
            "building tree 2 of 40\n"
          ],
          "name": "stdout"
        },
        {
          "output_type": "stream",
          "text": [
            "[Parallel(n_jobs=1)]: Done   2 out of   2 | elapsed:    1.0s remaining:    0.0s\n"
          ],
          "name": "stderr"
        },
        {
          "output_type": "stream",
          "text": [
            "building tree 3 of 40\n",
            "building tree 4 of 40\n",
            "building tree 5 of 40\n",
            "building tree 6 of 40\n",
            "building tree 7 of 40\n",
            "building tree 8 of 40\n",
            "building tree 9 of 40\n",
            "building tree 10 of 40\n",
            "building tree 11 of 40\n",
            "building tree 12 of 40\n",
            "building tree 13 of 40\n",
            "building tree 14 of 40\n",
            "building tree 15 of 40\n",
            "building tree 16 of 40\n",
            "building tree 17 of 40\n",
            "building tree 18 of 40\n",
            "building tree 19 of 40\n",
            "building tree 20 of 40\n",
            "building tree 21 of 40\n",
            "building tree 22 of 40\n",
            "building tree 23 of 40\n",
            "building tree 24 of 40\n",
            "building tree 25 of 40\n",
            "building tree 26 of 40\n",
            "building tree 27 of 40\n",
            "building tree 28 of 40\n",
            "building tree 29 of 40\n",
            "building tree 30 of 40\n",
            "building tree 31 of 40\n",
            "building tree 32 of 40\n",
            "building tree 33 of 40\n",
            "building tree 34 of 40\n",
            "building tree 35 of 40\n",
            "building tree 36 of 40\n",
            "building tree 37 of 40\n",
            "building tree 38 of 40\n",
            "building tree 39 of 40\n",
            "building tree 40 of 40\n"
          ],
          "name": "stdout"
        },
        {
          "output_type": "stream",
          "text": [
            "[Parallel(n_jobs=1)]: Done  40 out of  40 | elapsed:   21.2s finished\n",
            "[Parallel(n_jobs=1)]: Using backend SequentialBackend with 1 concurrent workers.\n",
            "[Parallel(n_jobs=1)]: Done   1 out of   1 | elapsed:    0.0s remaining:    0.0s\n",
            "[Parallel(n_jobs=1)]: Done   2 out of   2 | elapsed:    0.0s remaining:    0.0s\n",
            "[Parallel(n_jobs=1)]: Done  40 out of  40 | elapsed:    0.2s finished\n",
            "[Parallel(n_jobs=1)]: Using backend SequentialBackend with 1 concurrent workers.\n"
          ],
          "name": "stderr"
        },
        {
          "output_type": "stream",
          "text": [
            "building tree 1 of 40\n"
          ],
          "name": "stdout"
        },
        {
          "output_type": "stream",
          "text": [
            "[Parallel(n_jobs=1)]: Done   1 out of   1 | elapsed:    0.6s remaining:    0.0s\n"
          ],
          "name": "stderr"
        },
        {
          "output_type": "stream",
          "text": [
            "building tree 2 of 40\n"
          ],
          "name": "stdout"
        },
        {
          "output_type": "stream",
          "text": [
            "[Parallel(n_jobs=1)]: Done   2 out of   2 | elapsed:    1.1s remaining:    0.0s\n"
          ],
          "name": "stderr"
        },
        {
          "output_type": "stream",
          "text": [
            "building tree 3 of 40\n",
            "building tree 4 of 40\n",
            "building tree 5 of 40\n",
            "building tree 6 of 40\n",
            "building tree 7 of 40\n",
            "building tree 8 of 40\n",
            "building tree 9 of 40\n",
            "building tree 10 of 40\n",
            "building tree 11 of 40\n",
            "building tree 12 of 40\n",
            "building tree 13 of 40\n",
            "building tree 14 of 40\n",
            "building tree 15 of 40\n",
            "building tree 16 of 40\n",
            "building tree 17 of 40\n",
            "building tree 18 of 40\n",
            "building tree 19 of 40\n",
            "building tree 20 of 40\n",
            "building tree 21 of 40\n",
            "building tree 22 of 40\n",
            "building tree 23 of 40\n",
            "building tree 24 of 40\n",
            "building tree 25 of 40\n",
            "building tree 26 of 40\n",
            "building tree 27 of 40\n",
            "building tree 28 of 40\n",
            "building tree 29 of 40\n",
            "building tree 30 of 40\n",
            "building tree 31 of 40\n",
            "building tree 32 of 40\n",
            "building tree 33 of 40\n",
            "building tree 34 of 40\n",
            "building tree 35 of 40\n",
            "building tree 36 of 40\n",
            "building tree 37 of 40\n",
            "building tree 38 of 40\n",
            "building tree 39 of 40\n",
            "building tree 40 of 40\n"
          ],
          "name": "stdout"
        },
        {
          "output_type": "stream",
          "text": [
            "[Parallel(n_jobs=1)]: Done  40 out of  40 | elapsed:   21.4s finished\n",
            "[Parallel(n_jobs=1)]: Using backend SequentialBackend with 1 concurrent workers.\n",
            "[Parallel(n_jobs=1)]: Done   1 out of   1 | elapsed:    0.0s remaining:    0.0s\n",
            "[Parallel(n_jobs=1)]: Done   2 out of   2 | elapsed:    0.0s remaining:    0.0s\n",
            "[Parallel(n_jobs=1)]: Done  40 out of  40 | elapsed:    0.2s finished\n",
            "[Parallel(n_jobs=1)]: Using backend SequentialBackend with 1 concurrent workers.\n"
          ],
          "name": "stderr"
        },
        {
          "output_type": "stream",
          "text": [
            "building tree 1 of 40\n"
          ],
          "name": "stdout"
        },
        {
          "output_type": "stream",
          "text": [
            "[Parallel(n_jobs=1)]: Done   1 out of   1 | elapsed:    0.5s remaining:    0.0s\n"
          ],
          "name": "stderr"
        },
        {
          "output_type": "stream",
          "text": [
            "building tree 2 of 40\n"
          ],
          "name": "stdout"
        },
        {
          "output_type": "stream",
          "text": [
            "[Parallel(n_jobs=1)]: Done   2 out of   2 | elapsed:    1.0s remaining:    0.0s\n"
          ],
          "name": "stderr"
        },
        {
          "output_type": "stream",
          "text": [
            "building tree 3 of 40\n",
            "building tree 4 of 40\n",
            "building tree 5 of 40\n",
            "building tree 6 of 40\n",
            "building tree 7 of 40\n",
            "building tree 8 of 40\n",
            "building tree 9 of 40\n",
            "building tree 10 of 40\n",
            "building tree 11 of 40\n",
            "building tree 12 of 40\n",
            "building tree 13 of 40\n",
            "building tree 14 of 40\n",
            "building tree 15 of 40\n",
            "building tree 16 of 40\n",
            "building tree 17 of 40\n",
            "building tree 18 of 40\n",
            "building tree 19 of 40\n",
            "building tree 20 of 40\n",
            "building tree 21 of 40\n",
            "building tree 22 of 40\n",
            "building tree 23 of 40\n",
            "building tree 24 of 40\n",
            "building tree 25 of 40\n",
            "building tree 26 of 40\n",
            "building tree 27 of 40\n",
            "building tree 28 of 40\n",
            "building tree 29 of 40\n",
            "building tree 30 of 40\n",
            "building tree 31 of 40\n",
            "building tree 32 of 40\n",
            "building tree 33 of 40\n",
            "building tree 34 of 40\n",
            "building tree 35 of 40\n",
            "building tree 36 of 40\n",
            "building tree 37 of 40\n",
            "building tree 38 of 40\n",
            "building tree 39 of 40\n",
            "building tree 40 of 40\n"
          ],
          "name": "stdout"
        },
        {
          "output_type": "stream",
          "text": [
            "[Parallel(n_jobs=1)]: Done  40 out of  40 | elapsed:   21.0s finished\n",
            "[Parallel(n_jobs=1)]: Using backend SequentialBackend with 1 concurrent workers.\n",
            "[Parallel(n_jobs=1)]: Done   1 out of   1 | elapsed:    0.0s remaining:    0.0s\n",
            "[Parallel(n_jobs=1)]: Done   2 out of   2 | elapsed:    0.0s remaining:    0.0s\n",
            "[Parallel(n_jobs=1)]: Done  40 out of  40 | elapsed:    0.2s finished\n",
            "[Parallel(n_jobs=1)]: Using backend SequentialBackend with 1 concurrent workers.\n"
          ],
          "name": "stderr"
        },
        {
          "output_type": "stream",
          "text": [
            "building tree 1 of 40\n"
          ],
          "name": "stdout"
        },
        {
          "output_type": "stream",
          "text": [
            "[Parallel(n_jobs=1)]: Done   1 out of   1 | elapsed:    0.5s remaining:    0.0s\n"
          ],
          "name": "stderr"
        },
        {
          "output_type": "stream",
          "text": [
            "building tree 2 of 40\n"
          ],
          "name": "stdout"
        },
        {
          "output_type": "stream",
          "text": [
            "[Parallel(n_jobs=1)]: Done   2 out of   2 | elapsed:    1.0s remaining:    0.0s\n"
          ],
          "name": "stderr"
        },
        {
          "output_type": "stream",
          "text": [
            "building tree 3 of 40\n",
            "building tree 4 of 40\n",
            "building tree 5 of 40\n",
            "building tree 6 of 40\n",
            "building tree 7 of 40\n",
            "building tree 8 of 40\n",
            "building tree 9 of 40\n",
            "building tree 10 of 40\n",
            "building tree 11 of 40\n",
            "building tree 12 of 40\n",
            "building tree 13 of 40\n",
            "building tree 14 of 40\n",
            "building tree 15 of 40\n",
            "building tree 16 of 40\n",
            "building tree 17 of 40\n",
            "building tree 18 of 40\n",
            "building tree 19 of 40\n",
            "building tree 20 of 40\n",
            "building tree 21 of 40\n",
            "building tree 22 of 40\n",
            "building tree 23 of 40\n",
            "building tree 24 of 40\n",
            "building tree 25 of 40\n",
            "building tree 26 of 40\n",
            "building tree 27 of 40\n",
            "building tree 28 of 40\n",
            "building tree 29 of 40\n",
            "building tree 30 of 40\n",
            "building tree 31 of 40\n",
            "building tree 32 of 40\n",
            "building tree 33 of 40\n",
            "building tree 34 of 40\n",
            "building tree 35 of 40\n",
            "building tree 36 of 40\n",
            "building tree 37 of 40\n",
            "building tree 38 of 40\n",
            "building tree 39 of 40\n",
            "building tree 40 of 40\n"
          ],
          "name": "stdout"
        },
        {
          "output_type": "stream",
          "text": [
            "[Parallel(n_jobs=1)]: Done  40 out of  40 | elapsed:   21.4s finished\n",
            "[Parallel(n_jobs=1)]: Using backend SequentialBackend with 1 concurrent workers.\n",
            "[Parallel(n_jobs=1)]: Done   1 out of   1 | elapsed:    0.0s remaining:    0.0s\n",
            "[Parallel(n_jobs=1)]: Done   2 out of   2 | elapsed:    0.0s remaining:    0.0s\n",
            "[Parallel(n_jobs=1)]: Done  40 out of  40 | elapsed:    0.2s finished\n",
            "[Parallel(n_jobs=1)]: Using backend SequentialBackend with 1 concurrent workers.\n"
          ],
          "name": "stderr"
        },
        {
          "output_type": "stream",
          "text": [
            "building tree 1 of 40\n"
          ],
          "name": "stdout"
        },
        {
          "output_type": "stream",
          "text": [
            "[Parallel(n_jobs=1)]: Done   1 out of   1 | elapsed:    0.6s remaining:    0.0s\n"
          ],
          "name": "stderr"
        },
        {
          "output_type": "stream",
          "text": [
            "building tree 2 of 40\n"
          ],
          "name": "stdout"
        },
        {
          "output_type": "stream",
          "text": [
            "[Parallel(n_jobs=1)]: Done   2 out of   2 | elapsed:    1.1s remaining:    0.0s\n"
          ],
          "name": "stderr"
        },
        {
          "output_type": "stream",
          "text": [
            "building tree 3 of 40\n",
            "building tree 4 of 40\n",
            "building tree 5 of 40\n",
            "building tree 6 of 40\n",
            "building tree 7 of 40\n",
            "building tree 8 of 40\n",
            "building tree 9 of 40\n",
            "building tree 10 of 40\n",
            "building tree 11 of 40\n",
            "building tree 12 of 40\n",
            "building tree 13 of 40\n",
            "building tree 14 of 40\n",
            "building tree 15 of 40\n",
            "building tree 16 of 40\n",
            "building tree 17 of 40\n",
            "building tree 18 of 40\n",
            "building tree 19 of 40\n",
            "building tree 20 of 40\n",
            "building tree 21 of 40\n",
            "building tree 22 of 40\n",
            "building tree 23 of 40\n",
            "building tree 24 of 40\n",
            "building tree 25 of 40\n",
            "building tree 26 of 40\n",
            "building tree 27 of 40\n",
            "building tree 28 of 40\n",
            "building tree 29 of 40\n",
            "building tree 30 of 40\n",
            "building tree 31 of 40\n",
            "building tree 32 of 40\n",
            "building tree 33 of 40\n",
            "building tree 34 of 40\n",
            "building tree 35 of 40\n",
            "building tree 36 of 40\n",
            "building tree 37 of 40\n",
            "building tree 38 of 40\n",
            "building tree 39 of 40\n",
            "building tree 40 of 40\n"
          ],
          "name": "stdout"
        },
        {
          "output_type": "stream",
          "text": [
            "[Parallel(n_jobs=1)]: Done  40 out of  40 | elapsed:   21.5s finished\n",
            "[Parallel(n_jobs=1)]: Using backend SequentialBackend with 1 concurrent workers.\n",
            "[Parallel(n_jobs=1)]: Done   1 out of   1 | elapsed:    0.0s remaining:    0.0s\n",
            "[Parallel(n_jobs=1)]: Done   2 out of   2 | elapsed:    0.0s remaining:    0.0s\n",
            "[Parallel(n_jobs=1)]: Done  40 out of  40 | elapsed:    0.2s finished\n",
            "[Parallel(n_jobs=1)]: Using backend SequentialBackend with 1 concurrent workers.\n"
          ],
          "name": "stderr"
        },
        {
          "output_type": "stream",
          "text": [
            "building tree 1 of 50\n"
          ],
          "name": "stdout"
        },
        {
          "output_type": "stream",
          "text": [
            "[Parallel(n_jobs=1)]: Done   1 out of   1 | elapsed:    0.6s remaining:    0.0s\n"
          ],
          "name": "stderr"
        },
        {
          "output_type": "stream",
          "text": [
            "building tree 2 of 50\n"
          ],
          "name": "stdout"
        },
        {
          "output_type": "stream",
          "text": [
            "[Parallel(n_jobs=1)]: Done   2 out of   2 | elapsed:    1.0s remaining:    0.0s\n"
          ],
          "name": "stderr"
        },
        {
          "output_type": "stream",
          "text": [
            "building tree 3 of 50\n",
            "building tree 4 of 50\n",
            "building tree 5 of 50\n",
            "building tree 6 of 50\n",
            "building tree 7 of 50\n",
            "building tree 8 of 50\n",
            "building tree 9 of 50\n",
            "building tree 10 of 50\n",
            "building tree 11 of 50\n",
            "building tree 12 of 50\n",
            "building tree 13 of 50\n",
            "building tree 14 of 50\n",
            "building tree 15 of 50\n",
            "building tree 16 of 50\n",
            "building tree 17 of 50\n",
            "building tree 18 of 50\n",
            "building tree 19 of 50\n",
            "building tree 20 of 50\n",
            "building tree 21 of 50\n",
            "building tree 22 of 50\n",
            "building tree 23 of 50\n",
            "building tree 24 of 50\n",
            "building tree 25 of 50\n",
            "building tree 26 of 50\n",
            "building tree 27 of 50\n",
            "building tree 28 of 50\n",
            "building tree 29 of 50\n",
            "building tree 30 of 50\n",
            "building tree 31 of 50\n",
            "building tree 32 of 50\n",
            "building tree 33 of 50\n",
            "building tree 34 of 50\n",
            "building tree 35 of 50\n",
            "building tree 36 of 50\n",
            "building tree 37 of 50\n",
            "building tree 38 of 50\n",
            "building tree 39 of 50\n",
            "building tree 40 of 50\n",
            "building tree 41 of 50\n",
            "building tree 42 of 50\n",
            "building tree 43 of 50\n",
            "building tree 44 of 50\n",
            "building tree 45 of 50\n",
            "building tree 46 of 50\n",
            "building tree 47 of 50\n",
            "building tree 48 of 50\n",
            "building tree 49 of 50\n",
            "building tree 50 of 50\n"
          ],
          "name": "stdout"
        },
        {
          "output_type": "stream",
          "text": [
            "[Parallel(n_jobs=1)]: Done  50 out of  50 | elapsed:   26.6s finished\n",
            "[Parallel(n_jobs=1)]: Using backend SequentialBackend with 1 concurrent workers.\n",
            "[Parallel(n_jobs=1)]: Done   1 out of   1 | elapsed:    0.0s remaining:    0.0s\n",
            "[Parallel(n_jobs=1)]: Done   2 out of   2 | elapsed:    0.0s remaining:    0.0s\n",
            "[Parallel(n_jobs=1)]: Done  50 out of  50 | elapsed:    0.2s finished\n",
            "[Parallel(n_jobs=1)]: Using backend SequentialBackend with 1 concurrent workers.\n"
          ],
          "name": "stderr"
        },
        {
          "output_type": "stream",
          "text": [
            "building tree 1 of 50\n"
          ],
          "name": "stdout"
        },
        {
          "output_type": "stream",
          "text": [
            "[Parallel(n_jobs=1)]: Done   1 out of   1 | elapsed:    0.6s remaining:    0.0s\n"
          ],
          "name": "stderr"
        },
        {
          "output_type": "stream",
          "text": [
            "building tree 2 of 50\n"
          ],
          "name": "stdout"
        },
        {
          "output_type": "stream",
          "text": [
            "[Parallel(n_jobs=1)]: Done   2 out of   2 | elapsed:    1.1s remaining:    0.0s\n"
          ],
          "name": "stderr"
        },
        {
          "output_type": "stream",
          "text": [
            "building tree 3 of 50\n",
            "building tree 4 of 50\n",
            "building tree 5 of 50\n",
            "building tree 6 of 50\n",
            "building tree 7 of 50\n",
            "building tree 8 of 50\n",
            "building tree 9 of 50\n",
            "building tree 10 of 50\n",
            "building tree 11 of 50\n",
            "building tree 12 of 50\n",
            "building tree 13 of 50\n",
            "building tree 14 of 50\n",
            "building tree 15 of 50\n",
            "building tree 16 of 50\n",
            "building tree 17 of 50\n",
            "building tree 18 of 50\n",
            "building tree 19 of 50\n",
            "building tree 20 of 50\n",
            "building tree 21 of 50\n",
            "building tree 22 of 50\n",
            "building tree 23 of 50\n",
            "building tree 24 of 50\n",
            "building tree 25 of 50\n",
            "building tree 26 of 50\n",
            "building tree 27 of 50\n",
            "building tree 28 of 50\n",
            "building tree 29 of 50\n",
            "building tree 30 of 50\n",
            "building tree 31 of 50\n",
            "building tree 32 of 50\n",
            "building tree 33 of 50\n",
            "building tree 34 of 50\n",
            "building tree 35 of 50\n",
            "building tree 36 of 50\n",
            "building tree 37 of 50\n",
            "building tree 38 of 50\n",
            "building tree 39 of 50\n",
            "building tree 40 of 50\n",
            "building tree 41 of 50\n",
            "building tree 42 of 50\n",
            "building tree 43 of 50\n",
            "building tree 44 of 50\n",
            "building tree 45 of 50\n",
            "building tree 46 of 50\n",
            "building tree 47 of 50\n",
            "building tree 48 of 50\n",
            "building tree 49 of 50\n",
            "building tree 50 of 50\n"
          ],
          "name": "stdout"
        },
        {
          "output_type": "stream",
          "text": [
            "[Parallel(n_jobs=1)]: Done  50 out of  50 | elapsed:   26.6s finished\n",
            "[Parallel(n_jobs=1)]: Using backend SequentialBackend with 1 concurrent workers.\n",
            "[Parallel(n_jobs=1)]: Done   1 out of   1 | elapsed:    0.0s remaining:    0.0s\n",
            "[Parallel(n_jobs=1)]: Done   2 out of   2 | elapsed:    0.0s remaining:    0.0s\n",
            "[Parallel(n_jobs=1)]: Done  50 out of  50 | elapsed:    0.3s finished\n",
            "[Parallel(n_jobs=1)]: Using backend SequentialBackend with 1 concurrent workers.\n"
          ],
          "name": "stderr"
        },
        {
          "output_type": "stream",
          "text": [
            "building tree 1 of 50\n"
          ],
          "name": "stdout"
        },
        {
          "output_type": "stream",
          "text": [
            "[Parallel(n_jobs=1)]: Done   1 out of   1 | elapsed:    0.5s remaining:    0.0s\n"
          ],
          "name": "stderr"
        },
        {
          "output_type": "stream",
          "text": [
            "building tree 2 of 50\n"
          ],
          "name": "stdout"
        },
        {
          "output_type": "stream",
          "text": [
            "[Parallel(n_jobs=1)]: Done   2 out of   2 | elapsed:    1.0s remaining:    0.0s\n"
          ],
          "name": "stderr"
        },
        {
          "output_type": "stream",
          "text": [
            "building tree 3 of 50\n",
            "building tree 4 of 50\n",
            "building tree 5 of 50\n",
            "building tree 6 of 50\n",
            "building tree 7 of 50\n",
            "building tree 8 of 50\n",
            "building tree 9 of 50\n",
            "building tree 10 of 50\n",
            "building tree 11 of 50\n",
            "building tree 12 of 50\n",
            "building tree 13 of 50\n",
            "building tree 14 of 50\n",
            "building tree 15 of 50\n",
            "building tree 16 of 50\n",
            "building tree 17 of 50\n",
            "building tree 18 of 50\n",
            "building tree 19 of 50\n",
            "building tree 20 of 50\n",
            "building tree 21 of 50\n",
            "building tree 22 of 50\n",
            "building tree 23 of 50\n",
            "building tree 24 of 50\n",
            "building tree 25 of 50\n",
            "building tree 26 of 50\n",
            "building tree 27 of 50\n",
            "building tree 28 of 50\n",
            "building tree 29 of 50\n",
            "building tree 30 of 50\n",
            "building tree 31 of 50\n",
            "building tree 32 of 50\n",
            "building tree 33 of 50\n",
            "building tree 34 of 50\n",
            "building tree 35 of 50\n",
            "building tree 36 of 50\n",
            "building tree 37 of 50\n",
            "building tree 38 of 50\n",
            "building tree 39 of 50\n",
            "building tree 40 of 50\n",
            "building tree 41 of 50\n",
            "building tree 42 of 50\n",
            "building tree 43 of 50\n",
            "building tree 44 of 50\n",
            "building tree 45 of 50\n",
            "building tree 46 of 50\n",
            "building tree 47 of 50\n",
            "building tree 48 of 50\n",
            "building tree 49 of 50\n",
            "building tree 50 of 50\n"
          ],
          "name": "stdout"
        },
        {
          "output_type": "stream",
          "text": [
            "[Parallel(n_jobs=1)]: Done  50 out of  50 | elapsed:   26.6s finished\n",
            "[Parallel(n_jobs=1)]: Using backend SequentialBackend with 1 concurrent workers.\n",
            "[Parallel(n_jobs=1)]: Done   1 out of   1 | elapsed:    0.0s remaining:    0.0s\n",
            "[Parallel(n_jobs=1)]: Done   2 out of   2 | elapsed:    0.0s remaining:    0.0s\n",
            "[Parallel(n_jobs=1)]: Done  50 out of  50 | elapsed:    0.3s finished\n",
            "[Parallel(n_jobs=1)]: Using backend SequentialBackend with 1 concurrent workers.\n"
          ],
          "name": "stderr"
        },
        {
          "output_type": "stream",
          "text": [
            "building tree 1 of 50\n"
          ],
          "name": "stdout"
        },
        {
          "output_type": "stream",
          "text": [
            "[Parallel(n_jobs=1)]: Done   1 out of   1 | elapsed:    0.5s remaining:    0.0s\n"
          ],
          "name": "stderr"
        },
        {
          "output_type": "stream",
          "text": [
            "building tree 2 of 50\n"
          ],
          "name": "stdout"
        },
        {
          "output_type": "stream",
          "text": [
            "[Parallel(n_jobs=1)]: Done   2 out of   2 | elapsed:    1.0s remaining:    0.0s\n"
          ],
          "name": "stderr"
        },
        {
          "output_type": "stream",
          "text": [
            "building tree 3 of 50\n",
            "building tree 4 of 50\n",
            "building tree 5 of 50\n",
            "building tree 6 of 50\n",
            "building tree 7 of 50\n",
            "building tree 8 of 50\n",
            "building tree 9 of 50\n",
            "building tree 10 of 50\n",
            "building tree 11 of 50\n",
            "building tree 12 of 50\n",
            "building tree 13 of 50\n",
            "building tree 14 of 50\n",
            "building tree 15 of 50\n",
            "building tree 16 of 50\n",
            "building tree 17 of 50\n",
            "building tree 18 of 50\n",
            "building tree 19 of 50\n",
            "building tree 20 of 50\n",
            "building tree 21 of 50\n",
            "building tree 22 of 50\n",
            "building tree 23 of 50\n",
            "building tree 24 of 50\n",
            "building tree 25 of 50\n",
            "building tree 26 of 50\n",
            "building tree 27 of 50\n",
            "building tree 28 of 50\n",
            "building tree 29 of 50\n",
            "building tree 30 of 50\n",
            "building tree 31 of 50\n",
            "building tree 32 of 50\n",
            "building tree 33 of 50\n",
            "building tree 34 of 50\n",
            "building tree 35 of 50\n",
            "building tree 36 of 50\n",
            "building tree 37 of 50\n",
            "building tree 38 of 50\n",
            "building tree 39 of 50\n",
            "building tree 40 of 50\n",
            "building tree 41 of 50\n",
            "building tree 42 of 50\n",
            "building tree 43 of 50\n",
            "building tree 44 of 50\n",
            "building tree 45 of 50\n",
            "building tree 46 of 50\n",
            "building tree 47 of 50\n",
            "building tree 48 of 50\n",
            "building tree 49 of 50\n",
            "building tree 50 of 50\n"
          ],
          "name": "stdout"
        },
        {
          "output_type": "stream",
          "text": [
            "[Parallel(n_jobs=1)]: Done  50 out of  50 | elapsed:   26.8s finished\n",
            "[Parallel(n_jobs=1)]: Using backend SequentialBackend with 1 concurrent workers.\n",
            "[Parallel(n_jobs=1)]: Done   1 out of   1 | elapsed:    0.0s remaining:    0.0s\n",
            "[Parallel(n_jobs=1)]: Done   2 out of   2 | elapsed:    0.0s remaining:    0.0s\n",
            "[Parallel(n_jobs=1)]: Done  50 out of  50 | elapsed:    0.3s finished\n",
            "[Parallel(n_jobs=1)]: Using backend SequentialBackend with 1 concurrent workers.\n"
          ],
          "name": "stderr"
        },
        {
          "output_type": "stream",
          "text": [
            "building tree 1 of 50\n"
          ],
          "name": "stdout"
        },
        {
          "output_type": "stream",
          "text": [
            "[Parallel(n_jobs=1)]: Done   1 out of   1 | elapsed:    0.6s remaining:    0.0s\n"
          ],
          "name": "stderr"
        },
        {
          "output_type": "stream",
          "text": [
            "building tree 2 of 50\n"
          ],
          "name": "stdout"
        },
        {
          "output_type": "stream",
          "text": [
            "[Parallel(n_jobs=1)]: Done   2 out of   2 | elapsed:    1.1s remaining:    0.0s\n"
          ],
          "name": "stderr"
        },
        {
          "output_type": "stream",
          "text": [
            "building tree 3 of 50\n",
            "building tree 4 of 50\n",
            "building tree 5 of 50\n",
            "building tree 6 of 50\n",
            "building tree 7 of 50\n",
            "building tree 8 of 50\n",
            "building tree 9 of 50\n",
            "building tree 10 of 50\n",
            "building tree 11 of 50\n",
            "building tree 12 of 50\n",
            "building tree 13 of 50\n",
            "building tree 14 of 50\n",
            "building tree 15 of 50\n",
            "building tree 16 of 50\n",
            "building tree 17 of 50\n",
            "building tree 18 of 50\n",
            "building tree 19 of 50\n",
            "building tree 20 of 50\n",
            "building tree 21 of 50\n",
            "building tree 22 of 50\n",
            "building tree 23 of 50\n",
            "building tree 24 of 50\n",
            "building tree 25 of 50\n",
            "building tree 26 of 50\n",
            "building tree 27 of 50\n",
            "building tree 28 of 50\n",
            "building tree 29 of 50\n",
            "building tree 30 of 50\n",
            "building tree 31 of 50\n",
            "building tree 32 of 50\n",
            "building tree 33 of 50\n",
            "building tree 34 of 50\n",
            "building tree 35 of 50\n",
            "building tree 36 of 50\n",
            "building tree 37 of 50\n",
            "building tree 38 of 50\n",
            "building tree 39 of 50\n",
            "building tree 40 of 50\n",
            "building tree 41 of 50\n",
            "building tree 42 of 50\n",
            "building tree 43 of 50\n",
            "building tree 44 of 50\n",
            "building tree 45 of 50\n",
            "building tree 46 of 50\n",
            "building tree 47 of 50\n",
            "building tree 48 of 50\n",
            "building tree 49 of 50\n",
            "building tree 50 of 50\n"
          ],
          "name": "stdout"
        },
        {
          "output_type": "stream",
          "text": [
            "[Parallel(n_jobs=1)]: Done  50 out of  50 | elapsed:   27.2s finished\n",
            "[Parallel(n_jobs=1)]: Using backend SequentialBackend with 1 concurrent workers.\n",
            "[Parallel(n_jobs=1)]: Done   1 out of   1 | elapsed:    0.0s remaining:    0.0s\n",
            "[Parallel(n_jobs=1)]: Done   2 out of   2 | elapsed:    0.0s remaining:    0.0s\n",
            "[Parallel(n_jobs=1)]: Done  50 out of  50 | elapsed:    0.3s finished\n",
            "/usr/local/lib/python3.6/dist-packages/sklearn/model_selection/_search.py:823: FutureWarning: The parameter 'iid' is deprecated in 0.22 and will be removed in 0.24.\n",
            "  \"removed in 0.24.\", FutureWarning\n",
            "[Parallel(n_jobs=1)]: Using backend SequentialBackend with 1 concurrent workers.\n"
          ],
          "name": "stderr"
        },
        {
          "output_type": "stream",
          "text": [
            "building tree 1 of 50\n"
          ],
          "name": "stdout"
        },
        {
          "output_type": "stream",
          "text": [
            "[Parallel(n_jobs=1)]: Done   1 out of   1 | elapsed:    0.3s remaining:    0.0s\n"
          ],
          "name": "stderr"
        },
        {
          "output_type": "stream",
          "text": [
            "building tree 2 of 50\n"
          ],
          "name": "stdout"
        },
        {
          "output_type": "stream",
          "text": [
            "[Parallel(n_jobs=1)]: Done   2 out of   2 | elapsed:    0.6s remaining:    0.0s\n"
          ],
          "name": "stderr"
        },
        {
          "output_type": "stream",
          "text": [
            "building tree 3 of 50\n",
            "building tree 4 of 50\n",
            "building tree 5 of 50\n",
            "building tree 6 of 50\n",
            "building tree 7 of 50\n",
            "building tree 8 of 50\n",
            "building tree 9 of 50\n",
            "building tree 10 of 50\n",
            "building tree 11 of 50\n",
            "building tree 12 of 50\n",
            "building tree 13 of 50\n",
            "building tree 14 of 50\n",
            "building tree 15 of 50\n",
            "building tree 16 of 50\n",
            "building tree 17 of 50\n",
            "building tree 18 of 50\n",
            "building tree 19 of 50\n",
            "building tree 20 of 50\n",
            "building tree 21 of 50\n",
            "building tree 22 of 50\n",
            "building tree 23 of 50\n",
            "building tree 24 of 50\n",
            "building tree 25 of 50\n",
            "building tree 26 of 50\n",
            "building tree 27 of 50\n",
            "building tree 28 of 50\n",
            "building tree 29 of 50\n",
            "building tree 30 of 50\n",
            "building tree 31 of 50\n",
            "building tree 32 of 50\n",
            "building tree 33 of 50\n",
            "building tree 34 of 50\n",
            "building tree 35 of 50\n",
            "building tree 36 of 50\n",
            "building tree 37 of 50\n",
            "building tree 38 of 50\n",
            "building tree 39 of 50\n",
            "building tree 40 of 50\n",
            "building tree 41 of 50\n",
            "building tree 42 of 50\n",
            "building tree 43 of 50\n",
            "building tree 44 of 50\n",
            "building tree 45 of 50\n",
            "building tree 46 of 50\n",
            "building tree 47 of 50\n",
            "building tree 48 of 50\n",
            "building tree 49 of 50\n",
            "building tree 50 of 50\n"
          ],
          "name": "stdout"
        },
        {
          "output_type": "stream",
          "text": [
            "[Parallel(n_jobs=1)]: Done  50 out of  50 | elapsed:   14.8s finished\n"
          ],
          "name": "stderr"
        },
        {
          "output_type": "execute_result",
          "data": {
            "text/plain": [
              "GridSearchCV(cv=5, error_score=nan,\n",
              "             estimator=RandomForestClassifier(bootstrap=True, ccp_alpha=0.0,\n",
              "                                              class_weight=None,\n",
              "                                              criterion='gini', max_depth=None,\n",
              "                                              max_features='auto',\n",
              "                                              max_leaf_nodes=None,\n",
              "                                              max_samples=None,\n",
              "                                              min_impurity_decrease=0.0,\n",
              "                                              min_impurity_split=None,\n",
              "                                              min_samples_leaf=1,\n",
              "                                              min_samples_split=2,\n",
              "                                              min_weight_fraction_leaf=0.0,\n",
              "                                              n_estimators=100, n_jobs=None,\n",
              "                                              oob_score=False, random_state=42,\n",
              "                                              verbose=3, warm_start=False),\n",
              "             iid=False, n_jobs=None,\n",
              "             param_grid={'n_estimators': [5, 10, 20, 30, 40, 50]},\n",
              "             pre_dispatch='2*n_jobs', refit=True, return_train_score=False,\n",
              "             scoring='roc_auc', verbose=0)"
            ]
          },
          "metadata": {
            "tags": []
          },
          "execution_count": 23
        }
      ]
    },
    {
      "cell_type": "code",
      "metadata": {
        "id": "CdeOAr11Os7N",
        "colab_type": "code",
        "colab": {
          "base_uri": "https://localhost:8080/",
          "height": 34
        },
        "outputId": "11778038-08dc-409e-a7fc-d32a1d97d439"
      },
      "source": [
        "grid_search.best_params_"
      ],
      "execution_count": 24,
      "outputs": [
        {
          "output_type": "execute_result",
          "data": {
            "text/plain": [
              "{'n_estimators': 50}"
            ]
          },
          "metadata": {
            "tags": []
          },
          "execution_count": 24
        }
      ]
    },
    {
      "cell_type": "code",
      "metadata": {
        "id": "6cQYWlXwOs7d",
        "colab_type": "code",
        "colab": {}
      },
      "source": [
        "random_forest_refined = RandomForestClassifier(random_state=random_state, n_estimators=50)"
      ],
      "execution_count": 0,
      "outputs": []
    },
    {
      "cell_type": "code",
      "metadata": {
        "id": "o2ScEb5vOs7j",
        "colab_type": "code",
        "colab": {
          "base_uri": "https://localhost:8080/",
          "height": 170
        },
        "outputId": "eb3f2546-099f-4240-d1c4-709602547c0d"
      },
      "source": [
        "display_models([(random_forest_refined, 'Random Forest Refinement 1')])"
      ],
      "execution_count": 26,
      "outputs": [
        {
          "output_type": "stream",
          "text": [
            "-------------------\n",
            "Random Forest Refinement 1:\n",
            "Single AUC score:  0.9978701824603536\n",
            "--- Cross validation scores ---\n",
            "Scores:  [0.86019333 0.8061495  0.79568647 0.86166684 0.83640291 0.88720567\n",
            " 0.86319168 0.86765583 0.87152526 0.85882639]\n",
            "Mean:  0.8508503876287425\n",
            "Std:  0.027752020898586943\n",
            "-------------------\n"
          ],
          "name": "stdout"
        }
      ]
    },
    {
      "cell_type": "code",
      "metadata": {
        "id": "4yDx3oekOs9k",
        "colab_type": "code",
        "colab": {}
      },
      "source": [
        "param_rf = {'min_samples_split':[2, 5, 10]}\n",
        "grid_search = GridSearchCV(estimator = RandomForestClassifier(random_state=random_state, n_estimators=50, verbose=3), \n",
        "    param_grid = param_rf, scoring='roc_auc',iid=False, cv=5)"
      ],
      "execution_count": 0,
      "outputs": []
    },
    {
      "cell_type": "code",
      "metadata": {
        "id": "jVVAwbRVOs9y",
        "colab_type": "code",
        "colab": {
          "base_uri": "https://localhost:8080/",
          "height": 1000
        },
        "outputId": "f30eaf32-1359-4a12-c2db-fd5a9efbb8b6"
      },
      "source": [
        "grid_search.fit(access_1hot, access_labels)"
      ],
      "execution_count": 28,
      "outputs": [
        {
          "output_type": "stream",
          "text": [
            "building tree 1 of 50\n"
          ],
          "name": "stdout"
        },
        {
          "output_type": "stream",
          "text": [
            "[Parallel(n_jobs=1)]: Using backend SequentialBackend with 1 concurrent workers.\n",
            "[Parallel(n_jobs=1)]: Done   1 out of   1 | elapsed:    0.6s remaining:    0.0s\n"
          ],
          "name": "stderr"
        },
        {
          "output_type": "stream",
          "text": [
            "building tree 2 of 50\n"
          ],
          "name": "stdout"
        },
        {
          "output_type": "stream",
          "text": [
            "[Parallel(n_jobs=1)]: Done   2 out of   2 | elapsed:    1.0s remaining:    0.0s\n"
          ],
          "name": "stderr"
        },
        {
          "output_type": "stream",
          "text": [
            "building tree 3 of 50\n",
            "building tree 4 of 50\n",
            "building tree 5 of 50\n",
            "building tree 6 of 50\n",
            "building tree 7 of 50\n",
            "building tree 8 of 50\n",
            "building tree 9 of 50\n",
            "building tree 10 of 50\n",
            "building tree 11 of 50\n",
            "building tree 12 of 50\n",
            "building tree 13 of 50\n",
            "building tree 14 of 50\n",
            "building tree 15 of 50\n",
            "building tree 16 of 50\n",
            "building tree 17 of 50\n",
            "building tree 18 of 50\n",
            "building tree 19 of 50\n",
            "building tree 20 of 50\n",
            "building tree 21 of 50\n",
            "building tree 22 of 50\n",
            "building tree 23 of 50\n",
            "building tree 24 of 50\n",
            "building tree 25 of 50\n",
            "building tree 26 of 50\n",
            "building tree 27 of 50\n",
            "building tree 28 of 50\n",
            "building tree 29 of 50\n",
            "building tree 30 of 50\n",
            "building tree 31 of 50\n",
            "building tree 32 of 50\n",
            "building tree 33 of 50\n",
            "building tree 34 of 50\n",
            "building tree 35 of 50\n",
            "building tree 36 of 50\n",
            "building tree 37 of 50\n",
            "building tree 38 of 50\n",
            "building tree 39 of 50\n",
            "building tree 40 of 50\n",
            "building tree 41 of 50\n",
            "building tree 42 of 50\n",
            "building tree 43 of 50\n",
            "building tree 44 of 50\n",
            "building tree 45 of 50\n",
            "building tree 46 of 50\n",
            "building tree 47 of 50\n",
            "building tree 48 of 50\n",
            "building tree 49 of 50\n",
            "building tree 50 of 50\n"
          ],
          "name": "stdout"
        },
        {
          "output_type": "stream",
          "text": [
            "[Parallel(n_jobs=1)]: Done  50 out of  50 | elapsed:   26.6s finished\n",
            "[Parallel(n_jobs=1)]: Using backend SequentialBackend with 1 concurrent workers.\n",
            "[Parallel(n_jobs=1)]: Done   1 out of   1 | elapsed:    0.0s remaining:    0.0s\n",
            "[Parallel(n_jobs=1)]: Done   2 out of   2 | elapsed:    0.0s remaining:    0.0s\n",
            "[Parallel(n_jobs=1)]: Done  50 out of  50 | elapsed:    0.2s finished\n",
            "[Parallel(n_jobs=1)]: Using backend SequentialBackend with 1 concurrent workers.\n"
          ],
          "name": "stderr"
        },
        {
          "output_type": "stream",
          "text": [
            "building tree 1 of 50\n"
          ],
          "name": "stdout"
        },
        {
          "output_type": "stream",
          "text": [
            "[Parallel(n_jobs=1)]: Done   1 out of   1 | elapsed:    0.6s remaining:    0.0s\n"
          ],
          "name": "stderr"
        },
        {
          "output_type": "stream",
          "text": [
            "building tree 2 of 50\n"
          ],
          "name": "stdout"
        },
        {
          "output_type": "stream",
          "text": [
            "[Parallel(n_jobs=1)]: Done   2 out of   2 | elapsed:    1.1s remaining:    0.0s\n"
          ],
          "name": "stderr"
        },
        {
          "output_type": "stream",
          "text": [
            "building tree 3 of 50\n",
            "building tree 4 of 50\n",
            "building tree 5 of 50\n",
            "building tree 6 of 50\n",
            "building tree 7 of 50\n",
            "building tree 8 of 50\n",
            "building tree 9 of 50\n",
            "building tree 10 of 50\n",
            "building tree 11 of 50\n",
            "building tree 12 of 50\n",
            "building tree 13 of 50\n",
            "building tree 14 of 50\n",
            "building tree 15 of 50\n",
            "building tree 16 of 50\n",
            "building tree 17 of 50\n",
            "building tree 18 of 50\n",
            "building tree 19 of 50\n",
            "building tree 20 of 50\n",
            "building tree 21 of 50\n",
            "building tree 22 of 50\n",
            "building tree 23 of 50\n",
            "building tree 24 of 50\n",
            "building tree 25 of 50\n",
            "building tree 26 of 50\n",
            "building tree 27 of 50\n",
            "building tree 28 of 50\n",
            "building tree 29 of 50\n",
            "building tree 30 of 50\n",
            "building tree 31 of 50\n",
            "building tree 32 of 50\n",
            "building tree 33 of 50\n",
            "building tree 34 of 50\n",
            "building tree 35 of 50\n",
            "building tree 36 of 50\n",
            "building tree 37 of 50\n",
            "building tree 38 of 50\n",
            "building tree 39 of 50\n",
            "building tree 40 of 50\n",
            "building tree 41 of 50\n",
            "building tree 42 of 50\n",
            "building tree 43 of 50\n",
            "building tree 44 of 50\n",
            "building tree 45 of 50\n",
            "building tree 46 of 50\n",
            "building tree 47 of 50\n",
            "building tree 48 of 50\n",
            "building tree 49 of 50\n",
            "building tree 50 of 50\n"
          ],
          "name": "stdout"
        },
        {
          "output_type": "stream",
          "text": [
            "[Parallel(n_jobs=1)]: Done  50 out of  50 | elapsed:   26.7s finished\n",
            "[Parallel(n_jobs=1)]: Using backend SequentialBackend with 1 concurrent workers.\n",
            "[Parallel(n_jobs=1)]: Done   1 out of   1 | elapsed:    0.0s remaining:    0.0s\n",
            "[Parallel(n_jobs=1)]: Done   2 out of   2 | elapsed:    0.0s remaining:    0.0s\n",
            "[Parallel(n_jobs=1)]: Done  50 out of  50 | elapsed:    0.3s finished\n",
            "[Parallel(n_jobs=1)]: Using backend SequentialBackend with 1 concurrent workers.\n"
          ],
          "name": "stderr"
        },
        {
          "output_type": "stream",
          "text": [
            "building tree 1 of 50\n"
          ],
          "name": "stdout"
        },
        {
          "output_type": "stream",
          "text": [
            "[Parallel(n_jobs=1)]: Done   1 out of   1 | elapsed:    0.5s remaining:    0.0s\n"
          ],
          "name": "stderr"
        },
        {
          "output_type": "stream",
          "text": [
            "building tree 2 of 50\n"
          ],
          "name": "stdout"
        },
        {
          "output_type": "stream",
          "text": [
            "[Parallel(n_jobs=1)]: Done   2 out of   2 | elapsed:    1.0s remaining:    0.0s\n"
          ],
          "name": "stderr"
        },
        {
          "output_type": "stream",
          "text": [
            "building tree 3 of 50\n",
            "building tree 4 of 50\n",
            "building tree 5 of 50\n",
            "building tree 6 of 50\n",
            "building tree 7 of 50\n",
            "building tree 8 of 50\n",
            "building tree 9 of 50\n",
            "building tree 10 of 50\n",
            "building tree 11 of 50\n",
            "building tree 12 of 50\n",
            "building tree 13 of 50\n",
            "building tree 14 of 50\n",
            "building tree 15 of 50\n",
            "building tree 16 of 50\n",
            "building tree 17 of 50\n",
            "building tree 18 of 50\n",
            "building tree 19 of 50\n",
            "building tree 20 of 50\n",
            "building tree 21 of 50\n",
            "building tree 22 of 50\n",
            "building tree 23 of 50\n",
            "building tree 24 of 50\n",
            "building tree 25 of 50\n",
            "building tree 26 of 50\n",
            "building tree 27 of 50\n",
            "building tree 28 of 50\n",
            "building tree 29 of 50\n",
            "building tree 30 of 50\n",
            "building tree 31 of 50\n",
            "building tree 32 of 50\n",
            "building tree 33 of 50\n",
            "building tree 34 of 50\n",
            "building tree 35 of 50\n",
            "building tree 36 of 50\n",
            "building tree 37 of 50\n",
            "building tree 38 of 50\n",
            "building tree 39 of 50\n",
            "building tree 40 of 50\n",
            "building tree 41 of 50\n",
            "building tree 42 of 50\n",
            "building tree 43 of 50\n",
            "building tree 44 of 50\n",
            "building tree 45 of 50\n",
            "building tree 46 of 50\n",
            "building tree 47 of 50\n",
            "building tree 48 of 50\n",
            "building tree 49 of 50\n",
            "building tree 50 of 50\n"
          ],
          "name": "stdout"
        },
        {
          "output_type": "stream",
          "text": [
            "[Parallel(n_jobs=1)]: Done  50 out of  50 | elapsed:   26.6s finished\n",
            "[Parallel(n_jobs=1)]: Using backend SequentialBackend with 1 concurrent workers.\n",
            "[Parallel(n_jobs=1)]: Done   1 out of   1 | elapsed:    0.0s remaining:    0.0s\n",
            "[Parallel(n_jobs=1)]: Done   2 out of   2 | elapsed:    0.0s remaining:    0.0s\n",
            "[Parallel(n_jobs=1)]: Done  50 out of  50 | elapsed:    0.3s finished\n",
            "[Parallel(n_jobs=1)]: Using backend SequentialBackend with 1 concurrent workers.\n"
          ],
          "name": "stderr"
        },
        {
          "output_type": "stream",
          "text": [
            "building tree 1 of 50\n"
          ],
          "name": "stdout"
        },
        {
          "output_type": "stream",
          "text": [
            "[Parallel(n_jobs=1)]: Done   1 out of   1 | elapsed:    0.5s remaining:    0.0s\n"
          ],
          "name": "stderr"
        },
        {
          "output_type": "stream",
          "text": [
            "building tree 2 of 50\n"
          ],
          "name": "stdout"
        },
        {
          "output_type": "stream",
          "text": [
            "[Parallel(n_jobs=1)]: Done   2 out of   2 | elapsed:    1.0s remaining:    0.0s\n"
          ],
          "name": "stderr"
        },
        {
          "output_type": "stream",
          "text": [
            "building tree 3 of 50\n",
            "building tree 4 of 50\n",
            "building tree 5 of 50\n",
            "building tree 6 of 50\n",
            "building tree 7 of 50\n",
            "building tree 8 of 50\n",
            "building tree 9 of 50\n",
            "building tree 10 of 50\n",
            "building tree 11 of 50\n",
            "building tree 12 of 50\n",
            "building tree 13 of 50\n",
            "building tree 14 of 50\n",
            "building tree 15 of 50\n",
            "building tree 16 of 50\n",
            "building tree 17 of 50\n",
            "building tree 18 of 50\n",
            "building tree 19 of 50\n",
            "building tree 20 of 50\n",
            "building tree 21 of 50\n",
            "building tree 22 of 50\n",
            "building tree 23 of 50\n",
            "building tree 24 of 50\n",
            "building tree 25 of 50\n",
            "building tree 26 of 50\n",
            "building tree 27 of 50\n",
            "building tree 28 of 50\n",
            "building tree 29 of 50\n",
            "building tree 30 of 50\n",
            "building tree 31 of 50\n",
            "building tree 32 of 50\n",
            "building tree 33 of 50\n",
            "building tree 34 of 50\n",
            "building tree 35 of 50\n",
            "building tree 36 of 50\n",
            "building tree 37 of 50\n",
            "building tree 38 of 50\n",
            "building tree 39 of 50\n",
            "building tree 40 of 50\n",
            "building tree 41 of 50\n",
            "building tree 42 of 50\n",
            "building tree 43 of 50\n",
            "building tree 44 of 50\n",
            "building tree 45 of 50\n",
            "building tree 46 of 50\n",
            "building tree 47 of 50\n",
            "building tree 48 of 50\n",
            "building tree 49 of 50\n",
            "building tree 50 of 50\n"
          ],
          "name": "stdout"
        },
        {
          "output_type": "stream",
          "text": [
            "[Parallel(n_jobs=1)]: Done  50 out of  50 | elapsed:   26.8s finished\n",
            "[Parallel(n_jobs=1)]: Using backend SequentialBackend with 1 concurrent workers.\n",
            "[Parallel(n_jobs=1)]: Done   1 out of   1 | elapsed:    0.0s remaining:    0.0s\n",
            "[Parallel(n_jobs=1)]: Done   2 out of   2 | elapsed:    0.0s remaining:    0.0s\n",
            "[Parallel(n_jobs=1)]: Done  50 out of  50 | elapsed:    0.3s finished\n",
            "[Parallel(n_jobs=1)]: Using backend SequentialBackend with 1 concurrent workers.\n"
          ],
          "name": "stderr"
        },
        {
          "output_type": "stream",
          "text": [
            "building tree 1 of 50\n"
          ],
          "name": "stdout"
        },
        {
          "output_type": "stream",
          "text": [
            "[Parallel(n_jobs=1)]: Done   1 out of   1 | elapsed:    0.6s remaining:    0.0s\n"
          ],
          "name": "stderr"
        },
        {
          "output_type": "stream",
          "text": [
            "building tree 2 of 50\n"
          ],
          "name": "stdout"
        },
        {
          "output_type": "stream",
          "text": [
            "[Parallel(n_jobs=1)]: Done   2 out of   2 | elapsed:    1.1s remaining:    0.0s\n"
          ],
          "name": "stderr"
        },
        {
          "output_type": "stream",
          "text": [
            "building tree 3 of 50\n",
            "building tree 4 of 50\n",
            "building tree 5 of 50\n",
            "building tree 6 of 50\n",
            "building tree 7 of 50\n",
            "building tree 8 of 50\n",
            "building tree 9 of 50\n",
            "building tree 10 of 50\n",
            "building tree 11 of 50\n",
            "building tree 12 of 50\n",
            "building tree 13 of 50\n",
            "building tree 14 of 50\n",
            "building tree 15 of 50\n",
            "building tree 16 of 50\n",
            "building tree 17 of 50\n",
            "building tree 18 of 50\n",
            "building tree 19 of 50\n",
            "building tree 20 of 50\n",
            "building tree 21 of 50\n",
            "building tree 22 of 50\n",
            "building tree 23 of 50\n",
            "building tree 24 of 50\n",
            "building tree 25 of 50\n",
            "building tree 26 of 50\n",
            "building tree 27 of 50\n",
            "building tree 28 of 50\n",
            "building tree 29 of 50\n",
            "building tree 30 of 50\n",
            "building tree 31 of 50\n",
            "building tree 32 of 50\n",
            "building tree 33 of 50\n",
            "building tree 34 of 50\n",
            "building tree 35 of 50\n",
            "building tree 36 of 50\n",
            "building tree 37 of 50\n",
            "building tree 38 of 50\n",
            "building tree 39 of 50\n",
            "building tree 40 of 50\n",
            "building tree 41 of 50\n",
            "building tree 42 of 50\n",
            "building tree 43 of 50\n",
            "building tree 44 of 50\n",
            "building tree 45 of 50\n",
            "building tree 46 of 50\n",
            "building tree 47 of 50\n",
            "building tree 48 of 50\n",
            "building tree 49 of 50\n",
            "building tree 50 of 50\n"
          ],
          "name": "stdout"
        },
        {
          "output_type": "stream",
          "text": [
            "[Parallel(n_jobs=1)]: Done  50 out of  50 | elapsed:   27.2s finished\n",
            "[Parallel(n_jobs=1)]: Using backend SequentialBackend with 1 concurrent workers.\n",
            "[Parallel(n_jobs=1)]: Done   1 out of   1 | elapsed:    0.0s remaining:    0.0s\n",
            "[Parallel(n_jobs=1)]: Done   2 out of   2 | elapsed:    0.0s remaining:    0.0s\n",
            "[Parallel(n_jobs=1)]: Done  50 out of  50 | elapsed:    0.3s finished\n",
            "[Parallel(n_jobs=1)]: Using backend SequentialBackend with 1 concurrent workers.\n"
          ],
          "name": "stderr"
        },
        {
          "output_type": "stream",
          "text": [
            "building tree 1 of 50\n"
          ],
          "name": "stdout"
        },
        {
          "output_type": "stream",
          "text": [
            "[Parallel(n_jobs=1)]: Done   1 out of   1 | elapsed:    0.5s remaining:    0.0s\n"
          ],
          "name": "stderr"
        },
        {
          "output_type": "stream",
          "text": [
            "building tree 2 of 50\n"
          ],
          "name": "stdout"
        },
        {
          "output_type": "stream",
          "text": [
            "[Parallel(n_jobs=1)]: Done   2 out of   2 | elapsed:    0.8s remaining:    0.0s\n"
          ],
          "name": "stderr"
        },
        {
          "output_type": "stream",
          "text": [
            "building tree 3 of 50\n",
            "building tree 4 of 50\n",
            "building tree 5 of 50\n",
            "building tree 6 of 50\n",
            "building tree 7 of 50\n",
            "building tree 8 of 50\n",
            "building tree 9 of 50\n",
            "building tree 10 of 50\n",
            "building tree 11 of 50\n",
            "building tree 12 of 50\n",
            "building tree 13 of 50\n",
            "building tree 14 of 50\n",
            "building tree 15 of 50\n",
            "building tree 16 of 50\n",
            "building tree 17 of 50\n",
            "building tree 18 of 50\n",
            "building tree 19 of 50\n",
            "building tree 20 of 50\n",
            "building tree 21 of 50\n",
            "building tree 22 of 50\n",
            "building tree 23 of 50\n",
            "building tree 24 of 50\n",
            "building tree 25 of 50\n",
            "building tree 26 of 50\n",
            "building tree 27 of 50\n",
            "building tree 28 of 50\n",
            "building tree 29 of 50\n",
            "building tree 30 of 50\n",
            "building tree 31 of 50\n",
            "building tree 32 of 50\n",
            "building tree 33 of 50\n",
            "building tree 34 of 50\n",
            "building tree 35 of 50\n",
            "building tree 36 of 50\n",
            "building tree 37 of 50\n",
            "building tree 38 of 50\n",
            "building tree 39 of 50\n",
            "building tree 40 of 50\n",
            "building tree 41 of 50\n",
            "building tree 42 of 50\n",
            "building tree 43 of 50\n",
            "building tree 44 of 50\n",
            "building tree 45 of 50\n",
            "building tree 46 of 50\n",
            "building tree 47 of 50\n",
            "building tree 48 of 50\n",
            "building tree 49 of 50\n",
            "building tree 50 of 50\n"
          ],
          "name": "stdout"
        },
        {
          "output_type": "stream",
          "text": [
            "[Parallel(n_jobs=1)]: Done  50 out of  50 | elapsed:   21.3s finished\n",
            "[Parallel(n_jobs=1)]: Using backend SequentialBackend with 1 concurrent workers.\n",
            "[Parallel(n_jobs=1)]: Done   1 out of   1 | elapsed:    0.0s remaining:    0.0s\n",
            "[Parallel(n_jobs=1)]: Done   2 out of   2 | elapsed:    0.0s remaining:    0.0s\n",
            "[Parallel(n_jobs=1)]: Done  50 out of  50 | elapsed:    0.3s finished\n",
            "[Parallel(n_jobs=1)]: Using backend SequentialBackend with 1 concurrent workers.\n"
          ],
          "name": "stderr"
        },
        {
          "output_type": "stream",
          "text": [
            "building tree 1 of 50\n"
          ],
          "name": "stdout"
        },
        {
          "output_type": "stream",
          "text": [
            "[Parallel(n_jobs=1)]: Done   1 out of   1 | elapsed:    0.5s remaining:    0.0s\n"
          ],
          "name": "stderr"
        },
        {
          "output_type": "stream",
          "text": [
            "building tree 2 of 50\n"
          ],
          "name": "stdout"
        },
        {
          "output_type": "stream",
          "text": [
            "[Parallel(n_jobs=1)]: Done   2 out of   2 | elapsed:    0.9s remaining:    0.0s\n"
          ],
          "name": "stderr"
        },
        {
          "output_type": "stream",
          "text": [
            "building tree 3 of 50\n",
            "building tree 4 of 50\n",
            "building tree 5 of 50\n",
            "building tree 6 of 50\n",
            "building tree 7 of 50\n",
            "building tree 8 of 50\n",
            "building tree 9 of 50\n",
            "building tree 10 of 50\n",
            "building tree 11 of 50\n",
            "building tree 12 of 50\n",
            "building tree 13 of 50\n",
            "building tree 14 of 50\n",
            "building tree 15 of 50\n",
            "building tree 16 of 50\n",
            "building tree 17 of 50\n",
            "building tree 18 of 50\n",
            "building tree 19 of 50\n",
            "building tree 20 of 50\n",
            "building tree 21 of 50\n",
            "building tree 22 of 50\n",
            "building tree 23 of 50\n",
            "building tree 24 of 50\n",
            "building tree 25 of 50\n",
            "building tree 26 of 50\n",
            "building tree 27 of 50\n",
            "building tree 28 of 50\n",
            "building tree 29 of 50\n",
            "building tree 30 of 50\n",
            "building tree 31 of 50\n",
            "building tree 32 of 50\n",
            "building tree 33 of 50\n",
            "building tree 34 of 50\n",
            "building tree 35 of 50\n",
            "building tree 36 of 50\n",
            "building tree 37 of 50\n",
            "building tree 38 of 50\n",
            "building tree 39 of 50\n",
            "building tree 40 of 50\n",
            "building tree 41 of 50\n",
            "building tree 42 of 50\n",
            "building tree 43 of 50\n",
            "building tree 44 of 50\n",
            "building tree 45 of 50\n",
            "building tree 46 of 50\n",
            "building tree 47 of 50\n",
            "building tree 48 of 50\n",
            "building tree 49 of 50\n",
            "building tree 50 of 50\n"
          ],
          "name": "stdout"
        },
        {
          "output_type": "stream",
          "text": [
            "[Parallel(n_jobs=1)]: Done  50 out of  50 | elapsed:   21.1s finished\n",
            "[Parallel(n_jobs=1)]: Using backend SequentialBackend with 1 concurrent workers.\n",
            "[Parallel(n_jobs=1)]: Done   1 out of   1 | elapsed:    0.0s remaining:    0.0s\n",
            "[Parallel(n_jobs=1)]: Done   2 out of   2 | elapsed:    0.0s remaining:    0.0s\n",
            "[Parallel(n_jobs=1)]: Done  50 out of  50 | elapsed:    0.3s finished\n",
            "[Parallel(n_jobs=1)]: Using backend SequentialBackend with 1 concurrent workers.\n"
          ],
          "name": "stderr"
        },
        {
          "output_type": "stream",
          "text": [
            "building tree 1 of 50\n"
          ],
          "name": "stdout"
        },
        {
          "output_type": "stream",
          "text": [
            "[Parallel(n_jobs=1)]: Done   1 out of   1 | elapsed:    0.4s remaining:    0.0s\n"
          ],
          "name": "stderr"
        },
        {
          "output_type": "stream",
          "text": [
            "building tree 2 of 50\n"
          ],
          "name": "stdout"
        },
        {
          "output_type": "stream",
          "text": [
            "[Parallel(n_jobs=1)]: Done   2 out of   2 | elapsed:    0.8s remaining:    0.0s\n"
          ],
          "name": "stderr"
        },
        {
          "output_type": "stream",
          "text": [
            "building tree 3 of 50\n",
            "building tree 4 of 50\n",
            "building tree 5 of 50\n",
            "building tree 6 of 50\n",
            "building tree 7 of 50\n",
            "building tree 8 of 50\n",
            "building tree 9 of 50\n",
            "building tree 10 of 50\n",
            "building tree 11 of 50\n",
            "building tree 12 of 50\n",
            "building tree 13 of 50\n",
            "building tree 14 of 50\n",
            "building tree 15 of 50\n",
            "building tree 16 of 50\n",
            "building tree 17 of 50\n",
            "building tree 18 of 50\n",
            "building tree 19 of 50\n",
            "building tree 20 of 50\n",
            "building tree 21 of 50\n",
            "building tree 22 of 50\n",
            "building tree 23 of 50\n",
            "building tree 24 of 50\n",
            "building tree 25 of 50\n",
            "building tree 26 of 50\n",
            "building tree 27 of 50\n",
            "building tree 28 of 50\n",
            "building tree 29 of 50\n",
            "building tree 30 of 50\n",
            "building tree 31 of 50\n",
            "building tree 32 of 50\n",
            "building tree 33 of 50\n",
            "building tree 34 of 50\n",
            "building tree 35 of 50\n",
            "building tree 36 of 50\n",
            "building tree 37 of 50\n",
            "building tree 38 of 50\n",
            "building tree 39 of 50\n",
            "building tree 40 of 50\n",
            "building tree 41 of 50\n",
            "building tree 42 of 50\n",
            "building tree 43 of 50\n",
            "building tree 44 of 50\n",
            "building tree 45 of 50\n",
            "building tree 46 of 50\n",
            "building tree 47 of 50\n",
            "building tree 48 of 50\n",
            "building tree 49 of 50\n",
            "building tree 50 of 50\n"
          ],
          "name": "stdout"
        },
        {
          "output_type": "stream",
          "text": [
            "[Parallel(n_jobs=1)]: Done  50 out of  50 | elapsed:   21.0s finished\n",
            "[Parallel(n_jobs=1)]: Using backend SequentialBackend with 1 concurrent workers.\n",
            "[Parallel(n_jobs=1)]: Done   1 out of   1 | elapsed:    0.0s remaining:    0.0s\n",
            "[Parallel(n_jobs=1)]: Done   2 out of   2 | elapsed:    0.0s remaining:    0.0s\n",
            "[Parallel(n_jobs=1)]: Done  50 out of  50 | elapsed:    0.3s finished\n",
            "[Parallel(n_jobs=1)]: Using backend SequentialBackend with 1 concurrent workers.\n"
          ],
          "name": "stderr"
        },
        {
          "output_type": "stream",
          "text": [
            "building tree 1 of 50\n"
          ],
          "name": "stdout"
        },
        {
          "output_type": "stream",
          "text": [
            "[Parallel(n_jobs=1)]: Done   1 out of   1 | elapsed:    0.4s remaining:    0.0s\n"
          ],
          "name": "stderr"
        },
        {
          "output_type": "stream",
          "text": [
            "building tree 2 of 50\n"
          ],
          "name": "stdout"
        },
        {
          "output_type": "stream",
          "text": [
            "[Parallel(n_jobs=1)]: Done   2 out of   2 | elapsed:    0.8s remaining:    0.0s\n"
          ],
          "name": "stderr"
        },
        {
          "output_type": "stream",
          "text": [
            "building tree 3 of 50\n",
            "building tree 4 of 50\n",
            "building tree 5 of 50\n",
            "building tree 6 of 50\n",
            "building tree 7 of 50\n",
            "building tree 8 of 50\n",
            "building tree 9 of 50\n",
            "building tree 10 of 50\n",
            "building tree 11 of 50\n",
            "building tree 12 of 50\n",
            "building tree 13 of 50\n",
            "building tree 14 of 50\n",
            "building tree 15 of 50\n",
            "building tree 16 of 50\n",
            "building tree 17 of 50\n",
            "building tree 18 of 50\n",
            "building tree 19 of 50\n",
            "building tree 20 of 50\n",
            "building tree 21 of 50\n",
            "building tree 22 of 50\n",
            "building tree 23 of 50\n",
            "building tree 24 of 50\n",
            "building tree 25 of 50\n",
            "building tree 26 of 50\n",
            "building tree 27 of 50\n",
            "building tree 28 of 50\n",
            "building tree 29 of 50\n",
            "building tree 30 of 50\n",
            "building tree 31 of 50\n",
            "building tree 32 of 50\n",
            "building tree 33 of 50\n",
            "building tree 34 of 50\n",
            "building tree 35 of 50\n",
            "building tree 36 of 50\n",
            "building tree 37 of 50\n",
            "building tree 38 of 50\n",
            "building tree 39 of 50\n",
            "building tree 40 of 50\n",
            "building tree 41 of 50\n",
            "building tree 42 of 50\n",
            "building tree 43 of 50\n",
            "building tree 44 of 50\n",
            "building tree 45 of 50\n",
            "building tree 46 of 50\n",
            "building tree 47 of 50\n",
            "building tree 48 of 50\n",
            "building tree 49 of 50\n",
            "building tree 50 of 50\n"
          ],
          "name": "stdout"
        },
        {
          "output_type": "stream",
          "text": [
            "[Parallel(n_jobs=1)]: Done  50 out of  50 | elapsed:   21.5s finished\n",
            "[Parallel(n_jobs=1)]: Using backend SequentialBackend with 1 concurrent workers.\n",
            "[Parallel(n_jobs=1)]: Done   1 out of   1 | elapsed:    0.0s remaining:    0.0s\n",
            "[Parallel(n_jobs=1)]: Done   2 out of   2 | elapsed:    0.0s remaining:    0.0s\n",
            "[Parallel(n_jobs=1)]: Done  50 out of  50 | elapsed:    0.3s finished\n",
            "[Parallel(n_jobs=1)]: Using backend SequentialBackend with 1 concurrent workers.\n"
          ],
          "name": "stderr"
        },
        {
          "output_type": "stream",
          "text": [
            "building tree 1 of 50\n"
          ],
          "name": "stdout"
        },
        {
          "output_type": "stream",
          "text": [
            "[Parallel(n_jobs=1)]: Done   1 out of   1 | elapsed:    0.5s remaining:    0.0s\n"
          ],
          "name": "stderr"
        },
        {
          "output_type": "stream",
          "text": [
            "building tree 2 of 50\n"
          ],
          "name": "stdout"
        },
        {
          "output_type": "stream",
          "text": [
            "[Parallel(n_jobs=1)]: Done   2 out of   2 | elapsed:    0.9s remaining:    0.0s\n"
          ],
          "name": "stderr"
        },
        {
          "output_type": "stream",
          "text": [
            "building tree 3 of 50\n",
            "building tree 4 of 50\n",
            "building tree 5 of 50\n",
            "building tree 6 of 50\n",
            "building tree 7 of 50\n",
            "building tree 8 of 50\n",
            "building tree 9 of 50\n",
            "building tree 10 of 50\n",
            "building tree 11 of 50\n",
            "building tree 12 of 50\n",
            "building tree 13 of 50\n",
            "building tree 14 of 50\n",
            "building tree 15 of 50\n",
            "building tree 16 of 50\n",
            "building tree 17 of 50\n",
            "building tree 18 of 50\n",
            "building tree 19 of 50\n",
            "building tree 20 of 50\n",
            "building tree 21 of 50\n",
            "building tree 22 of 50\n",
            "building tree 23 of 50\n",
            "building tree 24 of 50\n",
            "building tree 25 of 50\n",
            "building tree 26 of 50\n",
            "building tree 27 of 50\n",
            "building tree 28 of 50\n",
            "building tree 29 of 50\n",
            "building tree 30 of 50\n",
            "building tree 31 of 50\n",
            "building tree 32 of 50\n",
            "building tree 33 of 50\n",
            "building tree 34 of 50\n",
            "building tree 35 of 50\n",
            "building tree 36 of 50\n",
            "building tree 37 of 50\n",
            "building tree 38 of 50\n",
            "building tree 39 of 50\n",
            "building tree 40 of 50\n",
            "building tree 41 of 50\n",
            "building tree 42 of 50\n",
            "building tree 43 of 50\n",
            "building tree 44 of 50\n",
            "building tree 45 of 50\n",
            "building tree 46 of 50\n",
            "building tree 47 of 50\n",
            "building tree 48 of 50\n",
            "building tree 49 of 50\n",
            "building tree 50 of 50\n"
          ],
          "name": "stdout"
        },
        {
          "output_type": "stream",
          "text": [
            "[Parallel(n_jobs=1)]: Done  50 out of  50 | elapsed:   21.8s finished\n",
            "[Parallel(n_jobs=1)]: Using backend SequentialBackend with 1 concurrent workers.\n",
            "[Parallel(n_jobs=1)]: Done   1 out of   1 | elapsed:    0.0s remaining:    0.0s\n",
            "[Parallel(n_jobs=1)]: Done   2 out of   2 | elapsed:    0.0s remaining:    0.0s\n",
            "[Parallel(n_jobs=1)]: Done  50 out of  50 | elapsed:    0.3s finished\n",
            "[Parallel(n_jobs=1)]: Using backend SequentialBackend with 1 concurrent workers.\n"
          ],
          "name": "stderr"
        },
        {
          "output_type": "stream",
          "text": [
            "building tree 1 of 50\n"
          ],
          "name": "stdout"
        },
        {
          "output_type": "stream",
          "text": [
            "[Parallel(n_jobs=1)]: Done   1 out of   1 | elapsed:    0.5s remaining:    0.0s\n"
          ],
          "name": "stderr"
        },
        {
          "output_type": "stream",
          "text": [
            "building tree 2 of 50\n"
          ],
          "name": "stdout"
        },
        {
          "output_type": "stream",
          "text": [
            "[Parallel(n_jobs=1)]: Done   2 out of   2 | elapsed:    0.7s remaining:    0.0s\n"
          ],
          "name": "stderr"
        },
        {
          "output_type": "stream",
          "text": [
            "building tree 3 of 50\n",
            "building tree 4 of 50\n",
            "building tree 5 of 50\n",
            "building tree 6 of 50\n",
            "building tree 7 of 50\n",
            "building tree 8 of 50\n",
            "building tree 9 of 50\n",
            "building tree 10 of 50\n",
            "building tree 11 of 50\n",
            "building tree 12 of 50\n",
            "building tree 13 of 50\n",
            "building tree 14 of 50\n",
            "building tree 15 of 50\n",
            "building tree 16 of 50\n",
            "building tree 17 of 50\n",
            "building tree 18 of 50\n",
            "building tree 19 of 50\n",
            "building tree 20 of 50\n",
            "building tree 21 of 50\n",
            "building tree 22 of 50\n",
            "building tree 23 of 50\n",
            "building tree 24 of 50\n",
            "building tree 25 of 50\n",
            "building tree 26 of 50\n",
            "building tree 27 of 50\n",
            "building tree 28 of 50\n",
            "building tree 29 of 50\n",
            "building tree 30 of 50\n",
            "building tree 31 of 50\n",
            "building tree 32 of 50\n",
            "building tree 33 of 50\n",
            "building tree 34 of 50\n",
            "building tree 35 of 50\n",
            "building tree 36 of 50\n",
            "building tree 37 of 50\n",
            "building tree 38 of 50\n",
            "building tree 39 of 50\n",
            "building tree 40 of 50\n",
            "building tree 41 of 50\n",
            "building tree 42 of 50\n",
            "building tree 43 of 50\n",
            "building tree 44 of 50\n",
            "building tree 45 of 50\n",
            "building tree 46 of 50\n",
            "building tree 47 of 50\n",
            "building tree 48 of 50\n",
            "building tree 49 of 50\n",
            "building tree 50 of 50\n"
          ],
          "name": "stdout"
        },
        {
          "output_type": "stream",
          "text": [
            "[Parallel(n_jobs=1)]: Done  50 out of  50 | elapsed:   19.3s finished\n",
            "[Parallel(n_jobs=1)]: Using backend SequentialBackend with 1 concurrent workers.\n",
            "[Parallel(n_jobs=1)]: Done   1 out of   1 | elapsed:    0.0s remaining:    0.0s\n",
            "[Parallel(n_jobs=1)]: Done   2 out of   2 | elapsed:    0.0s remaining:    0.0s\n",
            "[Parallel(n_jobs=1)]: Done  50 out of  50 | elapsed:    0.2s finished\n",
            "[Parallel(n_jobs=1)]: Using backend SequentialBackend with 1 concurrent workers.\n"
          ],
          "name": "stderr"
        },
        {
          "output_type": "stream",
          "text": [
            "building tree 1 of 50\n"
          ],
          "name": "stdout"
        },
        {
          "output_type": "stream",
          "text": [
            "[Parallel(n_jobs=1)]: Done   1 out of   1 | elapsed:    0.5s remaining:    0.0s\n"
          ],
          "name": "stderr"
        },
        {
          "output_type": "stream",
          "text": [
            "building tree 2 of 50\n"
          ],
          "name": "stdout"
        },
        {
          "output_type": "stream",
          "text": [
            "[Parallel(n_jobs=1)]: Done   2 out of   2 | elapsed:    0.9s remaining:    0.0s\n"
          ],
          "name": "stderr"
        },
        {
          "output_type": "stream",
          "text": [
            "building tree 3 of 50\n",
            "building tree 4 of 50\n",
            "building tree 5 of 50\n",
            "building tree 6 of 50\n",
            "building tree 7 of 50\n",
            "building tree 8 of 50\n",
            "building tree 9 of 50\n",
            "building tree 10 of 50\n",
            "building tree 11 of 50\n",
            "building tree 12 of 50\n",
            "building tree 13 of 50\n",
            "building tree 14 of 50\n",
            "building tree 15 of 50\n",
            "building tree 16 of 50\n",
            "building tree 17 of 50\n",
            "building tree 18 of 50\n",
            "building tree 19 of 50\n",
            "building tree 20 of 50\n",
            "building tree 21 of 50\n",
            "building tree 22 of 50\n",
            "building tree 23 of 50\n",
            "building tree 24 of 50\n",
            "building tree 25 of 50\n",
            "building tree 26 of 50\n",
            "building tree 27 of 50\n",
            "building tree 28 of 50\n",
            "building tree 29 of 50\n",
            "building tree 30 of 50\n",
            "building tree 31 of 50\n",
            "building tree 32 of 50\n",
            "building tree 33 of 50\n",
            "building tree 34 of 50\n",
            "building tree 35 of 50\n",
            "building tree 36 of 50\n",
            "building tree 37 of 50\n",
            "building tree 38 of 50\n",
            "building tree 39 of 50\n",
            "building tree 40 of 50\n",
            "building tree 41 of 50\n",
            "building tree 42 of 50\n",
            "building tree 43 of 50\n",
            "building tree 44 of 50\n",
            "building tree 45 of 50\n",
            "building tree 46 of 50\n",
            "building tree 47 of 50\n",
            "building tree 48 of 50\n",
            "building tree 49 of 50\n",
            "building tree 50 of 50\n"
          ],
          "name": "stdout"
        },
        {
          "output_type": "stream",
          "text": [
            "[Parallel(n_jobs=1)]: Done  50 out of  50 | elapsed:   19.3s finished\n",
            "[Parallel(n_jobs=1)]: Using backend SequentialBackend with 1 concurrent workers.\n",
            "[Parallel(n_jobs=1)]: Done   1 out of   1 | elapsed:    0.0s remaining:    0.0s\n",
            "[Parallel(n_jobs=1)]: Done   2 out of   2 | elapsed:    0.0s remaining:    0.0s\n",
            "[Parallel(n_jobs=1)]: Done  50 out of  50 | elapsed:    0.2s finished\n",
            "[Parallel(n_jobs=1)]: Using backend SequentialBackend with 1 concurrent workers.\n"
          ],
          "name": "stderr"
        },
        {
          "output_type": "stream",
          "text": [
            "building tree 1 of 50\n"
          ],
          "name": "stdout"
        },
        {
          "output_type": "stream",
          "text": [
            "[Parallel(n_jobs=1)]: Done   1 out of   1 | elapsed:    0.3s remaining:    0.0s\n"
          ],
          "name": "stderr"
        },
        {
          "output_type": "stream",
          "text": [
            "building tree 2 of 50\n"
          ],
          "name": "stdout"
        },
        {
          "output_type": "stream",
          "text": [
            "[Parallel(n_jobs=1)]: Done   2 out of   2 | elapsed:    0.7s remaining:    0.0s\n"
          ],
          "name": "stderr"
        },
        {
          "output_type": "stream",
          "text": [
            "building tree 3 of 50\n",
            "building tree 4 of 50\n",
            "building tree 5 of 50\n",
            "building tree 6 of 50\n",
            "building tree 7 of 50\n",
            "building tree 8 of 50\n",
            "building tree 9 of 50\n",
            "building tree 10 of 50\n",
            "building tree 11 of 50\n",
            "building tree 12 of 50\n",
            "building tree 13 of 50\n",
            "building tree 14 of 50\n",
            "building tree 15 of 50\n",
            "building tree 16 of 50\n",
            "building tree 17 of 50\n",
            "building tree 18 of 50\n",
            "building tree 19 of 50\n",
            "building tree 20 of 50\n",
            "building tree 21 of 50\n",
            "building tree 22 of 50\n",
            "building tree 23 of 50\n",
            "building tree 24 of 50\n",
            "building tree 25 of 50\n",
            "building tree 26 of 50\n",
            "building tree 27 of 50\n",
            "building tree 28 of 50\n",
            "building tree 29 of 50\n",
            "building tree 30 of 50\n",
            "building tree 31 of 50\n",
            "building tree 32 of 50\n",
            "building tree 33 of 50\n",
            "building tree 34 of 50\n",
            "building tree 35 of 50\n",
            "building tree 36 of 50\n",
            "building tree 37 of 50\n",
            "building tree 38 of 50\n",
            "building tree 39 of 50\n",
            "building tree 40 of 50\n",
            "building tree 41 of 50\n",
            "building tree 42 of 50\n",
            "building tree 43 of 50\n",
            "building tree 44 of 50\n",
            "building tree 45 of 50\n",
            "building tree 46 of 50\n",
            "building tree 47 of 50\n",
            "building tree 48 of 50\n",
            "building tree 49 of 50\n",
            "building tree 50 of 50\n"
          ],
          "name": "stdout"
        },
        {
          "output_type": "stream",
          "text": [
            "[Parallel(n_jobs=1)]: Done  50 out of  50 | elapsed:   19.2s finished\n",
            "[Parallel(n_jobs=1)]: Using backend SequentialBackend with 1 concurrent workers.\n",
            "[Parallel(n_jobs=1)]: Done   1 out of   1 | elapsed:    0.0s remaining:    0.0s\n",
            "[Parallel(n_jobs=1)]: Done   2 out of   2 | elapsed:    0.0s remaining:    0.0s\n",
            "[Parallel(n_jobs=1)]: Done  50 out of  50 | elapsed:    0.3s finished\n",
            "[Parallel(n_jobs=1)]: Using backend SequentialBackend with 1 concurrent workers.\n"
          ],
          "name": "stderr"
        },
        {
          "output_type": "stream",
          "text": [
            "building tree 1 of 50\n"
          ],
          "name": "stdout"
        },
        {
          "output_type": "stream",
          "text": [
            "[Parallel(n_jobs=1)]: Done   1 out of   1 | elapsed:    0.3s remaining:    0.0s\n"
          ],
          "name": "stderr"
        },
        {
          "output_type": "stream",
          "text": [
            "building tree 2 of 50\n"
          ],
          "name": "stdout"
        },
        {
          "output_type": "stream",
          "text": [
            "[Parallel(n_jobs=1)]: Done   2 out of   2 | elapsed:    0.7s remaining:    0.0s\n"
          ],
          "name": "stderr"
        },
        {
          "output_type": "stream",
          "text": [
            "building tree 3 of 50\n",
            "building tree 4 of 50\n",
            "building tree 5 of 50\n",
            "building tree 6 of 50\n",
            "building tree 7 of 50\n",
            "building tree 8 of 50\n",
            "building tree 9 of 50\n",
            "building tree 10 of 50\n",
            "building tree 11 of 50\n",
            "building tree 12 of 50\n",
            "building tree 13 of 50\n",
            "building tree 14 of 50\n",
            "building tree 15 of 50\n",
            "building tree 16 of 50\n",
            "building tree 17 of 50\n",
            "building tree 18 of 50\n",
            "building tree 19 of 50\n",
            "building tree 20 of 50\n",
            "building tree 21 of 50\n",
            "building tree 22 of 50\n",
            "building tree 23 of 50\n",
            "building tree 24 of 50\n",
            "building tree 25 of 50\n",
            "building tree 26 of 50\n",
            "building tree 27 of 50\n",
            "building tree 28 of 50\n",
            "building tree 29 of 50\n",
            "building tree 30 of 50\n",
            "building tree 31 of 50\n",
            "building tree 32 of 50\n",
            "building tree 33 of 50\n",
            "building tree 34 of 50\n",
            "building tree 35 of 50\n",
            "building tree 36 of 50\n",
            "building tree 37 of 50\n",
            "building tree 38 of 50\n",
            "building tree 39 of 50\n",
            "building tree 40 of 50\n",
            "building tree 41 of 50\n",
            "building tree 42 of 50\n",
            "building tree 43 of 50\n",
            "building tree 44 of 50\n",
            "building tree 45 of 50\n",
            "building tree 46 of 50\n",
            "building tree 47 of 50\n",
            "building tree 48 of 50\n",
            "building tree 49 of 50\n",
            "building tree 50 of 50\n"
          ],
          "name": "stdout"
        },
        {
          "output_type": "stream",
          "text": [
            "[Parallel(n_jobs=1)]: Done  50 out of  50 | elapsed:   19.6s finished\n",
            "[Parallel(n_jobs=1)]: Using backend SequentialBackend with 1 concurrent workers.\n",
            "[Parallel(n_jobs=1)]: Done   1 out of   1 | elapsed:    0.0s remaining:    0.0s\n",
            "[Parallel(n_jobs=1)]: Done   2 out of   2 | elapsed:    0.0s remaining:    0.0s\n",
            "[Parallel(n_jobs=1)]: Done  50 out of  50 | elapsed:    0.3s finished\n",
            "[Parallel(n_jobs=1)]: Using backend SequentialBackend with 1 concurrent workers.\n"
          ],
          "name": "stderr"
        },
        {
          "output_type": "stream",
          "text": [
            "building tree 1 of 50\n"
          ],
          "name": "stdout"
        },
        {
          "output_type": "stream",
          "text": [
            "[Parallel(n_jobs=1)]: Done   1 out of   1 | elapsed:    0.4s remaining:    0.0s\n"
          ],
          "name": "stderr"
        },
        {
          "output_type": "stream",
          "text": [
            "building tree 2 of 50\n"
          ],
          "name": "stdout"
        },
        {
          "output_type": "stream",
          "text": [
            "[Parallel(n_jobs=1)]: Done   2 out of   2 | elapsed:    0.8s remaining:    0.0s\n"
          ],
          "name": "stderr"
        },
        {
          "output_type": "stream",
          "text": [
            "building tree 3 of 50\n",
            "building tree 4 of 50\n",
            "building tree 5 of 50\n",
            "building tree 6 of 50\n",
            "building tree 7 of 50\n",
            "building tree 8 of 50\n",
            "building tree 9 of 50\n",
            "building tree 10 of 50\n",
            "building tree 11 of 50\n",
            "building tree 12 of 50\n",
            "building tree 13 of 50\n",
            "building tree 14 of 50\n",
            "building tree 15 of 50\n",
            "building tree 16 of 50\n",
            "building tree 17 of 50\n",
            "building tree 18 of 50\n",
            "building tree 19 of 50\n",
            "building tree 20 of 50\n",
            "building tree 21 of 50\n",
            "building tree 22 of 50\n",
            "building tree 23 of 50\n",
            "building tree 24 of 50\n",
            "building tree 25 of 50\n",
            "building tree 26 of 50\n",
            "building tree 27 of 50\n",
            "building tree 28 of 50\n",
            "building tree 29 of 50\n",
            "building tree 30 of 50\n",
            "building tree 31 of 50\n",
            "building tree 32 of 50\n",
            "building tree 33 of 50\n",
            "building tree 34 of 50\n",
            "building tree 35 of 50\n",
            "building tree 36 of 50\n",
            "building tree 37 of 50\n",
            "building tree 38 of 50\n",
            "building tree 39 of 50\n",
            "building tree 40 of 50\n",
            "building tree 41 of 50\n",
            "building tree 42 of 50\n",
            "building tree 43 of 50\n",
            "building tree 44 of 50\n",
            "building tree 45 of 50\n",
            "building tree 46 of 50\n",
            "building tree 47 of 50\n",
            "building tree 48 of 50\n",
            "building tree 49 of 50\n",
            "building tree 50 of 50\n"
          ],
          "name": "stdout"
        },
        {
          "output_type": "stream",
          "text": [
            "[Parallel(n_jobs=1)]: Done  50 out of  50 | elapsed:   19.9s finished\n",
            "[Parallel(n_jobs=1)]: Using backend SequentialBackend with 1 concurrent workers.\n",
            "[Parallel(n_jobs=1)]: Done   1 out of   1 | elapsed:    0.0s remaining:    0.0s\n",
            "[Parallel(n_jobs=1)]: Done   2 out of   2 | elapsed:    0.0s remaining:    0.0s\n",
            "[Parallel(n_jobs=1)]: Done  50 out of  50 | elapsed:    0.3s finished\n",
            "/usr/local/lib/python3.6/dist-packages/sklearn/model_selection/_search.py:823: FutureWarning: The parameter 'iid' is deprecated in 0.22 and will be removed in 0.24.\n",
            "  \"removed in 0.24.\", FutureWarning\n",
            "[Parallel(n_jobs=1)]: Using backend SequentialBackend with 1 concurrent workers.\n",
            "[Parallel(n_jobs=1)]: Done   1 out of   1 | elapsed:    0.2s remaining:    0.0s\n"
          ],
          "name": "stderr"
        },
        {
          "output_type": "stream",
          "text": [
            "building tree 1 of 50\n",
            "building tree 2 of 50\n"
          ],
          "name": "stdout"
        },
        {
          "output_type": "stream",
          "text": [
            "[Parallel(n_jobs=1)]: Done   2 out of   2 | elapsed:    0.3s remaining:    0.0s\n"
          ],
          "name": "stderr"
        },
        {
          "output_type": "stream",
          "text": [
            "building tree 3 of 50\n",
            "building tree 4 of 50\n",
            "building tree 5 of 50\n",
            "building tree 6 of 50\n",
            "building tree 7 of 50\n",
            "building tree 8 of 50\n",
            "building tree 9 of 50\n",
            "building tree 10 of 50\n",
            "building tree 11 of 50\n",
            "building tree 12 of 50\n",
            "building tree 13 of 50\n",
            "building tree 14 of 50\n",
            "building tree 15 of 50\n",
            "building tree 16 of 50\n",
            "building tree 17 of 50\n",
            "building tree 18 of 50\n",
            "building tree 19 of 50\n",
            "building tree 20 of 50\n",
            "building tree 21 of 50\n",
            "building tree 22 of 50\n",
            "building tree 23 of 50\n",
            "building tree 24 of 50\n",
            "building tree 25 of 50\n",
            "building tree 26 of 50\n",
            "building tree 27 of 50\n",
            "building tree 28 of 50\n",
            "building tree 29 of 50\n",
            "building tree 30 of 50\n",
            "building tree 31 of 50\n",
            "building tree 32 of 50\n",
            "building tree 33 of 50\n",
            "building tree 34 of 50\n",
            "building tree 35 of 50\n",
            "building tree 36 of 50\n",
            "building tree 37 of 50\n",
            "building tree 38 of 50\n",
            "building tree 39 of 50\n",
            "building tree 40 of 50\n",
            "building tree 41 of 50\n",
            "building tree 42 of 50\n",
            "building tree 43 of 50\n",
            "building tree 44 of 50\n",
            "building tree 45 of 50\n",
            "building tree 46 of 50\n",
            "building tree 47 of 50\n",
            "building tree 48 of 50\n",
            "building tree 49 of 50\n",
            "building tree 50 of 50\n"
          ],
          "name": "stdout"
        },
        {
          "output_type": "stream",
          "text": [
            "[Parallel(n_jobs=1)]: Done  50 out of  50 | elapsed:    7.5s finished\n"
          ],
          "name": "stderr"
        },
        {
          "output_type": "execute_result",
          "data": {
            "text/plain": [
              "GridSearchCV(cv=5, error_score=nan,\n",
              "             estimator=RandomForestClassifier(bootstrap=True, ccp_alpha=0.0,\n",
              "                                              class_weight=None,\n",
              "                                              criterion='gini', max_depth=None,\n",
              "                                              max_features='auto',\n",
              "                                              max_leaf_nodes=None,\n",
              "                                              max_samples=None,\n",
              "                                              min_impurity_decrease=0.0,\n",
              "                                              min_impurity_split=None,\n",
              "                                              min_samples_leaf=1,\n",
              "                                              min_samples_split=2,\n",
              "                                              min_weight_fraction_leaf=0.0,\n",
              "                                              n_estimators=50, n_jobs=None,\n",
              "                                              oob_score=False, random_state=42,\n",
              "                                              verbose=3, warm_start=False),\n",
              "             iid=False, n_jobs=None,\n",
              "             param_grid={'min_samples_split': [2, 5, 10]},\n",
              "             pre_dispatch='2*n_jobs', refit=True, return_train_score=False,\n",
              "             scoring='roc_auc', verbose=0)"
            ]
          },
          "metadata": {
            "tags": []
          },
          "execution_count": 28
        }
      ]
    },
    {
      "cell_type": "code",
      "metadata": {
        "id": "8bVLknV8Os-O",
        "colab_type": "code",
        "colab": {
          "base_uri": "https://localhost:8080/",
          "height": 34
        },
        "outputId": "211a3516-1507-45c5-e50d-3795facbae91"
      },
      "source": [
        "grid_search.best_params_"
      ],
      "execution_count": 29,
      "outputs": [
        {
          "output_type": "execute_result",
          "data": {
            "text/plain": [
              "{'min_samples_split': 5}"
            ]
          },
          "metadata": {
            "tags": []
          },
          "execution_count": 29
        }
      ]
    },
    {
      "cell_type": "code",
      "metadata": {
        "id": "ghVp8rCXOtCB",
        "colab_type": "code",
        "colab": {}
      },
      "source": [
        "random_forest_refined = RandomForestClassifier(random_state=random_state, n_estimators=50, min_samples_split=5)"
      ],
      "execution_count": 0,
      "outputs": []
    },
    {
      "cell_type": "code",
      "metadata": {
        "id": "c5bryUIZOtCH",
        "colab_type": "code",
        "colab": {
          "base_uri": "https://localhost:8080/",
          "height": 170
        },
        "outputId": "6330e4cc-d9ea-424a-dec2-514ff2d3b4b4"
      },
      "source": [
        "display_models([(random_forest_refined, 'Random Forest Refinement 2')])"
      ],
      "execution_count": 31,
      "outputs": [
        {
          "output_type": "stream",
          "text": [
            "-------------------\n",
            "Random Forest Refinement 2:\n",
            "Single AUC score:  0.8428901979587102\n",
            "--- Cross validation scores ---\n",
            "Scores:  [0.86554191 0.80738099 0.82144725 0.86213204 0.84937244 0.88136054\n",
            " 0.86694552 0.86736988 0.87121346 0.87737201]\n",
            "Mean:  0.8570136029328642\n",
            "Std:  0.023022704043512126\n",
            "-------------------\n"
          ],
          "name": "stdout"
        }
      ]
    },
    {
      "cell_type": "code",
      "metadata": {
        "id": "stOChGiIOtCQ",
        "colab_type": "code",
        "colab": {}
      },
      "source": [
        "param_rf = {\n",
        "    'max_depth': [300, 400, 500, 600]}\n",
        "grid_search = GridSearchCV(estimator = RandomForestClassifier(random_state=random_state, n_estimators=50, verbose=3,\n",
        "                     min_samples_split=5), param_grid = param_rf, scoring='roc_auc',iid=False, cv=5)"
      ],
      "execution_count": 0,
      "outputs": []
    },
    {
      "cell_type": "code",
      "metadata": {
        "id": "lE06EVj5OtHn",
        "colab_type": "code",
        "colab": {
          "base_uri": "https://localhost:8080/",
          "height": 1000
        },
        "outputId": "d6540cbb-21a3-4911-9d18-99cc79e8ebf6"
      },
      "source": [
        "grid_search.fit(access_1hot, access_labels)"
      ],
      "execution_count": 33,
      "outputs": [
        {
          "output_type": "stream",
          "text": [
            "building tree 1 of 50\n"
          ],
          "name": "stdout"
        },
        {
          "output_type": "stream",
          "text": [
            "[Parallel(n_jobs=1)]: Using backend SequentialBackend with 1 concurrent workers.\n",
            "[Parallel(n_jobs=1)]: Done   1 out of   1 | elapsed:    0.4s remaining:    0.0s\n"
          ],
          "name": "stderr"
        },
        {
          "output_type": "stream",
          "text": [
            "building tree 2 of 50\n"
          ],
          "name": "stdout"
        },
        {
          "output_type": "stream",
          "text": [
            "[Parallel(n_jobs=1)]: Done   2 out of   2 | elapsed:    0.7s remaining:    0.0s\n"
          ],
          "name": "stderr"
        },
        {
          "output_type": "stream",
          "text": [
            "building tree 3 of 50\n",
            "building tree 4 of 50\n",
            "building tree 5 of 50\n",
            "building tree 6 of 50\n",
            "building tree 7 of 50\n",
            "building tree 8 of 50\n",
            "building tree 9 of 50\n",
            "building tree 10 of 50\n",
            "building tree 11 of 50\n",
            "building tree 12 of 50\n",
            "building tree 13 of 50\n",
            "building tree 14 of 50\n",
            "building tree 15 of 50\n",
            "building tree 16 of 50\n",
            "building tree 17 of 50\n",
            "building tree 18 of 50\n",
            "building tree 19 of 50\n",
            "building tree 20 of 50\n",
            "building tree 21 of 50\n",
            "building tree 22 of 50\n",
            "building tree 23 of 50\n",
            "building tree 24 of 50\n",
            "building tree 25 of 50\n",
            "building tree 26 of 50\n",
            "building tree 27 of 50\n",
            "building tree 28 of 50\n",
            "building tree 29 of 50\n",
            "building tree 30 of 50\n",
            "building tree 31 of 50\n",
            "building tree 32 of 50\n",
            "building tree 33 of 50\n",
            "building tree 34 of 50\n",
            "building tree 35 of 50\n",
            "building tree 36 of 50\n",
            "building tree 37 of 50\n",
            "building tree 38 of 50\n",
            "building tree 39 of 50\n",
            "building tree 40 of 50\n",
            "building tree 41 of 50\n",
            "building tree 42 of 50\n",
            "building tree 43 of 50\n",
            "building tree 44 of 50\n",
            "building tree 45 of 50\n",
            "building tree 46 of 50\n",
            "building tree 47 of 50\n",
            "building tree 48 of 50\n",
            "building tree 49 of 50\n",
            "building tree 50 of 50\n"
          ],
          "name": "stdout"
        },
        {
          "output_type": "stream",
          "text": [
            "[Parallel(n_jobs=1)]: Done  50 out of  50 | elapsed:   20.0s finished\n",
            "[Parallel(n_jobs=1)]: Using backend SequentialBackend with 1 concurrent workers.\n",
            "[Parallel(n_jobs=1)]: Done   1 out of   1 | elapsed:    0.0s remaining:    0.0s\n",
            "[Parallel(n_jobs=1)]: Done   2 out of   2 | elapsed:    0.0s remaining:    0.0s\n",
            "[Parallel(n_jobs=1)]: Done  50 out of  50 | elapsed:    0.2s finished\n",
            "[Parallel(n_jobs=1)]: Using backend SequentialBackend with 1 concurrent workers.\n"
          ],
          "name": "stderr"
        },
        {
          "output_type": "stream",
          "text": [
            "building tree 1 of 50\n"
          ],
          "name": "stdout"
        },
        {
          "output_type": "stream",
          "text": [
            "[Parallel(n_jobs=1)]: Done   1 out of   1 | elapsed:    0.5s remaining:    0.0s\n"
          ],
          "name": "stderr"
        },
        {
          "output_type": "stream",
          "text": [
            "building tree 2 of 50\n"
          ],
          "name": "stdout"
        },
        {
          "output_type": "stream",
          "text": [
            "[Parallel(n_jobs=1)]: Done   2 out of   2 | elapsed:    0.9s remaining:    0.0s\n"
          ],
          "name": "stderr"
        },
        {
          "output_type": "stream",
          "text": [
            "building tree 3 of 50\n",
            "building tree 4 of 50\n",
            "building tree 5 of 50\n",
            "building tree 6 of 50\n",
            "building tree 7 of 50\n",
            "building tree 8 of 50\n",
            "building tree 9 of 50\n",
            "building tree 10 of 50\n",
            "building tree 11 of 50\n",
            "building tree 12 of 50\n",
            "building tree 13 of 50\n",
            "building tree 14 of 50\n",
            "building tree 15 of 50\n",
            "building tree 16 of 50\n",
            "building tree 17 of 50\n",
            "building tree 18 of 50\n",
            "building tree 19 of 50\n",
            "building tree 20 of 50\n",
            "building tree 21 of 50\n",
            "building tree 22 of 50\n",
            "building tree 23 of 50\n",
            "building tree 24 of 50\n",
            "building tree 25 of 50\n",
            "building tree 26 of 50\n",
            "building tree 27 of 50\n",
            "building tree 28 of 50\n",
            "building tree 29 of 50\n",
            "building tree 30 of 50\n",
            "building tree 31 of 50\n",
            "building tree 32 of 50\n",
            "building tree 33 of 50\n",
            "building tree 34 of 50\n",
            "building tree 35 of 50\n",
            "building tree 36 of 50\n",
            "building tree 37 of 50\n",
            "building tree 38 of 50\n",
            "building tree 39 of 50\n",
            "building tree 40 of 50\n",
            "building tree 41 of 50\n",
            "building tree 42 of 50\n",
            "building tree 43 of 50\n",
            "building tree 44 of 50\n",
            "building tree 45 of 50\n",
            "building tree 46 of 50\n",
            "building tree 47 of 50\n",
            "building tree 48 of 50\n",
            "building tree 49 of 50\n",
            "building tree 50 of 50\n"
          ],
          "name": "stdout"
        },
        {
          "output_type": "stream",
          "text": [
            "[Parallel(n_jobs=1)]: Done  50 out of  50 | elapsed:   19.9s finished\n",
            "[Parallel(n_jobs=1)]: Using backend SequentialBackend with 1 concurrent workers.\n",
            "[Parallel(n_jobs=1)]: Done   1 out of   1 | elapsed:    0.0s remaining:    0.0s\n",
            "[Parallel(n_jobs=1)]: Done   2 out of   2 | elapsed:    0.0s remaining:    0.0s\n",
            "[Parallel(n_jobs=1)]: Done  50 out of  50 | elapsed:    0.2s finished\n",
            "[Parallel(n_jobs=1)]: Using backend SequentialBackend with 1 concurrent workers.\n"
          ],
          "name": "stderr"
        },
        {
          "output_type": "stream",
          "text": [
            "building tree 1 of 50\n"
          ],
          "name": "stdout"
        },
        {
          "output_type": "stream",
          "text": [
            "[Parallel(n_jobs=1)]: Done   1 out of   1 | elapsed:    0.4s remaining:    0.0s\n"
          ],
          "name": "stderr"
        },
        {
          "output_type": "stream",
          "text": [
            "building tree 2 of 50\n"
          ],
          "name": "stdout"
        },
        {
          "output_type": "stream",
          "text": [
            "[Parallel(n_jobs=1)]: Done   2 out of   2 | elapsed:    0.8s remaining:    0.0s\n"
          ],
          "name": "stderr"
        },
        {
          "output_type": "stream",
          "text": [
            "building tree 3 of 50\n",
            "building tree 4 of 50\n",
            "building tree 5 of 50\n",
            "building tree 6 of 50\n",
            "building tree 7 of 50\n",
            "building tree 8 of 50\n",
            "building tree 9 of 50\n",
            "building tree 10 of 50\n",
            "building tree 11 of 50\n",
            "building tree 12 of 50\n",
            "building tree 13 of 50\n",
            "building tree 14 of 50\n",
            "building tree 15 of 50\n",
            "building tree 16 of 50\n",
            "building tree 17 of 50\n",
            "building tree 18 of 50\n",
            "building tree 19 of 50\n",
            "building tree 20 of 50\n",
            "building tree 21 of 50\n",
            "building tree 22 of 50\n",
            "building tree 23 of 50\n",
            "building tree 24 of 50\n",
            "building tree 25 of 50\n",
            "building tree 26 of 50\n",
            "building tree 27 of 50\n",
            "building tree 28 of 50\n",
            "building tree 29 of 50\n",
            "building tree 30 of 50\n",
            "building tree 31 of 50\n",
            "building tree 32 of 50\n",
            "building tree 33 of 50\n",
            "building tree 34 of 50\n",
            "building tree 35 of 50\n",
            "building tree 36 of 50\n",
            "building tree 37 of 50\n",
            "building tree 38 of 50\n",
            "building tree 39 of 50\n",
            "building tree 40 of 50\n",
            "building tree 41 of 50\n",
            "building tree 42 of 50\n",
            "building tree 43 of 50\n",
            "building tree 44 of 50\n",
            "building tree 45 of 50\n",
            "building tree 46 of 50\n",
            "building tree 47 of 50\n",
            "building tree 48 of 50\n",
            "building tree 49 of 50\n",
            "building tree 50 of 50\n"
          ],
          "name": "stdout"
        },
        {
          "output_type": "stream",
          "text": [
            "[Parallel(n_jobs=1)]: Done  50 out of  50 | elapsed:   19.8s finished\n",
            "[Parallel(n_jobs=1)]: Using backend SequentialBackend with 1 concurrent workers.\n",
            "[Parallel(n_jobs=1)]: Done   1 out of   1 | elapsed:    0.0s remaining:    0.0s\n",
            "[Parallel(n_jobs=1)]: Done   2 out of   2 | elapsed:    0.0s remaining:    0.0s\n",
            "[Parallel(n_jobs=1)]: Done  50 out of  50 | elapsed:    0.2s finished\n",
            "[Parallel(n_jobs=1)]: Using backend SequentialBackend with 1 concurrent workers.\n"
          ],
          "name": "stderr"
        },
        {
          "output_type": "stream",
          "text": [
            "building tree 1 of 50\n"
          ],
          "name": "stdout"
        },
        {
          "output_type": "stream",
          "text": [
            "[Parallel(n_jobs=1)]: Done   1 out of   1 | elapsed:    0.4s remaining:    0.0s\n"
          ],
          "name": "stderr"
        },
        {
          "output_type": "stream",
          "text": [
            "building tree 2 of 50\n"
          ],
          "name": "stdout"
        },
        {
          "output_type": "stream",
          "text": [
            "[Parallel(n_jobs=1)]: Done   2 out of   2 | elapsed:    0.8s remaining:    0.0s\n"
          ],
          "name": "stderr"
        },
        {
          "output_type": "stream",
          "text": [
            "building tree 3 of 50\n",
            "building tree 4 of 50\n",
            "building tree 5 of 50\n",
            "building tree 6 of 50\n",
            "building tree 7 of 50\n",
            "building tree 8 of 50\n",
            "building tree 9 of 50\n",
            "building tree 10 of 50\n",
            "building tree 11 of 50\n",
            "building tree 12 of 50\n",
            "building tree 13 of 50\n",
            "building tree 14 of 50\n",
            "building tree 15 of 50\n",
            "building tree 16 of 50\n",
            "building tree 17 of 50\n",
            "building tree 18 of 50\n",
            "building tree 19 of 50\n",
            "building tree 20 of 50\n",
            "building tree 21 of 50\n",
            "building tree 22 of 50\n",
            "building tree 23 of 50\n",
            "building tree 24 of 50\n",
            "building tree 25 of 50\n",
            "building tree 26 of 50\n",
            "building tree 27 of 50\n",
            "building tree 28 of 50\n",
            "building tree 29 of 50\n",
            "building tree 30 of 50\n",
            "building tree 31 of 50\n",
            "building tree 32 of 50\n",
            "building tree 33 of 50\n",
            "building tree 34 of 50\n",
            "building tree 35 of 50\n",
            "building tree 36 of 50\n",
            "building tree 37 of 50\n",
            "building tree 38 of 50\n",
            "building tree 39 of 50\n",
            "building tree 40 of 50\n",
            "building tree 41 of 50\n",
            "building tree 42 of 50\n",
            "building tree 43 of 50\n",
            "building tree 44 of 50\n",
            "building tree 45 of 50\n",
            "building tree 46 of 50\n",
            "building tree 47 of 50\n",
            "building tree 48 of 50\n",
            "building tree 49 of 50\n",
            "building tree 50 of 50\n"
          ],
          "name": "stdout"
        },
        {
          "output_type": "stream",
          "text": [
            "[Parallel(n_jobs=1)]: Done  50 out of  50 | elapsed:   20.0s finished\n",
            "[Parallel(n_jobs=1)]: Using backend SequentialBackend with 1 concurrent workers.\n",
            "[Parallel(n_jobs=1)]: Done   1 out of   1 | elapsed:    0.0s remaining:    0.0s\n",
            "[Parallel(n_jobs=1)]: Done   2 out of   2 | elapsed:    0.0s remaining:    0.0s\n",
            "[Parallel(n_jobs=1)]: Done  50 out of  50 | elapsed:    0.2s finished\n",
            "[Parallel(n_jobs=1)]: Using backend SequentialBackend with 1 concurrent workers.\n"
          ],
          "name": "stderr"
        },
        {
          "output_type": "stream",
          "text": [
            "building tree 1 of 50\n"
          ],
          "name": "stdout"
        },
        {
          "output_type": "stream",
          "text": [
            "[Parallel(n_jobs=1)]: Done   1 out of   1 | elapsed:    0.4s remaining:    0.0s\n"
          ],
          "name": "stderr"
        },
        {
          "output_type": "stream",
          "text": [
            "building tree 2 of 50\n"
          ],
          "name": "stdout"
        },
        {
          "output_type": "stream",
          "text": [
            "[Parallel(n_jobs=1)]: Done   2 out of   2 | elapsed:    0.8s remaining:    0.0s\n"
          ],
          "name": "stderr"
        },
        {
          "output_type": "stream",
          "text": [
            "building tree 3 of 50\n",
            "building tree 4 of 50\n",
            "building tree 5 of 50\n",
            "building tree 6 of 50\n",
            "building tree 7 of 50\n",
            "building tree 8 of 50\n",
            "building tree 9 of 50\n",
            "building tree 10 of 50\n",
            "building tree 11 of 50\n",
            "building tree 12 of 50\n",
            "building tree 13 of 50\n",
            "building tree 14 of 50\n",
            "building tree 15 of 50\n",
            "building tree 16 of 50\n",
            "building tree 17 of 50\n",
            "building tree 18 of 50\n",
            "building tree 19 of 50\n",
            "building tree 20 of 50\n",
            "building tree 21 of 50\n",
            "building tree 22 of 50\n",
            "building tree 23 of 50\n",
            "building tree 24 of 50\n",
            "building tree 25 of 50\n",
            "building tree 26 of 50\n",
            "building tree 27 of 50\n",
            "building tree 28 of 50\n",
            "building tree 29 of 50\n",
            "building tree 30 of 50\n",
            "building tree 31 of 50\n",
            "building tree 32 of 50\n",
            "building tree 33 of 50\n",
            "building tree 34 of 50\n",
            "building tree 35 of 50\n",
            "building tree 36 of 50\n",
            "building tree 37 of 50\n",
            "building tree 38 of 50\n",
            "building tree 39 of 50\n",
            "building tree 40 of 50\n",
            "building tree 41 of 50\n",
            "building tree 42 of 50\n",
            "building tree 43 of 50\n",
            "building tree 44 of 50\n",
            "building tree 45 of 50\n",
            "building tree 46 of 50\n",
            "building tree 47 of 50\n",
            "building tree 48 of 50\n",
            "building tree 49 of 50\n",
            "building tree 50 of 50\n"
          ],
          "name": "stdout"
        },
        {
          "output_type": "stream",
          "text": [
            "[Parallel(n_jobs=1)]: Done  50 out of  50 | elapsed:   20.4s finished\n",
            "[Parallel(n_jobs=1)]: Using backend SequentialBackend with 1 concurrent workers.\n",
            "[Parallel(n_jobs=1)]: Done   1 out of   1 | elapsed:    0.0s remaining:    0.0s\n",
            "[Parallel(n_jobs=1)]: Done   2 out of   2 | elapsed:    0.0s remaining:    0.0s\n",
            "[Parallel(n_jobs=1)]: Done  50 out of  50 | elapsed:    0.2s finished\n",
            "[Parallel(n_jobs=1)]: Using backend SequentialBackend with 1 concurrent workers.\n"
          ],
          "name": "stderr"
        },
        {
          "output_type": "stream",
          "text": [
            "building tree 1 of 50\n"
          ],
          "name": "stdout"
        },
        {
          "output_type": "stream",
          "text": [
            "[Parallel(n_jobs=1)]: Done   1 out of   1 | elapsed:    0.5s remaining:    0.0s\n"
          ],
          "name": "stderr"
        },
        {
          "output_type": "stream",
          "text": [
            "building tree 2 of 50\n"
          ],
          "name": "stdout"
        },
        {
          "output_type": "stream",
          "text": [
            "[Parallel(n_jobs=1)]: Done   2 out of   2 | elapsed:    0.8s remaining:    0.0s\n"
          ],
          "name": "stderr"
        },
        {
          "output_type": "stream",
          "text": [
            "building tree 3 of 50\n",
            "building tree 4 of 50\n",
            "building tree 5 of 50\n",
            "building tree 6 of 50\n",
            "building tree 7 of 50\n",
            "building tree 8 of 50\n",
            "building tree 9 of 50\n",
            "building tree 10 of 50\n",
            "building tree 11 of 50\n",
            "building tree 12 of 50\n",
            "building tree 13 of 50\n",
            "building tree 14 of 50\n",
            "building tree 15 of 50\n",
            "building tree 16 of 50\n",
            "building tree 17 of 50\n",
            "building tree 18 of 50\n",
            "building tree 19 of 50\n",
            "building tree 20 of 50\n",
            "building tree 21 of 50\n",
            "building tree 22 of 50\n",
            "building tree 23 of 50\n",
            "building tree 24 of 50\n",
            "building tree 25 of 50\n",
            "building tree 26 of 50\n",
            "building tree 27 of 50\n",
            "building tree 28 of 50\n",
            "building tree 29 of 50\n",
            "building tree 30 of 50\n",
            "building tree 31 of 50\n",
            "building tree 32 of 50\n",
            "building tree 33 of 50\n",
            "building tree 34 of 50\n",
            "building tree 35 of 50\n",
            "building tree 36 of 50\n",
            "building tree 37 of 50\n",
            "building tree 38 of 50\n",
            "building tree 39 of 50\n",
            "building tree 40 of 50\n",
            "building tree 41 of 50\n",
            "building tree 42 of 50\n",
            "building tree 43 of 50\n",
            "building tree 44 of 50\n",
            "building tree 45 of 50\n",
            "building tree 46 of 50\n",
            "building tree 47 of 50\n",
            "building tree 48 of 50\n",
            "building tree 49 of 50\n",
            "building tree 50 of 50\n"
          ],
          "name": "stdout"
        },
        {
          "output_type": "stream",
          "text": [
            "[Parallel(n_jobs=1)]: Done  50 out of  50 | elapsed:   21.4s finished\n",
            "[Parallel(n_jobs=1)]: Using backend SequentialBackend with 1 concurrent workers.\n",
            "[Parallel(n_jobs=1)]: Done   1 out of   1 | elapsed:    0.0s remaining:    0.0s\n",
            "[Parallel(n_jobs=1)]: Done   2 out of   2 | elapsed:    0.0s remaining:    0.0s\n",
            "[Parallel(n_jobs=1)]: Done  50 out of  50 | elapsed:    0.2s finished\n",
            "[Parallel(n_jobs=1)]: Using backend SequentialBackend with 1 concurrent workers.\n"
          ],
          "name": "stderr"
        },
        {
          "output_type": "stream",
          "text": [
            "building tree 1 of 50\n"
          ],
          "name": "stdout"
        },
        {
          "output_type": "stream",
          "text": [
            "[Parallel(n_jobs=1)]: Done   1 out of   1 | elapsed:    0.5s remaining:    0.0s\n"
          ],
          "name": "stderr"
        },
        {
          "output_type": "stream",
          "text": [
            "building tree 2 of 50\n"
          ],
          "name": "stdout"
        },
        {
          "output_type": "stream",
          "text": [
            "[Parallel(n_jobs=1)]: Done   2 out of   2 | elapsed:    0.9s remaining:    0.0s\n"
          ],
          "name": "stderr"
        },
        {
          "output_type": "stream",
          "text": [
            "building tree 3 of 50\n",
            "building tree 4 of 50\n",
            "building tree 5 of 50\n",
            "building tree 6 of 50\n",
            "building tree 7 of 50\n",
            "building tree 8 of 50\n",
            "building tree 9 of 50\n",
            "building tree 10 of 50\n",
            "building tree 11 of 50\n",
            "building tree 12 of 50\n",
            "building tree 13 of 50\n",
            "building tree 14 of 50\n",
            "building tree 15 of 50\n",
            "building tree 16 of 50\n",
            "building tree 17 of 50\n",
            "building tree 18 of 50\n",
            "building tree 19 of 50\n",
            "building tree 20 of 50\n",
            "building tree 21 of 50\n",
            "building tree 22 of 50\n",
            "building tree 23 of 50\n",
            "building tree 24 of 50\n",
            "building tree 25 of 50\n",
            "building tree 26 of 50\n",
            "building tree 27 of 50\n",
            "building tree 28 of 50\n",
            "building tree 29 of 50\n",
            "building tree 30 of 50\n",
            "building tree 31 of 50\n",
            "building tree 32 of 50\n",
            "building tree 33 of 50\n",
            "building tree 34 of 50\n",
            "building tree 35 of 50\n",
            "building tree 36 of 50\n",
            "building tree 37 of 50\n",
            "building tree 38 of 50\n",
            "building tree 39 of 50\n",
            "building tree 40 of 50\n",
            "building tree 41 of 50\n",
            "building tree 42 of 50\n",
            "building tree 43 of 50\n",
            "building tree 44 of 50\n",
            "building tree 45 of 50\n",
            "building tree 46 of 50\n",
            "building tree 47 of 50\n",
            "building tree 48 of 50\n",
            "building tree 49 of 50\n",
            "building tree 50 of 50\n"
          ],
          "name": "stdout"
        },
        {
          "output_type": "stream",
          "text": [
            "[Parallel(n_jobs=1)]: Done  50 out of  50 | elapsed:   21.2s finished\n",
            "[Parallel(n_jobs=1)]: Using backend SequentialBackend with 1 concurrent workers.\n",
            "[Parallel(n_jobs=1)]: Done   1 out of   1 | elapsed:    0.0s remaining:    0.0s\n",
            "[Parallel(n_jobs=1)]: Done   2 out of   2 | elapsed:    0.0s remaining:    0.0s\n",
            "[Parallel(n_jobs=1)]: Done  50 out of  50 | elapsed:    0.2s finished\n",
            "[Parallel(n_jobs=1)]: Using backend SequentialBackend with 1 concurrent workers.\n"
          ],
          "name": "stderr"
        },
        {
          "output_type": "stream",
          "text": [
            "building tree 1 of 50\n"
          ],
          "name": "stdout"
        },
        {
          "output_type": "stream",
          "text": [
            "[Parallel(n_jobs=1)]: Done   1 out of   1 | elapsed:    0.4s remaining:    0.0s\n"
          ],
          "name": "stderr"
        },
        {
          "output_type": "stream",
          "text": [
            "building tree 2 of 50\n"
          ],
          "name": "stdout"
        },
        {
          "output_type": "stream",
          "text": [
            "[Parallel(n_jobs=1)]: Done   2 out of   2 | elapsed:    0.8s remaining:    0.0s\n"
          ],
          "name": "stderr"
        },
        {
          "output_type": "stream",
          "text": [
            "building tree 3 of 50\n",
            "building tree 4 of 50\n",
            "building tree 5 of 50\n",
            "building tree 6 of 50\n",
            "building tree 7 of 50\n",
            "building tree 8 of 50\n",
            "building tree 9 of 50\n",
            "building tree 10 of 50\n",
            "building tree 11 of 50\n",
            "building tree 12 of 50\n",
            "building tree 13 of 50\n",
            "building tree 14 of 50\n",
            "building tree 15 of 50\n",
            "building tree 16 of 50\n",
            "building tree 17 of 50\n",
            "building tree 18 of 50\n",
            "building tree 19 of 50\n",
            "building tree 20 of 50\n",
            "building tree 21 of 50\n",
            "building tree 22 of 50\n",
            "building tree 23 of 50\n",
            "building tree 24 of 50\n",
            "building tree 25 of 50\n",
            "building tree 26 of 50\n",
            "building tree 27 of 50\n",
            "building tree 28 of 50\n",
            "building tree 29 of 50\n",
            "building tree 30 of 50\n",
            "building tree 31 of 50\n",
            "building tree 32 of 50\n",
            "building tree 33 of 50\n",
            "building tree 34 of 50\n",
            "building tree 35 of 50\n",
            "building tree 36 of 50\n",
            "building tree 37 of 50\n",
            "building tree 38 of 50\n",
            "building tree 39 of 50\n",
            "building tree 40 of 50\n",
            "building tree 41 of 50\n",
            "building tree 42 of 50\n",
            "building tree 43 of 50\n",
            "building tree 44 of 50\n",
            "building tree 45 of 50\n",
            "building tree 46 of 50\n",
            "building tree 47 of 50\n",
            "building tree 48 of 50\n",
            "building tree 49 of 50\n",
            "building tree 50 of 50\n"
          ],
          "name": "stdout"
        },
        {
          "output_type": "stream",
          "text": [
            "[Parallel(n_jobs=1)]: Done  50 out of  50 | elapsed:   21.0s finished\n",
            "[Parallel(n_jobs=1)]: Using backend SequentialBackend with 1 concurrent workers.\n",
            "[Parallel(n_jobs=1)]: Done   1 out of   1 | elapsed:    0.0s remaining:    0.0s\n",
            "[Parallel(n_jobs=1)]: Done   2 out of   2 | elapsed:    0.0s remaining:    0.0s\n",
            "[Parallel(n_jobs=1)]: Done  50 out of  50 | elapsed:    0.3s finished\n",
            "[Parallel(n_jobs=1)]: Using backend SequentialBackend with 1 concurrent workers.\n"
          ],
          "name": "stderr"
        },
        {
          "output_type": "stream",
          "text": [
            "building tree 1 of 50\n"
          ],
          "name": "stdout"
        },
        {
          "output_type": "stream",
          "text": [
            "[Parallel(n_jobs=1)]: Done   1 out of   1 | elapsed:    0.4s remaining:    0.0s\n"
          ],
          "name": "stderr"
        },
        {
          "output_type": "stream",
          "text": [
            "building tree 2 of 50\n"
          ],
          "name": "stdout"
        },
        {
          "output_type": "stream",
          "text": [
            "[Parallel(n_jobs=1)]: Done   2 out of   2 | elapsed:    0.8s remaining:    0.0s\n"
          ],
          "name": "stderr"
        },
        {
          "output_type": "stream",
          "text": [
            "building tree 3 of 50\n",
            "building tree 4 of 50\n",
            "building tree 5 of 50\n",
            "building tree 6 of 50\n",
            "building tree 7 of 50\n",
            "building tree 8 of 50\n",
            "building tree 9 of 50\n",
            "building tree 10 of 50\n",
            "building tree 11 of 50\n",
            "building tree 12 of 50\n",
            "building tree 13 of 50\n",
            "building tree 14 of 50\n",
            "building tree 15 of 50\n",
            "building tree 16 of 50\n",
            "building tree 17 of 50\n",
            "building tree 18 of 50\n",
            "building tree 19 of 50\n",
            "building tree 20 of 50\n",
            "building tree 21 of 50\n",
            "building tree 22 of 50\n",
            "building tree 23 of 50\n",
            "building tree 24 of 50\n",
            "building tree 25 of 50\n",
            "building tree 26 of 50\n",
            "building tree 27 of 50\n",
            "building tree 28 of 50\n",
            "building tree 29 of 50\n",
            "building tree 30 of 50\n",
            "building tree 31 of 50\n",
            "building tree 32 of 50\n",
            "building tree 33 of 50\n",
            "building tree 34 of 50\n",
            "building tree 35 of 50\n",
            "building tree 36 of 50\n",
            "building tree 37 of 50\n",
            "building tree 38 of 50\n",
            "building tree 39 of 50\n",
            "building tree 40 of 50\n",
            "building tree 41 of 50\n",
            "building tree 42 of 50\n",
            "building tree 43 of 50\n",
            "building tree 44 of 50\n",
            "building tree 45 of 50\n",
            "building tree 46 of 50\n",
            "building tree 47 of 50\n",
            "building tree 48 of 50\n",
            "building tree 49 of 50\n",
            "building tree 50 of 50\n"
          ],
          "name": "stdout"
        },
        {
          "output_type": "stream",
          "text": [
            "[Parallel(n_jobs=1)]: Done  50 out of  50 | elapsed:   21.4s finished\n",
            "[Parallel(n_jobs=1)]: Using backend SequentialBackend with 1 concurrent workers.\n",
            "[Parallel(n_jobs=1)]: Done   1 out of   1 | elapsed:    0.0s remaining:    0.0s\n",
            "[Parallel(n_jobs=1)]: Done   2 out of   2 | elapsed:    0.0s remaining:    0.0s\n",
            "[Parallel(n_jobs=1)]: Done  50 out of  50 | elapsed:    0.3s finished\n",
            "[Parallel(n_jobs=1)]: Using backend SequentialBackend with 1 concurrent workers.\n"
          ],
          "name": "stderr"
        },
        {
          "output_type": "stream",
          "text": [
            "building tree 1 of 50\n"
          ],
          "name": "stdout"
        },
        {
          "output_type": "stream",
          "text": [
            "[Parallel(n_jobs=1)]: Done   1 out of   1 | elapsed:    0.5s remaining:    0.0s\n"
          ],
          "name": "stderr"
        },
        {
          "output_type": "stream",
          "text": [
            "building tree 2 of 50\n"
          ],
          "name": "stdout"
        },
        {
          "output_type": "stream",
          "text": [
            "[Parallel(n_jobs=1)]: Done   2 out of   2 | elapsed:    0.9s remaining:    0.0s\n"
          ],
          "name": "stderr"
        },
        {
          "output_type": "stream",
          "text": [
            "building tree 3 of 50\n",
            "building tree 4 of 50\n",
            "building tree 5 of 50\n",
            "building tree 6 of 50\n",
            "building tree 7 of 50\n",
            "building tree 8 of 50\n",
            "building tree 9 of 50\n",
            "building tree 10 of 50\n",
            "building tree 11 of 50\n",
            "building tree 12 of 50\n",
            "building tree 13 of 50\n",
            "building tree 14 of 50\n",
            "building tree 15 of 50\n",
            "building tree 16 of 50\n",
            "building tree 17 of 50\n",
            "building tree 18 of 50\n",
            "building tree 19 of 50\n",
            "building tree 20 of 50\n",
            "building tree 21 of 50\n",
            "building tree 22 of 50\n",
            "building tree 23 of 50\n",
            "building tree 24 of 50\n",
            "building tree 25 of 50\n",
            "building tree 26 of 50\n",
            "building tree 27 of 50\n",
            "building tree 28 of 50\n",
            "building tree 29 of 50\n",
            "building tree 30 of 50\n",
            "building tree 31 of 50\n",
            "building tree 32 of 50\n",
            "building tree 33 of 50\n",
            "building tree 34 of 50\n",
            "building tree 35 of 50\n",
            "building tree 36 of 50\n",
            "building tree 37 of 50\n",
            "building tree 38 of 50\n",
            "building tree 39 of 50\n",
            "building tree 40 of 50\n",
            "building tree 41 of 50\n",
            "building tree 42 of 50\n",
            "building tree 43 of 50\n",
            "building tree 44 of 50\n",
            "building tree 45 of 50\n",
            "building tree 46 of 50\n",
            "building tree 47 of 50\n",
            "building tree 48 of 50\n",
            "building tree 49 of 50\n",
            "building tree 50 of 50\n"
          ],
          "name": "stdout"
        },
        {
          "output_type": "stream",
          "text": [
            "[Parallel(n_jobs=1)]: Done  50 out of  50 | elapsed:   21.7s finished\n",
            "[Parallel(n_jobs=1)]: Using backend SequentialBackend with 1 concurrent workers.\n",
            "[Parallel(n_jobs=1)]: Done   1 out of   1 | elapsed:    0.0s remaining:    0.0s\n",
            "[Parallel(n_jobs=1)]: Done   2 out of   2 | elapsed:    0.0s remaining:    0.0s\n",
            "[Parallel(n_jobs=1)]: Done  50 out of  50 | elapsed:    0.3s finished\n",
            "[Parallel(n_jobs=1)]: Using backend SequentialBackend with 1 concurrent workers.\n"
          ],
          "name": "stderr"
        },
        {
          "output_type": "stream",
          "text": [
            "building tree 1 of 50\n"
          ],
          "name": "stdout"
        },
        {
          "output_type": "stream",
          "text": [
            "[Parallel(n_jobs=1)]: Done   1 out of   1 | elapsed:    0.5s remaining:    0.0s\n"
          ],
          "name": "stderr"
        },
        {
          "output_type": "stream",
          "text": [
            "building tree 2 of 50\n"
          ],
          "name": "stdout"
        },
        {
          "output_type": "stream",
          "text": [
            "[Parallel(n_jobs=1)]: Done   2 out of   2 | elapsed:    0.8s remaining:    0.0s\n"
          ],
          "name": "stderr"
        },
        {
          "output_type": "stream",
          "text": [
            "building tree 3 of 50\n",
            "building tree 4 of 50\n",
            "building tree 5 of 50\n",
            "building tree 6 of 50\n",
            "building tree 7 of 50\n",
            "building tree 8 of 50\n",
            "building tree 9 of 50\n",
            "building tree 10 of 50\n",
            "building tree 11 of 50\n",
            "building tree 12 of 50\n",
            "building tree 13 of 50\n",
            "building tree 14 of 50\n",
            "building tree 15 of 50\n",
            "building tree 16 of 50\n",
            "building tree 17 of 50\n",
            "building tree 18 of 50\n",
            "building tree 19 of 50\n",
            "building tree 20 of 50\n",
            "building tree 21 of 50\n",
            "building tree 22 of 50\n",
            "building tree 23 of 50\n",
            "building tree 24 of 50\n",
            "building tree 25 of 50\n",
            "building tree 26 of 50\n",
            "building tree 27 of 50\n",
            "building tree 28 of 50\n",
            "building tree 29 of 50\n",
            "building tree 30 of 50\n",
            "building tree 31 of 50\n",
            "building tree 32 of 50\n",
            "building tree 33 of 50\n",
            "building tree 34 of 50\n",
            "building tree 35 of 50\n",
            "building tree 36 of 50\n",
            "building tree 37 of 50\n",
            "building tree 38 of 50\n",
            "building tree 39 of 50\n",
            "building tree 40 of 50\n",
            "building tree 41 of 50\n",
            "building tree 42 of 50\n",
            "building tree 43 of 50\n",
            "building tree 44 of 50\n",
            "building tree 45 of 50\n",
            "building tree 46 of 50\n",
            "building tree 47 of 50\n",
            "building tree 48 of 50\n",
            "building tree 49 of 50\n",
            "building tree 50 of 50\n"
          ],
          "name": "stdout"
        },
        {
          "output_type": "stream",
          "text": [
            "[Parallel(n_jobs=1)]: Done  50 out of  50 | elapsed:   21.3s finished\n",
            "[Parallel(n_jobs=1)]: Using backend SequentialBackend with 1 concurrent workers.\n",
            "[Parallel(n_jobs=1)]: Done   1 out of   1 | elapsed:    0.0s remaining:    0.0s\n",
            "[Parallel(n_jobs=1)]: Done   2 out of   2 | elapsed:    0.0s remaining:    0.0s\n",
            "[Parallel(n_jobs=1)]: Done  50 out of  50 | elapsed:    0.2s finished\n",
            "[Parallel(n_jobs=1)]: Using backend SequentialBackend with 1 concurrent workers.\n"
          ],
          "name": "stderr"
        },
        {
          "output_type": "stream",
          "text": [
            "building tree 1 of 50\n"
          ],
          "name": "stdout"
        },
        {
          "output_type": "stream",
          "text": [
            "[Parallel(n_jobs=1)]: Done   1 out of   1 | elapsed:    0.5s remaining:    0.0s\n"
          ],
          "name": "stderr"
        },
        {
          "output_type": "stream",
          "text": [
            "building tree 2 of 50\n"
          ],
          "name": "stdout"
        },
        {
          "output_type": "stream",
          "text": [
            "[Parallel(n_jobs=1)]: Done   2 out of   2 | elapsed:    0.9s remaining:    0.0s\n"
          ],
          "name": "stderr"
        },
        {
          "output_type": "stream",
          "text": [
            "building tree 3 of 50\n",
            "building tree 4 of 50\n",
            "building tree 5 of 50\n",
            "building tree 6 of 50\n",
            "building tree 7 of 50\n",
            "building tree 8 of 50\n",
            "building tree 9 of 50\n",
            "building tree 10 of 50\n",
            "building tree 11 of 50\n",
            "building tree 12 of 50\n",
            "building tree 13 of 50\n",
            "building tree 14 of 50\n",
            "building tree 15 of 50\n",
            "building tree 16 of 50\n",
            "building tree 17 of 50\n",
            "building tree 18 of 50\n",
            "building tree 19 of 50\n",
            "building tree 20 of 50\n",
            "building tree 21 of 50\n",
            "building tree 22 of 50\n",
            "building tree 23 of 50\n",
            "building tree 24 of 50\n",
            "building tree 25 of 50\n",
            "building tree 26 of 50\n",
            "building tree 27 of 50\n",
            "building tree 28 of 50\n",
            "building tree 29 of 50\n",
            "building tree 30 of 50\n",
            "building tree 31 of 50\n",
            "building tree 32 of 50\n",
            "building tree 33 of 50\n",
            "building tree 34 of 50\n",
            "building tree 35 of 50\n",
            "building tree 36 of 50\n",
            "building tree 37 of 50\n",
            "building tree 38 of 50\n",
            "building tree 39 of 50\n",
            "building tree 40 of 50\n",
            "building tree 41 of 50\n",
            "building tree 42 of 50\n",
            "building tree 43 of 50\n",
            "building tree 44 of 50\n",
            "building tree 45 of 50\n",
            "building tree 46 of 50\n",
            "building tree 47 of 50\n",
            "building tree 48 of 50\n",
            "building tree 49 of 50\n",
            "building tree 50 of 50\n"
          ],
          "name": "stdout"
        },
        {
          "output_type": "stream",
          "text": [
            "[Parallel(n_jobs=1)]: Done  50 out of  50 | elapsed:   21.3s finished\n",
            "[Parallel(n_jobs=1)]: Using backend SequentialBackend with 1 concurrent workers.\n",
            "[Parallel(n_jobs=1)]: Done   1 out of   1 | elapsed:    0.0s remaining:    0.0s\n",
            "[Parallel(n_jobs=1)]: Done   2 out of   2 | elapsed:    0.0s remaining:    0.0s\n",
            "[Parallel(n_jobs=1)]: Done  50 out of  50 | elapsed:    0.3s finished\n",
            "[Parallel(n_jobs=1)]: Using backend SequentialBackend with 1 concurrent workers.\n"
          ],
          "name": "stderr"
        },
        {
          "output_type": "stream",
          "text": [
            "building tree 1 of 50\n"
          ],
          "name": "stdout"
        },
        {
          "output_type": "stream",
          "text": [
            "[Parallel(n_jobs=1)]: Done   1 out of   1 | elapsed:    0.4s remaining:    0.0s\n"
          ],
          "name": "stderr"
        },
        {
          "output_type": "stream",
          "text": [
            "building tree 2 of 50\n"
          ],
          "name": "stdout"
        },
        {
          "output_type": "stream",
          "text": [
            "[Parallel(n_jobs=1)]: Done   2 out of   2 | elapsed:    0.8s remaining:    0.0s\n"
          ],
          "name": "stderr"
        },
        {
          "output_type": "stream",
          "text": [
            "building tree 3 of 50\n",
            "building tree 4 of 50\n",
            "building tree 5 of 50\n",
            "building tree 6 of 50\n",
            "building tree 7 of 50\n",
            "building tree 8 of 50\n",
            "building tree 9 of 50\n",
            "building tree 10 of 50\n",
            "building tree 11 of 50\n",
            "building tree 12 of 50\n",
            "building tree 13 of 50\n",
            "building tree 14 of 50\n",
            "building tree 15 of 50\n",
            "building tree 16 of 50\n",
            "building tree 17 of 50\n",
            "building tree 18 of 50\n",
            "building tree 19 of 50\n",
            "building tree 20 of 50\n",
            "building tree 21 of 50\n",
            "building tree 22 of 50\n",
            "building tree 23 of 50\n",
            "building tree 24 of 50\n",
            "building tree 25 of 50\n",
            "building tree 26 of 50\n",
            "building tree 27 of 50\n",
            "building tree 28 of 50\n",
            "building tree 29 of 50\n",
            "building tree 30 of 50\n",
            "building tree 31 of 50\n",
            "building tree 32 of 50\n",
            "building tree 33 of 50\n",
            "building tree 34 of 50\n",
            "building tree 35 of 50\n",
            "building tree 36 of 50\n",
            "building tree 37 of 50\n",
            "building tree 38 of 50\n",
            "building tree 39 of 50\n",
            "building tree 40 of 50\n",
            "building tree 41 of 50\n",
            "building tree 42 of 50\n",
            "building tree 43 of 50\n",
            "building tree 44 of 50\n",
            "building tree 45 of 50\n",
            "building tree 46 of 50\n",
            "building tree 47 of 50\n",
            "building tree 48 of 50\n",
            "building tree 49 of 50\n",
            "building tree 50 of 50\n"
          ],
          "name": "stdout"
        },
        {
          "output_type": "stream",
          "text": [
            "[Parallel(n_jobs=1)]: Done  50 out of  50 | elapsed:   21.2s finished\n",
            "[Parallel(n_jobs=1)]: Using backend SequentialBackend with 1 concurrent workers.\n",
            "[Parallel(n_jobs=1)]: Done   1 out of   1 | elapsed:    0.0s remaining:    0.0s\n",
            "[Parallel(n_jobs=1)]: Done   2 out of   2 | elapsed:    0.0s remaining:    0.0s\n",
            "[Parallel(n_jobs=1)]: Done  50 out of  50 | elapsed:    0.3s finished\n",
            "[Parallel(n_jobs=1)]: Using backend SequentialBackend with 1 concurrent workers.\n"
          ],
          "name": "stderr"
        },
        {
          "output_type": "stream",
          "text": [
            "building tree 1 of 50\n"
          ],
          "name": "stdout"
        },
        {
          "output_type": "stream",
          "text": [
            "[Parallel(n_jobs=1)]: Done   1 out of   1 | elapsed:    0.4s remaining:    0.0s\n"
          ],
          "name": "stderr"
        },
        {
          "output_type": "stream",
          "text": [
            "building tree 2 of 50\n"
          ],
          "name": "stdout"
        },
        {
          "output_type": "stream",
          "text": [
            "[Parallel(n_jobs=1)]: Done   2 out of   2 | elapsed:    0.8s remaining:    0.0s\n"
          ],
          "name": "stderr"
        },
        {
          "output_type": "stream",
          "text": [
            "building tree 3 of 50\n",
            "building tree 4 of 50\n",
            "building tree 5 of 50\n",
            "building tree 6 of 50\n",
            "building tree 7 of 50\n",
            "building tree 8 of 50\n",
            "building tree 9 of 50\n",
            "building tree 10 of 50\n",
            "building tree 11 of 50\n",
            "building tree 12 of 50\n",
            "building tree 13 of 50\n",
            "building tree 14 of 50\n",
            "building tree 15 of 50\n",
            "building tree 16 of 50\n",
            "building tree 17 of 50\n",
            "building tree 18 of 50\n",
            "building tree 19 of 50\n",
            "building tree 20 of 50\n",
            "building tree 21 of 50\n",
            "building tree 22 of 50\n",
            "building tree 23 of 50\n",
            "building tree 24 of 50\n",
            "building tree 25 of 50\n",
            "building tree 26 of 50\n",
            "building tree 27 of 50\n",
            "building tree 28 of 50\n",
            "building tree 29 of 50\n",
            "building tree 30 of 50\n",
            "building tree 31 of 50\n",
            "building tree 32 of 50\n",
            "building tree 33 of 50\n",
            "building tree 34 of 50\n",
            "building tree 35 of 50\n",
            "building tree 36 of 50\n",
            "building tree 37 of 50\n",
            "building tree 38 of 50\n",
            "building tree 39 of 50\n",
            "building tree 40 of 50\n",
            "building tree 41 of 50\n",
            "building tree 42 of 50\n",
            "building tree 43 of 50\n",
            "building tree 44 of 50\n",
            "building tree 45 of 50\n",
            "building tree 46 of 50\n",
            "building tree 47 of 50\n",
            "building tree 48 of 50\n",
            "building tree 49 of 50\n",
            "building tree 50 of 50\n"
          ],
          "name": "stdout"
        },
        {
          "output_type": "stream",
          "text": [
            "[Parallel(n_jobs=1)]: Done  50 out of  50 | elapsed:   21.5s finished\n",
            "[Parallel(n_jobs=1)]: Using backend SequentialBackend with 1 concurrent workers.\n",
            "[Parallel(n_jobs=1)]: Done   1 out of   1 | elapsed:    0.0s remaining:    0.0s\n",
            "[Parallel(n_jobs=1)]: Done   2 out of   2 | elapsed:    0.0s remaining:    0.0s\n",
            "[Parallel(n_jobs=1)]: Done  50 out of  50 | elapsed:    0.3s finished\n",
            "[Parallel(n_jobs=1)]: Using backend SequentialBackend with 1 concurrent workers.\n"
          ],
          "name": "stderr"
        },
        {
          "output_type": "stream",
          "text": [
            "building tree 1 of 50\n"
          ],
          "name": "stdout"
        },
        {
          "output_type": "stream",
          "text": [
            "[Parallel(n_jobs=1)]: Done   1 out of   1 | elapsed:    0.5s remaining:    0.0s\n"
          ],
          "name": "stderr"
        },
        {
          "output_type": "stream",
          "text": [
            "building tree 2 of 50\n"
          ],
          "name": "stdout"
        },
        {
          "output_type": "stream",
          "text": [
            "[Parallel(n_jobs=1)]: Done   2 out of   2 | elapsed:    0.9s remaining:    0.0s\n"
          ],
          "name": "stderr"
        },
        {
          "output_type": "stream",
          "text": [
            "building tree 3 of 50\n",
            "building tree 4 of 50\n",
            "building tree 5 of 50\n",
            "building tree 6 of 50\n",
            "building tree 7 of 50\n",
            "building tree 8 of 50\n",
            "building tree 9 of 50\n",
            "building tree 10 of 50\n",
            "building tree 11 of 50\n",
            "building tree 12 of 50\n",
            "building tree 13 of 50\n",
            "building tree 14 of 50\n",
            "building tree 15 of 50\n",
            "building tree 16 of 50\n",
            "building tree 17 of 50\n",
            "building tree 18 of 50\n",
            "building tree 19 of 50\n",
            "building tree 20 of 50\n",
            "building tree 21 of 50\n",
            "building tree 22 of 50\n",
            "building tree 23 of 50\n",
            "building tree 24 of 50\n",
            "building tree 25 of 50\n",
            "building tree 26 of 50\n",
            "building tree 27 of 50\n",
            "building tree 28 of 50\n",
            "building tree 29 of 50\n",
            "building tree 30 of 50\n",
            "building tree 31 of 50\n",
            "building tree 32 of 50\n",
            "building tree 33 of 50\n",
            "building tree 34 of 50\n",
            "building tree 35 of 50\n",
            "building tree 36 of 50\n",
            "building tree 37 of 50\n",
            "building tree 38 of 50\n",
            "building tree 39 of 50\n",
            "building tree 40 of 50\n",
            "building tree 41 of 50\n",
            "building tree 42 of 50\n",
            "building tree 43 of 50\n",
            "building tree 44 of 50\n",
            "building tree 45 of 50\n",
            "building tree 46 of 50\n",
            "building tree 47 of 50\n",
            "building tree 48 of 50\n",
            "building tree 49 of 50\n",
            "building tree 50 of 50\n"
          ],
          "name": "stdout"
        },
        {
          "output_type": "stream",
          "text": [
            "[Parallel(n_jobs=1)]: Done  50 out of  50 | elapsed:   21.7s finished\n",
            "[Parallel(n_jobs=1)]: Using backend SequentialBackend with 1 concurrent workers.\n",
            "[Parallel(n_jobs=1)]: Done   1 out of   1 | elapsed:    0.0s remaining:    0.0s\n",
            "[Parallel(n_jobs=1)]: Done   2 out of   2 | elapsed:    0.0s remaining:    0.0s\n",
            "[Parallel(n_jobs=1)]: Done  50 out of  50 | elapsed:    0.3s finished\n",
            "[Parallel(n_jobs=1)]: Using backend SequentialBackend with 1 concurrent workers.\n"
          ],
          "name": "stderr"
        },
        {
          "output_type": "stream",
          "text": [
            "building tree 1 of 50\n"
          ],
          "name": "stdout"
        },
        {
          "output_type": "stream",
          "text": [
            "[Parallel(n_jobs=1)]: Done   1 out of   1 | elapsed:    0.5s remaining:    0.0s\n"
          ],
          "name": "stderr"
        },
        {
          "output_type": "stream",
          "text": [
            "building tree 2 of 50\n"
          ],
          "name": "stdout"
        },
        {
          "output_type": "stream",
          "text": [
            "[Parallel(n_jobs=1)]: Done   2 out of   2 | elapsed:    0.8s remaining:    0.0s\n"
          ],
          "name": "stderr"
        },
        {
          "output_type": "stream",
          "text": [
            "building tree 3 of 50\n",
            "building tree 4 of 50\n",
            "building tree 5 of 50\n",
            "building tree 6 of 50\n",
            "building tree 7 of 50\n",
            "building tree 8 of 50\n",
            "building tree 9 of 50\n",
            "building tree 10 of 50\n",
            "building tree 11 of 50\n",
            "building tree 12 of 50\n",
            "building tree 13 of 50\n",
            "building tree 14 of 50\n",
            "building tree 15 of 50\n",
            "building tree 16 of 50\n",
            "building tree 17 of 50\n",
            "building tree 18 of 50\n",
            "building tree 19 of 50\n",
            "building tree 20 of 50\n",
            "building tree 21 of 50\n",
            "building tree 22 of 50\n",
            "building tree 23 of 50\n",
            "building tree 24 of 50\n",
            "building tree 25 of 50\n",
            "building tree 26 of 50\n",
            "building tree 27 of 50\n",
            "building tree 28 of 50\n",
            "building tree 29 of 50\n",
            "building tree 30 of 50\n",
            "building tree 31 of 50\n",
            "building tree 32 of 50\n",
            "building tree 33 of 50\n",
            "building tree 34 of 50\n",
            "building tree 35 of 50\n",
            "building tree 36 of 50\n",
            "building tree 37 of 50\n",
            "building tree 38 of 50\n",
            "building tree 39 of 50\n",
            "building tree 40 of 50\n",
            "building tree 41 of 50\n",
            "building tree 42 of 50\n",
            "building tree 43 of 50\n",
            "building tree 44 of 50\n",
            "building tree 45 of 50\n",
            "building tree 46 of 50\n",
            "building tree 47 of 50\n",
            "building tree 48 of 50\n",
            "building tree 49 of 50\n",
            "building tree 50 of 50\n"
          ],
          "name": "stdout"
        },
        {
          "output_type": "stream",
          "text": [
            "[Parallel(n_jobs=1)]: Done  50 out of  50 | elapsed:   21.3s finished\n",
            "[Parallel(n_jobs=1)]: Using backend SequentialBackend with 1 concurrent workers.\n",
            "[Parallel(n_jobs=1)]: Done   1 out of   1 | elapsed:    0.0s remaining:    0.0s\n",
            "[Parallel(n_jobs=1)]: Done   2 out of   2 | elapsed:    0.0s remaining:    0.0s\n",
            "[Parallel(n_jobs=1)]: Done  50 out of  50 | elapsed:    0.2s finished\n",
            "[Parallel(n_jobs=1)]: Using backend SequentialBackend with 1 concurrent workers.\n"
          ],
          "name": "stderr"
        },
        {
          "output_type": "stream",
          "text": [
            "building tree 1 of 50\n"
          ],
          "name": "stdout"
        },
        {
          "output_type": "stream",
          "text": [
            "[Parallel(n_jobs=1)]: Done   1 out of   1 | elapsed:    0.5s remaining:    0.0s\n"
          ],
          "name": "stderr"
        },
        {
          "output_type": "stream",
          "text": [
            "building tree 2 of 50\n"
          ],
          "name": "stdout"
        },
        {
          "output_type": "stream",
          "text": [
            "[Parallel(n_jobs=1)]: Done   2 out of   2 | elapsed:    0.9s remaining:    0.0s\n"
          ],
          "name": "stderr"
        },
        {
          "output_type": "stream",
          "text": [
            "building tree 3 of 50\n",
            "building tree 4 of 50\n",
            "building tree 5 of 50\n",
            "building tree 6 of 50\n",
            "building tree 7 of 50\n",
            "building tree 8 of 50\n",
            "building tree 9 of 50\n",
            "building tree 10 of 50\n",
            "building tree 11 of 50\n",
            "building tree 12 of 50\n",
            "building tree 13 of 50\n",
            "building tree 14 of 50\n",
            "building tree 15 of 50\n",
            "building tree 16 of 50\n",
            "building tree 17 of 50\n",
            "building tree 18 of 50\n",
            "building tree 19 of 50\n",
            "building tree 20 of 50\n",
            "building tree 21 of 50\n",
            "building tree 22 of 50\n",
            "building tree 23 of 50\n",
            "building tree 24 of 50\n",
            "building tree 25 of 50\n",
            "building tree 26 of 50\n",
            "building tree 27 of 50\n",
            "building tree 28 of 50\n",
            "building tree 29 of 50\n",
            "building tree 30 of 50\n",
            "building tree 31 of 50\n",
            "building tree 32 of 50\n",
            "building tree 33 of 50\n",
            "building tree 34 of 50\n",
            "building tree 35 of 50\n",
            "building tree 36 of 50\n",
            "building tree 37 of 50\n",
            "building tree 38 of 50\n",
            "building tree 39 of 50\n",
            "building tree 40 of 50\n",
            "building tree 41 of 50\n",
            "building tree 42 of 50\n",
            "building tree 43 of 50\n",
            "building tree 44 of 50\n",
            "building tree 45 of 50\n",
            "building tree 46 of 50\n",
            "building tree 47 of 50\n",
            "building tree 48 of 50\n",
            "building tree 49 of 50\n",
            "building tree 50 of 50\n"
          ],
          "name": "stdout"
        },
        {
          "output_type": "stream",
          "text": [
            "[Parallel(n_jobs=1)]: Done  50 out of  50 | elapsed:   21.2s finished\n",
            "[Parallel(n_jobs=1)]: Using backend SequentialBackend with 1 concurrent workers.\n",
            "[Parallel(n_jobs=1)]: Done   1 out of   1 | elapsed:    0.0s remaining:    0.0s\n",
            "[Parallel(n_jobs=1)]: Done   2 out of   2 | elapsed:    0.0s remaining:    0.0s\n",
            "[Parallel(n_jobs=1)]: Done  50 out of  50 | elapsed:    0.2s finished\n",
            "[Parallel(n_jobs=1)]: Using backend SequentialBackend with 1 concurrent workers.\n"
          ],
          "name": "stderr"
        },
        {
          "output_type": "stream",
          "text": [
            "building tree 1 of 50\n"
          ],
          "name": "stdout"
        },
        {
          "output_type": "stream",
          "text": [
            "[Parallel(n_jobs=1)]: Done   1 out of   1 | elapsed:    0.4s remaining:    0.0s\n"
          ],
          "name": "stderr"
        },
        {
          "output_type": "stream",
          "text": [
            "building tree 2 of 50\n"
          ],
          "name": "stdout"
        },
        {
          "output_type": "stream",
          "text": [
            "[Parallel(n_jobs=1)]: Done   2 out of   2 | elapsed:    0.8s remaining:    0.0s\n"
          ],
          "name": "stderr"
        },
        {
          "output_type": "stream",
          "text": [
            "building tree 3 of 50\n",
            "building tree 4 of 50\n",
            "building tree 5 of 50\n",
            "building tree 6 of 50\n",
            "building tree 7 of 50\n",
            "building tree 8 of 50\n",
            "building tree 9 of 50\n",
            "building tree 10 of 50\n",
            "building tree 11 of 50\n",
            "building tree 12 of 50\n",
            "building tree 13 of 50\n",
            "building tree 14 of 50\n",
            "building tree 15 of 50\n",
            "building tree 16 of 50\n",
            "building tree 17 of 50\n",
            "building tree 18 of 50\n",
            "building tree 19 of 50\n",
            "building tree 20 of 50\n",
            "building tree 21 of 50\n",
            "building tree 22 of 50\n",
            "building tree 23 of 50\n",
            "building tree 24 of 50\n",
            "building tree 25 of 50\n",
            "building tree 26 of 50\n",
            "building tree 27 of 50\n",
            "building tree 28 of 50\n",
            "building tree 29 of 50\n",
            "building tree 30 of 50\n",
            "building tree 31 of 50\n",
            "building tree 32 of 50\n",
            "building tree 33 of 50\n",
            "building tree 34 of 50\n",
            "building tree 35 of 50\n",
            "building tree 36 of 50\n",
            "building tree 37 of 50\n",
            "building tree 38 of 50\n",
            "building tree 39 of 50\n",
            "building tree 40 of 50\n",
            "building tree 41 of 50\n",
            "building tree 42 of 50\n",
            "building tree 43 of 50\n",
            "building tree 44 of 50\n",
            "building tree 45 of 50\n",
            "building tree 46 of 50\n",
            "building tree 47 of 50\n",
            "building tree 48 of 50\n",
            "building tree 49 of 50\n",
            "building tree 50 of 50\n"
          ],
          "name": "stdout"
        },
        {
          "output_type": "stream",
          "text": [
            "[Parallel(n_jobs=1)]: Done  50 out of  50 | elapsed:   21.1s finished\n",
            "[Parallel(n_jobs=1)]: Using backend SequentialBackend with 1 concurrent workers.\n",
            "[Parallel(n_jobs=1)]: Done   1 out of   1 | elapsed:    0.0s remaining:    0.0s\n",
            "[Parallel(n_jobs=1)]: Done   2 out of   2 | elapsed:    0.0s remaining:    0.0s\n",
            "[Parallel(n_jobs=1)]: Done  50 out of  50 | elapsed:    0.3s finished\n",
            "[Parallel(n_jobs=1)]: Using backend SequentialBackend with 1 concurrent workers.\n"
          ],
          "name": "stderr"
        },
        {
          "output_type": "stream",
          "text": [
            "building tree 1 of 50\n"
          ],
          "name": "stdout"
        },
        {
          "output_type": "stream",
          "text": [
            "[Parallel(n_jobs=1)]: Done   1 out of   1 | elapsed:    0.4s remaining:    0.0s\n"
          ],
          "name": "stderr"
        },
        {
          "output_type": "stream",
          "text": [
            "building tree 2 of 50\n"
          ],
          "name": "stdout"
        },
        {
          "output_type": "stream",
          "text": [
            "[Parallel(n_jobs=1)]: Done   2 out of   2 | elapsed:    0.8s remaining:    0.0s\n"
          ],
          "name": "stderr"
        },
        {
          "output_type": "stream",
          "text": [
            "building tree 3 of 50\n",
            "building tree 4 of 50\n",
            "building tree 5 of 50\n",
            "building tree 6 of 50\n",
            "building tree 7 of 50\n",
            "building tree 8 of 50\n",
            "building tree 9 of 50\n",
            "building tree 10 of 50\n",
            "building tree 11 of 50\n",
            "building tree 12 of 50\n",
            "building tree 13 of 50\n",
            "building tree 14 of 50\n",
            "building tree 15 of 50\n",
            "building tree 16 of 50\n",
            "building tree 17 of 50\n",
            "building tree 18 of 50\n",
            "building tree 19 of 50\n",
            "building tree 20 of 50\n",
            "building tree 21 of 50\n",
            "building tree 22 of 50\n",
            "building tree 23 of 50\n",
            "building tree 24 of 50\n",
            "building tree 25 of 50\n",
            "building tree 26 of 50\n",
            "building tree 27 of 50\n",
            "building tree 28 of 50\n",
            "building tree 29 of 50\n",
            "building tree 30 of 50\n",
            "building tree 31 of 50\n",
            "building tree 32 of 50\n",
            "building tree 33 of 50\n",
            "building tree 34 of 50\n",
            "building tree 35 of 50\n",
            "building tree 36 of 50\n",
            "building tree 37 of 50\n",
            "building tree 38 of 50\n",
            "building tree 39 of 50\n",
            "building tree 40 of 50\n",
            "building tree 41 of 50\n",
            "building tree 42 of 50\n",
            "building tree 43 of 50\n",
            "building tree 44 of 50\n",
            "building tree 45 of 50\n",
            "building tree 46 of 50\n",
            "building tree 47 of 50\n",
            "building tree 48 of 50\n",
            "building tree 49 of 50\n",
            "building tree 50 of 50\n"
          ],
          "name": "stdout"
        },
        {
          "output_type": "stream",
          "text": [
            "[Parallel(n_jobs=1)]: Done  50 out of  50 | elapsed:   21.5s finished\n",
            "[Parallel(n_jobs=1)]: Using backend SequentialBackend with 1 concurrent workers.\n",
            "[Parallel(n_jobs=1)]: Done   1 out of   1 | elapsed:    0.0s remaining:    0.0s\n",
            "[Parallel(n_jobs=1)]: Done   2 out of   2 | elapsed:    0.0s remaining:    0.0s\n",
            "[Parallel(n_jobs=1)]: Done  50 out of  50 | elapsed:    0.3s finished\n",
            "[Parallel(n_jobs=1)]: Using backend SequentialBackend with 1 concurrent workers.\n"
          ],
          "name": "stderr"
        },
        {
          "output_type": "stream",
          "text": [
            "building tree 1 of 50\n"
          ],
          "name": "stdout"
        },
        {
          "output_type": "stream",
          "text": [
            "[Parallel(n_jobs=1)]: Done   1 out of   1 | elapsed:    0.5s remaining:    0.0s\n"
          ],
          "name": "stderr"
        },
        {
          "output_type": "stream",
          "text": [
            "building tree 2 of 50\n"
          ],
          "name": "stdout"
        },
        {
          "output_type": "stream",
          "text": [
            "[Parallel(n_jobs=1)]: Done   2 out of   2 | elapsed:    0.9s remaining:    0.0s\n"
          ],
          "name": "stderr"
        },
        {
          "output_type": "stream",
          "text": [
            "building tree 3 of 50\n",
            "building tree 4 of 50\n",
            "building tree 5 of 50\n",
            "building tree 6 of 50\n",
            "building tree 7 of 50\n",
            "building tree 8 of 50\n",
            "building tree 9 of 50\n",
            "building tree 10 of 50\n",
            "building tree 11 of 50\n",
            "building tree 12 of 50\n",
            "building tree 13 of 50\n",
            "building tree 14 of 50\n",
            "building tree 15 of 50\n",
            "building tree 16 of 50\n",
            "building tree 17 of 50\n",
            "building tree 18 of 50\n",
            "building tree 19 of 50\n",
            "building tree 20 of 50\n",
            "building tree 21 of 50\n",
            "building tree 22 of 50\n",
            "building tree 23 of 50\n",
            "building tree 24 of 50\n",
            "building tree 25 of 50\n",
            "building tree 26 of 50\n",
            "building tree 27 of 50\n",
            "building tree 28 of 50\n",
            "building tree 29 of 50\n",
            "building tree 30 of 50\n",
            "building tree 31 of 50\n",
            "building tree 32 of 50\n",
            "building tree 33 of 50\n",
            "building tree 34 of 50\n",
            "building tree 35 of 50\n",
            "building tree 36 of 50\n",
            "building tree 37 of 50\n",
            "building tree 38 of 50\n",
            "building tree 39 of 50\n",
            "building tree 40 of 50\n",
            "building tree 41 of 50\n",
            "building tree 42 of 50\n",
            "building tree 43 of 50\n",
            "building tree 44 of 50\n",
            "building tree 45 of 50\n",
            "building tree 46 of 50\n",
            "building tree 47 of 50\n",
            "building tree 48 of 50\n",
            "building tree 49 of 50\n",
            "building tree 50 of 50\n"
          ],
          "name": "stdout"
        },
        {
          "output_type": "stream",
          "text": [
            "[Parallel(n_jobs=1)]: Done  50 out of  50 | elapsed:   21.8s finished\n",
            "[Parallel(n_jobs=1)]: Using backend SequentialBackend with 1 concurrent workers.\n",
            "[Parallel(n_jobs=1)]: Done   1 out of   1 | elapsed:    0.0s remaining:    0.0s\n",
            "[Parallel(n_jobs=1)]: Done   2 out of   2 | elapsed:    0.0s remaining:    0.0s\n",
            "[Parallel(n_jobs=1)]: Done  50 out of  50 | elapsed:    0.3s finished\n",
            "/usr/local/lib/python3.6/dist-packages/sklearn/model_selection/_search.py:823: FutureWarning: The parameter 'iid' is deprecated in 0.22 and will be removed in 0.24.\n",
            "  \"removed in 0.24.\", FutureWarning\n",
            "[Parallel(n_jobs=1)]: Using backend SequentialBackend with 1 concurrent workers.\n",
            "[Parallel(n_jobs=1)]: Done   1 out of   1 | elapsed:    0.2s remaining:    0.0s\n"
          ],
          "name": "stderr"
        },
        {
          "output_type": "stream",
          "text": [
            "building tree 1 of 50\n",
            "building tree 2 of 50\n"
          ],
          "name": "stdout"
        },
        {
          "output_type": "stream",
          "text": [
            "[Parallel(n_jobs=1)]: Done   2 out of   2 | elapsed:    0.3s remaining:    0.0s\n"
          ],
          "name": "stderr"
        },
        {
          "output_type": "stream",
          "text": [
            "building tree 3 of 50\n",
            "building tree 4 of 50\n",
            "building tree 5 of 50\n",
            "building tree 6 of 50\n",
            "building tree 7 of 50\n",
            "building tree 8 of 50\n",
            "building tree 9 of 50\n",
            "building tree 10 of 50\n",
            "building tree 11 of 50\n",
            "building tree 12 of 50\n",
            "building tree 13 of 50\n",
            "building tree 14 of 50\n",
            "building tree 15 of 50\n",
            "building tree 16 of 50\n",
            "building tree 17 of 50\n",
            "building tree 18 of 50\n",
            "building tree 19 of 50\n",
            "building tree 20 of 50\n",
            "building tree 21 of 50\n",
            "building tree 22 of 50\n",
            "building tree 23 of 50\n",
            "building tree 24 of 50\n",
            "building tree 25 of 50\n",
            "building tree 26 of 50\n",
            "building tree 27 of 50\n",
            "building tree 28 of 50\n",
            "building tree 29 of 50\n",
            "building tree 30 of 50\n",
            "building tree 31 of 50\n",
            "building tree 32 of 50\n",
            "building tree 33 of 50\n",
            "building tree 34 of 50\n",
            "building tree 35 of 50\n",
            "building tree 36 of 50\n",
            "building tree 37 of 50\n",
            "building tree 38 of 50\n",
            "building tree 39 of 50\n",
            "building tree 40 of 50\n",
            "building tree 41 of 50\n",
            "building tree 42 of 50\n",
            "building tree 43 of 50\n",
            "building tree 44 of 50\n",
            "building tree 45 of 50\n",
            "building tree 46 of 50\n",
            "building tree 47 of 50\n",
            "building tree 48 of 50\n",
            "building tree 49 of 50\n",
            "building tree 50 of 50\n"
          ],
          "name": "stdout"
        },
        {
          "output_type": "stream",
          "text": [
            "[Parallel(n_jobs=1)]: Done  50 out of  50 | elapsed:    7.3s finished\n"
          ],
          "name": "stderr"
        },
        {
          "output_type": "execute_result",
          "data": {
            "text/plain": [
              "GridSearchCV(cv=5, error_score=nan,\n",
              "             estimator=RandomForestClassifier(bootstrap=True, ccp_alpha=0.0,\n",
              "                                              class_weight=None,\n",
              "                                              criterion='gini', max_depth=None,\n",
              "                                              max_features='auto',\n",
              "                                              max_leaf_nodes=None,\n",
              "                                              max_samples=None,\n",
              "                                              min_impurity_decrease=0.0,\n",
              "                                              min_impurity_split=None,\n",
              "                                              min_samples_leaf=1,\n",
              "                                              min_samples_split=5,\n",
              "                                              min_weight_fraction_leaf=0.0,\n",
              "                                              n_estimators=50, n_jobs=None,\n",
              "                                              oob_score=False, random_state=42,\n",
              "                                              verbose=3, warm_start=False),\n",
              "             iid=False, n_jobs=None,\n",
              "             param_grid={'max_depth': [300, 400, 500, 600]},\n",
              "             pre_dispatch='2*n_jobs', refit=True, return_train_score=False,\n",
              "             scoring='roc_auc', verbose=0)"
            ]
          },
          "metadata": {
            "tags": []
          },
          "execution_count": 33
        }
      ]
    },
    {
      "cell_type": "code",
      "metadata": {
        "id": "WUi52Aa2OtIM",
        "colab_type": "code",
        "colab": {
          "base_uri": "https://localhost:8080/",
          "height": 34
        },
        "outputId": "5ebe34f8-7bf2-40d5-e092-a20cedbac738"
      },
      "source": [
        "grid_search.best_params_"
      ],
      "execution_count": 34,
      "outputs": [
        {
          "output_type": "execute_result",
          "data": {
            "text/plain": [
              "{'max_depth': 400}"
            ]
          },
          "metadata": {
            "tags": []
          },
          "execution_count": 34
        }
      ]
    },
    {
      "cell_type": "code",
      "metadata": {
        "id": "zQ5DI76jOtIT",
        "colab_type": "code",
        "colab": {}
      },
      "source": [
        "random_forest_refined = RandomForestClassifier(random_state=random_state, n_estimators=50, min_samples_split=5,\n",
        "                                              max_depth=500)"
      ],
      "execution_count": 0,
      "outputs": []
    },
    {
      "cell_type": "code",
      "metadata": {
        "id": "VJa5ru0TOtIk",
        "colab_type": "code",
        "colab": {
          "base_uri": "https://localhost:8080/",
          "height": 170
        },
        "outputId": "252a2454-27f1-4805-98ef-736acc7fcaec"
      },
      "source": [
        "display_models([(random_forest_refined, 'Random Forest Refinement 3')])"
      ],
      "execution_count": 36,
      "outputs": [
        {
          "output_type": "stream",
          "text": [
            "-------------------\n",
            "Random Forest Refinement 3:\n",
            "Single AUC score:  0.8435929386473962\n",
            "--- Cross validation scores ---\n",
            "Scores:  [0.86154948 0.8077854  0.81984328 0.86574182 0.84937244 0.88038635\n",
            " 0.86486174 0.87066742 0.87113437 0.87783591]\n",
            "Mean:  0.8569178209427569\n",
            "Std:  0.023210708942720187\n",
            "-------------------\n"
          ],
          "name": "stdout"
        }
      ]
    },
    {
      "cell_type": "code",
      "metadata": {
        "id": "9zpkd37sOtI1",
        "colab_type": "code",
        "colab": {}
      },
      "source": [
        "param_rf = {\n",
        "    'min_samples_leaf': [1, 2, 3, 4]}\n",
        "grid_search = GridSearchCV(estimator = RandomForestClassifier(random_state=random_state, n_estimators=50, verbose=3,\n",
        "                     min_samples_split=5, max_depth=500), param_grid = param_rf, scoring='roc_auc',iid=False, cv=5)"
      ],
      "execution_count": 0,
      "outputs": []
    },
    {
      "cell_type": "code",
      "metadata": {
        "collapsed": true,
        "id": "Zxzq6ZrFOtJB",
        "colab_type": "code",
        "colab": {
          "base_uri": "https://localhost:8080/",
          "height": 1000
        },
        "outputId": "c7e3c410-caa7-4ced-96aa-df1fa0af68eb"
      },
      "source": [
        "grid_search.fit(access_1hot, access_labels)"
      ],
      "execution_count": 38,
      "outputs": [
        {
          "output_type": "stream",
          "text": [
            "building tree 1 of 50\n"
          ],
          "name": "stdout"
        },
        {
          "output_type": "stream",
          "text": [
            "[Parallel(n_jobs=1)]: Using backend SequentialBackend with 1 concurrent workers.\n",
            "[Parallel(n_jobs=1)]: Done   1 out of   1 | elapsed:    0.5s remaining:    0.0s\n"
          ],
          "name": "stderr"
        },
        {
          "output_type": "stream",
          "text": [
            "building tree 2 of 50\n"
          ],
          "name": "stdout"
        },
        {
          "output_type": "stream",
          "text": [
            "[Parallel(n_jobs=1)]: Done   2 out of   2 | elapsed:    0.8s remaining:    0.0s\n"
          ],
          "name": "stderr"
        },
        {
          "output_type": "stream",
          "text": [
            "building tree 3 of 50\n",
            "building tree 4 of 50\n",
            "building tree 5 of 50\n",
            "building tree 6 of 50\n",
            "building tree 7 of 50\n",
            "building tree 8 of 50\n",
            "building tree 9 of 50\n",
            "building tree 10 of 50\n",
            "building tree 11 of 50\n",
            "building tree 12 of 50\n",
            "building tree 13 of 50\n",
            "building tree 14 of 50\n",
            "building tree 15 of 50\n",
            "building tree 16 of 50\n",
            "building tree 17 of 50\n",
            "building tree 18 of 50\n",
            "building tree 19 of 50\n",
            "building tree 20 of 50\n",
            "building tree 21 of 50\n",
            "building tree 22 of 50\n",
            "building tree 23 of 50\n",
            "building tree 24 of 50\n",
            "building tree 25 of 50\n",
            "building tree 26 of 50\n",
            "building tree 27 of 50\n",
            "building tree 28 of 50\n",
            "building tree 29 of 50\n",
            "building tree 30 of 50\n",
            "building tree 31 of 50\n",
            "building tree 32 of 50\n",
            "building tree 33 of 50\n",
            "building tree 34 of 50\n",
            "building tree 35 of 50\n",
            "building tree 36 of 50\n",
            "building tree 37 of 50\n",
            "building tree 38 of 50\n",
            "building tree 39 of 50\n",
            "building tree 40 of 50\n",
            "building tree 41 of 50\n",
            "building tree 42 of 50\n",
            "building tree 43 of 50\n",
            "building tree 44 of 50\n",
            "building tree 45 of 50\n",
            "building tree 46 of 50\n",
            "building tree 47 of 50\n",
            "building tree 48 of 50\n",
            "building tree 49 of 50\n",
            "building tree 50 of 50\n"
          ],
          "name": "stdout"
        },
        {
          "output_type": "stream",
          "text": [
            "[Parallel(n_jobs=1)]: Done  50 out of  50 | elapsed:   22.0s finished\n",
            "[Parallel(n_jobs=1)]: Using backend SequentialBackend with 1 concurrent workers.\n",
            "[Parallel(n_jobs=1)]: Done   1 out of   1 | elapsed:    0.0s remaining:    0.0s\n",
            "[Parallel(n_jobs=1)]: Done   2 out of   2 | elapsed:    0.0s remaining:    0.0s\n",
            "[Parallel(n_jobs=1)]: Done  50 out of  50 | elapsed:    0.3s finished\n",
            "[Parallel(n_jobs=1)]: Using backend SequentialBackend with 1 concurrent workers.\n"
          ],
          "name": "stderr"
        },
        {
          "output_type": "stream",
          "text": [
            "building tree 1 of 50\n"
          ],
          "name": "stdout"
        },
        {
          "output_type": "stream",
          "text": [
            "[Parallel(n_jobs=1)]: Done   1 out of   1 | elapsed:    0.5s remaining:    0.0s\n"
          ],
          "name": "stderr"
        },
        {
          "output_type": "stream",
          "text": [
            "building tree 2 of 50\n"
          ],
          "name": "stdout"
        },
        {
          "output_type": "stream",
          "text": [
            "[Parallel(n_jobs=1)]: Done   2 out of   2 | elapsed:    0.9s remaining:    0.0s\n"
          ],
          "name": "stderr"
        },
        {
          "output_type": "stream",
          "text": [
            "building tree 3 of 50\n",
            "building tree 4 of 50\n",
            "building tree 5 of 50\n",
            "building tree 6 of 50\n",
            "building tree 7 of 50\n",
            "building tree 8 of 50\n",
            "building tree 9 of 50\n",
            "building tree 10 of 50\n",
            "building tree 11 of 50\n",
            "building tree 12 of 50\n",
            "building tree 13 of 50\n",
            "building tree 14 of 50\n",
            "building tree 15 of 50\n",
            "building tree 16 of 50\n",
            "building tree 17 of 50\n",
            "building tree 18 of 50\n",
            "building tree 19 of 50\n",
            "building tree 20 of 50\n",
            "building tree 21 of 50\n",
            "building tree 22 of 50\n",
            "building tree 23 of 50\n",
            "building tree 24 of 50\n",
            "building tree 25 of 50\n",
            "building tree 26 of 50\n",
            "building tree 27 of 50\n",
            "building tree 28 of 50\n",
            "building tree 29 of 50\n",
            "building tree 30 of 50\n",
            "building tree 31 of 50\n",
            "building tree 32 of 50\n",
            "building tree 33 of 50\n",
            "building tree 34 of 50\n",
            "building tree 35 of 50\n",
            "building tree 36 of 50\n",
            "building tree 37 of 50\n",
            "building tree 38 of 50\n",
            "building tree 39 of 50\n",
            "building tree 40 of 50\n",
            "building tree 41 of 50\n",
            "building tree 42 of 50\n",
            "building tree 43 of 50\n",
            "building tree 44 of 50\n",
            "building tree 45 of 50\n",
            "building tree 46 of 50\n",
            "building tree 47 of 50\n",
            "building tree 48 of 50\n",
            "building tree 49 of 50\n",
            "building tree 50 of 50\n"
          ],
          "name": "stdout"
        },
        {
          "output_type": "stream",
          "text": [
            "[Parallel(n_jobs=1)]: Done  50 out of  50 | elapsed:   21.3s finished\n",
            "[Parallel(n_jobs=1)]: Using backend SequentialBackend with 1 concurrent workers.\n",
            "[Parallel(n_jobs=1)]: Done   1 out of   1 | elapsed:    0.0s remaining:    0.0s\n",
            "[Parallel(n_jobs=1)]: Done   2 out of   2 | elapsed:    0.0s remaining:    0.0s\n",
            "[Parallel(n_jobs=1)]: Done  50 out of  50 | elapsed:    0.3s finished\n",
            "[Parallel(n_jobs=1)]: Using backend SequentialBackend with 1 concurrent workers.\n"
          ],
          "name": "stderr"
        },
        {
          "output_type": "stream",
          "text": [
            "building tree 1 of 50\n"
          ],
          "name": "stdout"
        },
        {
          "output_type": "stream",
          "text": [
            "[Parallel(n_jobs=1)]: Done   1 out of   1 | elapsed:    0.4s remaining:    0.0s\n"
          ],
          "name": "stderr"
        },
        {
          "output_type": "stream",
          "text": [
            "building tree 2 of 50\n"
          ],
          "name": "stdout"
        },
        {
          "output_type": "stream",
          "text": [
            "[Parallel(n_jobs=1)]: Done   2 out of   2 | elapsed:    0.8s remaining:    0.0s\n"
          ],
          "name": "stderr"
        },
        {
          "output_type": "stream",
          "text": [
            "building tree 3 of 50\n",
            "building tree 4 of 50\n",
            "building tree 5 of 50\n",
            "building tree 6 of 50\n",
            "building tree 7 of 50\n",
            "building tree 8 of 50\n",
            "building tree 9 of 50\n",
            "building tree 10 of 50\n",
            "building tree 11 of 50\n",
            "building tree 12 of 50\n",
            "building tree 13 of 50\n",
            "building tree 14 of 50\n",
            "building tree 15 of 50\n",
            "building tree 16 of 50\n",
            "building tree 17 of 50\n",
            "building tree 18 of 50\n",
            "building tree 19 of 50\n",
            "building tree 20 of 50\n",
            "building tree 21 of 50\n",
            "building tree 22 of 50\n",
            "building tree 23 of 50\n",
            "building tree 24 of 50\n",
            "building tree 25 of 50\n",
            "building tree 26 of 50\n",
            "building tree 27 of 50\n",
            "building tree 28 of 50\n",
            "building tree 29 of 50\n",
            "building tree 30 of 50\n",
            "building tree 31 of 50\n",
            "building tree 32 of 50\n",
            "building tree 33 of 50\n",
            "building tree 34 of 50\n",
            "building tree 35 of 50\n",
            "building tree 36 of 50\n",
            "building tree 37 of 50\n",
            "building tree 38 of 50\n",
            "building tree 39 of 50\n",
            "building tree 40 of 50\n",
            "building tree 41 of 50\n",
            "building tree 42 of 50\n",
            "building tree 43 of 50\n",
            "building tree 44 of 50\n",
            "building tree 45 of 50\n",
            "building tree 46 of 50\n",
            "building tree 47 of 50\n",
            "building tree 48 of 50\n",
            "building tree 49 of 50\n",
            "building tree 50 of 50\n"
          ],
          "name": "stdout"
        },
        {
          "output_type": "stream",
          "text": [
            "[Parallel(n_jobs=1)]: Done  50 out of  50 | elapsed:   21.2s finished\n",
            "[Parallel(n_jobs=1)]: Using backend SequentialBackend with 1 concurrent workers.\n",
            "[Parallel(n_jobs=1)]: Done   1 out of   1 | elapsed:    0.0s remaining:    0.0s\n",
            "[Parallel(n_jobs=1)]: Done   2 out of   2 | elapsed:    0.0s remaining:    0.0s\n",
            "[Parallel(n_jobs=1)]: Done  50 out of  50 | elapsed:    0.3s finished\n",
            "[Parallel(n_jobs=1)]: Using backend SequentialBackend with 1 concurrent workers.\n"
          ],
          "name": "stderr"
        },
        {
          "output_type": "stream",
          "text": [
            "building tree 1 of 50\n"
          ],
          "name": "stdout"
        },
        {
          "output_type": "stream",
          "text": [
            "[Parallel(n_jobs=1)]: Done   1 out of   1 | elapsed:    0.4s remaining:    0.0s\n"
          ],
          "name": "stderr"
        },
        {
          "output_type": "stream",
          "text": [
            "building tree 2 of 50\n"
          ],
          "name": "stdout"
        },
        {
          "output_type": "stream",
          "text": [
            "[Parallel(n_jobs=1)]: Done   2 out of   2 | elapsed:    0.8s remaining:    0.0s\n"
          ],
          "name": "stderr"
        },
        {
          "output_type": "stream",
          "text": [
            "building tree 3 of 50\n",
            "building tree 4 of 50\n",
            "building tree 5 of 50\n",
            "building tree 6 of 50\n",
            "building tree 7 of 50\n",
            "building tree 8 of 50\n",
            "building tree 9 of 50\n",
            "building tree 10 of 50\n",
            "building tree 11 of 50\n",
            "building tree 12 of 50\n",
            "building tree 13 of 50\n",
            "building tree 14 of 50\n",
            "building tree 15 of 50\n",
            "building tree 16 of 50\n",
            "building tree 17 of 50\n",
            "building tree 18 of 50\n",
            "building tree 19 of 50\n",
            "building tree 20 of 50\n",
            "building tree 21 of 50\n",
            "building tree 22 of 50\n",
            "building tree 23 of 50\n",
            "building tree 24 of 50\n",
            "building tree 25 of 50\n",
            "building tree 26 of 50\n",
            "building tree 27 of 50\n",
            "building tree 28 of 50\n",
            "building tree 29 of 50\n",
            "building tree 30 of 50\n",
            "building tree 31 of 50\n",
            "building tree 32 of 50\n",
            "building tree 33 of 50\n",
            "building tree 34 of 50\n",
            "building tree 35 of 50\n",
            "building tree 36 of 50\n",
            "building tree 37 of 50\n",
            "building tree 38 of 50\n",
            "building tree 39 of 50\n",
            "building tree 40 of 50\n",
            "building tree 41 of 50\n",
            "building tree 42 of 50\n",
            "building tree 43 of 50\n",
            "building tree 44 of 50\n",
            "building tree 45 of 50\n",
            "building tree 46 of 50\n",
            "building tree 47 of 50\n",
            "building tree 48 of 50\n",
            "building tree 49 of 50\n",
            "building tree 50 of 50\n"
          ],
          "name": "stdout"
        },
        {
          "output_type": "stream",
          "text": [
            "[Parallel(n_jobs=1)]: Done  50 out of  50 | elapsed:   21.7s finished\n",
            "[Parallel(n_jobs=1)]: Using backend SequentialBackend with 1 concurrent workers.\n",
            "[Parallel(n_jobs=1)]: Done   1 out of   1 | elapsed:    0.0s remaining:    0.0s\n",
            "[Parallel(n_jobs=1)]: Done   2 out of   2 | elapsed:    0.0s remaining:    0.0s\n",
            "[Parallel(n_jobs=1)]: Done  50 out of  50 | elapsed:    0.3s finished\n",
            "[Parallel(n_jobs=1)]: Using backend SequentialBackend with 1 concurrent workers.\n"
          ],
          "name": "stderr"
        },
        {
          "output_type": "stream",
          "text": [
            "building tree 1 of 50\n"
          ],
          "name": "stdout"
        },
        {
          "output_type": "stream",
          "text": [
            "[Parallel(n_jobs=1)]: Done   1 out of   1 | elapsed:    0.5s remaining:    0.0s\n"
          ],
          "name": "stderr"
        },
        {
          "output_type": "stream",
          "text": [
            "building tree 2 of 50\n"
          ],
          "name": "stdout"
        },
        {
          "output_type": "stream",
          "text": [
            "[Parallel(n_jobs=1)]: Done   2 out of   2 | elapsed:    0.9s remaining:    0.0s\n"
          ],
          "name": "stderr"
        },
        {
          "output_type": "stream",
          "text": [
            "building tree 3 of 50\n",
            "building tree 4 of 50\n",
            "building tree 5 of 50\n",
            "building tree 6 of 50\n",
            "building tree 7 of 50\n",
            "building tree 8 of 50\n",
            "building tree 9 of 50\n",
            "building tree 10 of 50\n",
            "building tree 11 of 50\n",
            "building tree 12 of 50\n",
            "building tree 13 of 50\n",
            "building tree 14 of 50\n",
            "building tree 15 of 50\n",
            "building tree 16 of 50\n",
            "building tree 17 of 50\n",
            "building tree 18 of 50\n",
            "building tree 19 of 50\n",
            "building tree 20 of 50\n",
            "building tree 21 of 50\n",
            "building tree 22 of 50\n",
            "building tree 23 of 50\n",
            "building tree 24 of 50\n",
            "building tree 25 of 50\n",
            "building tree 26 of 50\n",
            "building tree 27 of 50\n",
            "building tree 28 of 50\n",
            "building tree 29 of 50\n",
            "building tree 30 of 50\n",
            "building tree 31 of 50\n",
            "building tree 32 of 50\n",
            "building tree 33 of 50\n",
            "building tree 34 of 50\n",
            "building tree 35 of 50\n",
            "building tree 36 of 50\n",
            "building tree 37 of 50\n",
            "building tree 38 of 50\n",
            "building tree 39 of 50\n",
            "building tree 40 of 50\n",
            "building tree 41 of 50\n",
            "building tree 42 of 50\n",
            "building tree 43 of 50\n",
            "building tree 44 of 50\n",
            "building tree 45 of 50\n",
            "building tree 46 of 50\n",
            "building tree 47 of 50\n",
            "building tree 48 of 50\n",
            "building tree 49 of 50\n",
            "building tree 50 of 50\n"
          ],
          "name": "stdout"
        },
        {
          "output_type": "stream",
          "text": [
            "[Parallel(n_jobs=1)]: Done  50 out of  50 | elapsed:   21.9s finished\n",
            "[Parallel(n_jobs=1)]: Using backend SequentialBackend with 1 concurrent workers.\n",
            "[Parallel(n_jobs=1)]: Done   1 out of   1 | elapsed:    0.0s remaining:    0.0s\n",
            "[Parallel(n_jobs=1)]: Done   2 out of   2 | elapsed:    0.0s remaining:    0.0s\n",
            "[Parallel(n_jobs=1)]: Done  50 out of  50 | elapsed:    0.3s finished\n",
            "[Parallel(n_jobs=1)]: Using backend SequentialBackend with 1 concurrent workers.\n"
          ],
          "name": "stderr"
        },
        {
          "output_type": "stream",
          "text": [
            "building tree 1 of 50\n"
          ],
          "name": "stdout"
        },
        {
          "output_type": "stream",
          "text": [
            "[Parallel(n_jobs=1)]: Done   1 out of   1 | elapsed:    0.2s remaining:    0.0s\n"
          ],
          "name": "stderr"
        },
        {
          "output_type": "stream",
          "text": [
            "building tree 2 of 50\n"
          ],
          "name": "stdout"
        },
        {
          "output_type": "stream",
          "text": [
            "[Parallel(n_jobs=1)]: Done   2 out of   2 | elapsed:    0.4s remaining:    0.0s\n"
          ],
          "name": "stderr"
        },
        {
          "output_type": "stream",
          "text": [
            "building tree 3 of 50\n",
            "building tree 4 of 50\n",
            "building tree 5 of 50\n",
            "building tree 6 of 50\n",
            "building tree 7 of 50\n",
            "building tree 8 of 50\n",
            "building tree 9 of 50\n",
            "building tree 10 of 50\n",
            "building tree 11 of 50\n",
            "building tree 12 of 50\n",
            "building tree 13 of 50\n",
            "building tree 14 of 50\n",
            "building tree 15 of 50\n",
            "building tree 16 of 50\n",
            "building tree 17 of 50\n",
            "building tree 18 of 50\n",
            "building tree 19 of 50\n",
            "building tree 20 of 50\n",
            "building tree 21 of 50\n",
            "building tree 22 of 50\n",
            "building tree 23 of 50\n",
            "building tree 24 of 50\n",
            "building tree 25 of 50\n",
            "building tree 26 of 50\n",
            "building tree 27 of 50\n",
            "building tree 28 of 50\n",
            "building tree 29 of 50\n",
            "building tree 30 of 50\n",
            "building tree 31 of 50\n",
            "building tree 32 of 50\n",
            "building tree 33 of 50\n",
            "building tree 34 of 50\n",
            "building tree 35 of 50\n",
            "building tree 36 of 50\n",
            "building tree 37 of 50\n",
            "building tree 38 of 50\n",
            "building tree 39 of 50\n",
            "building tree 40 of 50\n",
            "building tree 41 of 50\n",
            "building tree 42 of 50\n",
            "building tree 43 of 50\n",
            "building tree 44 of 50\n",
            "building tree 45 of 50\n",
            "building tree 46 of 50\n",
            "building tree 47 of 50\n",
            "building tree 48 of 50\n",
            "building tree 49 of 50\n",
            "building tree 50 of 50\n"
          ],
          "name": "stdout"
        },
        {
          "output_type": "stream",
          "text": [
            "[Parallel(n_jobs=1)]: Done  50 out of  50 | elapsed:   16.3s finished\n",
            "[Parallel(n_jobs=1)]: Using backend SequentialBackend with 1 concurrent workers.\n",
            "[Parallel(n_jobs=1)]: Done   1 out of   1 | elapsed:    0.0s remaining:    0.0s\n",
            "[Parallel(n_jobs=1)]: Done   2 out of   2 | elapsed:    0.0s remaining:    0.0s\n",
            "[Parallel(n_jobs=1)]: Done  50 out of  50 | elapsed:    0.2s finished\n",
            "[Parallel(n_jobs=1)]: Using backend SequentialBackend with 1 concurrent workers.\n"
          ],
          "name": "stderr"
        },
        {
          "output_type": "stream",
          "text": [
            "building tree 1 of 50\n"
          ],
          "name": "stdout"
        },
        {
          "output_type": "stream",
          "text": [
            "[Parallel(n_jobs=1)]: Done   1 out of   1 | elapsed:    0.3s remaining:    0.0s\n"
          ],
          "name": "stderr"
        },
        {
          "output_type": "stream",
          "text": [
            "building tree 2 of 50\n"
          ],
          "name": "stdout"
        },
        {
          "output_type": "stream",
          "text": [
            "[Parallel(n_jobs=1)]: Done   2 out of   2 | elapsed:    0.5s remaining:    0.0s\n"
          ],
          "name": "stderr"
        },
        {
          "output_type": "stream",
          "text": [
            "building tree 3 of 50\n",
            "building tree 4 of 50\n",
            "building tree 5 of 50\n",
            "building tree 6 of 50\n",
            "building tree 7 of 50\n",
            "building tree 8 of 50\n",
            "building tree 9 of 50\n",
            "building tree 10 of 50\n",
            "building tree 11 of 50\n",
            "building tree 12 of 50\n",
            "building tree 13 of 50\n",
            "building tree 14 of 50\n",
            "building tree 15 of 50\n",
            "building tree 16 of 50\n",
            "building tree 17 of 50\n",
            "building tree 18 of 50\n",
            "building tree 19 of 50\n",
            "building tree 20 of 50\n",
            "building tree 21 of 50\n",
            "building tree 22 of 50\n",
            "building tree 23 of 50\n",
            "building tree 24 of 50\n",
            "building tree 25 of 50\n",
            "building tree 26 of 50\n",
            "building tree 27 of 50\n",
            "building tree 28 of 50\n",
            "building tree 29 of 50\n",
            "building tree 30 of 50\n",
            "building tree 31 of 50\n",
            "building tree 32 of 50\n",
            "building tree 33 of 50\n",
            "building tree 34 of 50\n",
            "building tree 35 of 50\n",
            "building tree 36 of 50\n",
            "building tree 37 of 50\n",
            "building tree 38 of 50\n",
            "building tree 39 of 50\n",
            "building tree 40 of 50\n",
            "building tree 41 of 50\n",
            "building tree 42 of 50\n",
            "building tree 43 of 50\n",
            "building tree 44 of 50\n",
            "building tree 45 of 50\n",
            "building tree 46 of 50\n",
            "building tree 47 of 50\n",
            "building tree 48 of 50\n",
            "building tree 49 of 50\n",
            "building tree 50 of 50\n"
          ],
          "name": "stdout"
        },
        {
          "output_type": "stream",
          "text": [
            "[Parallel(n_jobs=1)]: Done  50 out of  50 | elapsed:   12.9s finished\n",
            "[Parallel(n_jobs=1)]: Using backend SequentialBackend with 1 concurrent workers.\n",
            "[Parallel(n_jobs=1)]: Done   1 out of   1 | elapsed:    0.0s remaining:    0.0s\n",
            "[Parallel(n_jobs=1)]: Done   2 out of   2 | elapsed:    0.0s remaining:    0.0s\n",
            "[Parallel(n_jobs=1)]: Done  50 out of  50 | elapsed:    0.1s finished\n",
            "[Parallel(n_jobs=1)]: Using backend SequentialBackend with 1 concurrent workers.\n"
          ],
          "name": "stderr"
        },
        {
          "output_type": "stream",
          "text": [
            "building tree 1 of 50\n"
          ],
          "name": "stdout"
        },
        {
          "output_type": "stream",
          "text": [
            "[Parallel(n_jobs=1)]: Done   1 out of   1 | elapsed:    0.3s remaining:    0.0s\n"
          ],
          "name": "stderr"
        },
        {
          "output_type": "stream",
          "text": [
            "building tree 2 of 50\n"
          ],
          "name": "stdout"
        },
        {
          "output_type": "stream",
          "text": [
            "[Parallel(n_jobs=1)]: Done   2 out of   2 | elapsed:    0.5s remaining:    0.0s\n"
          ],
          "name": "stderr"
        },
        {
          "output_type": "stream",
          "text": [
            "building tree 3 of 50\n",
            "building tree 4 of 50\n",
            "building tree 5 of 50\n",
            "building tree 6 of 50\n",
            "building tree 7 of 50\n",
            "building tree 8 of 50\n",
            "building tree 9 of 50\n",
            "building tree 10 of 50\n",
            "building tree 11 of 50\n",
            "building tree 12 of 50\n",
            "building tree 13 of 50\n",
            "building tree 14 of 50\n",
            "building tree 15 of 50\n",
            "building tree 16 of 50\n",
            "building tree 17 of 50\n",
            "building tree 18 of 50\n",
            "building tree 19 of 50\n",
            "building tree 20 of 50\n",
            "building tree 21 of 50\n",
            "building tree 22 of 50\n",
            "building tree 23 of 50\n",
            "building tree 24 of 50\n",
            "building tree 25 of 50\n",
            "building tree 26 of 50\n",
            "building tree 27 of 50\n",
            "building tree 28 of 50\n",
            "building tree 29 of 50\n",
            "building tree 30 of 50\n",
            "building tree 31 of 50\n",
            "building tree 32 of 50\n",
            "building tree 33 of 50\n",
            "building tree 34 of 50\n",
            "building tree 35 of 50\n",
            "building tree 36 of 50\n",
            "building tree 37 of 50\n",
            "building tree 38 of 50\n",
            "building tree 39 of 50\n",
            "building tree 40 of 50\n",
            "building tree 41 of 50\n",
            "building tree 42 of 50\n",
            "building tree 43 of 50\n",
            "building tree 44 of 50\n",
            "building tree 45 of 50\n",
            "building tree 46 of 50\n",
            "building tree 47 of 50\n",
            "building tree 48 of 50\n",
            "building tree 49 of 50\n",
            "building tree 50 of 50\n"
          ],
          "name": "stdout"
        },
        {
          "output_type": "stream",
          "text": [
            "[Parallel(n_jobs=1)]: Done  50 out of  50 | elapsed:   13.4s finished\n",
            "[Parallel(n_jobs=1)]: Using backend SequentialBackend with 1 concurrent workers.\n",
            "[Parallel(n_jobs=1)]: Done   1 out of   1 | elapsed:    0.0s remaining:    0.0s\n",
            "[Parallel(n_jobs=1)]: Done   2 out of   2 | elapsed:    0.0s remaining:    0.0s\n",
            "[Parallel(n_jobs=1)]: Done  50 out of  50 | elapsed:    0.2s finished\n",
            "[Parallel(n_jobs=1)]: Using backend SequentialBackend with 1 concurrent workers.\n"
          ],
          "name": "stderr"
        },
        {
          "output_type": "stream",
          "text": [
            "building tree 1 of 50\n"
          ],
          "name": "stdout"
        },
        {
          "output_type": "stream",
          "text": [
            "[Parallel(n_jobs=1)]: Done   1 out of   1 | elapsed:    0.2s remaining:    0.0s\n"
          ],
          "name": "stderr"
        },
        {
          "output_type": "stream",
          "text": [
            "building tree 2 of 50\n"
          ],
          "name": "stdout"
        },
        {
          "output_type": "stream",
          "text": [
            "[Parallel(n_jobs=1)]: Done   2 out of   2 | elapsed:    0.6s remaining:    0.0s\n"
          ],
          "name": "stderr"
        },
        {
          "output_type": "stream",
          "text": [
            "building tree 3 of 50\n",
            "building tree 4 of 50\n",
            "building tree 5 of 50\n",
            "building tree 6 of 50\n",
            "building tree 7 of 50\n",
            "building tree 8 of 50\n",
            "building tree 9 of 50\n",
            "building tree 10 of 50\n",
            "building tree 11 of 50\n",
            "building tree 12 of 50\n",
            "building tree 13 of 50\n",
            "building tree 14 of 50\n",
            "building tree 15 of 50\n",
            "building tree 16 of 50\n",
            "building tree 17 of 50\n",
            "building tree 18 of 50\n",
            "building tree 19 of 50\n",
            "building tree 20 of 50\n",
            "building tree 21 of 50\n",
            "building tree 22 of 50\n",
            "building tree 23 of 50\n",
            "building tree 24 of 50\n",
            "building tree 25 of 50\n",
            "building tree 26 of 50\n",
            "building tree 27 of 50\n",
            "building tree 28 of 50\n",
            "building tree 29 of 50\n",
            "building tree 30 of 50\n",
            "building tree 31 of 50\n",
            "building tree 32 of 50\n",
            "building tree 33 of 50\n",
            "building tree 34 of 50\n",
            "building tree 35 of 50\n",
            "building tree 36 of 50\n",
            "building tree 37 of 50\n",
            "building tree 38 of 50\n",
            "building tree 39 of 50\n",
            "building tree 40 of 50\n",
            "building tree 41 of 50\n",
            "building tree 42 of 50\n",
            "building tree 43 of 50\n",
            "building tree 44 of 50\n",
            "building tree 45 of 50\n",
            "building tree 46 of 50\n",
            "building tree 47 of 50\n",
            "building tree 48 of 50\n",
            "building tree 49 of 50\n",
            "building tree 50 of 50\n"
          ],
          "name": "stdout"
        },
        {
          "output_type": "stream",
          "text": [
            "[Parallel(n_jobs=1)]: Done  50 out of  50 | elapsed:   13.6s finished\n",
            "[Parallel(n_jobs=1)]: Using backend SequentialBackend with 1 concurrent workers.\n",
            "[Parallel(n_jobs=1)]: Done   1 out of   1 | elapsed:    0.0s remaining:    0.0s\n",
            "[Parallel(n_jobs=1)]: Done   2 out of   2 | elapsed:    0.0s remaining:    0.0s\n",
            "[Parallel(n_jobs=1)]: Done  50 out of  50 | elapsed:    0.2s finished\n",
            "[Parallel(n_jobs=1)]: Using backend SequentialBackend with 1 concurrent workers.\n"
          ],
          "name": "stderr"
        },
        {
          "output_type": "stream",
          "text": [
            "building tree 1 of 50\n"
          ],
          "name": "stdout"
        },
        {
          "output_type": "stream",
          "text": [
            "[Parallel(n_jobs=1)]: Done   1 out of   1 | elapsed:    0.3s remaining:    0.0s\n"
          ],
          "name": "stderr"
        },
        {
          "output_type": "stream",
          "text": [
            "building tree 2 of 50\n"
          ],
          "name": "stdout"
        },
        {
          "output_type": "stream",
          "text": [
            "[Parallel(n_jobs=1)]: Done   2 out of   2 | elapsed:    0.6s remaining:    0.0s\n"
          ],
          "name": "stderr"
        },
        {
          "output_type": "stream",
          "text": [
            "building tree 3 of 50\n",
            "building tree 4 of 50\n",
            "building tree 5 of 50\n",
            "building tree 6 of 50\n",
            "building tree 7 of 50\n",
            "building tree 8 of 50\n",
            "building tree 9 of 50\n",
            "building tree 10 of 50\n",
            "building tree 11 of 50\n",
            "building tree 12 of 50\n",
            "building tree 13 of 50\n",
            "building tree 14 of 50\n",
            "building tree 15 of 50\n",
            "building tree 16 of 50\n",
            "building tree 17 of 50\n",
            "building tree 18 of 50\n",
            "building tree 19 of 50\n",
            "building tree 20 of 50\n",
            "building tree 21 of 50\n",
            "building tree 22 of 50\n",
            "building tree 23 of 50\n",
            "building tree 24 of 50\n",
            "building tree 25 of 50\n",
            "building tree 26 of 50\n",
            "building tree 27 of 50\n",
            "building tree 28 of 50\n",
            "building tree 29 of 50\n",
            "building tree 30 of 50\n",
            "building tree 31 of 50\n",
            "building tree 32 of 50\n",
            "building tree 33 of 50\n",
            "building tree 34 of 50\n",
            "building tree 35 of 50\n",
            "building tree 36 of 50\n",
            "building tree 37 of 50\n",
            "building tree 38 of 50\n",
            "building tree 39 of 50\n",
            "building tree 40 of 50\n",
            "building tree 41 of 50\n",
            "building tree 42 of 50\n",
            "building tree 43 of 50\n",
            "building tree 44 of 50\n",
            "building tree 45 of 50\n",
            "building tree 46 of 50\n",
            "building tree 47 of 50\n",
            "building tree 48 of 50\n",
            "building tree 49 of 50\n",
            "building tree 50 of 50\n"
          ],
          "name": "stdout"
        },
        {
          "output_type": "stream",
          "text": [
            "[Parallel(n_jobs=1)]: Done  50 out of  50 | elapsed:   13.8s finished\n",
            "[Parallel(n_jobs=1)]: Using backend SequentialBackend with 1 concurrent workers.\n",
            "[Parallel(n_jobs=1)]: Done   1 out of   1 | elapsed:    0.0s remaining:    0.0s\n",
            "[Parallel(n_jobs=1)]: Done   2 out of   2 | elapsed:    0.0s remaining:    0.0s\n",
            "[Parallel(n_jobs=1)]: Done  50 out of  50 | elapsed:    0.2s finished\n",
            "[Parallel(n_jobs=1)]: Using backend SequentialBackend with 1 concurrent workers.\n"
          ],
          "name": "stderr"
        },
        {
          "output_type": "stream",
          "text": [
            "building tree 1 of 50\n",
            "building tree 2 of 50\n"
          ],
          "name": "stdout"
        },
        {
          "output_type": "stream",
          "text": [
            "[Parallel(n_jobs=1)]: Done   1 out of   1 | elapsed:    0.2s remaining:    0.0s\n",
            "[Parallel(n_jobs=1)]: Done   2 out of   2 | elapsed:    0.3s remaining:    0.0s\n"
          ],
          "name": "stderr"
        },
        {
          "output_type": "stream",
          "text": [
            "building tree 3 of 50\n",
            "building tree 4 of 50\n",
            "building tree 5 of 50\n",
            "building tree 6 of 50\n",
            "building tree 7 of 50\n",
            "building tree 8 of 50\n",
            "building tree 9 of 50\n",
            "building tree 10 of 50\n",
            "building tree 11 of 50\n",
            "building tree 12 of 50\n",
            "building tree 13 of 50\n",
            "building tree 14 of 50\n",
            "building tree 15 of 50\n",
            "building tree 16 of 50\n",
            "building tree 17 of 50\n",
            "building tree 18 of 50\n",
            "building tree 19 of 50\n",
            "building tree 20 of 50\n",
            "building tree 21 of 50\n",
            "building tree 22 of 50\n",
            "building tree 23 of 50\n",
            "building tree 24 of 50\n",
            "building tree 25 of 50\n",
            "building tree 26 of 50\n",
            "building tree 27 of 50\n",
            "building tree 28 of 50\n",
            "building tree 29 of 50\n",
            "building tree 30 of 50\n",
            "building tree 31 of 50\n",
            "building tree 32 of 50\n",
            "building tree 33 of 50\n",
            "building tree 34 of 50\n",
            "building tree 35 of 50\n",
            "building tree 36 of 50\n",
            "building tree 37 of 50\n",
            "building tree 38 of 50\n",
            "building tree 39 of 50\n",
            "building tree 40 of 50\n",
            "building tree 41 of 50\n",
            "building tree 42 of 50\n",
            "building tree 43 of 50\n",
            "building tree 44 of 50\n",
            "building tree 45 of 50\n",
            "building tree 46 of 50\n",
            "building tree 47 of 50\n",
            "building tree 48 of 50\n",
            "building tree 49 of 50\n",
            "building tree 50 of 50\n"
          ],
          "name": "stdout"
        },
        {
          "output_type": "stream",
          "text": [
            "[Parallel(n_jobs=1)]: Done  50 out of  50 | elapsed:   10.6s finished\n",
            "[Parallel(n_jobs=1)]: Using backend SequentialBackend with 1 concurrent workers.\n",
            "[Parallel(n_jobs=1)]: Done   1 out of   1 | elapsed:    0.0s remaining:    0.0s\n",
            "[Parallel(n_jobs=1)]: Done   2 out of   2 | elapsed:    0.0s remaining:    0.0s\n",
            "[Parallel(n_jobs=1)]: Done  50 out of  50 | elapsed:    0.1s finished\n",
            "[Parallel(n_jobs=1)]: Using backend SequentialBackend with 1 concurrent workers.\n"
          ],
          "name": "stderr"
        },
        {
          "output_type": "stream",
          "text": [
            "building tree 1 of 50\n",
            "building tree 2 of 50\n"
          ],
          "name": "stdout"
        },
        {
          "output_type": "stream",
          "text": [
            "[Parallel(n_jobs=1)]: Done   1 out of   1 | elapsed:    0.1s remaining:    0.0s\n",
            "[Parallel(n_jobs=1)]: Done   2 out of   2 | elapsed:    0.3s remaining:    0.0s\n"
          ],
          "name": "stderr"
        },
        {
          "output_type": "stream",
          "text": [
            "building tree 3 of 50\n",
            "building tree 4 of 50\n",
            "building tree 5 of 50\n",
            "building tree 6 of 50\n",
            "building tree 7 of 50\n",
            "building tree 8 of 50\n",
            "building tree 9 of 50\n",
            "building tree 10 of 50\n",
            "building tree 11 of 50\n",
            "building tree 12 of 50\n",
            "building tree 13 of 50\n",
            "building tree 14 of 50\n",
            "building tree 15 of 50\n",
            "building tree 16 of 50\n",
            "building tree 17 of 50\n",
            "building tree 18 of 50\n",
            "building tree 19 of 50\n",
            "building tree 20 of 50\n",
            "building tree 21 of 50\n",
            "building tree 22 of 50\n",
            "building tree 23 of 50\n",
            "building tree 24 of 50\n",
            "building tree 25 of 50\n",
            "building tree 26 of 50\n",
            "building tree 27 of 50\n",
            "building tree 28 of 50\n",
            "building tree 29 of 50\n",
            "building tree 30 of 50\n",
            "building tree 31 of 50\n",
            "building tree 32 of 50\n",
            "building tree 33 of 50\n",
            "building tree 34 of 50\n",
            "building tree 35 of 50\n",
            "building tree 36 of 50\n",
            "building tree 37 of 50\n",
            "building tree 38 of 50\n",
            "building tree 39 of 50\n",
            "building tree 40 of 50\n",
            "building tree 41 of 50\n",
            "building tree 42 of 50\n",
            "building tree 43 of 50\n",
            "building tree 44 of 50\n",
            "building tree 45 of 50\n",
            "building tree 46 of 50\n",
            "building tree 47 of 50\n",
            "building tree 48 of 50\n",
            "building tree 49 of 50\n",
            "building tree 50 of 50\n"
          ],
          "name": "stdout"
        },
        {
          "output_type": "stream",
          "text": [
            "[Parallel(n_jobs=1)]: Done  50 out of  50 | elapsed:   10.0s finished\n",
            "[Parallel(n_jobs=1)]: Using backend SequentialBackend with 1 concurrent workers.\n",
            "[Parallel(n_jobs=1)]: Done   1 out of   1 | elapsed:    0.0s remaining:    0.0s\n",
            "[Parallel(n_jobs=1)]: Done   2 out of   2 | elapsed:    0.0s remaining:    0.0s\n",
            "[Parallel(n_jobs=1)]: Done  50 out of  50 | elapsed:    0.1s finished\n",
            "[Parallel(n_jobs=1)]: Using backend SequentialBackend with 1 concurrent workers.\n"
          ],
          "name": "stderr"
        },
        {
          "output_type": "stream",
          "text": [
            "building tree 1 of 50\n",
            "building tree 2 of 50\n"
          ],
          "name": "stdout"
        },
        {
          "output_type": "stream",
          "text": [
            "[Parallel(n_jobs=1)]: Done   1 out of   1 | elapsed:    0.2s remaining:    0.0s\n",
            "[Parallel(n_jobs=1)]: Done   2 out of   2 | elapsed:    0.4s remaining:    0.0s\n"
          ],
          "name": "stderr"
        },
        {
          "output_type": "stream",
          "text": [
            "building tree 3 of 50\n",
            "building tree 4 of 50\n",
            "building tree 5 of 50\n",
            "building tree 6 of 50\n",
            "building tree 7 of 50\n",
            "building tree 8 of 50\n",
            "building tree 9 of 50\n",
            "building tree 10 of 50\n",
            "building tree 11 of 50\n",
            "building tree 12 of 50\n",
            "building tree 13 of 50\n",
            "building tree 14 of 50\n",
            "building tree 15 of 50\n",
            "building tree 16 of 50\n",
            "building tree 17 of 50\n",
            "building tree 18 of 50\n",
            "building tree 19 of 50\n",
            "building tree 20 of 50\n",
            "building tree 21 of 50\n",
            "building tree 22 of 50\n",
            "building tree 23 of 50\n",
            "building tree 24 of 50\n",
            "building tree 25 of 50\n",
            "building tree 26 of 50\n",
            "building tree 27 of 50\n",
            "building tree 28 of 50\n",
            "building tree 29 of 50\n",
            "building tree 30 of 50\n",
            "building tree 31 of 50\n",
            "building tree 32 of 50\n",
            "building tree 33 of 50\n",
            "building tree 34 of 50\n",
            "building tree 35 of 50\n",
            "building tree 36 of 50\n",
            "building tree 37 of 50\n",
            "building tree 38 of 50\n",
            "building tree 39 of 50\n",
            "building tree 40 of 50\n",
            "building tree 41 of 50\n",
            "building tree 42 of 50\n",
            "building tree 43 of 50\n",
            "building tree 44 of 50\n",
            "building tree 45 of 50\n",
            "building tree 46 of 50\n",
            "building tree 47 of 50\n",
            "building tree 48 of 50\n",
            "building tree 49 of 50\n",
            "building tree 50 of 50\n"
          ],
          "name": "stdout"
        },
        {
          "output_type": "stream",
          "text": [
            "[Parallel(n_jobs=1)]: Done  50 out of  50 | elapsed:   10.8s finished\n",
            "[Parallel(n_jobs=1)]: Using backend SequentialBackend with 1 concurrent workers.\n",
            "[Parallel(n_jobs=1)]: Done   1 out of   1 | elapsed:    0.0s remaining:    0.0s\n",
            "[Parallel(n_jobs=1)]: Done   2 out of   2 | elapsed:    0.0s remaining:    0.0s\n",
            "[Parallel(n_jobs=1)]: Done  50 out of  50 | elapsed:    0.1s finished\n",
            "[Parallel(n_jobs=1)]: Using backend SequentialBackend with 1 concurrent workers.\n"
          ],
          "name": "stderr"
        },
        {
          "output_type": "stream",
          "text": [
            "building tree 1 of 50\n",
            "building tree 2 of 50\n"
          ],
          "name": "stdout"
        },
        {
          "output_type": "stream",
          "text": [
            "[Parallel(n_jobs=1)]: Done   1 out of   1 | elapsed:    0.2s remaining:    0.0s\n",
            "[Parallel(n_jobs=1)]: Done   2 out of   2 | elapsed:    0.4s remaining:    0.0s\n"
          ],
          "name": "stderr"
        },
        {
          "output_type": "stream",
          "text": [
            "building tree 3 of 50\n",
            "building tree 4 of 50\n",
            "building tree 5 of 50\n",
            "building tree 6 of 50\n",
            "building tree 7 of 50\n",
            "building tree 8 of 50\n",
            "building tree 9 of 50\n",
            "building tree 10 of 50\n",
            "building tree 11 of 50\n",
            "building tree 12 of 50\n",
            "building tree 13 of 50\n",
            "building tree 14 of 50\n",
            "building tree 15 of 50\n",
            "building tree 16 of 50\n",
            "building tree 17 of 50\n",
            "building tree 18 of 50\n",
            "building tree 19 of 50\n",
            "building tree 20 of 50\n",
            "building tree 21 of 50\n",
            "building tree 22 of 50\n",
            "building tree 23 of 50\n",
            "building tree 24 of 50\n",
            "building tree 25 of 50\n",
            "building tree 26 of 50\n",
            "building tree 27 of 50\n",
            "building tree 28 of 50\n",
            "building tree 29 of 50\n",
            "building tree 30 of 50\n",
            "building tree 31 of 50\n",
            "building tree 32 of 50\n",
            "building tree 33 of 50\n",
            "building tree 34 of 50\n",
            "building tree 35 of 50\n",
            "building tree 36 of 50\n",
            "building tree 37 of 50\n",
            "building tree 38 of 50\n",
            "building tree 39 of 50\n",
            "building tree 40 of 50\n",
            "building tree 41 of 50\n",
            "building tree 42 of 50\n",
            "building tree 43 of 50\n",
            "building tree 44 of 50\n",
            "building tree 45 of 50\n",
            "building tree 46 of 50\n",
            "building tree 47 of 50\n",
            "building tree 48 of 50\n",
            "building tree 49 of 50\n",
            "building tree 50 of 50\n"
          ],
          "name": "stdout"
        },
        {
          "output_type": "stream",
          "text": [
            "[Parallel(n_jobs=1)]: Done  50 out of  50 | elapsed:   10.6s finished\n",
            "[Parallel(n_jobs=1)]: Using backend SequentialBackend with 1 concurrent workers.\n",
            "[Parallel(n_jobs=1)]: Done   1 out of   1 | elapsed:    0.0s remaining:    0.0s\n",
            "[Parallel(n_jobs=1)]: Done   2 out of   2 | elapsed:    0.0s remaining:    0.0s\n",
            "[Parallel(n_jobs=1)]: Done  50 out of  50 | elapsed:    0.1s finished\n",
            "[Parallel(n_jobs=1)]: Using backend SequentialBackend with 1 concurrent workers.\n"
          ],
          "name": "stderr"
        },
        {
          "output_type": "stream",
          "text": [
            "building tree 1 of 50\n",
            "building tree 2 of 50\n"
          ],
          "name": "stdout"
        },
        {
          "output_type": "stream",
          "text": [
            "[Parallel(n_jobs=1)]: Done   1 out of   1 | elapsed:    0.1s remaining:    0.0s\n",
            "[Parallel(n_jobs=1)]: Done   2 out of   2 | elapsed:    0.4s remaining:    0.0s\n"
          ],
          "name": "stderr"
        },
        {
          "output_type": "stream",
          "text": [
            "building tree 3 of 50\n",
            "building tree 4 of 50\n",
            "building tree 5 of 50\n",
            "building tree 6 of 50\n",
            "building tree 7 of 50\n",
            "building tree 8 of 50\n",
            "building tree 9 of 50\n",
            "building tree 10 of 50\n",
            "building tree 11 of 50\n",
            "building tree 12 of 50\n",
            "building tree 13 of 50\n",
            "building tree 14 of 50\n",
            "building tree 15 of 50\n",
            "building tree 16 of 50\n",
            "building tree 17 of 50\n",
            "building tree 18 of 50\n",
            "building tree 19 of 50\n",
            "building tree 20 of 50\n",
            "building tree 21 of 50\n",
            "building tree 22 of 50\n",
            "building tree 23 of 50\n",
            "building tree 24 of 50\n",
            "building tree 25 of 50\n",
            "building tree 26 of 50\n",
            "building tree 27 of 50\n",
            "building tree 28 of 50\n",
            "building tree 29 of 50\n",
            "building tree 30 of 50\n",
            "building tree 31 of 50\n",
            "building tree 32 of 50\n",
            "building tree 33 of 50\n",
            "building tree 34 of 50\n",
            "building tree 35 of 50\n",
            "building tree 36 of 50\n",
            "building tree 37 of 50\n",
            "building tree 38 of 50\n",
            "building tree 39 of 50\n",
            "building tree 40 of 50\n",
            "building tree 41 of 50\n",
            "building tree 42 of 50\n",
            "building tree 43 of 50\n",
            "building tree 44 of 50\n",
            "building tree 45 of 50\n",
            "building tree 46 of 50\n",
            "building tree 47 of 50\n",
            "building tree 48 of 50\n",
            "building tree 49 of 50\n",
            "building tree 50 of 50\n"
          ],
          "name": "stdout"
        },
        {
          "output_type": "stream",
          "text": [
            "[Parallel(n_jobs=1)]: Done  50 out of  50 | elapsed:   10.6s finished\n",
            "[Parallel(n_jobs=1)]: Using backend SequentialBackend with 1 concurrent workers.\n",
            "[Parallel(n_jobs=1)]: Done   1 out of   1 | elapsed:    0.0s remaining:    0.0s\n",
            "[Parallel(n_jobs=1)]: Done   2 out of   2 | elapsed:    0.0s remaining:    0.0s\n",
            "[Parallel(n_jobs=1)]: Done  50 out of  50 | elapsed:    0.1s finished\n",
            "[Parallel(n_jobs=1)]: Using backend SequentialBackend with 1 concurrent workers.\n"
          ],
          "name": "stderr"
        },
        {
          "output_type": "stream",
          "text": [
            "building tree 1 of 50\n",
            "building tree 2 of 50\n"
          ],
          "name": "stdout"
        },
        {
          "output_type": "stream",
          "text": [
            "[Parallel(n_jobs=1)]: Done   1 out of   1 | elapsed:    0.1s remaining:    0.0s\n",
            "[Parallel(n_jobs=1)]: Done   2 out of   2 | elapsed:    0.3s remaining:    0.0s\n"
          ],
          "name": "stderr"
        },
        {
          "output_type": "stream",
          "text": [
            "building tree 3 of 50\n",
            "building tree 4 of 50\n",
            "building tree 5 of 50\n",
            "building tree 6 of 50\n",
            "building tree 7 of 50\n",
            "building tree 8 of 50\n",
            "building tree 9 of 50\n",
            "building tree 10 of 50\n",
            "building tree 11 of 50\n",
            "building tree 12 of 50\n",
            "building tree 13 of 50\n",
            "building tree 14 of 50\n",
            "building tree 15 of 50\n",
            "building tree 16 of 50\n",
            "building tree 17 of 50\n",
            "building tree 18 of 50\n",
            "building tree 19 of 50\n",
            "building tree 20 of 50\n",
            "building tree 21 of 50\n",
            "building tree 22 of 50\n",
            "building tree 23 of 50\n",
            "building tree 24 of 50\n",
            "building tree 25 of 50\n",
            "building tree 26 of 50\n",
            "building tree 27 of 50\n",
            "building tree 28 of 50\n",
            "building tree 29 of 50\n",
            "building tree 30 of 50\n",
            "building tree 31 of 50\n",
            "building tree 32 of 50\n",
            "building tree 33 of 50\n",
            "building tree 34 of 50\n",
            "building tree 35 of 50\n",
            "building tree 36 of 50\n",
            "building tree 37 of 50\n",
            "building tree 38 of 50\n",
            "building tree 39 of 50\n",
            "building tree 40 of 50\n",
            "building tree 41 of 50\n",
            "building tree 42 of 50\n",
            "building tree 43 of 50\n",
            "building tree 44 of 50\n",
            "building tree 45 of 50\n",
            "building tree 46 of 50\n",
            "building tree 47 of 50\n",
            "building tree 48 of 50\n",
            "building tree 49 of 50\n",
            "building tree 50 of 50\n"
          ],
          "name": "stdout"
        },
        {
          "output_type": "stream",
          "text": [
            "[Parallel(n_jobs=1)]: Done  50 out of  50 | elapsed:    8.9s finished\n",
            "[Parallel(n_jobs=1)]: Using backend SequentialBackend with 1 concurrent workers.\n",
            "[Parallel(n_jobs=1)]: Done   1 out of   1 | elapsed:    0.0s remaining:    0.0s\n",
            "[Parallel(n_jobs=1)]: Done   2 out of   2 | elapsed:    0.0s remaining:    0.0s\n",
            "[Parallel(n_jobs=1)]: Done  50 out of  50 | elapsed:    0.1s finished\n",
            "[Parallel(n_jobs=1)]: Using backend SequentialBackend with 1 concurrent workers.\n"
          ],
          "name": "stderr"
        },
        {
          "output_type": "stream",
          "text": [
            "building tree 1 of 50\n",
            "building tree 2 of 50\n"
          ],
          "name": "stdout"
        },
        {
          "output_type": "stream",
          "text": [
            "[Parallel(n_jobs=1)]: Done   1 out of   1 | elapsed:    0.1s remaining:    0.0s\n",
            "[Parallel(n_jobs=1)]: Done   2 out of   2 | elapsed:    0.3s remaining:    0.0s\n"
          ],
          "name": "stderr"
        },
        {
          "output_type": "stream",
          "text": [
            "building tree 3 of 50\n",
            "building tree 4 of 50\n",
            "building tree 5 of 50\n",
            "building tree 6 of 50\n",
            "building tree 7 of 50\n",
            "building tree 8 of 50\n",
            "building tree 9 of 50\n",
            "building tree 10 of 50\n",
            "building tree 11 of 50\n",
            "building tree 12 of 50\n",
            "building tree 13 of 50\n",
            "building tree 14 of 50\n",
            "building tree 15 of 50\n",
            "building tree 16 of 50\n",
            "building tree 17 of 50\n",
            "building tree 18 of 50\n",
            "building tree 19 of 50\n",
            "building tree 20 of 50\n",
            "building tree 21 of 50\n",
            "building tree 22 of 50\n",
            "building tree 23 of 50\n",
            "building tree 24 of 50\n",
            "building tree 25 of 50\n",
            "building tree 26 of 50\n",
            "building tree 27 of 50\n",
            "building tree 28 of 50\n",
            "building tree 29 of 50\n",
            "building tree 30 of 50\n",
            "building tree 31 of 50\n",
            "building tree 32 of 50\n",
            "building tree 33 of 50\n",
            "building tree 34 of 50\n",
            "building tree 35 of 50\n",
            "building tree 36 of 50\n",
            "building tree 37 of 50\n",
            "building tree 38 of 50\n",
            "building tree 39 of 50\n",
            "building tree 40 of 50\n",
            "building tree 41 of 50\n",
            "building tree 42 of 50\n",
            "building tree 43 of 50\n",
            "building tree 44 of 50\n",
            "building tree 45 of 50\n",
            "building tree 46 of 50\n",
            "building tree 47 of 50\n",
            "building tree 48 of 50\n",
            "building tree 49 of 50\n",
            "building tree 50 of 50\n"
          ],
          "name": "stdout"
        },
        {
          "output_type": "stream",
          "text": [
            "[Parallel(n_jobs=1)]: Done  50 out of  50 | elapsed:    8.4s finished\n",
            "[Parallel(n_jobs=1)]: Using backend SequentialBackend with 1 concurrent workers.\n",
            "[Parallel(n_jobs=1)]: Done   1 out of   1 | elapsed:    0.0s remaining:    0.0s\n",
            "[Parallel(n_jobs=1)]: Done   2 out of   2 | elapsed:    0.0s remaining:    0.0s\n",
            "[Parallel(n_jobs=1)]: Done  50 out of  50 | elapsed:    0.1s finished\n",
            "[Parallel(n_jobs=1)]: Using backend SequentialBackend with 1 concurrent workers.\n"
          ],
          "name": "stderr"
        },
        {
          "output_type": "stream",
          "text": [
            "building tree 1 of 50\n",
            "building tree 2 of 50\n"
          ],
          "name": "stdout"
        },
        {
          "output_type": "stream",
          "text": [
            "[Parallel(n_jobs=1)]: Done   1 out of   1 | elapsed:    0.2s remaining:    0.0s\n",
            "[Parallel(n_jobs=1)]: Done   2 out of   2 | elapsed:    0.3s remaining:    0.0s\n"
          ],
          "name": "stderr"
        },
        {
          "output_type": "stream",
          "text": [
            "building tree 3 of 50\n",
            "building tree 4 of 50\n",
            "building tree 5 of 50\n",
            "building tree 6 of 50\n",
            "building tree 7 of 50\n",
            "building tree 8 of 50\n",
            "building tree 9 of 50\n",
            "building tree 10 of 50\n",
            "building tree 11 of 50\n",
            "building tree 12 of 50\n",
            "building tree 13 of 50\n",
            "building tree 14 of 50\n",
            "building tree 15 of 50\n",
            "building tree 16 of 50\n",
            "building tree 17 of 50\n",
            "building tree 18 of 50\n",
            "building tree 19 of 50\n",
            "building tree 20 of 50\n",
            "building tree 21 of 50\n",
            "building tree 22 of 50\n",
            "building tree 23 of 50\n",
            "building tree 24 of 50\n",
            "building tree 25 of 50\n",
            "building tree 26 of 50\n",
            "building tree 27 of 50\n",
            "building tree 28 of 50\n",
            "building tree 29 of 50\n",
            "building tree 30 of 50\n",
            "building tree 31 of 50\n",
            "building tree 32 of 50\n",
            "building tree 33 of 50\n",
            "building tree 34 of 50\n",
            "building tree 35 of 50\n",
            "building tree 36 of 50\n",
            "building tree 37 of 50\n",
            "building tree 38 of 50\n",
            "building tree 39 of 50\n",
            "building tree 40 of 50\n",
            "building tree 41 of 50\n",
            "building tree 42 of 50\n",
            "building tree 43 of 50\n",
            "building tree 44 of 50\n",
            "building tree 45 of 50\n",
            "building tree 46 of 50\n",
            "building tree 47 of 50\n",
            "building tree 48 of 50\n",
            "building tree 49 of 50\n",
            "building tree 50 of 50\n"
          ],
          "name": "stdout"
        },
        {
          "output_type": "stream",
          "text": [
            "[Parallel(n_jobs=1)]: Done  50 out of  50 | elapsed:    8.7s finished\n",
            "[Parallel(n_jobs=1)]: Using backend SequentialBackend with 1 concurrent workers.\n",
            "[Parallel(n_jobs=1)]: Done   1 out of   1 | elapsed:    0.0s remaining:    0.0s\n",
            "[Parallel(n_jobs=1)]: Done   2 out of   2 | elapsed:    0.0s remaining:    0.0s\n",
            "[Parallel(n_jobs=1)]: Done  50 out of  50 | elapsed:    0.1s finished\n",
            "[Parallel(n_jobs=1)]: Using backend SequentialBackend with 1 concurrent workers.\n"
          ],
          "name": "stderr"
        },
        {
          "output_type": "stream",
          "text": [
            "building tree 1 of 50\n",
            "building tree 2 of 50\n"
          ],
          "name": "stdout"
        },
        {
          "output_type": "stream",
          "text": [
            "[Parallel(n_jobs=1)]: Done   1 out of   1 | elapsed:    0.1s remaining:    0.0s\n",
            "[Parallel(n_jobs=1)]: Done   2 out of   2 | elapsed:    0.4s remaining:    0.0s\n"
          ],
          "name": "stderr"
        },
        {
          "output_type": "stream",
          "text": [
            "building tree 3 of 50\n",
            "building tree 4 of 50\n",
            "building tree 5 of 50\n",
            "building tree 6 of 50\n",
            "building tree 7 of 50\n",
            "building tree 8 of 50\n",
            "building tree 9 of 50\n",
            "building tree 10 of 50\n",
            "building tree 11 of 50\n",
            "building tree 12 of 50\n",
            "building tree 13 of 50\n",
            "building tree 14 of 50\n",
            "building tree 15 of 50\n",
            "building tree 16 of 50\n",
            "building tree 17 of 50\n",
            "building tree 18 of 50\n",
            "building tree 19 of 50\n",
            "building tree 20 of 50\n",
            "building tree 21 of 50\n",
            "building tree 22 of 50\n",
            "building tree 23 of 50\n",
            "building tree 24 of 50\n",
            "building tree 25 of 50\n",
            "building tree 26 of 50\n",
            "building tree 27 of 50\n",
            "building tree 28 of 50\n",
            "building tree 29 of 50\n",
            "building tree 30 of 50\n",
            "building tree 31 of 50\n",
            "building tree 32 of 50\n",
            "building tree 33 of 50\n",
            "building tree 34 of 50\n",
            "building tree 35 of 50\n",
            "building tree 36 of 50\n",
            "building tree 37 of 50\n",
            "building tree 38 of 50\n",
            "building tree 39 of 50\n",
            "building tree 40 of 50\n",
            "building tree 41 of 50\n",
            "building tree 42 of 50\n",
            "building tree 43 of 50\n",
            "building tree 44 of 50\n",
            "building tree 45 of 50\n",
            "building tree 46 of 50\n",
            "building tree 47 of 50\n",
            "building tree 48 of 50\n",
            "building tree 49 of 50\n",
            "building tree 50 of 50\n"
          ],
          "name": "stdout"
        },
        {
          "output_type": "stream",
          "text": [
            "[Parallel(n_jobs=1)]: Done  50 out of  50 | elapsed:    8.9s finished\n",
            "[Parallel(n_jobs=1)]: Using backend SequentialBackend with 1 concurrent workers.\n",
            "[Parallel(n_jobs=1)]: Done   1 out of   1 | elapsed:    0.0s remaining:    0.0s\n",
            "[Parallel(n_jobs=1)]: Done   2 out of   2 | elapsed:    0.0s remaining:    0.0s\n",
            "[Parallel(n_jobs=1)]: Done  50 out of  50 | elapsed:    0.1s finished\n",
            "[Parallel(n_jobs=1)]: Using backend SequentialBackend with 1 concurrent workers.\n"
          ],
          "name": "stderr"
        },
        {
          "output_type": "stream",
          "text": [
            "building tree 1 of 50\n",
            "building tree 2 of 50\n"
          ],
          "name": "stdout"
        },
        {
          "output_type": "stream",
          "text": [
            "[Parallel(n_jobs=1)]: Done   1 out of   1 | elapsed:    0.1s remaining:    0.0s\n",
            "[Parallel(n_jobs=1)]: Done   2 out of   2 | elapsed:    0.3s remaining:    0.0s\n"
          ],
          "name": "stderr"
        },
        {
          "output_type": "stream",
          "text": [
            "building tree 3 of 50\n",
            "building tree 4 of 50\n",
            "building tree 5 of 50\n",
            "building tree 6 of 50\n",
            "building tree 7 of 50\n",
            "building tree 8 of 50\n",
            "building tree 9 of 50\n",
            "building tree 10 of 50\n",
            "building tree 11 of 50\n",
            "building tree 12 of 50\n",
            "building tree 13 of 50\n",
            "building tree 14 of 50\n",
            "building tree 15 of 50\n",
            "building tree 16 of 50\n",
            "building tree 17 of 50\n",
            "building tree 18 of 50\n",
            "building tree 19 of 50\n",
            "building tree 20 of 50\n",
            "building tree 21 of 50\n",
            "building tree 22 of 50\n",
            "building tree 23 of 50\n",
            "building tree 24 of 50\n",
            "building tree 25 of 50\n",
            "building tree 26 of 50\n",
            "building tree 27 of 50\n",
            "building tree 28 of 50\n",
            "building tree 29 of 50\n",
            "building tree 30 of 50\n",
            "building tree 31 of 50\n",
            "building tree 32 of 50\n",
            "building tree 33 of 50\n",
            "building tree 34 of 50\n",
            "building tree 35 of 50\n",
            "building tree 36 of 50\n",
            "building tree 37 of 50\n",
            "building tree 38 of 50\n",
            "building tree 39 of 50\n",
            "building tree 40 of 50\n",
            "building tree 41 of 50\n",
            "building tree 42 of 50\n",
            "building tree 43 of 50\n",
            "building tree 44 of 50\n",
            "building tree 45 of 50\n",
            "building tree 46 of 50\n",
            "building tree 47 of 50\n",
            "building tree 48 of 50\n",
            "building tree 49 of 50\n",
            "building tree 50 of 50\n"
          ],
          "name": "stdout"
        },
        {
          "output_type": "stream",
          "text": [
            "[Parallel(n_jobs=1)]: Done  50 out of  50 | elapsed:    8.7s finished\n",
            "[Parallel(n_jobs=1)]: Using backend SequentialBackend with 1 concurrent workers.\n",
            "[Parallel(n_jobs=1)]: Done   1 out of   1 | elapsed:    0.0s remaining:    0.0s\n",
            "[Parallel(n_jobs=1)]: Done   2 out of   2 | elapsed:    0.0s remaining:    0.0s\n",
            "[Parallel(n_jobs=1)]: Done  50 out of  50 | elapsed:    0.1s finished\n",
            "/usr/local/lib/python3.6/dist-packages/sklearn/model_selection/_search.py:823: FutureWarning: The parameter 'iid' is deprecated in 0.22 and will be removed in 0.24.\n",
            "  \"removed in 0.24.\", FutureWarning\n",
            "[Parallel(n_jobs=1)]: Using backend SequentialBackend with 1 concurrent workers.\n"
          ],
          "name": "stderr"
        },
        {
          "output_type": "stream",
          "text": [
            "building tree 1 of 50\n",
            "building tree 2 of 50\n"
          ],
          "name": "stdout"
        },
        {
          "output_type": "stream",
          "text": [
            "[Parallel(n_jobs=1)]: Done   1 out of   1 | elapsed:    0.2s remaining:    0.0s\n",
            "[Parallel(n_jobs=1)]: Done   2 out of   2 | elapsed:    0.3s remaining:    0.0s\n"
          ],
          "name": "stderr"
        },
        {
          "output_type": "stream",
          "text": [
            "building tree 3 of 50\n",
            "building tree 4 of 50\n",
            "building tree 5 of 50\n",
            "building tree 6 of 50\n",
            "building tree 7 of 50\n",
            "building tree 8 of 50\n",
            "building tree 9 of 50\n",
            "building tree 10 of 50\n",
            "building tree 11 of 50\n",
            "building tree 12 of 50\n",
            "building tree 13 of 50\n",
            "building tree 14 of 50\n",
            "building tree 15 of 50\n",
            "building tree 16 of 50\n",
            "building tree 17 of 50\n",
            "building tree 18 of 50\n",
            "building tree 19 of 50\n",
            "building tree 20 of 50\n",
            "building tree 21 of 50\n",
            "building tree 22 of 50\n",
            "building tree 23 of 50\n",
            "building tree 24 of 50\n",
            "building tree 25 of 50\n",
            "building tree 26 of 50\n",
            "building tree 27 of 50\n",
            "building tree 28 of 50\n",
            "building tree 29 of 50\n",
            "building tree 30 of 50\n",
            "building tree 31 of 50\n",
            "building tree 32 of 50\n",
            "building tree 33 of 50\n",
            "building tree 34 of 50\n",
            "building tree 35 of 50\n",
            "building tree 36 of 50\n",
            "building tree 37 of 50\n",
            "building tree 38 of 50\n",
            "building tree 39 of 50\n",
            "building tree 40 of 50\n",
            "building tree 41 of 50\n",
            "building tree 42 of 50\n",
            "building tree 43 of 50\n",
            "building tree 44 of 50\n",
            "building tree 45 of 50\n",
            "building tree 46 of 50\n",
            "building tree 47 of 50\n",
            "building tree 48 of 50\n",
            "building tree 49 of 50\n",
            "building tree 50 of 50\n"
          ],
          "name": "stdout"
        },
        {
          "output_type": "stream",
          "text": [
            "[Parallel(n_jobs=1)]: Done  50 out of  50 | elapsed:    8.4s finished\n"
          ],
          "name": "stderr"
        },
        {
          "output_type": "execute_result",
          "data": {
            "text/plain": [
              "GridSearchCV(cv=5, error_score=nan,\n",
              "             estimator=RandomForestClassifier(bootstrap=True, ccp_alpha=0.0,\n",
              "                                              class_weight=None,\n",
              "                                              criterion='gini', max_depth=500,\n",
              "                                              max_features='auto',\n",
              "                                              max_leaf_nodes=None,\n",
              "                                              max_samples=None,\n",
              "                                              min_impurity_decrease=0.0,\n",
              "                                              min_impurity_split=None,\n",
              "                                              min_samples_leaf=1,\n",
              "                                              min_samples_split=5,\n",
              "                                              min_weight_fraction_leaf=0.0,\n",
              "                                              n_estimators=50, n_jobs=None,\n",
              "                                              oob_score=False, random_state=42,\n",
              "                                              verbose=3, warm_start=False),\n",
              "             iid=False, n_jobs=None,\n",
              "             param_grid={'min_samples_leaf': [1, 2, 3, 4]},\n",
              "             pre_dispatch='2*n_jobs', refit=True, return_train_score=False,\n",
              "             scoring='roc_auc', verbose=0)"
            ]
          },
          "metadata": {
            "tags": []
          },
          "execution_count": 38
        }
      ]
    },
    {
      "cell_type": "code",
      "metadata": {
        "id": "IoRNa2VeOtJm",
        "colab_type": "code",
        "colab": {
          "base_uri": "https://localhost:8080/",
          "height": 34
        },
        "outputId": "6ad5ba34-1740-4c6f-fae5-715069398841"
      },
      "source": [
        "grid_search.best_params_"
      ],
      "execution_count": 39,
      "outputs": [
        {
          "output_type": "execute_result",
          "data": {
            "text/plain": [
              "{'min_samples_leaf': 1}"
            ]
          },
          "metadata": {
            "tags": []
          },
          "execution_count": 39
        }
      ]
    },
    {
      "cell_type": "code",
      "metadata": {
        "id": "dpUbtb37OtJz",
        "colab_type": "code",
        "colab": {}
      },
      "source": [
        "param_rf = {\n",
        "    'max_features': ['sqrt', 5, 10, 20, 50]}\n",
        "grid_search = GridSearchCV(estimator = RandomForestClassifier(random_state=random_state, n_estimators=50, verbose=3,\n",
        "                     min_samples_split=5, max_depth=500), param_grid = param_rf, scoring='roc_auc',iid=False, cv=5)"
      ],
      "execution_count": 0,
      "outputs": []
    },
    {
      "cell_type": "code",
      "metadata": {
        "collapsed": true,
        "id": "fk9GXu_VOtJ6",
        "colab_type": "code",
        "colab": {
          "base_uri": "https://localhost:8080/",
          "height": 1000
        },
        "outputId": "f01af30e-aa01-4549-b07f-e528acb20002"
      },
      "source": [
        "grid_search.fit(access_1hot, access_labels)"
      ],
      "execution_count": 41,
      "outputs": [
        {
          "output_type": "stream",
          "text": [
            "[Parallel(n_jobs=1)]: Using backend SequentialBackend with 1 concurrent workers.\n"
          ],
          "name": "stderr"
        },
        {
          "output_type": "stream",
          "text": [
            "building tree 1 of 50\n"
          ],
          "name": "stdout"
        },
        {
          "output_type": "stream",
          "text": [
            "[Parallel(n_jobs=1)]: Done   1 out of   1 | elapsed:    0.5s remaining:    0.0s\n"
          ],
          "name": "stderr"
        },
        {
          "output_type": "stream",
          "text": [
            "building tree 2 of 50\n"
          ],
          "name": "stdout"
        },
        {
          "output_type": "stream",
          "text": [
            "[Parallel(n_jobs=1)]: Done   2 out of   2 | elapsed:    0.8s remaining:    0.0s\n"
          ],
          "name": "stderr"
        },
        {
          "output_type": "stream",
          "text": [
            "building tree 3 of 50\n",
            "building tree 4 of 50\n",
            "building tree 5 of 50\n",
            "building tree 6 of 50\n",
            "building tree 7 of 50\n",
            "building tree 8 of 50\n",
            "building tree 9 of 50\n",
            "building tree 10 of 50\n",
            "building tree 11 of 50\n",
            "building tree 12 of 50\n",
            "building tree 13 of 50\n",
            "building tree 14 of 50\n",
            "building tree 15 of 50\n",
            "building tree 16 of 50\n",
            "building tree 17 of 50\n",
            "building tree 18 of 50\n",
            "building tree 19 of 50\n",
            "building tree 20 of 50\n",
            "building tree 21 of 50\n",
            "building tree 22 of 50\n",
            "building tree 23 of 50\n",
            "building tree 24 of 50\n",
            "building tree 25 of 50\n",
            "building tree 26 of 50\n",
            "building tree 27 of 50\n",
            "building tree 28 of 50\n",
            "building tree 29 of 50\n",
            "building tree 30 of 50\n",
            "building tree 31 of 50\n",
            "building tree 32 of 50\n",
            "building tree 33 of 50\n",
            "building tree 34 of 50\n",
            "building tree 35 of 50\n",
            "building tree 36 of 50\n",
            "building tree 37 of 50\n",
            "building tree 38 of 50\n",
            "building tree 39 of 50\n",
            "building tree 40 of 50\n",
            "building tree 41 of 50\n",
            "building tree 42 of 50\n",
            "building tree 43 of 50\n",
            "building tree 44 of 50\n",
            "building tree 45 of 50\n",
            "building tree 46 of 50\n",
            "building tree 47 of 50\n",
            "building tree 48 of 50\n",
            "building tree 49 of 50\n",
            "building tree 50 of 50\n"
          ],
          "name": "stdout"
        },
        {
          "output_type": "stream",
          "text": [
            "[Parallel(n_jobs=1)]: Done  50 out of  50 | elapsed:   21.6s finished\n",
            "[Parallel(n_jobs=1)]: Using backend SequentialBackend with 1 concurrent workers.\n",
            "[Parallel(n_jobs=1)]: Done   1 out of   1 | elapsed:    0.0s remaining:    0.0s\n",
            "[Parallel(n_jobs=1)]: Done   2 out of   2 | elapsed:    0.0s remaining:    0.0s\n",
            "[Parallel(n_jobs=1)]: Done  50 out of  50 | elapsed:    0.3s finished\n",
            "[Parallel(n_jobs=1)]: Using backend SequentialBackend with 1 concurrent workers.\n"
          ],
          "name": "stderr"
        },
        {
          "output_type": "stream",
          "text": [
            "building tree 1 of 50\n"
          ],
          "name": "stdout"
        },
        {
          "output_type": "stream",
          "text": [
            "[Parallel(n_jobs=1)]: Done   1 out of   1 | elapsed:    0.5s remaining:    0.0s\n"
          ],
          "name": "stderr"
        },
        {
          "output_type": "stream",
          "text": [
            "building tree 2 of 50\n"
          ],
          "name": "stdout"
        },
        {
          "output_type": "stream",
          "text": [
            "[Parallel(n_jobs=1)]: Done   2 out of   2 | elapsed:    0.9s remaining:    0.0s\n"
          ],
          "name": "stderr"
        },
        {
          "output_type": "stream",
          "text": [
            "building tree 3 of 50\n",
            "building tree 4 of 50\n",
            "building tree 5 of 50\n",
            "building tree 6 of 50\n",
            "building tree 7 of 50\n",
            "building tree 8 of 50\n",
            "building tree 9 of 50\n",
            "building tree 10 of 50\n",
            "building tree 11 of 50\n",
            "building tree 12 of 50\n",
            "building tree 13 of 50\n",
            "building tree 14 of 50\n",
            "building tree 15 of 50\n",
            "building tree 16 of 50\n",
            "building tree 17 of 50\n",
            "building tree 18 of 50\n",
            "building tree 19 of 50\n",
            "building tree 20 of 50\n",
            "building tree 21 of 50\n",
            "building tree 22 of 50\n",
            "building tree 23 of 50\n",
            "building tree 24 of 50\n",
            "building tree 25 of 50\n",
            "building tree 26 of 50\n",
            "building tree 27 of 50\n",
            "building tree 28 of 50\n",
            "building tree 29 of 50\n",
            "building tree 30 of 50\n",
            "building tree 31 of 50\n",
            "building tree 32 of 50\n",
            "building tree 33 of 50\n",
            "building tree 34 of 50\n",
            "building tree 35 of 50\n",
            "building tree 36 of 50\n",
            "building tree 37 of 50\n",
            "building tree 38 of 50\n",
            "building tree 39 of 50\n",
            "building tree 40 of 50\n",
            "building tree 41 of 50\n",
            "building tree 42 of 50\n",
            "building tree 43 of 50\n",
            "building tree 44 of 50\n",
            "building tree 45 of 50\n",
            "building tree 46 of 50\n",
            "building tree 47 of 50\n",
            "building tree 48 of 50\n",
            "building tree 49 of 50\n",
            "building tree 50 of 50\n"
          ],
          "name": "stdout"
        },
        {
          "output_type": "stream",
          "text": [
            "[Parallel(n_jobs=1)]: Done  50 out of  50 | elapsed:   21.3s finished\n",
            "[Parallel(n_jobs=1)]: Using backend SequentialBackend with 1 concurrent workers.\n",
            "[Parallel(n_jobs=1)]: Done   1 out of   1 | elapsed:    0.0s remaining:    0.0s\n",
            "[Parallel(n_jobs=1)]: Done   2 out of   2 | elapsed:    0.0s remaining:    0.0s\n",
            "[Parallel(n_jobs=1)]: Done  50 out of  50 | elapsed:    0.2s finished\n",
            "[Parallel(n_jobs=1)]: Using backend SequentialBackend with 1 concurrent workers.\n"
          ],
          "name": "stderr"
        },
        {
          "output_type": "stream",
          "text": [
            "building tree 1 of 50\n"
          ],
          "name": "stdout"
        },
        {
          "output_type": "stream",
          "text": [
            "[Parallel(n_jobs=1)]: Done   1 out of   1 | elapsed:    0.4s remaining:    0.0s\n"
          ],
          "name": "stderr"
        },
        {
          "output_type": "stream",
          "text": [
            "building tree 2 of 50\n"
          ],
          "name": "stdout"
        },
        {
          "output_type": "stream",
          "text": [
            "[Parallel(n_jobs=1)]: Done   2 out of   2 | elapsed:    0.8s remaining:    0.0s\n"
          ],
          "name": "stderr"
        },
        {
          "output_type": "stream",
          "text": [
            "building tree 3 of 50\n",
            "building tree 4 of 50\n",
            "building tree 5 of 50\n",
            "building tree 6 of 50\n",
            "building tree 7 of 50\n",
            "building tree 8 of 50\n",
            "building tree 9 of 50\n",
            "building tree 10 of 50\n",
            "building tree 11 of 50\n",
            "building tree 12 of 50\n",
            "building tree 13 of 50\n",
            "building tree 14 of 50\n",
            "building tree 15 of 50\n",
            "building tree 16 of 50\n",
            "building tree 17 of 50\n",
            "building tree 18 of 50\n",
            "building tree 19 of 50\n",
            "building tree 20 of 50\n",
            "building tree 21 of 50\n",
            "building tree 22 of 50\n",
            "building tree 23 of 50\n",
            "building tree 24 of 50\n",
            "building tree 25 of 50\n",
            "building tree 26 of 50\n",
            "building tree 27 of 50\n",
            "building tree 28 of 50\n",
            "building tree 29 of 50\n",
            "building tree 30 of 50\n",
            "building tree 31 of 50\n",
            "building tree 32 of 50\n",
            "building tree 33 of 50\n",
            "building tree 34 of 50\n",
            "building tree 35 of 50\n",
            "building tree 36 of 50\n",
            "building tree 37 of 50\n",
            "building tree 38 of 50\n",
            "building tree 39 of 50\n",
            "building tree 40 of 50\n",
            "building tree 41 of 50\n",
            "building tree 42 of 50\n",
            "building tree 43 of 50\n",
            "building tree 44 of 50\n",
            "building tree 45 of 50\n",
            "building tree 46 of 50\n",
            "building tree 47 of 50\n",
            "building tree 48 of 50\n",
            "building tree 49 of 50\n",
            "building tree 50 of 50\n"
          ],
          "name": "stdout"
        },
        {
          "output_type": "stream",
          "text": [
            "[Parallel(n_jobs=1)]: Done  50 out of  50 | elapsed:   21.3s finished\n",
            "[Parallel(n_jobs=1)]: Using backend SequentialBackend with 1 concurrent workers.\n",
            "[Parallel(n_jobs=1)]: Done   1 out of   1 | elapsed:    0.0s remaining:    0.0s\n",
            "[Parallel(n_jobs=1)]: Done   2 out of   2 | elapsed:    0.0s remaining:    0.0s\n",
            "[Parallel(n_jobs=1)]: Done  50 out of  50 | elapsed:    0.3s finished\n",
            "[Parallel(n_jobs=1)]: Using backend SequentialBackend with 1 concurrent workers.\n"
          ],
          "name": "stderr"
        },
        {
          "output_type": "stream",
          "text": [
            "building tree 1 of 50\n"
          ],
          "name": "stdout"
        },
        {
          "output_type": "stream",
          "text": [
            "[Parallel(n_jobs=1)]: Done   1 out of   1 | elapsed:    0.4s remaining:    0.0s\n"
          ],
          "name": "stderr"
        },
        {
          "output_type": "stream",
          "text": [
            "building tree 2 of 50\n"
          ],
          "name": "stdout"
        },
        {
          "output_type": "stream",
          "text": [
            "[Parallel(n_jobs=1)]: Done   2 out of   2 | elapsed:    0.8s remaining:    0.0s\n"
          ],
          "name": "stderr"
        },
        {
          "output_type": "stream",
          "text": [
            "building tree 3 of 50\n",
            "building tree 4 of 50\n",
            "building tree 5 of 50\n",
            "building tree 6 of 50\n",
            "building tree 7 of 50\n",
            "building tree 8 of 50\n",
            "building tree 9 of 50\n",
            "building tree 10 of 50\n",
            "building tree 11 of 50\n",
            "building tree 12 of 50\n",
            "building tree 13 of 50\n",
            "building tree 14 of 50\n",
            "building tree 15 of 50\n",
            "building tree 16 of 50\n",
            "building tree 17 of 50\n",
            "building tree 18 of 50\n",
            "building tree 19 of 50\n",
            "building tree 20 of 50\n",
            "building tree 21 of 50\n",
            "building tree 22 of 50\n",
            "building tree 23 of 50\n",
            "building tree 24 of 50\n",
            "building tree 25 of 50\n",
            "building tree 26 of 50\n",
            "building tree 27 of 50\n",
            "building tree 28 of 50\n",
            "building tree 29 of 50\n",
            "building tree 30 of 50\n",
            "building tree 31 of 50\n",
            "building tree 32 of 50\n",
            "building tree 33 of 50\n",
            "building tree 34 of 50\n",
            "building tree 35 of 50\n",
            "building tree 36 of 50\n",
            "building tree 37 of 50\n",
            "building tree 38 of 50\n",
            "building tree 39 of 50\n",
            "building tree 40 of 50\n",
            "building tree 41 of 50\n",
            "building tree 42 of 50\n",
            "building tree 43 of 50\n",
            "building tree 44 of 50\n",
            "building tree 45 of 50\n",
            "building tree 46 of 50\n",
            "building tree 47 of 50\n",
            "building tree 48 of 50\n",
            "building tree 49 of 50\n",
            "building tree 50 of 50\n"
          ],
          "name": "stdout"
        },
        {
          "output_type": "stream",
          "text": [
            "[Parallel(n_jobs=1)]: Done  50 out of  50 | elapsed:   21.7s finished\n",
            "[Parallel(n_jobs=1)]: Using backend SequentialBackend with 1 concurrent workers.\n",
            "[Parallel(n_jobs=1)]: Done   1 out of   1 | elapsed:    0.0s remaining:    0.0s\n",
            "[Parallel(n_jobs=1)]: Done   2 out of   2 | elapsed:    0.0s remaining:    0.0s\n",
            "[Parallel(n_jobs=1)]: Done  50 out of  50 | elapsed:    0.3s finished\n",
            "[Parallel(n_jobs=1)]: Using backend SequentialBackend with 1 concurrent workers.\n"
          ],
          "name": "stderr"
        },
        {
          "output_type": "stream",
          "text": [
            "building tree 1 of 50\n"
          ],
          "name": "stdout"
        },
        {
          "output_type": "stream",
          "text": [
            "[Parallel(n_jobs=1)]: Done   1 out of   1 | elapsed:    0.5s remaining:    0.0s\n"
          ],
          "name": "stderr"
        },
        {
          "output_type": "stream",
          "text": [
            "building tree 2 of 50\n"
          ],
          "name": "stdout"
        },
        {
          "output_type": "stream",
          "text": [
            "[Parallel(n_jobs=1)]: Done   2 out of   2 | elapsed:    0.9s remaining:    0.0s\n"
          ],
          "name": "stderr"
        },
        {
          "output_type": "stream",
          "text": [
            "building tree 3 of 50\n",
            "building tree 4 of 50\n",
            "building tree 5 of 50\n",
            "building tree 6 of 50\n",
            "building tree 7 of 50\n",
            "building tree 8 of 50\n",
            "building tree 9 of 50\n",
            "building tree 10 of 50\n",
            "building tree 11 of 50\n",
            "building tree 12 of 50\n",
            "building tree 13 of 50\n",
            "building tree 14 of 50\n",
            "building tree 15 of 50\n",
            "building tree 16 of 50\n",
            "building tree 17 of 50\n",
            "building tree 18 of 50\n",
            "building tree 19 of 50\n",
            "building tree 20 of 50\n",
            "building tree 21 of 50\n",
            "building tree 22 of 50\n",
            "building tree 23 of 50\n",
            "building tree 24 of 50\n",
            "building tree 25 of 50\n",
            "building tree 26 of 50\n",
            "building tree 27 of 50\n",
            "building tree 28 of 50\n",
            "building tree 29 of 50\n",
            "building tree 30 of 50\n",
            "building tree 31 of 50\n",
            "building tree 32 of 50\n",
            "building tree 33 of 50\n",
            "building tree 34 of 50\n",
            "building tree 35 of 50\n",
            "building tree 36 of 50\n",
            "building tree 37 of 50\n",
            "building tree 38 of 50\n",
            "building tree 39 of 50\n",
            "building tree 40 of 50\n",
            "building tree 41 of 50\n",
            "building tree 42 of 50\n",
            "building tree 43 of 50\n",
            "building tree 44 of 50\n",
            "building tree 45 of 50\n",
            "building tree 46 of 50\n",
            "building tree 47 of 50\n",
            "building tree 48 of 50\n",
            "building tree 49 of 50\n",
            "building tree 50 of 50\n"
          ],
          "name": "stdout"
        },
        {
          "output_type": "stream",
          "text": [
            "[Parallel(n_jobs=1)]: Done  50 out of  50 | elapsed:   22.1s finished\n",
            "[Parallel(n_jobs=1)]: Using backend SequentialBackend with 1 concurrent workers.\n",
            "[Parallel(n_jobs=1)]: Done   1 out of   1 | elapsed:    0.0s remaining:    0.0s\n",
            "[Parallel(n_jobs=1)]: Done   2 out of   2 | elapsed:    0.0s remaining:    0.0s\n",
            "[Parallel(n_jobs=1)]: Done  50 out of  50 | elapsed:    0.3s finished\n",
            "[Parallel(n_jobs=1)]: Using backend SequentialBackend with 1 concurrent workers.\n"
          ],
          "name": "stderr"
        },
        {
          "output_type": "stream",
          "text": [
            "building tree 1 of 50\n",
            "building tree 2 of 50\n"
          ],
          "name": "stdout"
        },
        {
          "output_type": "stream",
          "text": [
            "[Parallel(n_jobs=1)]: Done   1 out of   1 | elapsed:    0.2s remaining:    0.0s\n",
            "[Parallel(n_jobs=1)]: Done   2 out of   2 | elapsed:    0.4s remaining:    0.0s\n"
          ],
          "name": "stderr"
        },
        {
          "output_type": "stream",
          "text": [
            "building tree 3 of 50\n",
            "building tree 4 of 50\n",
            "building tree 5 of 50\n",
            "building tree 6 of 50\n",
            "building tree 7 of 50\n",
            "building tree 8 of 50\n",
            "building tree 9 of 50\n",
            "building tree 10 of 50\n",
            "building tree 11 of 50\n",
            "building tree 12 of 50\n",
            "building tree 13 of 50\n",
            "building tree 14 of 50\n",
            "building tree 15 of 50\n",
            "building tree 16 of 50\n",
            "building tree 17 of 50\n",
            "building tree 18 of 50\n",
            "building tree 19 of 50\n",
            "building tree 20 of 50\n",
            "building tree 21 of 50\n",
            "building tree 22 of 50\n",
            "building tree 23 of 50\n",
            "building tree 24 of 50\n",
            "building tree 25 of 50\n",
            "building tree 26 of 50\n",
            "building tree 27 of 50\n",
            "building tree 28 of 50\n",
            "building tree 29 of 50\n",
            "building tree 30 of 50\n",
            "building tree 31 of 50\n",
            "building tree 32 of 50\n",
            "building tree 33 of 50\n",
            "building tree 34 of 50\n",
            "building tree 35 of 50\n",
            "building tree 36 of 50\n",
            "building tree 37 of 50\n",
            "building tree 38 of 50\n",
            "building tree 39 of 50\n",
            "building tree 40 of 50\n",
            "building tree 41 of 50\n",
            "building tree 42 of 50\n",
            "building tree 43 of 50\n",
            "building tree 44 of 50\n",
            "building tree 45 of 50\n",
            "building tree 46 of 50\n",
            "building tree 47 of 50\n",
            "building tree 48 of 50\n",
            "building tree 49 of 50\n",
            "building tree 50 of 50\n"
          ],
          "name": "stdout"
        },
        {
          "output_type": "stream",
          "text": [
            "[Parallel(n_jobs=1)]: Done  50 out of  50 | elapsed:    9.5s finished\n",
            "[Parallel(n_jobs=1)]: Using backend SequentialBackend with 1 concurrent workers.\n",
            "[Parallel(n_jobs=1)]: Done   1 out of   1 | elapsed:    0.0s remaining:    0.0s\n",
            "[Parallel(n_jobs=1)]: Done   2 out of   2 | elapsed:    0.0s remaining:    0.0s\n",
            "[Parallel(n_jobs=1)]: Done  50 out of  50 | elapsed:    0.3s finished\n",
            "[Parallel(n_jobs=1)]: Using backend SequentialBackend with 1 concurrent workers.\n"
          ],
          "name": "stderr"
        },
        {
          "output_type": "stream",
          "text": [
            "building tree 1 of 50\n",
            "building tree 2 of 50\n"
          ],
          "name": "stdout"
        },
        {
          "output_type": "stream",
          "text": [
            "[Parallel(n_jobs=1)]: Done   1 out of   1 | elapsed:    0.2s remaining:    0.0s\n",
            "[Parallel(n_jobs=1)]: Done   2 out of   2 | elapsed:    0.4s remaining:    0.0s\n"
          ],
          "name": "stderr"
        },
        {
          "output_type": "stream",
          "text": [
            "building tree 3 of 50\n",
            "building tree 4 of 50\n",
            "building tree 5 of 50\n",
            "building tree 6 of 50\n",
            "building tree 7 of 50\n",
            "building tree 8 of 50\n",
            "building tree 9 of 50\n",
            "building tree 10 of 50\n",
            "building tree 11 of 50\n",
            "building tree 12 of 50\n",
            "building tree 13 of 50\n",
            "building tree 14 of 50\n",
            "building tree 15 of 50\n",
            "building tree 16 of 50\n",
            "building tree 17 of 50\n",
            "building tree 18 of 50\n",
            "building tree 19 of 50\n",
            "building tree 20 of 50\n",
            "building tree 21 of 50\n",
            "building tree 22 of 50\n",
            "building tree 23 of 50\n",
            "building tree 24 of 50\n",
            "building tree 25 of 50\n",
            "building tree 26 of 50\n",
            "building tree 27 of 50\n",
            "building tree 28 of 50\n",
            "building tree 29 of 50\n",
            "building tree 30 of 50\n",
            "building tree 31 of 50\n",
            "building tree 32 of 50\n",
            "building tree 33 of 50\n",
            "building tree 34 of 50\n",
            "building tree 35 of 50\n",
            "building tree 36 of 50\n",
            "building tree 37 of 50\n",
            "building tree 38 of 50\n",
            "building tree 39 of 50\n",
            "building tree 40 of 50\n",
            "building tree 41 of 50\n",
            "building tree 42 of 50\n",
            "building tree 43 of 50\n",
            "building tree 44 of 50\n",
            "building tree 45 of 50\n",
            "building tree 46 of 50\n",
            "building tree 47 of 50\n",
            "building tree 48 of 50\n",
            "building tree 49 of 50\n",
            "building tree 50 of 50\n"
          ],
          "name": "stdout"
        },
        {
          "output_type": "stream",
          "text": [
            "[Parallel(n_jobs=1)]: Done  50 out of  50 | elapsed:    9.7s finished\n",
            "[Parallel(n_jobs=1)]: Using backend SequentialBackend with 1 concurrent workers.\n",
            "[Parallel(n_jobs=1)]: Done   1 out of   1 | elapsed:    0.0s remaining:    0.0s\n",
            "[Parallel(n_jobs=1)]: Done   2 out of   2 | elapsed:    0.0s remaining:    0.0s\n",
            "[Parallel(n_jobs=1)]: Done  50 out of  50 | elapsed:    0.3s finished\n",
            "[Parallel(n_jobs=1)]: Using backend SequentialBackend with 1 concurrent workers.\n"
          ],
          "name": "stderr"
        },
        {
          "output_type": "stream",
          "text": [
            "building tree 1 of 50\n",
            "building tree 2 of 50\n"
          ],
          "name": "stdout"
        },
        {
          "output_type": "stream",
          "text": [
            "[Parallel(n_jobs=1)]: Done   1 out of   1 | elapsed:    0.2s remaining:    0.0s\n",
            "[Parallel(n_jobs=1)]: Done   2 out of   2 | elapsed:    0.4s remaining:    0.0s\n"
          ],
          "name": "stderr"
        },
        {
          "output_type": "stream",
          "text": [
            "building tree 3 of 50\n",
            "building tree 4 of 50\n",
            "building tree 5 of 50\n",
            "building tree 6 of 50\n",
            "building tree 7 of 50\n",
            "building tree 8 of 50\n",
            "building tree 9 of 50\n",
            "building tree 10 of 50\n",
            "building tree 11 of 50\n",
            "building tree 12 of 50\n",
            "building tree 13 of 50\n",
            "building tree 14 of 50\n",
            "building tree 15 of 50\n",
            "building tree 16 of 50\n",
            "building tree 17 of 50\n",
            "building tree 18 of 50\n",
            "building tree 19 of 50\n",
            "building tree 20 of 50\n",
            "building tree 21 of 50\n",
            "building tree 22 of 50\n",
            "building tree 23 of 50\n",
            "building tree 24 of 50\n",
            "building tree 25 of 50\n",
            "building tree 26 of 50\n",
            "building tree 27 of 50\n",
            "building tree 28 of 50\n",
            "building tree 29 of 50\n",
            "building tree 30 of 50\n",
            "building tree 31 of 50\n",
            "building tree 32 of 50\n",
            "building tree 33 of 50\n",
            "building tree 34 of 50\n",
            "building tree 35 of 50\n",
            "building tree 36 of 50\n",
            "building tree 37 of 50\n",
            "building tree 38 of 50\n",
            "building tree 39 of 50\n",
            "building tree 40 of 50\n",
            "building tree 41 of 50\n",
            "building tree 42 of 50\n",
            "building tree 43 of 50\n",
            "building tree 44 of 50\n",
            "building tree 45 of 50\n",
            "building tree 46 of 50\n",
            "building tree 47 of 50\n",
            "building tree 48 of 50\n",
            "building tree 49 of 50\n",
            "building tree 50 of 50\n"
          ],
          "name": "stdout"
        },
        {
          "output_type": "stream",
          "text": [
            "[Parallel(n_jobs=1)]: Done  50 out of  50 | elapsed:    9.1s finished\n",
            "[Parallel(n_jobs=1)]: Using backend SequentialBackend with 1 concurrent workers.\n",
            "[Parallel(n_jobs=1)]: Done   1 out of   1 | elapsed:    0.0s remaining:    0.0s\n",
            "[Parallel(n_jobs=1)]: Done   2 out of   2 | elapsed:    0.0s remaining:    0.0s\n",
            "[Parallel(n_jobs=1)]: Done  50 out of  50 | elapsed:    0.3s finished\n",
            "[Parallel(n_jobs=1)]: Using backend SequentialBackend with 1 concurrent workers.\n"
          ],
          "name": "stderr"
        },
        {
          "output_type": "stream",
          "text": [
            "building tree 1 of 50\n",
            "building tree 2 of 50\n"
          ],
          "name": "stdout"
        },
        {
          "output_type": "stream",
          "text": [
            "[Parallel(n_jobs=1)]: Done   1 out of   1 | elapsed:    0.2s remaining:    0.0s\n",
            "[Parallel(n_jobs=1)]: Done   2 out of   2 | elapsed:    0.4s remaining:    0.0s\n"
          ],
          "name": "stderr"
        },
        {
          "output_type": "stream",
          "text": [
            "building tree 3 of 50\n",
            "building tree 4 of 50\n",
            "building tree 5 of 50\n",
            "building tree 6 of 50\n",
            "building tree 7 of 50\n",
            "building tree 8 of 50\n",
            "building tree 9 of 50\n",
            "building tree 10 of 50\n",
            "building tree 11 of 50\n",
            "building tree 12 of 50\n",
            "building tree 13 of 50\n",
            "building tree 14 of 50\n",
            "building tree 15 of 50\n",
            "building tree 16 of 50\n",
            "building tree 17 of 50\n",
            "building tree 18 of 50\n",
            "building tree 19 of 50\n",
            "building tree 20 of 50\n",
            "building tree 21 of 50\n",
            "building tree 22 of 50\n",
            "building tree 23 of 50\n",
            "building tree 24 of 50\n",
            "building tree 25 of 50\n",
            "building tree 26 of 50\n",
            "building tree 27 of 50\n",
            "building tree 28 of 50\n",
            "building tree 29 of 50\n",
            "building tree 30 of 50\n",
            "building tree 31 of 50\n",
            "building tree 32 of 50\n",
            "building tree 33 of 50\n",
            "building tree 34 of 50\n",
            "building tree 35 of 50\n",
            "building tree 36 of 50\n",
            "building tree 37 of 50\n",
            "building tree 38 of 50\n",
            "building tree 39 of 50\n",
            "building tree 40 of 50\n",
            "building tree 41 of 50\n",
            "building tree 42 of 50\n",
            "building tree 43 of 50\n",
            "building tree 44 of 50\n",
            "building tree 45 of 50\n",
            "building tree 46 of 50\n",
            "building tree 47 of 50\n",
            "building tree 48 of 50\n",
            "building tree 49 of 50\n",
            "building tree 50 of 50\n"
          ],
          "name": "stdout"
        },
        {
          "output_type": "stream",
          "text": [
            "[Parallel(n_jobs=1)]: Done  50 out of  50 | elapsed:    9.3s finished\n",
            "[Parallel(n_jobs=1)]: Using backend SequentialBackend with 1 concurrent workers.\n",
            "[Parallel(n_jobs=1)]: Done   1 out of   1 | elapsed:    0.0s remaining:    0.0s\n",
            "[Parallel(n_jobs=1)]: Done   2 out of   2 | elapsed:    0.0s remaining:    0.0s\n",
            "[Parallel(n_jobs=1)]: Done  50 out of  50 | elapsed:    0.3s finished\n",
            "[Parallel(n_jobs=1)]: Using backend SequentialBackend with 1 concurrent workers.\n"
          ],
          "name": "stderr"
        },
        {
          "output_type": "stream",
          "text": [
            "building tree 1 of 50\n",
            "building tree 2 of 50\n"
          ],
          "name": "stdout"
        },
        {
          "output_type": "stream",
          "text": [
            "[Parallel(n_jobs=1)]: Done   1 out of   1 | elapsed:    0.2s remaining:    0.0s\n",
            "[Parallel(n_jobs=1)]: Done   2 out of   2 | elapsed:    0.4s remaining:    0.0s\n"
          ],
          "name": "stderr"
        },
        {
          "output_type": "stream",
          "text": [
            "building tree 3 of 50\n",
            "building tree 4 of 50\n",
            "building tree 5 of 50\n",
            "building tree 6 of 50\n",
            "building tree 7 of 50\n",
            "building tree 8 of 50\n",
            "building tree 9 of 50\n",
            "building tree 10 of 50\n",
            "building tree 11 of 50\n",
            "building tree 12 of 50\n",
            "building tree 13 of 50\n",
            "building tree 14 of 50\n",
            "building tree 15 of 50\n",
            "building tree 16 of 50\n",
            "building tree 17 of 50\n",
            "building tree 18 of 50\n",
            "building tree 19 of 50\n",
            "building tree 20 of 50\n",
            "building tree 21 of 50\n",
            "building tree 22 of 50\n",
            "building tree 23 of 50\n",
            "building tree 24 of 50\n",
            "building tree 25 of 50\n",
            "building tree 26 of 50\n",
            "building tree 27 of 50\n",
            "building tree 28 of 50\n",
            "building tree 29 of 50\n",
            "building tree 30 of 50\n",
            "building tree 31 of 50\n",
            "building tree 32 of 50\n",
            "building tree 33 of 50\n",
            "building tree 34 of 50\n",
            "building tree 35 of 50\n",
            "building tree 36 of 50\n",
            "building tree 37 of 50\n",
            "building tree 38 of 50\n",
            "building tree 39 of 50\n",
            "building tree 40 of 50\n",
            "building tree 41 of 50\n",
            "building tree 42 of 50\n",
            "building tree 43 of 50\n",
            "building tree 44 of 50\n",
            "building tree 45 of 50\n",
            "building tree 46 of 50\n",
            "building tree 47 of 50\n",
            "building tree 48 of 50\n",
            "building tree 49 of 50\n",
            "building tree 50 of 50\n"
          ],
          "name": "stdout"
        },
        {
          "output_type": "stream",
          "text": [
            "[Parallel(n_jobs=1)]: Done  50 out of  50 | elapsed:    9.5s finished\n",
            "[Parallel(n_jobs=1)]: Using backend SequentialBackend with 1 concurrent workers.\n",
            "[Parallel(n_jobs=1)]: Done   1 out of   1 | elapsed:    0.0s remaining:    0.0s\n",
            "[Parallel(n_jobs=1)]: Done   2 out of   2 | elapsed:    0.0s remaining:    0.0s\n",
            "[Parallel(n_jobs=1)]: Done  50 out of  50 | elapsed:    0.3s finished\n",
            "[Parallel(n_jobs=1)]: Using backend SequentialBackend with 1 concurrent workers.\n"
          ],
          "name": "stderr"
        },
        {
          "output_type": "stream",
          "text": [
            "building tree 1 of 50\n"
          ],
          "name": "stdout"
        },
        {
          "output_type": "stream",
          "text": [
            "[Parallel(n_jobs=1)]: Done   1 out of   1 | elapsed:    0.3s remaining:    0.0s\n"
          ],
          "name": "stderr"
        },
        {
          "output_type": "stream",
          "text": [
            "building tree 2 of 50\n"
          ],
          "name": "stdout"
        },
        {
          "output_type": "stream",
          "text": [
            "[Parallel(n_jobs=1)]: Done   2 out of   2 | elapsed:    0.5s remaining:    0.0s\n"
          ],
          "name": "stderr"
        },
        {
          "output_type": "stream",
          "text": [
            "building tree 3 of 50\n",
            "building tree 4 of 50\n",
            "building tree 5 of 50\n",
            "building tree 6 of 50\n",
            "building tree 7 of 50\n",
            "building tree 8 of 50\n",
            "building tree 9 of 50\n",
            "building tree 10 of 50\n",
            "building tree 11 of 50\n",
            "building tree 12 of 50\n",
            "building tree 13 of 50\n",
            "building tree 14 of 50\n",
            "building tree 15 of 50\n",
            "building tree 16 of 50\n",
            "building tree 17 of 50\n",
            "building tree 18 of 50\n",
            "building tree 19 of 50\n",
            "building tree 20 of 50\n",
            "building tree 21 of 50\n",
            "building tree 22 of 50\n",
            "building tree 23 of 50\n",
            "building tree 24 of 50\n",
            "building tree 25 of 50\n",
            "building tree 26 of 50\n",
            "building tree 27 of 50\n",
            "building tree 28 of 50\n",
            "building tree 29 of 50\n",
            "building tree 30 of 50\n",
            "building tree 31 of 50\n",
            "building tree 32 of 50\n",
            "building tree 33 of 50\n",
            "building tree 34 of 50\n",
            "building tree 35 of 50\n",
            "building tree 36 of 50\n",
            "building tree 37 of 50\n",
            "building tree 38 of 50\n",
            "building tree 39 of 50\n",
            "building tree 40 of 50\n",
            "building tree 41 of 50\n",
            "building tree 42 of 50\n",
            "building tree 43 of 50\n",
            "building tree 44 of 50\n",
            "building tree 45 of 50\n",
            "building tree 46 of 50\n",
            "building tree 47 of 50\n",
            "building tree 48 of 50\n",
            "building tree 49 of 50\n",
            "building tree 50 of 50\n"
          ],
          "name": "stdout"
        },
        {
          "output_type": "stream",
          "text": [
            "[Parallel(n_jobs=1)]: Done  50 out of  50 | elapsed:   12.6s finished\n",
            "[Parallel(n_jobs=1)]: Using backend SequentialBackend with 1 concurrent workers.\n",
            "[Parallel(n_jobs=1)]: Done   1 out of   1 | elapsed:    0.0s remaining:    0.0s\n",
            "[Parallel(n_jobs=1)]: Done   2 out of   2 | elapsed:    0.0s remaining:    0.0s\n",
            "[Parallel(n_jobs=1)]: Done  50 out of  50 | elapsed:    0.3s finished\n",
            "[Parallel(n_jobs=1)]: Using backend SequentialBackend with 1 concurrent workers.\n"
          ],
          "name": "stderr"
        },
        {
          "output_type": "stream",
          "text": [
            "building tree 1 of 50\n"
          ],
          "name": "stdout"
        },
        {
          "output_type": "stream",
          "text": [
            "[Parallel(n_jobs=1)]: Done   1 out of   1 | elapsed:    0.3s remaining:    0.0s\n"
          ],
          "name": "stderr"
        },
        {
          "output_type": "stream",
          "text": [
            "building tree 2 of 50\n"
          ],
          "name": "stdout"
        },
        {
          "output_type": "stream",
          "text": [
            "[Parallel(n_jobs=1)]: Done   2 out of   2 | elapsed:    0.6s remaining:    0.0s\n"
          ],
          "name": "stderr"
        },
        {
          "output_type": "stream",
          "text": [
            "building tree 3 of 50\n",
            "building tree 4 of 50\n",
            "building tree 5 of 50\n",
            "building tree 6 of 50\n",
            "building tree 7 of 50\n",
            "building tree 8 of 50\n",
            "building tree 9 of 50\n",
            "building tree 10 of 50\n",
            "building tree 11 of 50\n",
            "building tree 12 of 50\n",
            "building tree 13 of 50\n",
            "building tree 14 of 50\n",
            "building tree 15 of 50\n",
            "building tree 16 of 50\n",
            "building tree 17 of 50\n",
            "building tree 18 of 50\n",
            "building tree 19 of 50\n",
            "building tree 20 of 50\n",
            "building tree 21 of 50\n",
            "building tree 22 of 50\n",
            "building tree 23 of 50\n",
            "building tree 24 of 50\n",
            "building tree 25 of 50\n",
            "building tree 26 of 50\n",
            "building tree 27 of 50\n",
            "building tree 28 of 50\n",
            "building tree 29 of 50\n",
            "building tree 30 of 50\n",
            "building tree 31 of 50\n",
            "building tree 32 of 50\n",
            "building tree 33 of 50\n",
            "building tree 34 of 50\n",
            "building tree 35 of 50\n",
            "building tree 36 of 50\n",
            "building tree 37 of 50\n",
            "building tree 38 of 50\n",
            "building tree 39 of 50\n",
            "building tree 40 of 50\n",
            "building tree 41 of 50\n",
            "building tree 42 of 50\n",
            "building tree 43 of 50\n",
            "building tree 44 of 50\n",
            "building tree 45 of 50\n",
            "building tree 46 of 50\n",
            "building tree 47 of 50\n",
            "building tree 48 of 50\n",
            "building tree 49 of 50\n",
            "building tree 50 of 50\n"
          ],
          "name": "stdout"
        },
        {
          "output_type": "stream",
          "text": [
            "[Parallel(n_jobs=1)]: Done  50 out of  50 | elapsed:   13.1s finished\n",
            "[Parallel(n_jobs=1)]: Using backend SequentialBackend with 1 concurrent workers.\n",
            "[Parallel(n_jobs=1)]: Done   1 out of   1 | elapsed:    0.0s remaining:    0.0s\n",
            "[Parallel(n_jobs=1)]: Done   2 out of   2 | elapsed:    0.0s remaining:    0.0s\n",
            "[Parallel(n_jobs=1)]: Done  50 out of  50 | elapsed:    0.3s finished\n",
            "[Parallel(n_jobs=1)]: Using backend SequentialBackend with 1 concurrent workers.\n"
          ],
          "name": "stderr"
        },
        {
          "output_type": "stream",
          "text": [
            "building tree 1 of 50\n"
          ],
          "name": "stdout"
        },
        {
          "output_type": "stream",
          "text": [
            "[Parallel(n_jobs=1)]: Done   1 out of   1 | elapsed:    0.3s remaining:    0.0s\n"
          ],
          "name": "stderr"
        },
        {
          "output_type": "stream",
          "text": [
            "building tree 2 of 50\n"
          ],
          "name": "stdout"
        },
        {
          "output_type": "stream",
          "text": [
            "[Parallel(n_jobs=1)]: Done   2 out of   2 | elapsed:    0.5s remaining:    0.0s\n"
          ],
          "name": "stderr"
        },
        {
          "output_type": "stream",
          "text": [
            "building tree 3 of 50\n",
            "building tree 4 of 50\n",
            "building tree 5 of 50\n",
            "building tree 6 of 50\n",
            "building tree 7 of 50\n",
            "building tree 8 of 50\n",
            "building tree 9 of 50\n",
            "building tree 10 of 50\n",
            "building tree 11 of 50\n",
            "building tree 12 of 50\n",
            "building tree 13 of 50\n",
            "building tree 14 of 50\n",
            "building tree 15 of 50\n",
            "building tree 16 of 50\n",
            "building tree 17 of 50\n",
            "building tree 18 of 50\n",
            "building tree 19 of 50\n",
            "building tree 20 of 50\n",
            "building tree 21 of 50\n",
            "building tree 22 of 50\n",
            "building tree 23 of 50\n",
            "building tree 24 of 50\n",
            "building tree 25 of 50\n",
            "building tree 26 of 50\n",
            "building tree 27 of 50\n",
            "building tree 28 of 50\n",
            "building tree 29 of 50\n",
            "building tree 30 of 50\n",
            "building tree 31 of 50\n",
            "building tree 32 of 50\n",
            "building tree 33 of 50\n",
            "building tree 34 of 50\n",
            "building tree 35 of 50\n",
            "building tree 36 of 50\n",
            "building tree 37 of 50\n",
            "building tree 38 of 50\n",
            "building tree 39 of 50\n",
            "building tree 40 of 50\n",
            "building tree 41 of 50\n",
            "building tree 42 of 50\n",
            "building tree 43 of 50\n",
            "building tree 44 of 50\n",
            "building tree 45 of 50\n",
            "building tree 46 of 50\n",
            "building tree 47 of 50\n",
            "building tree 48 of 50\n",
            "building tree 49 of 50\n",
            "building tree 50 of 50\n"
          ],
          "name": "stdout"
        },
        {
          "output_type": "stream",
          "text": [
            "[Parallel(n_jobs=1)]: Done  50 out of  50 | elapsed:   12.6s finished\n",
            "[Parallel(n_jobs=1)]: Using backend SequentialBackend with 1 concurrent workers.\n",
            "[Parallel(n_jobs=1)]: Done   1 out of   1 | elapsed:    0.0s remaining:    0.0s\n",
            "[Parallel(n_jobs=1)]: Done   2 out of   2 | elapsed:    0.0s remaining:    0.0s\n",
            "[Parallel(n_jobs=1)]: Done  50 out of  50 | elapsed:    0.3s finished\n",
            "[Parallel(n_jobs=1)]: Using backend SequentialBackend with 1 concurrent workers.\n"
          ],
          "name": "stderr"
        },
        {
          "output_type": "stream",
          "text": [
            "building tree 1 of 50\n"
          ],
          "name": "stdout"
        },
        {
          "output_type": "stream",
          "text": [
            "[Parallel(n_jobs=1)]: Done   1 out of   1 | elapsed:    0.3s remaining:    0.0s\n"
          ],
          "name": "stderr"
        },
        {
          "output_type": "stream",
          "text": [
            "building tree 2 of 50\n"
          ],
          "name": "stdout"
        },
        {
          "output_type": "stream",
          "text": [
            "[Parallel(n_jobs=1)]: Done   2 out of   2 | elapsed:    0.5s remaining:    0.0s\n"
          ],
          "name": "stderr"
        },
        {
          "output_type": "stream",
          "text": [
            "building tree 3 of 50\n",
            "building tree 4 of 50\n",
            "building tree 5 of 50\n",
            "building tree 6 of 50\n",
            "building tree 7 of 50\n",
            "building tree 8 of 50\n",
            "building tree 9 of 50\n",
            "building tree 10 of 50\n",
            "building tree 11 of 50\n",
            "building tree 12 of 50\n",
            "building tree 13 of 50\n",
            "building tree 14 of 50\n",
            "building tree 15 of 50\n",
            "building tree 16 of 50\n",
            "building tree 17 of 50\n",
            "building tree 18 of 50\n",
            "building tree 19 of 50\n",
            "building tree 20 of 50\n",
            "building tree 21 of 50\n",
            "building tree 22 of 50\n",
            "building tree 23 of 50\n",
            "building tree 24 of 50\n",
            "building tree 25 of 50\n",
            "building tree 26 of 50\n",
            "building tree 27 of 50\n",
            "building tree 28 of 50\n",
            "building tree 29 of 50\n",
            "building tree 30 of 50\n",
            "building tree 31 of 50\n",
            "building tree 32 of 50\n",
            "building tree 33 of 50\n",
            "building tree 34 of 50\n",
            "building tree 35 of 50\n",
            "building tree 36 of 50\n",
            "building tree 37 of 50\n",
            "building tree 38 of 50\n",
            "building tree 39 of 50\n",
            "building tree 40 of 50\n",
            "building tree 41 of 50\n",
            "building tree 42 of 50\n",
            "building tree 43 of 50\n",
            "building tree 44 of 50\n",
            "building tree 45 of 50\n",
            "building tree 46 of 50\n",
            "building tree 47 of 50\n",
            "building tree 48 of 50\n",
            "building tree 49 of 50\n",
            "building tree 50 of 50\n"
          ],
          "name": "stdout"
        },
        {
          "output_type": "stream",
          "text": [
            "[Parallel(n_jobs=1)]: Done  50 out of  50 | elapsed:   12.8s finished\n",
            "[Parallel(n_jobs=1)]: Using backend SequentialBackend with 1 concurrent workers.\n",
            "[Parallel(n_jobs=1)]: Done   1 out of   1 | elapsed:    0.0s remaining:    0.0s\n",
            "[Parallel(n_jobs=1)]: Done   2 out of   2 | elapsed:    0.0s remaining:    0.0s\n",
            "[Parallel(n_jobs=1)]: Done  50 out of  50 | elapsed:    0.3s finished\n",
            "[Parallel(n_jobs=1)]: Using backend SequentialBackend with 1 concurrent workers.\n"
          ],
          "name": "stderr"
        },
        {
          "output_type": "stream",
          "text": [
            "building tree 1 of 50\n"
          ],
          "name": "stdout"
        },
        {
          "output_type": "stream",
          "text": [
            "[Parallel(n_jobs=1)]: Done   1 out of   1 | elapsed:    0.3s remaining:    0.0s\n"
          ],
          "name": "stderr"
        },
        {
          "output_type": "stream",
          "text": [
            "building tree 2 of 50\n"
          ],
          "name": "stdout"
        },
        {
          "output_type": "stream",
          "text": [
            "[Parallel(n_jobs=1)]: Done   2 out of   2 | elapsed:    0.5s remaining:    0.0s\n"
          ],
          "name": "stderr"
        },
        {
          "output_type": "stream",
          "text": [
            "building tree 3 of 50\n",
            "building tree 4 of 50\n",
            "building tree 5 of 50\n",
            "building tree 6 of 50\n",
            "building tree 7 of 50\n",
            "building tree 8 of 50\n",
            "building tree 9 of 50\n",
            "building tree 10 of 50\n",
            "building tree 11 of 50\n",
            "building tree 12 of 50\n",
            "building tree 13 of 50\n",
            "building tree 14 of 50\n",
            "building tree 15 of 50\n",
            "building tree 16 of 50\n",
            "building tree 17 of 50\n",
            "building tree 18 of 50\n",
            "building tree 19 of 50\n",
            "building tree 20 of 50\n",
            "building tree 21 of 50\n",
            "building tree 22 of 50\n",
            "building tree 23 of 50\n",
            "building tree 24 of 50\n",
            "building tree 25 of 50\n",
            "building tree 26 of 50\n",
            "building tree 27 of 50\n",
            "building tree 28 of 50\n",
            "building tree 29 of 50\n",
            "building tree 30 of 50\n",
            "building tree 31 of 50\n",
            "building tree 32 of 50\n",
            "building tree 33 of 50\n",
            "building tree 34 of 50\n",
            "building tree 35 of 50\n",
            "building tree 36 of 50\n",
            "building tree 37 of 50\n",
            "building tree 38 of 50\n",
            "building tree 39 of 50\n",
            "building tree 40 of 50\n",
            "building tree 41 of 50\n",
            "building tree 42 of 50\n",
            "building tree 43 of 50\n",
            "building tree 44 of 50\n",
            "building tree 45 of 50\n",
            "building tree 46 of 50\n",
            "building tree 47 of 50\n",
            "building tree 48 of 50\n",
            "building tree 49 of 50\n",
            "building tree 50 of 50\n"
          ],
          "name": "stdout"
        },
        {
          "output_type": "stream",
          "text": [
            "[Parallel(n_jobs=1)]: Done  50 out of  50 | elapsed:   12.9s finished\n",
            "[Parallel(n_jobs=1)]: Using backend SequentialBackend with 1 concurrent workers.\n",
            "[Parallel(n_jobs=1)]: Done   1 out of   1 | elapsed:    0.0s remaining:    0.0s\n",
            "[Parallel(n_jobs=1)]: Done   2 out of   2 | elapsed:    0.0s remaining:    0.0s\n",
            "[Parallel(n_jobs=1)]: Done  50 out of  50 | elapsed:    0.3s finished\n",
            "[Parallel(n_jobs=1)]: Using backend SequentialBackend with 1 concurrent workers.\n"
          ],
          "name": "stderr"
        },
        {
          "output_type": "stream",
          "text": [
            "building tree 1 of 50\n"
          ],
          "name": "stdout"
        },
        {
          "output_type": "stream",
          "text": [
            "[Parallel(n_jobs=1)]: Done   1 out of   1 | elapsed:    0.3s remaining:    0.0s\n"
          ],
          "name": "stderr"
        },
        {
          "output_type": "stream",
          "text": [
            "building tree 2 of 50\n"
          ],
          "name": "stdout"
        },
        {
          "output_type": "stream",
          "text": [
            "[Parallel(n_jobs=1)]: Done   2 out of   2 | elapsed:    0.6s remaining:    0.0s\n"
          ],
          "name": "stderr"
        },
        {
          "output_type": "stream",
          "text": [
            "building tree 3 of 50\n",
            "building tree 4 of 50\n",
            "building tree 5 of 50\n",
            "building tree 6 of 50\n",
            "building tree 7 of 50\n",
            "building tree 8 of 50\n",
            "building tree 9 of 50\n",
            "building tree 10 of 50\n",
            "building tree 11 of 50\n",
            "building tree 12 of 50\n",
            "building tree 13 of 50\n",
            "building tree 14 of 50\n",
            "building tree 15 of 50\n",
            "building tree 16 of 50\n",
            "building tree 17 of 50\n",
            "building tree 18 of 50\n",
            "building tree 19 of 50\n",
            "building tree 20 of 50\n",
            "building tree 21 of 50\n",
            "building tree 22 of 50\n",
            "building tree 23 of 50\n",
            "building tree 24 of 50\n",
            "building tree 25 of 50\n",
            "building tree 26 of 50\n",
            "building tree 27 of 50\n",
            "building tree 28 of 50\n",
            "building tree 29 of 50\n",
            "building tree 30 of 50\n",
            "building tree 31 of 50\n",
            "building tree 32 of 50\n",
            "building tree 33 of 50\n",
            "building tree 34 of 50\n",
            "building tree 35 of 50\n",
            "building tree 36 of 50\n",
            "building tree 37 of 50\n",
            "building tree 38 of 50\n",
            "building tree 39 of 50\n",
            "building tree 40 of 50\n",
            "building tree 41 of 50\n",
            "building tree 42 of 50\n",
            "building tree 43 of 50\n",
            "building tree 44 of 50\n",
            "building tree 45 of 50\n",
            "building tree 46 of 50\n",
            "building tree 47 of 50\n",
            "building tree 48 of 50\n",
            "building tree 49 of 50\n",
            "building tree 50 of 50\n"
          ],
          "name": "stdout"
        },
        {
          "output_type": "stream",
          "text": [
            "[Parallel(n_jobs=1)]: Done  50 out of  50 | elapsed:   15.5s finished\n",
            "[Parallel(n_jobs=1)]: Using backend SequentialBackend with 1 concurrent workers.\n",
            "[Parallel(n_jobs=1)]: Done   1 out of   1 | elapsed:    0.0s remaining:    0.0s\n",
            "[Parallel(n_jobs=1)]: Done   2 out of   2 | elapsed:    0.0s remaining:    0.0s\n",
            "[Parallel(n_jobs=1)]: Done  50 out of  50 | elapsed:    0.3s finished\n",
            "[Parallel(n_jobs=1)]: Using backend SequentialBackend with 1 concurrent workers.\n"
          ],
          "name": "stderr"
        },
        {
          "output_type": "stream",
          "text": [
            "building tree 1 of 50\n"
          ],
          "name": "stdout"
        },
        {
          "output_type": "stream",
          "text": [
            "[Parallel(n_jobs=1)]: Done   1 out of   1 | elapsed:    0.3s remaining:    0.0s\n"
          ],
          "name": "stderr"
        },
        {
          "output_type": "stream",
          "text": [
            "building tree 2 of 50\n"
          ],
          "name": "stdout"
        },
        {
          "output_type": "stream",
          "text": [
            "[Parallel(n_jobs=1)]: Done   2 out of   2 | elapsed:    0.7s remaining:    0.0s\n"
          ],
          "name": "stderr"
        },
        {
          "output_type": "stream",
          "text": [
            "building tree 3 of 50\n",
            "building tree 4 of 50\n",
            "building tree 5 of 50\n",
            "building tree 6 of 50\n",
            "building tree 7 of 50\n",
            "building tree 8 of 50\n",
            "building tree 9 of 50\n",
            "building tree 10 of 50\n",
            "building tree 11 of 50\n",
            "building tree 12 of 50\n",
            "building tree 13 of 50\n",
            "building tree 14 of 50\n",
            "building tree 15 of 50\n",
            "building tree 16 of 50\n",
            "building tree 17 of 50\n",
            "building tree 18 of 50\n",
            "building tree 19 of 50\n",
            "building tree 20 of 50\n",
            "building tree 21 of 50\n",
            "building tree 22 of 50\n",
            "building tree 23 of 50\n",
            "building tree 24 of 50\n",
            "building tree 25 of 50\n",
            "building tree 26 of 50\n",
            "building tree 27 of 50\n",
            "building tree 28 of 50\n",
            "building tree 29 of 50\n",
            "building tree 30 of 50\n",
            "building tree 31 of 50\n",
            "building tree 32 of 50\n",
            "building tree 33 of 50\n",
            "building tree 34 of 50\n",
            "building tree 35 of 50\n",
            "building tree 36 of 50\n",
            "building tree 37 of 50\n",
            "building tree 38 of 50\n",
            "building tree 39 of 50\n",
            "building tree 40 of 50\n",
            "building tree 41 of 50\n",
            "building tree 42 of 50\n",
            "building tree 43 of 50\n",
            "building tree 44 of 50\n",
            "building tree 45 of 50\n",
            "building tree 46 of 50\n",
            "building tree 47 of 50\n",
            "building tree 48 of 50\n",
            "building tree 49 of 50\n",
            "building tree 50 of 50\n"
          ],
          "name": "stdout"
        },
        {
          "output_type": "stream",
          "text": [
            "[Parallel(n_jobs=1)]: Done  50 out of  50 | elapsed:   15.9s finished\n",
            "[Parallel(n_jobs=1)]: Using backend SequentialBackend with 1 concurrent workers.\n",
            "[Parallel(n_jobs=1)]: Done   1 out of   1 | elapsed:    0.0s remaining:    0.0s\n",
            "[Parallel(n_jobs=1)]: Done   2 out of   2 | elapsed:    0.0s remaining:    0.0s\n",
            "[Parallel(n_jobs=1)]: Done  50 out of  50 | elapsed:    0.3s finished\n",
            "[Parallel(n_jobs=1)]: Using backend SequentialBackend with 1 concurrent workers.\n"
          ],
          "name": "stderr"
        },
        {
          "output_type": "stream",
          "text": [
            "building tree 1 of 50\n"
          ],
          "name": "stdout"
        },
        {
          "output_type": "stream",
          "text": [
            "[Parallel(n_jobs=1)]: Done   1 out of   1 | elapsed:    0.3s remaining:    0.0s\n"
          ],
          "name": "stderr"
        },
        {
          "output_type": "stream",
          "text": [
            "building tree 2 of 50\n"
          ],
          "name": "stdout"
        },
        {
          "output_type": "stream",
          "text": [
            "[Parallel(n_jobs=1)]: Done   2 out of   2 | elapsed:    0.7s remaining:    0.0s\n"
          ],
          "name": "stderr"
        },
        {
          "output_type": "stream",
          "text": [
            "building tree 3 of 50\n",
            "building tree 4 of 50\n",
            "building tree 5 of 50\n",
            "building tree 6 of 50\n",
            "building tree 7 of 50\n",
            "building tree 8 of 50\n",
            "building tree 9 of 50\n",
            "building tree 10 of 50\n",
            "building tree 11 of 50\n",
            "building tree 12 of 50\n",
            "building tree 13 of 50\n",
            "building tree 14 of 50\n",
            "building tree 15 of 50\n",
            "building tree 16 of 50\n",
            "building tree 17 of 50\n",
            "building tree 18 of 50\n",
            "building tree 19 of 50\n",
            "building tree 20 of 50\n",
            "building tree 21 of 50\n",
            "building tree 22 of 50\n",
            "building tree 23 of 50\n",
            "building tree 24 of 50\n",
            "building tree 25 of 50\n",
            "building tree 26 of 50\n",
            "building tree 27 of 50\n",
            "building tree 28 of 50\n",
            "building tree 29 of 50\n",
            "building tree 30 of 50\n",
            "building tree 31 of 50\n",
            "building tree 32 of 50\n",
            "building tree 33 of 50\n",
            "building tree 34 of 50\n",
            "building tree 35 of 50\n",
            "building tree 36 of 50\n",
            "building tree 37 of 50\n",
            "building tree 38 of 50\n",
            "building tree 39 of 50\n",
            "building tree 40 of 50\n",
            "building tree 41 of 50\n",
            "building tree 42 of 50\n",
            "building tree 43 of 50\n",
            "building tree 44 of 50\n",
            "building tree 45 of 50\n",
            "building tree 46 of 50\n",
            "building tree 47 of 50\n",
            "building tree 48 of 50\n",
            "building tree 49 of 50\n",
            "building tree 50 of 50\n"
          ],
          "name": "stdout"
        },
        {
          "output_type": "stream",
          "text": [
            "[Parallel(n_jobs=1)]: Done  50 out of  50 | elapsed:   15.2s finished\n",
            "[Parallel(n_jobs=1)]: Using backend SequentialBackend with 1 concurrent workers.\n",
            "[Parallel(n_jobs=1)]: Done   1 out of   1 | elapsed:    0.0s remaining:    0.0s\n",
            "[Parallel(n_jobs=1)]: Done   2 out of   2 | elapsed:    0.0s remaining:    0.0s\n",
            "[Parallel(n_jobs=1)]: Done  50 out of  50 | elapsed:    0.3s finished\n",
            "[Parallel(n_jobs=1)]: Using backend SequentialBackend with 1 concurrent workers.\n"
          ],
          "name": "stderr"
        },
        {
          "output_type": "stream",
          "text": [
            "building tree 1 of 50\n"
          ],
          "name": "stdout"
        },
        {
          "output_type": "stream",
          "text": [
            "[Parallel(n_jobs=1)]: Done   1 out of   1 | elapsed:    0.3s remaining:    0.0s\n"
          ],
          "name": "stderr"
        },
        {
          "output_type": "stream",
          "text": [
            "building tree 2 of 50\n"
          ],
          "name": "stdout"
        },
        {
          "output_type": "stream",
          "text": [
            "[Parallel(n_jobs=1)]: Done   2 out of   2 | elapsed:    0.6s remaining:    0.0s\n"
          ],
          "name": "stderr"
        },
        {
          "output_type": "stream",
          "text": [
            "building tree 3 of 50\n",
            "building tree 4 of 50\n",
            "building tree 5 of 50\n",
            "building tree 6 of 50\n",
            "building tree 7 of 50\n",
            "building tree 8 of 50\n",
            "building tree 9 of 50\n",
            "building tree 10 of 50\n",
            "building tree 11 of 50\n",
            "building tree 12 of 50\n",
            "building tree 13 of 50\n",
            "building tree 14 of 50\n",
            "building tree 15 of 50\n",
            "building tree 16 of 50\n",
            "building tree 17 of 50\n",
            "building tree 18 of 50\n",
            "building tree 19 of 50\n",
            "building tree 20 of 50\n",
            "building tree 21 of 50\n",
            "building tree 22 of 50\n",
            "building tree 23 of 50\n",
            "building tree 24 of 50\n",
            "building tree 25 of 50\n",
            "building tree 26 of 50\n",
            "building tree 27 of 50\n",
            "building tree 28 of 50\n",
            "building tree 29 of 50\n",
            "building tree 30 of 50\n",
            "building tree 31 of 50\n",
            "building tree 32 of 50\n",
            "building tree 33 of 50\n",
            "building tree 34 of 50\n",
            "building tree 35 of 50\n",
            "building tree 36 of 50\n",
            "building tree 37 of 50\n",
            "building tree 38 of 50\n",
            "building tree 39 of 50\n",
            "building tree 40 of 50\n",
            "building tree 41 of 50\n",
            "building tree 42 of 50\n",
            "building tree 43 of 50\n",
            "building tree 44 of 50\n",
            "building tree 45 of 50\n",
            "building tree 46 of 50\n",
            "building tree 47 of 50\n",
            "building tree 48 of 50\n",
            "building tree 49 of 50\n",
            "building tree 50 of 50\n"
          ],
          "name": "stdout"
        },
        {
          "output_type": "stream",
          "text": [
            "[Parallel(n_jobs=1)]: Done  50 out of  50 | elapsed:   15.7s finished\n",
            "[Parallel(n_jobs=1)]: Using backend SequentialBackend with 1 concurrent workers.\n",
            "[Parallel(n_jobs=1)]: Done   1 out of   1 | elapsed:    0.0s remaining:    0.0s\n",
            "[Parallel(n_jobs=1)]: Done   2 out of   2 | elapsed:    0.0s remaining:    0.0s\n",
            "[Parallel(n_jobs=1)]: Done  50 out of  50 | elapsed:    0.3s finished\n",
            "[Parallel(n_jobs=1)]: Using backend SequentialBackend with 1 concurrent workers.\n"
          ],
          "name": "stderr"
        },
        {
          "output_type": "stream",
          "text": [
            "building tree 1 of 50\n"
          ],
          "name": "stdout"
        },
        {
          "output_type": "stream",
          "text": [
            "[Parallel(n_jobs=1)]: Done   1 out of   1 | elapsed:    0.3s remaining:    0.0s\n"
          ],
          "name": "stderr"
        },
        {
          "output_type": "stream",
          "text": [
            "building tree 2 of 50\n"
          ],
          "name": "stdout"
        },
        {
          "output_type": "stream",
          "text": [
            "[Parallel(n_jobs=1)]: Done   2 out of   2 | elapsed:    0.6s remaining:    0.0s\n"
          ],
          "name": "stderr"
        },
        {
          "output_type": "stream",
          "text": [
            "building tree 3 of 50\n",
            "building tree 4 of 50\n",
            "building tree 5 of 50\n",
            "building tree 6 of 50\n",
            "building tree 7 of 50\n",
            "building tree 8 of 50\n",
            "building tree 9 of 50\n",
            "building tree 10 of 50\n",
            "building tree 11 of 50\n",
            "building tree 12 of 50\n",
            "building tree 13 of 50\n",
            "building tree 14 of 50\n",
            "building tree 15 of 50\n",
            "building tree 16 of 50\n",
            "building tree 17 of 50\n",
            "building tree 18 of 50\n",
            "building tree 19 of 50\n",
            "building tree 20 of 50\n",
            "building tree 21 of 50\n",
            "building tree 22 of 50\n",
            "building tree 23 of 50\n",
            "building tree 24 of 50\n",
            "building tree 25 of 50\n",
            "building tree 26 of 50\n",
            "building tree 27 of 50\n",
            "building tree 28 of 50\n",
            "building tree 29 of 50\n",
            "building tree 30 of 50\n",
            "building tree 31 of 50\n",
            "building tree 32 of 50\n",
            "building tree 33 of 50\n",
            "building tree 34 of 50\n",
            "building tree 35 of 50\n",
            "building tree 36 of 50\n",
            "building tree 37 of 50\n",
            "building tree 38 of 50\n",
            "building tree 39 of 50\n",
            "building tree 40 of 50\n",
            "building tree 41 of 50\n",
            "building tree 42 of 50\n",
            "building tree 43 of 50\n",
            "building tree 44 of 50\n",
            "building tree 45 of 50\n",
            "building tree 46 of 50\n",
            "building tree 47 of 50\n",
            "building tree 48 of 50\n",
            "building tree 49 of 50\n",
            "building tree 50 of 50\n"
          ],
          "name": "stdout"
        },
        {
          "output_type": "stream",
          "text": [
            "[Parallel(n_jobs=1)]: Done  50 out of  50 | elapsed:   15.8s finished\n",
            "[Parallel(n_jobs=1)]: Using backend SequentialBackend with 1 concurrent workers.\n",
            "[Parallel(n_jobs=1)]: Done   1 out of   1 | elapsed:    0.0s remaining:    0.0s\n",
            "[Parallel(n_jobs=1)]: Done   2 out of   2 | elapsed:    0.0s remaining:    0.0s\n",
            "[Parallel(n_jobs=1)]: Done  50 out of  50 | elapsed:    0.3s finished\n",
            "[Parallel(n_jobs=1)]: Using backend SequentialBackend with 1 concurrent workers.\n"
          ],
          "name": "stderr"
        },
        {
          "output_type": "stream",
          "text": [
            "building tree 1 of 50\n"
          ],
          "name": "stdout"
        },
        {
          "output_type": "stream",
          "text": [
            "[Parallel(n_jobs=1)]: Done   1 out of   1 | elapsed:    0.4s remaining:    0.0s\n"
          ],
          "name": "stderr"
        },
        {
          "output_type": "stream",
          "text": [
            "building tree 2 of 50\n"
          ],
          "name": "stdout"
        },
        {
          "output_type": "stream",
          "text": [
            "[Parallel(n_jobs=1)]: Done   2 out of   2 | elapsed:    0.8s remaining:    0.0s\n"
          ],
          "name": "stderr"
        },
        {
          "output_type": "stream",
          "text": [
            "building tree 3 of 50\n",
            "building tree 4 of 50\n",
            "building tree 5 of 50\n",
            "building tree 6 of 50\n",
            "building tree 7 of 50\n",
            "building tree 8 of 50\n",
            "building tree 9 of 50\n",
            "building tree 10 of 50\n",
            "building tree 11 of 50\n",
            "building tree 12 of 50\n",
            "building tree 13 of 50\n",
            "building tree 14 of 50\n",
            "building tree 15 of 50\n",
            "building tree 16 of 50\n",
            "building tree 17 of 50\n",
            "building tree 18 of 50\n",
            "building tree 19 of 50\n",
            "building tree 20 of 50\n",
            "building tree 21 of 50\n",
            "building tree 22 of 50\n",
            "building tree 23 of 50\n",
            "building tree 24 of 50\n",
            "building tree 25 of 50\n",
            "building tree 26 of 50\n",
            "building tree 27 of 50\n",
            "building tree 28 of 50\n",
            "building tree 29 of 50\n",
            "building tree 30 of 50\n",
            "building tree 31 of 50\n",
            "building tree 32 of 50\n",
            "building tree 33 of 50\n",
            "building tree 34 of 50\n",
            "building tree 35 of 50\n",
            "building tree 36 of 50\n",
            "building tree 37 of 50\n",
            "building tree 38 of 50\n",
            "building tree 39 of 50\n",
            "building tree 40 of 50\n",
            "building tree 41 of 50\n",
            "building tree 42 of 50\n",
            "building tree 43 of 50\n",
            "building tree 44 of 50\n",
            "building tree 45 of 50\n",
            "building tree 46 of 50\n",
            "building tree 47 of 50\n",
            "building tree 48 of 50\n",
            "building tree 49 of 50\n",
            "building tree 50 of 50\n"
          ],
          "name": "stdout"
        },
        {
          "output_type": "stream",
          "text": [
            "[Parallel(n_jobs=1)]: Done  50 out of  50 | elapsed:   18.0s finished\n",
            "[Parallel(n_jobs=1)]: Using backend SequentialBackend with 1 concurrent workers.\n",
            "[Parallel(n_jobs=1)]: Done   1 out of   1 | elapsed:    0.0s remaining:    0.0s\n",
            "[Parallel(n_jobs=1)]: Done   2 out of   2 | elapsed:    0.0s remaining:    0.0s\n",
            "[Parallel(n_jobs=1)]: Done  50 out of  50 | elapsed:    0.2s finished\n",
            "[Parallel(n_jobs=1)]: Using backend SequentialBackend with 1 concurrent workers.\n"
          ],
          "name": "stderr"
        },
        {
          "output_type": "stream",
          "text": [
            "building tree 1 of 50\n"
          ],
          "name": "stdout"
        },
        {
          "output_type": "stream",
          "text": [
            "[Parallel(n_jobs=1)]: Done   1 out of   1 | elapsed:    0.4s remaining:    0.0s\n"
          ],
          "name": "stderr"
        },
        {
          "output_type": "stream",
          "text": [
            "building tree 2 of 50\n"
          ],
          "name": "stdout"
        },
        {
          "output_type": "stream",
          "text": [
            "[Parallel(n_jobs=1)]: Done   2 out of   2 | elapsed:    0.7s remaining:    0.0s\n"
          ],
          "name": "stderr"
        },
        {
          "output_type": "stream",
          "text": [
            "building tree 3 of 50\n",
            "building tree 4 of 50\n",
            "building tree 5 of 50\n",
            "building tree 6 of 50\n",
            "building tree 7 of 50\n",
            "building tree 8 of 50\n",
            "building tree 9 of 50\n",
            "building tree 10 of 50\n",
            "building tree 11 of 50\n",
            "building tree 12 of 50\n",
            "building tree 13 of 50\n",
            "building tree 14 of 50\n",
            "building tree 15 of 50\n",
            "building tree 16 of 50\n",
            "building tree 17 of 50\n",
            "building tree 18 of 50\n",
            "building tree 19 of 50\n",
            "building tree 20 of 50\n",
            "building tree 21 of 50\n",
            "building tree 22 of 50\n",
            "building tree 23 of 50\n",
            "building tree 24 of 50\n",
            "building tree 25 of 50\n",
            "building tree 26 of 50\n",
            "building tree 27 of 50\n",
            "building tree 28 of 50\n",
            "building tree 29 of 50\n",
            "building tree 30 of 50\n",
            "building tree 31 of 50\n",
            "building tree 32 of 50\n",
            "building tree 33 of 50\n",
            "building tree 34 of 50\n",
            "building tree 35 of 50\n",
            "building tree 36 of 50\n",
            "building tree 37 of 50\n",
            "building tree 38 of 50\n",
            "building tree 39 of 50\n",
            "building tree 40 of 50\n",
            "building tree 41 of 50\n",
            "building tree 42 of 50\n",
            "building tree 43 of 50\n",
            "building tree 44 of 50\n",
            "building tree 45 of 50\n",
            "building tree 46 of 50\n",
            "building tree 47 of 50\n",
            "building tree 48 of 50\n",
            "building tree 49 of 50\n",
            "building tree 50 of 50\n"
          ],
          "name": "stdout"
        },
        {
          "output_type": "stream",
          "text": [
            "[Parallel(n_jobs=1)]: Done  50 out of  50 | elapsed:   18.6s finished\n",
            "[Parallel(n_jobs=1)]: Using backend SequentialBackend with 1 concurrent workers.\n",
            "[Parallel(n_jobs=1)]: Done   1 out of   1 | elapsed:    0.0s remaining:    0.0s\n",
            "[Parallel(n_jobs=1)]: Done   2 out of   2 | elapsed:    0.0s remaining:    0.0s\n",
            "[Parallel(n_jobs=1)]: Done  50 out of  50 | elapsed:    0.2s finished\n",
            "[Parallel(n_jobs=1)]: Using backend SequentialBackend with 1 concurrent workers.\n"
          ],
          "name": "stderr"
        },
        {
          "output_type": "stream",
          "text": [
            "building tree 1 of 50\n"
          ],
          "name": "stdout"
        },
        {
          "output_type": "stream",
          "text": [
            "[Parallel(n_jobs=1)]: Done   1 out of   1 | elapsed:    0.3s remaining:    0.0s\n"
          ],
          "name": "stderr"
        },
        {
          "output_type": "stream",
          "text": [
            "building tree 2 of 50\n"
          ],
          "name": "stdout"
        },
        {
          "output_type": "stream",
          "text": [
            "[Parallel(n_jobs=1)]: Done   2 out of   2 | elapsed:    0.7s remaining:    0.0s\n"
          ],
          "name": "stderr"
        },
        {
          "output_type": "stream",
          "text": [
            "building tree 3 of 50\n",
            "building tree 4 of 50\n",
            "building tree 5 of 50\n",
            "building tree 6 of 50\n",
            "building tree 7 of 50\n",
            "building tree 8 of 50\n",
            "building tree 9 of 50\n",
            "building tree 10 of 50\n",
            "building tree 11 of 50\n",
            "building tree 12 of 50\n",
            "building tree 13 of 50\n",
            "building tree 14 of 50\n",
            "building tree 15 of 50\n",
            "building tree 16 of 50\n",
            "building tree 17 of 50\n",
            "building tree 18 of 50\n",
            "building tree 19 of 50\n",
            "building tree 20 of 50\n",
            "building tree 21 of 50\n",
            "building tree 22 of 50\n",
            "building tree 23 of 50\n",
            "building tree 24 of 50\n",
            "building tree 25 of 50\n",
            "building tree 26 of 50\n",
            "building tree 27 of 50\n",
            "building tree 28 of 50\n",
            "building tree 29 of 50\n",
            "building tree 30 of 50\n",
            "building tree 31 of 50\n",
            "building tree 32 of 50\n",
            "building tree 33 of 50\n",
            "building tree 34 of 50\n",
            "building tree 35 of 50\n",
            "building tree 36 of 50\n",
            "building tree 37 of 50\n",
            "building tree 38 of 50\n",
            "building tree 39 of 50\n",
            "building tree 40 of 50\n",
            "building tree 41 of 50\n",
            "building tree 42 of 50\n",
            "building tree 43 of 50\n",
            "building tree 44 of 50\n",
            "building tree 45 of 50\n",
            "building tree 46 of 50\n",
            "building tree 47 of 50\n",
            "building tree 48 of 50\n",
            "building tree 49 of 50\n",
            "building tree 50 of 50\n"
          ],
          "name": "stdout"
        },
        {
          "output_type": "stream",
          "text": [
            "[Parallel(n_jobs=1)]: Done  50 out of  50 | elapsed:   18.5s finished\n",
            "[Parallel(n_jobs=1)]: Using backend SequentialBackend with 1 concurrent workers.\n",
            "[Parallel(n_jobs=1)]: Done   1 out of   1 | elapsed:    0.0s remaining:    0.0s\n",
            "[Parallel(n_jobs=1)]: Done   2 out of   2 | elapsed:    0.0s remaining:    0.0s\n",
            "[Parallel(n_jobs=1)]: Done  50 out of  50 | elapsed:    0.2s finished\n",
            "[Parallel(n_jobs=1)]: Using backend SequentialBackend with 1 concurrent workers.\n"
          ],
          "name": "stderr"
        },
        {
          "output_type": "stream",
          "text": [
            "building tree 1 of 50\n"
          ],
          "name": "stdout"
        },
        {
          "output_type": "stream",
          "text": [
            "[Parallel(n_jobs=1)]: Done   1 out of   1 | elapsed:    0.4s remaining:    0.0s\n"
          ],
          "name": "stderr"
        },
        {
          "output_type": "stream",
          "text": [
            "building tree 2 of 50\n"
          ],
          "name": "stdout"
        },
        {
          "output_type": "stream",
          "text": [
            "[Parallel(n_jobs=1)]: Done   2 out of   2 | elapsed:    0.7s remaining:    0.0s\n"
          ],
          "name": "stderr"
        },
        {
          "output_type": "stream",
          "text": [
            "building tree 3 of 50\n",
            "building tree 4 of 50\n",
            "building tree 5 of 50\n",
            "building tree 6 of 50\n",
            "building tree 7 of 50\n",
            "building tree 8 of 50\n",
            "building tree 9 of 50\n",
            "building tree 10 of 50\n",
            "building tree 11 of 50\n",
            "building tree 12 of 50\n",
            "building tree 13 of 50\n",
            "building tree 14 of 50\n",
            "building tree 15 of 50\n",
            "building tree 16 of 50\n",
            "building tree 17 of 50\n",
            "building tree 18 of 50\n",
            "building tree 19 of 50\n",
            "building tree 20 of 50\n",
            "building tree 21 of 50\n",
            "building tree 22 of 50\n",
            "building tree 23 of 50\n",
            "building tree 24 of 50\n",
            "building tree 25 of 50\n",
            "building tree 26 of 50\n",
            "building tree 27 of 50\n",
            "building tree 28 of 50\n",
            "building tree 29 of 50\n",
            "building tree 30 of 50\n",
            "building tree 31 of 50\n",
            "building tree 32 of 50\n",
            "building tree 33 of 50\n",
            "building tree 34 of 50\n",
            "building tree 35 of 50\n",
            "building tree 36 of 50\n",
            "building tree 37 of 50\n",
            "building tree 38 of 50\n",
            "building tree 39 of 50\n",
            "building tree 40 of 50\n",
            "building tree 41 of 50\n",
            "building tree 42 of 50\n",
            "building tree 43 of 50\n",
            "building tree 44 of 50\n",
            "building tree 45 of 50\n",
            "building tree 46 of 50\n",
            "building tree 47 of 50\n",
            "building tree 48 of 50\n",
            "building tree 49 of 50\n",
            "building tree 50 of 50\n"
          ],
          "name": "stdout"
        },
        {
          "output_type": "stream",
          "text": [
            "[Parallel(n_jobs=1)]: Done  50 out of  50 | elapsed:   18.4s finished\n",
            "[Parallel(n_jobs=1)]: Using backend SequentialBackend with 1 concurrent workers.\n",
            "[Parallel(n_jobs=1)]: Done   1 out of   1 | elapsed:    0.0s remaining:    0.0s\n",
            "[Parallel(n_jobs=1)]: Done   2 out of   2 | elapsed:    0.0s remaining:    0.0s\n",
            "[Parallel(n_jobs=1)]: Done  50 out of  50 | elapsed:    0.2s finished\n",
            "[Parallel(n_jobs=1)]: Using backend SequentialBackend with 1 concurrent workers.\n"
          ],
          "name": "stderr"
        },
        {
          "output_type": "stream",
          "text": [
            "building tree 1 of 50\n"
          ],
          "name": "stdout"
        },
        {
          "output_type": "stream",
          "text": [
            "[Parallel(n_jobs=1)]: Done   1 out of   1 | elapsed:    0.4s remaining:    0.0s\n"
          ],
          "name": "stderr"
        },
        {
          "output_type": "stream",
          "text": [
            "building tree 2 of 50\n"
          ],
          "name": "stdout"
        },
        {
          "output_type": "stream",
          "text": [
            "[Parallel(n_jobs=1)]: Done   2 out of   2 | elapsed:    0.7s remaining:    0.0s\n"
          ],
          "name": "stderr"
        },
        {
          "output_type": "stream",
          "text": [
            "building tree 3 of 50\n",
            "building tree 4 of 50\n",
            "building tree 5 of 50\n",
            "building tree 6 of 50\n",
            "building tree 7 of 50\n",
            "building tree 8 of 50\n",
            "building tree 9 of 50\n",
            "building tree 10 of 50\n",
            "building tree 11 of 50\n",
            "building tree 12 of 50\n",
            "building tree 13 of 50\n",
            "building tree 14 of 50\n",
            "building tree 15 of 50\n",
            "building tree 16 of 50\n",
            "building tree 17 of 50\n",
            "building tree 18 of 50\n",
            "building tree 19 of 50\n",
            "building tree 20 of 50\n",
            "building tree 21 of 50\n",
            "building tree 22 of 50\n",
            "building tree 23 of 50\n",
            "building tree 24 of 50\n",
            "building tree 25 of 50\n",
            "building tree 26 of 50\n",
            "building tree 27 of 50\n",
            "building tree 28 of 50\n",
            "building tree 29 of 50\n",
            "building tree 30 of 50\n",
            "building tree 31 of 50\n",
            "building tree 32 of 50\n",
            "building tree 33 of 50\n",
            "building tree 34 of 50\n",
            "building tree 35 of 50\n",
            "building tree 36 of 50\n",
            "building tree 37 of 50\n",
            "building tree 38 of 50\n",
            "building tree 39 of 50\n",
            "building tree 40 of 50\n",
            "building tree 41 of 50\n",
            "building tree 42 of 50\n",
            "building tree 43 of 50\n",
            "building tree 44 of 50\n",
            "building tree 45 of 50\n",
            "building tree 46 of 50\n",
            "building tree 47 of 50\n",
            "building tree 48 of 50\n",
            "building tree 49 of 50\n",
            "building tree 50 of 50\n"
          ],
          "name": "stdout"
        },
        {
          "output_type": "stream",
          "text": [
            "[Parallel(n_jobs=1)]: Done  50 out of  50 | elapsed:   19.0s finished\n",
            "[Parallel(n_jobs=1)]: Using backend SequentialBackend with 1 concurrent workers.\n",
            "[Parallel(n_jobs=1)]: Done   1 out of   1 | elapsed:    0.0s remaining:    0.0s\n",
            "[Parallel(n_jobs=1)]: Done   2 out of   2 | elapsed:    0.0s remaining:    0.0s\n",
            "[Parallel(n_jobs=1)]: Done  50 out of  50 | elapsed:    0.3s finished\n",
            "/usr/local/lib/python3.6/dist-packages/sklearn/model_selection/_search.py:823: FutureWarning: The parameter 'iid' is deprecated in 0.22 and will be removed in 0.24.\n",
            "  \"removed in 0.24.\", FutureWarning\n",
            "[Parallel(n_jobs=1)]: Using backend SequentialBackend with 1 concurrent workers.\n",
            "[Parallel(n_jobs=1)]: Done   1 out of   1 | elapsed:    0.2s remaining:    0.0s\n"
          ],
          "name": "stderr"
        },
        {
          "output_type": "stream",
          "text": [
            "building tree 1 of 50\n",
            "building tree 2 of 50\n"
          ],
          "name": "stdout"
        },
        {
          "output_type": "stream",
          "text": [
            "[Parallel(n_jobs=1)]: Done   2 out of   2 | elapsed:    0.3s remaining:    0.0s\n"
          ],
          "name": "stderr"
        },
        {
          "output_type": "stream",
          "text": [
            "building tree 3 of 50\n",
            "building tree 4 of 50\n",
            "building tree 5 of 50\n",
            "building tree 6 of 50\n",
            "building tree 7 of 50\n",
            "building tree 8 of 50\n",
            "building tree 9 of 50\n",
            "building tree 10 of 50\n",
            "building tree 11 of 50\n",
            "building tree 12 of 50\n",
            "building tree 13 of 50\n",
            "building tree 14 of 50\n",
            "building tree 15 of 50\n",
            "building tree 16 of 50\n",
            "building tree 17 of 50\n",
            "building tree 18 of 50\n",
            "building tree 19 of 50\n",
            "building tree 20 of 50\n",
            "building tree 21 of 50\n",
            "building tree 22 of 50\n",
            "building tree 23 of 50\n",
            "building tree 24 of 50\n",
            "building tree 25 of 50\n",
            "building tree 26 of 50\n",
            "building tree 27 of 50\n",
            "building tree 28 of 50\n",
            "building tree 29 of 50\n",
            "building tree 30 of 50\n",
            "building tree 31 of 50\n",
            "building tree 32 of 50\n",
            "building tree 33 of 50\n",
            "building tree 34 of 50\n",
            "building tree 35 of 50\n",
            "building tree 36 of 50\n",
            "building tree 37 of 50\n",
            "building tree 38 of 50\n",
            "building tree 39 of 50\n",
            "building tree 40 of 50\n",
            "building tree 41 of 50\n",
            "building tree 42 of 50\n",
            "building tree 43 of 50\n",
            "building tree 44 of 50\n",
            "building tree 45 of 50\n",
            "building tree 46 of 50\n",
            "building tree 47 of 50\n",
            "building tree 48 of 50\n",
            "building tree 49 of 50\n",
            "building tree 50 of 50\n"
          ],
          "name": "stdout"
        },
        {
          "output_type": "stream",
          "text": [
            "[Parallel(n_jobs=1)]: Done  50 out of  50 | elapsed:    8.4s finished\n"
          ],
          "name": "stderr"
        },
        {
          "output_type": "execute_result",
          "data": {
            "text/plain": [
              "GridSearchCV(cv=5, error_score=nan,\n",
              "             estimator=RandomForestClassifier(bootstrap=True, ccp_alpha=0.0,\n",
              "                                              class_weight=None,\n",
              "                                              criterion='gini', max_depth=500,\n",
              "                                              max_features='auto',\n",
              "                                              max_leaf_nodes=None,\n",
              "                                              max_samples=None,\n",
              "                                              min_impurity_decrease=0.0,\n",
              "                                              min_impurity_split=None,\n",
              "                                              min_samples_leaf=1,\n",
              "                                              min_samples_split=5,\n",
              "                                              min_weight_fraction_leaf=0.0,\n",
              "                                              n_estimators=50, n_jobs=None,\n",
              "                                              oob_score=False, random_state=42,\n",
              "                                              verbose=3, warm_start=False),\n",
              "             iid=False, n_jobs=None,\n",
              "             param_grid={'max_features': ['sqrt', 5, 10, 20, 50]},\n",
              "             pre_dispatch='2*n_jobs', refit=True, return_train_score=False,\n",
              "             scoring='roc_auc', verbose=0)"
            ]
          },
          "metadata": {
            "tags": []
          },
          "execution_count": 41
        }
      ]
    },
    {
      "cell_type": "code",
      "metadata": {
        "id": "lT6W73ZVOtKI",
        "colab_type": "code",
        "colab": {
          "base_uri": "https://localhost:8080/",
          "height": 34
        },
        "outputId": "2e8d1be7-eb80-4c98-c015-4b90f068c1d6"
      },
      "source": [
        "grid_search.best_params_"
      ],
      "execution_count": 42,
      "outputs": [
        {
          "output_type": "execute_result",
          "data": {
            "text/plain": [
              "{'max_features': 20}"
            ]
          },
          "metadata": {
            "tags": []
          },
          "execution_count": 42
        }
      ]
    },
    {
      "cell_type": "code",
      "metadata": {
        "id": "npVOBiPLOtKY",
        "colab_type": "code",
        "colab": {}
      },
      "source": [
        "random_forest_refined = RandomForestClassifier(random_state=random_state, n_estimators=50, min_samples_split=5,\n",
        "                                              max_depth=500, max_features=10)"
      ],
      "execution_count": 0,
      "outputs": []
    },
    {
      "cell_type": "code",
      "metadata": {
        "id": "HnEoe1uuOtKt",
        "colab_type": "code",
        "colab": {
          "base_uri": "https://localhost:8080/",
          "height": 170
        },
        "outputId": "6b2b9b0e-46fe-42c0-b379-003ad5497f54"
      },
      "source": [
        "display_models([(random_forest_refined, 'Random Forest Refinement 4')])"
      ],
      "execution_count": 44,
      "outputs": [
        {
          "output_type": "stream",
          "text": [
            "-------------------\n",
            "Random Forest Refinement 4:\n",
            "Single AUC score:  0.7193905104784486\n",
            "--- Cross validation scores ---\n",
            "Scores:  [0.86600714 0.81142511 0.8305815  0.87598816 0.86695464 0.8831322\n",
            " 0.87460834 0.88612235 0.87226599 0.85404739]\n",
            "Mean:  0.8621132839747722\n",
            "Std:  0.022665280845507778\n",
            "-------------------\n"
          ],
          "name": "stdout"
        }
      ]
    },
    {
      "cell_type": "code",
      "metadata": {
        "id": "qDabIwXxOtLJ",
        "colab_type": "code",
        "colab": {}
      },
      "source": [
        "# Tune SVM\n",
        "param_rf = {'gamma': [0.01, 0.1, 1, 10], 'C': [0.1, 1, 10, 100]}\n",
        "grid_search = GridSearchCV(estimator = SVC(random_state=random_state, verbose=True), \n",
        "    param_grid = param_rf, scoring='roc_auc', iid=False, cv=5)"
      ],
      "execution_count": 0,
      "outputs": []
    },
    {
      "cell_type": "code",
      "metadata": {
        "id": "qkPoRXFmOtLQ",
        "colab_type": "code",
        "colab": {
          "base_uri": "https://localhost:8080/",
          "height": 54
        },
        "outputId": "55de9d56-6503-4abd-e877-fa583f34c947"
      },
      "source": [
        "grid_search.fit(access_1hot, access_labels)"
      ],
      "execution_count": 0,
      "outputs": [
        {
          "output_type": "stream",
          "text": [
            "[LibSVM][LibSVM][LibSVM][LibSVM][LibSVM][LibSVM][LibSVM][LibSVM][LibSVM][LibSVM][LibSVM][LibSVM][LibSVM][LibSVM][LibSVM][LibSVM][LibSVM][LibSVM][LibSVM][LibSVM][LibSVM]"
          ],
          "name": "stdout"
        }
      ]
    },
    {
      "cell_type": "code",
      "metadata": {
        "id": "Co7AAsYKOtLb",
        "colab_type": "code",
        "colab": {}
      },
      "source": [
        "grid_search.best_params_"
      ],
      "execution_count": 0,
      "outputs": []
    },
    {
      "cell_type": "code",
      "metadata": {
        "id": "XuxRbpfDOtLg",
        "colab_type": "code",
        "colab": {}
      },
      "source": [
        "svm_refined = SVC(random_state=random_state, gamma=1, C=10)"
      ],
      "execution_count": 0,
      "outputs": []
    },
    {
      "cell_type": "code",
      "metadata": {
        "id": "Pcd32dPaOtLs",
        "colab_type": "code",
        "colab": {}
      },
      "source": [
        "display_models([(svm_refined, 'SVM Refinement 1')])"
      ],
      "execution_count": 0,
      "outputs": []
    },
    {
      "cell_type": "code",
      "metadata": {
        "id": "OTPY35rOOtMV",
        "colab_type": "code",
        "colab": {}
      },
      "source": [
        "# Tune XGBoost\n",
        "param_rf = {'max_depth': [5, 6, 7, 8, 9, 10], 'min_child_weight': [1, 2, 3, 4, 5]}\n",
        "grid_search = GridSearchCV(estimator = XGBClassifier(random_state=random_state), \n",
        "    param_grid = param_rf, scoring='roc_auc', iid=False, cv=5)"
      ],
      "execution_count": 0,
      "outputs": []
    },
    {
      "cell_type": "code",
      "metadata": {
        "id": "NvQZmP_VOtM0",
        "colab_type": "code",
        "colab": {}
      },
      "source": [
        "grid_search.fit(access_1hot, access_labels)"
      ],
      "execution_count": 0,
      "outputs": []
    },
    {
      "cell_type": "code",
      "metadata": {
        "id": "mjGqTQ5xOtNH",
        "colab_type": "code",
        "colab": {}
      },
      "source": [
        "grid_search.best_params_"
      ],
      "execution_count": 0,
      "outputs": []
    },
    {
      "cell_type": "code",
      "metadata": {
        "id": "Ej8ra4PJOtNa",
        "colab_type": "code",
        "colab": {}
      },
      "source": [
        "xgboost_refined = XGBClassifier(random_state=random_state, max_depth=10, min_child_weight=1)"
      ],
      "execution_count": 0,
      "outputs": []
    },
    {
      "cell_type": "code",
      "metadata": {
        "id": "7zaY-cpNOtOw",
        "colab_type": "code",
        "colab": {}
      },
      "source": [
        "display_models([(xgboost_refined, 'XGBoost Refinement 1')])"
      ],
      "execution_count": 0,
      "outputs": []
    },
    {
      "cell_type": "code",
      "metadata": {
        "id": "MS8jxsLgOtO6",
        "colab_type": "code",
        "colab": {}
      },
      "source": [
        "param_rf = {'min_child_weight': [1, 6, 7, 8, 9, 10, 50, 100]}\n",
        "grid_search = GridSearchCV(estimator = XGBClassifier(random_state=random_state, max_depth=10), \n",
        "    param_grid = param_rf, scoring='roc_auc', iid=False, cv=5)"
      ],
      "execution_count": 0,
      "outputs": []
    },
    {
      "cell_type": "code",
      "metadata": {
        "id": "SJ77j0fEOtPD",
        "colab_type": "code",
        "colab": {}
      },
      "source": [
        "grid_search.fit(access_1hot, access_labels)"
      ],
      "execution_count": 0,
      "outputs": []
    },
    {
      "cell_type": "code",
      "metadata": {
        "id": "CCoEVBOXOtPJ",
        "colab_type": "code",
        "colab": {}
      },
      "source": [
        "grid_search.best_params_"
      ],
      "execution_count": 0,
      "outputs": []
    },
    {
      "cell_type": "code",
      "metadata": {
        "id": "_UpJYgbCOtPZ",
        "colab_type": "code",
        "colab": {}
      },
      "source": [
        "param_rf = {'gamma': [0.0, 0.1, 0.2, 0.3, 0.4, 0.5]}\n",
        "grid_search = GridSearchCV(estimator = XGBClassifier(random_state=random_state, max_depth=10), \n",
        "    param_grid = param_rf, scoring='roc_auc', iid=False, cv=5)"
      ],
      "execution_count": 0,
      "outputs": []
    },
    {
      "cell_type": "code",
      "metadata": {
        "id": "DWmWH7uoOtPf",
        "colab_type": "code",
        "colab": {}
      },
      "source": [
        "grid_search.fit(access_1hot, access_labels)"
      ],
      "execution_count": 0,
      "outputs": []
    },
    {
      "cell_type": "code",
      "metadata": {
        "id": "Ivw43bolOtPp",
        "colab_type": "code",
        "colab": {}
      },
      "source": [
        "grid_search.best_params_"
      ],
      "execution_count": 0,
      "outputs": []
    },
    {
      "cell_type": "code",
      "metadata": {
        "id": "fm5MJqpDOtPy",
        "colab_type": "code",
        "colab": {}
      },
      "source": [
        "param_rf = {'gamma': [0.0, 0.5, 0.6, 1.0]}\n",
        "grid_search = GridSearchCV(estimator = XGBClassifier(random_state=random_state, max_depth=10), \n",
        "    param_grid = param_rf, scoring='roc_auc', iid=False, cv=5)"
      ],
      "execution_count": 0,
      "outputs": []
    },
    {
      "cell_type": "code",
      "metadata": {
        "id": "w9DkMbp2OtP6",
        "colab_type": "code",
        "colab": {}
      },
      "source": [
        "grid_search.fit(access_1hot, access_labels)"
      ],
      "execution_count": 0,
      "outputs": []
    },
    {
      "cell_type": "code",
      "metadata": {
        "id": "y-15NFTrOtP_",
        "colab_type": "code",
        "colab": {}
      },
      "source": [
        "grid_search.best_params_"
      ],
      "execution_count": 0,
      "outputs": []
    },
    {
      "cell_type": "code",
      "metadata": {
        "id": "aP8RPrrDOtQE",
        "colab_type": "code",
        "colab": {}
      },
      "source": [
        "xgboost_refined = XGBClassifier(random_state=random_state, max_depth=10, min_child_weight=1, gamma=0.5)"
      ],
      "execution_count": 0,
      "outputs": []
    },
    {
      "cell_type": "code",
      "metadata": {
        "id": "ybsTcYNFOtQL",
        "colab_type": "code",
        "colab": {}
      },
      "source": [
        "display_models([(xgboost_refined, 'XGBoost Refinement 2')])"
      ],
      "execution_count": 0,
      "outputs": []
    },
    {
      "cell_type": "code",
      "metadata": {
        "id": "ERF_CU3fOtQP",
        "colab_type": "code",
        "colab": {}
      },
      "source": [
        "xgboost_refined.get_params().keys()"
      ],
      "execution_count": 0,
      "outputs": []
    },
    {
      "cell_type": "code",
      "metadata": {
        "id": "MtZ8swheOtQT",
        "colab_type": "code",
        "colab": {}
      },
      "source": [
        "param_rf = {'learning_rate': [0.2, 0.3, 0.4, 0.5]}\n",
        "grid_search = GridSearchCV(estimator = XGBClassifier(random_state=random_state, max_depth=10,\n",
        "    min_child_weight=1, gamma=0.5), \n",
        "    param_grid = param_rf, scoring='roc_auc', iid=False, cv=5)"
      ],
      "execution_count": 0,
      "outputs": []
    },
    {
      "cell_type": "code",
      "metadata": {
        "id": "vkgZmai9OtQX",
        "colab_type": "code",
        "colab": {}
      },
      "source": [
        "grid_search.fit(access_1hot, access_labels)"
      ],
      "execution_count": 0,
      "outputs": []
    },
    {
      "cell_type": "code",
      "metadata": {
        "id": "a7YCDtWFOtRE",
        "colab_type": "code",
        "colab": {}
      },
      "source": [
        "grid_search.best_params_"
      ],
      "execution_count": 0,
      "outputs": []
    },
    {
      "cell_type": "code",
      "metadata": {
        "id": "NsCJ0-p2OtRJ",
        "colab_type": "code",
        "colab": {}
      },
      "source": [
        "xgboost_refined = XGBClassifier(random_state=random_state, max_depth=10, min_child_weight=1, gamma=0.5,\n",
        "                               learning_rate=0.4)"
      ],
      "execution_count": 0,
      "outputs": []
    },
    {
      "cell_type": "code",
      "metadata": {
        "id": "cE5ZYyDlOtRO",
        "colab_type": "code",
        "colab": {}
      },
      "source": [
        "display_models([(xgboost_refined, 'XGBoost Refinement 3')])"
      ],
      "execution_count": 0,
      "outputs": []
    },
    {
      "cell_type": "code",
      "metadata": {
        "id": "Hf5JAd_COtRT",
        "colab_type": "code",
        "colab": {}
      },
      "source": [
        "param_rf = {'n_estimators': [50, 75, 100, 150, 200]}\n",
        "grid_search = GridSearchCV(estimator = XGBClassifier(random_state=random_state, max_depth=10,\n",
        "    min_child_weight=1, gamma=0.5, learning_rate=0.4), \n",
        "    param_grid = param_rf, scoring='roc_auc', iid=False, cv=5)"
      ],
      "execution_count": 0,
      "outputs": []
    },
    {
      "cell_type": "code",
      "metadata": {
        "id": "XP8ArbqHOtRa",
        "colab_type": "code",
        "colab": {}
      },
      "source": [
        "grid_search.fit(access_1hot, access_labels)"
      ],
      "execution_count": 0,
      "outputs": []
    },
    {
      "cell_type": "code",
      "metadata": {
        "id": "3XNg8XkuOtRf",
        "colab_type": "code",
        "colab": {}
      },
      "source": [
        "grid_search.best_params_"
      ],
      "execution_count": 0,
      "outputs": []
    },
    {
      "cell_type": "code",
      "metadata": {
        "id": "4yGHprQpOtRj",
        "colab_type": "code",
        "colab": {}
      },
      "source": [
        "param_rf = {'n_estimators': [190, 200, 250]}\n",
        "grid_search = GridSearchCV(estimator = XGBClassifier(random_state=random_state, max_depth=10,\n",
        "    min_child_weight=1, gamma=0.5, learning_rate=0.4), \n",
        "    param_grid = param_rf, scoring='roc_auc', iid=False, cv=5)"
      ],
      "execution_count": 0,
      "outputs": []
    },
    {
      "cell_type": "code",
      "metadata": {
        "id": "Pg71h_0dOtRn",
        "colab_type": "code",
        "colab": {}
      },
      "source": [
        "grid_search.fit(access_1hot, access_labels)"
      ],
      "execution_count": 0,
      "outputs": []
    },
    {
      "cell_type": "code",
      "metadata": {
        "id": "GAXXt6cFOtRq",
        "colab_type": "code",
        "colab": {}
      },
      "source": [
        "grid_search.best_params_"
      ],
      "execution_count": 0,
      "outputs": []
    },
    {
      "cell_type": "code",
      "metadata": {
        "id": "HKD21LrPOtRv",
        "colab_type": "code",
        "colab": {}
      },
      "source": [
        "param_rf = {'n_estimators': [175, 180, 185, 190, 195]}\n",
        "grid_search = GridSearchCV(estimator = XGBClassifier(random_state=random_state, max_depth=10,\n",
        "    min_child_weight=1, gamma=0.5, learning_rate=0.4), \n",
        "    param_grid = param_rf, scoring='roc_auc', iid=False, cv=5)"
      ],
      "execution_count": 0,
      "outputs": []
    },
    {
      "cell_type": "code",
      "metadata": {
        "id": "EQh8CET_OtR1",
        "colab_type": "code",
        "colab": {}
      },
      "source": [
        "grid_search.fit(access_1hot, access_labels)"
      ],
      "execution_count": 0,
      "outputs": []
    },
    {
      "cell_type": "code",
      "metadata": {
        "id": "C5aqRck3OtR9",
        "colab_type": "code",
        "colab": {}
      },
      "source": [
        "grid_search.best_params_"
      ],
      "execution_count": 0,
      "outputs": []
    },
    {
      "cell_type": "code",
      "metadata": {
        "id": "SGlJHTi6OtSU",
        "colab_type": "code",
        "colab": {}
      },
      "source": [
        "param_rf = {'n_estimators': [150, 155, 160, 165, 170, 175, 180]}\n",
        "grid_search = GridSearchCV(estimator = XGBClassifier(random_state=random_state, max_depth=10,\n",
        "    min_child_weight=1, gamma=0.5, learning_rate=0.4), \n",
        "    param_grid = param_rf, scoring='roc_auc', iid=False, cv=5)"
      ],
      "execution_count": 0,
      "outputs": []
    },
    {
      "cell_type": "code",
      "metadata": {
        "id": "VraTgI02OtSY",
        "colab_type": "code",
        "colab": {}
      },
      "source": [
        "grid_search.fit(access_1hot, access_labels)"
      ],
      "execution_count": 0,
      "outputs": []
    },
    {
      "cell_type": "code",
      "metadata": {
        "id": "Hvb7kxOuOtSd",
        "colab_type": "code",
        "colab": {}
      },
      "source": [
        "grid_search.best_params_"
      ],
      "execution_count": 0,
      "outputs": []
    },
    {
      "cell_type": "code",
      "metadata": {
        "id": "NjHllruQOtSh",
        "colab_type": "code",
        "colab": {}
      },
      "source": [
        "xgboost_refined = XGBClassifier(random_state=random_state, max_depth=10, min_child_weight=1, gamma=0.5,\n",
        "                               learning_rate=0.4, n_estimators=170)"
      ],
      "execution_count": 0,
      "outputs": []
    },
    {
      "cell_type": "code",
      "metadata": {
        "id": "ysKB3CwsOtSo",
        "colab_type": "code",
        "colab": {}
      },
      "source": [
        "display_models([(xgboost_refined, 'XGBoost Refinement 4')])"
      ],
      "execution_count": 0,
      "outputs": []
    },
    {
      "cell_type": "code",
      "metadata": {
        "id": "3sKr-rdQOtSt",
        "colab_type": "code",
        "colab": {}
      },
      "source": [
        "param_rf = {'subsample': [0.5, 0.75, 1.0], 'colsample_bytree': [0.5, 0.75, 1.0]}\n",
        "grid_search = GridSearchCV(estimator = XGBClassifier(random_state=random_state, max_depth=10,\n",
        "    min_child_weight=1, gamma=0.5, learning_rate=0.4, n_estimators= 170), \n",
        "    param_grid = param_rf, scoring='roc_auc', iid=False, cv=5)"
      ],
      "execution_count": 0,
      "outputs": []
    },
    {
      "cell_type": "code",
      "metadata": {
        "id": "woIVKv-HOtSz",
        "colab_type": "code",
        "colab": {}
      },
      "source": [
        "grid_search.fit(access_1hot, access_labels)"
      ],
      "execution_count": 0,
      "outputs": []
    },
    {
      "cell_type": "code",
      "metadata": {
        "id": "-fgKkYdXOtS2",
        "colab_type": "code",
        "colab": {}
      },
      "source": [
        "grid_search.best_params_"
      ],
      "execution_count": 0,
      "outputs": []
    },
    {
      "cell_type": "code",
      "metadata": {
        "id": "4LBdPgfwOtS7",
        "colab_type": "code",
        "colab": {}
      },
      "source": [
        "param_rf = {'subsample': [0.9, 0.95, 1.0], 'colsample_bytree': [0.9, 0.95, 1.0]}\n",
        "grid_search = GridSearchCV(estimator = XGBClassifier(random_state=random_state, max_depth=10,\n",
        "    min_child_weight=1, gamma=0.5, learning_rate=0.4, n_estimators= 170), \n",
        "    param_grid = param_rf, scoring='roc_auc', iid=False, cv=5)"
      ],
      "execution_count": 0,
      "outputs": []
    },
    {
      "cell_type": "code",
      "metadata": {
        "id": "fvFB3n-zOtTC",
        "colab_type": "code",
        "colab": {}
      },
      "source": [
        "grid_search.fit(access_1hot, access_labels)"
      ],
      "execution_count": 0,
      "outputs": []
    },
    {
      "cell_type": "code",
      "metadata": {
        "id": "z0mVtjZfOtTG",
        "colab_type": "code",
        "colab": {}
      },
      "source": [
        "grid_search.best_params_"
      ],
      "execution_count": 0,
      "outputs": []
    },
    {
      "cell_type": "code",
      "metadata": {
        "id": "2doKCviAOtTK",
        "colab_type": "code",
        "colab": {}
      },
      "source": [
        "param_rf = {'subsample': [0.8, 0.85, 1.0], 'colsample_bytree': [0.8, 0.85, 0.9]}\n",
        "grid_search = GridSearchCV(estimator = XGBClassifier(random_state=random_state, max_depth=10,\n",
        "    min_child_weight=1, gamma=0.5, learning_rate=0.4, n_estimators= 170), \n",
        "    param_grid = param_rf, scoring='roc_auc', iid=False, cv=5)"
      ],
      "execution_count": 0,
      "outputs": []
    },
    {
      "cell_type": "code",
      "metadata": {
        "id": "7C-gXs7AOtTO",
        "colab_type": "code",
        "colab": {}
      },
      "source": [
        "grid_search.fit(access_1hot, access_labels)"
      ],
      "execution_count": 0,
      "outputs": []
    },
    {
      "cell_type": "code",
      "metadata": {
        "id": "Zz8RJeQdOtTR",
        "colab_type": "code",
        "colab": {}
      },
      "source": [
        "grid_search.best_params_"
      ],
      "execution_count": 0,
      "outputs": []
    },
    {
      "cell_type": "code",
      "metadata": {
        "id": "ql8Sojt8OtTa",
        "colab_type": "code",
        "colab": {}
      },
      "source": [
        "xgboost_refined = XGBClassifier(random_state=random_state, max_depth=10, min_child_weight=1, gamma=0.5,\n",
        "                               learning_rate=0.4, n_estimators=170, subsample=1.0, colsample_bytree=0.9)"
      ],
      "execution_count": 0,
      "outputs": []
    },
    {
      "cell_type": "code",
      "metadata": {
        "id": "Wwtj2LbjOtTg",
        "colab_type": "code",
        "colab": {}
      },
      "source": [
        "display_models([(xgboost_refined, 'XGBoost Refinement 5')])"
      ],
      "execution_count": 0,
      "outputs": []
    },
    {
      "cell_type": "code",
      "metadata": {
        "id": "bXkSAf7KOtTk",
        "colab_type": "code",
        "colab": {}
      },
      "source": [
        "param_rf = {'reg_alpha': [0.0, 0.1, 0.2, 0.3]}\n",
        "grid_search = GridSearchCV(estimator = XGBClassifier(random_state=random_state, max_depth=10,\n",
        "    min_child_weight=1, gamma=0.5, learning_rate=0.4, n_estimators= 170, subsample=1.0, colsample_bytree=0.9), \n",
        "    param_grid = param_rf, scoring='roc_auc', iid=False, cv=5)"
      ],
      "execution_count": 0,
      "outputs": []
    },
    {
      "cell_type": "code",
      "metadata": {
        "id": "zrt98kLSOtTq",
        "colab_type": "code",
        "colab": {}
      },
      "source": [
        "grid_search.fit(access_1hot, access_labels)"
      ],
      "execution_count": 0,
      "outputs": []
    },
    {
      "cell_type": "code",
      "metadata": {
        "id": "0MHNRrLIOtTv",
        "colab_type": "code",
        "colab": {}
      },
      "source": [
        "grid_search.best_params_"
      ],
      "execution_count": 0,
      "outputs": []
    },
    {
      "cell_type": "code",
      "metadata": {
        "id": "i1ZSP2V1OtT4",
        "colab_type": "code",
        "colab": {}
      },
      "source": [
        "param_rf = {'reg_lambda': [1.0, 0.9, 0.8, 0.7]}\n",
        "grid_search = GridSearchCV(estimator = XGBClassifier(random_state=random_state, max_depth=10,\n",
        "    min_child_weight=1, gamma=0.5, learning_rate=0.4, n_estimators= 170, subsample=1.0, colsample_bytree=0.9), \n",
        "    param_grid = param_rf, scoring='roc_auc', iid=False, cv=5)"
      ],
      "execution_count": 0,
      "outputs": []
    },
    {
      "cell_type": "code",
      "metadata": {
        "id": "44HMBtVvOtT8",
        "colab_type": "code",
        "colab": {}
      },
      "source": [
        "grid_search.fit(access_1hot, access_labels)"
      ],
      "execution_count": 0,
      "outputs": []
    },
    {
      "cell_type": "code",
      "metadata": {
        "id": "nkoL99-JOtT_",
        "colab_type": "code",
        "colab": {}
      },
      "source": [
        "grid_search.best_params_"
      ],
      "execution_count": 0,
      "outputs": []
    },
    {
      "cell_type": "code",
      "metadata": {
        "id": "wnFZKBZROtUF",
        "colab_type": "code",
        "colab": {}
      },
      "source": [
        "param_rf = {'scale_pos_weight': [1.0, 0.9, 0.8, 0.7]}\n",
        "grid_search = GridSearchCV(estimator = XGBClassifier(random_state=random_state, max_depth=10,\n",
        "    min_child_weight=1, gamma=0.5, learning_rate=0.4, n_estimators= 170, subsample=1.0, colsample_bytree=0.9), \n",
        "    param_grid = param_rf, scoring='roc_auc', iid=False, cv=5)"
      ],
      "execution_count": 0,
      "outputs": []
    },
    {
      "cell_type": "code",
      "metadata": {
        "id": "cWnCvQlEOtUI",
        "colab_type": "code",
        "colab": {}
      },
      "source": [
        "grid_search.fit(access_1hot, access_labels)"
      ],
      "execution_count": 0,
      "outputs": []
    },
    {
      "cell_type": "code",
      "metadata": {
        "id": "sqBygsmXOtUM",
        "colab_type": "code",
        "colab": {}
      },
      "source": [
        "grid_search.best_params_"
      ],
      "execution_count": 0,
      "outputs": []
    },
    {
      "cell_type": "code",
      "metadata": {
        "id": "_SSgZc8COtUP",
        "colab_type": "code",
        "colab": {}
      },
      "source": [
        "param_rf = {'scale_pos_weight': [1.0, 0.6, 0.5, 0.4, 0.3]}\n",
        "grid_search = GridSearchCV(estimator = XGBClassifier(random_state=random_state, max_depth=10,\n",
        "    min_child_weight=1, gamma=0.5, learning_rate=0.4, n_estimators= 170, subsample=1.0, colsample_bytree=0.9), \n",
        "    param_grid = param_rf, scoring='roc_auc', iid=False, cv=5)"
      ],
      "execution_count": 0,
      "outputs": []
    },
    {
      "cell_type": "code",
      "metadata": {
        "id": "Ez4ORgfROtUT",
        "colab_type": "code",
        "colab": {}
      },
      "source": [
        "grid_search.fit(access_1hot, access_labels)"
      ],
      "execution_count": 0,
      "outputs": []
    },
    {
      "cell_type": "code",
      "metadata": {
        "id": "ciV8TNY5OtUd",
        "colab_type": "code",
        "colab": {}
      },
      "source": [
        "grid_search.best_params_"
      ],
      "execution_count": 0,
      "outputs": []
    },
    {
      "cell_type": "code",
      "metadata": {
        "id": "aV0dj_DTOtUk",
        "colab_type": "code",
        "colab": {}
      },
      "source": [
        "param_rf = {'n_estimators': [170, 500, 1000]}\n",
        "grid_search = GridSearchCV(estimator = XGBClassifier(random_state=random_state, max_depth=10,\n",
        "    min_child_weight=1, gamma=0.5, learning_rate=0.4, subsample=1.0, colsample_bytree=0.9), \n",
        "    param_grid = param_rf, scoring='roc_auc', iid=False, cv=5)"
      ],
      "execution_count": 0,
      "outputs": []
    },
    {
      "cell_type": "code",
      "metadata": {
        "id": "OMIiEB0lOtUo",
        "colab_type": "code",
        "colab": {}
      },
      "source": [
        "grid_search.fit(access_1hot, access_labels)"
      ],
      "execution_count": 0,
      "outputs": []
    },
    {
      "cell_type": "code",
      "metadata": {
        "id": "o51zbxNKOtU-",
        "colab_type": "code",
        "colab": {}
      },
      "source": [
        "grid_search.best_params_"
      ],
      "execution_count": 0,
      "outputs": []
    },
    {
      "cell_type": "code",
      "metadata": {
        "id": "VyqTjWV_OtVD",
        "colab_type": "code",
        "colab": {}
      },
      "source": [
        "xgboost_refined = XGBClassifier(random_state=random_state, max_depth=10, min_child_weight=1, gamma=0.5,\n",
        "                               learning_rate=0.4, n_estimators=1000, subsample=1.0, colsample_bytree=0.9)"
      ],
      "execution_count": 0,
      "outputs": []
    },
    {
      "cell_type": "code",
      "metadata": {
        "id": "nFcEClIgOtVI",
        "colab_type": "code",
        "colab": {}
      },
      "source": [
        "display_models([(xgboost_refined, 'XGBoost Refinement 6')])"
      ],
      "execution_count": 0,
      "outputs": []
    },
    {
      "cell_type": "code",
      "metadata": {
        "id": "kguVp4MMOtVg",
        "colab_type": "code",
        "colab": {}
      },
      "source": [
        "param_rf = {'n_estimators': [1000, 2000]}\n",
        "grid_search = GridSearchCV(estimator = XGBClassifier(random_state=random_state, max_depth=10,\n",
        "    min_child_weight=1, gamma=0.5, learning_rate=0.4, subsample=1.0, colsample_bytree=0.9), \n",
        "    param_grid = param_rf, scoring='roc_auc', iid=False, cv=5)"
      ],
      "execution_count": 0,
      "outputs": []
    },
    {
      "cell_type": "code",
      "metadata": {
        "id": "5uiTjvWEOtVn",
        "colab_type": "code",
        "colab": {}
      },
      "source": [
        "grid_search.fit(access_1hot, access_labels)"
      ],
      "execution_count": 0,
      "outputs": []
    },
    {
      "cell_type": "code",
      "metadata": {
        "id": "pzIUCyMxOtVs",
        "colab_type": "code",
        "colab": {}
      },
      "source": [
        "grid_search.best_params_"
      ],
      "execution_count": 0,
      "outputs": []
    },
    {
      "cell_type": "code",
      "metadata": {
        "id": "82AhUhZgOtWC",
        "colab_type": "code",
        "colab": {}
      },
      "source": [
        "# final models\n",
        "random_forest_final = RandomForestClassifier(random_state=random_state, n_estimators=50, min_samples_split=5,\n",
        "                                              max_depth=500, max_features=10)\n",
        "svm_final = SVC(random_state=random_state, gamma=1, C=10, probability=True)\n",
        "xgboost_final = XGBClassifier(random_state=random_state, max_depth=10, min_child_weight=1, gamma=0.5,\n",
        "                               learning_rate=0.4, n_estimators=1000, subsample=1.0, colsample_bytree=0.9)"
      ],
      "execution_count": 0,
      "outputs": []
    },
    {
      "cell_type": "code",
      "metadata": {
        "id": "Bgt5IoXgOtWM",
        "colab_type": "code",
        "colab": {}
      },
      "source": [
        "# get test set\n",
        "access_test = test_set.drop('ACTION', axis=1)\n",
        "access_test_labels = test_set['ACTION'].copy()\n",
        "access_test_prepared = pipeline.transform(access_test)"
      ],
      "execution_count": 0,
      "outputs": []
    },
    {
      "cell_type": "code",
      "metadata": {
        "id": "2FAM_48iOtWj",
        "colab_type": "code",
        "colab": {}
      },
      "source": [
        "access_test_prepared.shape"
      ],
      "execution_count": 0,
      "outputs": []
    },
    {
      "cell_type": "code",
      "metadata": {
        "id": "axPsJ6oBOtWo",
        "colab_type": "code",
        "colab": {}
      },
      "source": [
        "# train final random forest model\n",
        "random_forest_final.fit(access_1hot, access_labels)"
      ],
      "execution_count": 0,
      "outputs": []
    },
    {
      "cell_type": "code",
      "metadata": {
        "id": "BsajpMppOtWt",
        "colab_type": "code",
        "colab": {}
      },
      "source": [
        "# evaluate final random forest model on the test set\n",
        "random_forest_predictions = random_forest_final.predict(access_test_prepared)\n",
        "auc = roc_auc_score(access_test_labels, random_forest_predictions)\n",
        "print(\"ROC AUC Score: \", auc)"
      ],
      "execution_count": 0,
      "outputs": []
    },
    {
      "cell_type": "code",
      "metadata": {
        "id": "gHd-iMZHOtWz",
        "colab_type": "code",
        "colab": {}
      },
      "source": [
        "# train final SVM model\n",
        "svm_final.fit(access_1hot, access_labels)"
      ],
      "execution_count": 0,
      "outputs": []
    },
    {
      "cell_type": "code",
      "metadata": {
        "id": "aZS_K7AGOtW2",
        "colab_type": "code",
        "colab": {}
      },
      "source": [
        "# evaluate final SVM model on the test set\n",
        "svm_predictions = svm_final.predict(access_test_prepared)\n",
        "auc = roc_auc_score(access_test_labels, svm_predictions)\n",
        "print(\"ROC AUC Score: \", auc)"
      ],
      "execution_count": 0,
      "outputs": []
    },
    {
      "cell_type": "code",
      "metadata": {
        "id": "Y9qiMEl0OtW6",
        "colab_type": "code",
        "colab": {}
      },
      "source": [
        "# train final XGBoost model\n",
        "xgboost_final.fit(access_1hot, access_labels)"
      ],
      "execution_count": 0,
      "outputs": []
    },
    {
      "cell_type": "code",
      "metadata": {
        "id": "g8d6Yf1JOtW9",
        "colab_type": "code",
        "colab": {}
      },
      "source": [
        "# evaluate final SVM model on the test set\n",
        "xgboost_predictions = xgboost_final.predict(access_test_prepared)\n",
        "auc = roc_auc_score(access_test_labels, xgboost_predictions)\n",
        "print(\"ROC AUC Score: \", auc)"
      ],
      "execution_count": 0,
      "outputs": []
    },
    {
      "cell_type": "code",
      "metadata": {
        "id": "NoHg69p-OtXC",
        "colab_type": "code",
        "colab": {}
      },
      "source": [
        "# train benchmark model\n",
        "benchmark = LogisticRegression(random_state=random_state)\n",
        "benchmark.fit(access_1hot, access_labels)"
      ],
      "execution_count": 0,
      "outputs": []
    },
    {
      "cell_type": "code",
      "metadata": {
        "id": "cOP8F6keOtXF",
        "colab_type": "code",
        "colab": {}
      },
      "source": [
        "# evaluate benchmark model on the test set\n",
        "benchmark_predictions = benchmark.predict(access_test_prepared)\n",
        "auc = roc_auc_score(access_test_labels, benchmark_predictions)\n",
        "print(\"ROC AUC Score: \", auc)"
      ],
      "execution_count": 0,
      "outputs": []
    },
    {
      "cell_type": "code",
      "metadata": {
        "id": "r5JOsbvZOtXO",
        "colab_type": "code",
        "colab": {}
      },
      "source": [
        "from sklearn.metrics import roc_curve"
      ],
      "execution_count": 0,
      "outputs": []
    },
    {
      "cell_type": "code",
      "metadata": {
        "id": "AmKRraMdOtYH",
        "colab_type": "code",
        "colab": {}
      },
      "source": [
        "# false-positive-rate, true-positive rate, threshold for different models\n",
        "\n",
        "#random forest\n",
        "y_pred_rf = random_forest_final.predict_proba(access_test_prepared)[:, 1]\n",
        "rf_fpr, rf_tpr, rf_threshold = roc_curve(access_test_labels, y_pred_rf)\n",
        "\n",
        "#svm \n",
        "y_pred_svm = svm_final.predict_proba(access_test_prepared)[:, 1]\n",
        "svm_fpr, svm_tpr, svm_threshold = roc_curve(access_test_labels, y_pred_svm)\n",
        "\n",
        "#xg boost\n",
        "y_pred_xg = xgboost_final.predict_proba(access_test_prepared)[:, 1]\n",
        "xg_fpr, xg_tpr, xg_threshold = roc_curve(access_test_labels, y_pred_xg)\n",
        "\n",
        "# benchmark (logistic regression)\n",
        "y_pred_lr = benchmark.predict_proba(access_test_prepared)[:, 1]\n",
        "lr_fpr, lr_tpr, lr_threshold = roc_curve(access_test_labels, y_pred_lr)"
      ],
      "execution_count": 0,
      "outputs": []
    },
    {
      "cell_type": "code",
      "metadata": {
        "id": "XPLJlYH3OtYL",
        "colab_type": "code",
        "colab": {}
      },
      "source": [
        "# this code has been extracted from at hase been modified slightly\n",
        "# http://scikit-learn.org/stable/auto_examples/ensemble/plot_feature_transformation.html\n",
        "plt.figure(1)\n",
        "plt.plot([0, 1], [0, 1], 'k--')\n",
        "plt.plot(rf_fpr, rf_tpr, label='Random Forest')\n",
        "plt.plot(svm_fpr, svm_tpr, label='SVM')\n",
        "plt.plot(xg_fpr, xg_tpr, label='XGBoost')\n",
        "plt.plot(lr_fpr, lr_tpr, label='Benchmark (Logistic Regression)')\n",
        "plt.xlabel('False positive rate')\n",
        "plt.ylabel('True positive rate')\n",
        "plt.title('ROC curve')\n",
        "plt.legend(loc='best')\n",
        "plt.show()"
      ],
      "execution_count": 0,
      "outputs": []
    },
    {
      "cell_type": "code",
      "metadata": {
        "id": "fy27M4HKOtYO",
        "colab_type": "code",
        "colab": {}
      },
      "source": [
        "from sklearn.model_selection import train_test_split"
      ],
      "execution_count": 0,
      "outputs": []
    },
    {
      "cell_type": "code",
      "metadata": {
        "id": "_ylO2HbEOtYX",
        "colab_type": "code",
        "colab": {}
      },
      "source": [
        "access_1hot.shape"
      ],
      "execution_count": 0,
      "outputs": []
    },
    {
      "cell_type": "code",
      "metadata": {
        "id": "fLXmWvNlOtYh",
        "colab_type": "code",
        "colab": {}
      },
      "source": [
        "# plot_learning_curves function taken from \"Hands-On Machine Learning with Scikit-Learn & Tensorflow by Aurélion Géron\n",
        "# (O'Reilly). Copyright 2017 Aurélion Géron, 978-1-491-96229-9, Page 124\n",
        "def plot_learning_curves(model, X, y):\n",
        "    X_train, X_val, y_train, y_val = train_test_split(X, y, test_size=0.25, stratify=y)\n",
        "    train_errors, val_errors = [], []\n",
        "    for m in range(1, X_train.shape[0], 1000):\n",
        "        model.fit(X_train[:m], y_train[:m])\n",
        "        y_train_predict = model.predict(X_train[:m])\n",
        "        y_val_predict = model.predict(X_val)\n",
        "        try:\n",
        "            train_errors.append(roc_auc_score(y_train_predict, y_train[:m]))\n",
        "            val_errors.append(roc_auc_score(y_val_predict, y_val))\n",
        "        except ValueError:\n",
        "            pass\n",
        "    plt.plot(train_errors, 'r-+', linewidth=2, label='train')\n",
        "    plt.plot(val_errors, 'b-', linewidth=3, label='val')\n",
        "    plt.xlabel('Training set size [in 1000]')\n",
        "    plt.ylabel('ROC auc score')\n",
        "    plt.title('Learning curves')\n",
        "    plt.legend()"
      ],
      "execution_count": 0,
      "outputs": []
    },
    {
      "cell_type": "code",
      "metadata": {
        "id": "eTCYaskkOtYr",
        "colab_type": "code",
        "colab": {}
      },
      "source": [
        "plot_learning_curves(xgboost_final, access_1hot, access_labels)"
      ],
      "execution_count": 0,
      "outputs": []
    }
  ]
}